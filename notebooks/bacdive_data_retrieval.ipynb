{
 "cells": [
  {
   "cell_type": "markdown",
   "metadata": {},
   "source": [
    "# Accessing Bacdive API\n",
    "There is an installable tool [bacdive](https://github.com/JKoblitz/bacdive-api/blob/master/bacdive/client.py) that allows for queries of identifiers in bacdive by:\n",
    "- taxonomy\n",
    "- 16s\n",
    "- full genome\n",
    "- culture number\n",
    "And to get all information from bacdive ID's returned from the above. However, I observed on the web API that one can search for NCBI taxid. When doing so, the response is a redirect, but the header contains the bacdive ID. It would be nice to add this functionality."
   ]
  },
  {
   "cell_type": "markdown",
   "metadata": {},
   "source": [
    "## Let's get the OGT based on taxonomy extracted from a refseq file using the base API"
   ]
  },
  {
   "cell_type": "code",
   "execution_count": 1,
   "metadata": {},
   "outputs": [],
   "source": [
    "from Bio import SeqIO\n",
    "import bacdive\n",
    "import os"
   ]
  },
  {
   "cell_type": "code",
   "execution_count": 3,
   "metadata": {},
   "outputs": [],
   "source": [
    "genome = SeqIO.parse('../data/refseq/archaea/GCF_021655615.1_ASM2165561v1_genomic.gbff', 'genbank')\n",
    "record = next(genome)"
   ]
  },
  {
   "cell_type": "code",
   "execution_count": 4,
   "metadata": {},
   "outputs": [
    {
     "name": "stdout",
     "output_type": "stream",
     "text": [
      "-- Authentication successful --\n"
     ]
    }
   ],
   "source": [
    "client = bacdive.BacdiveClient(os.environ['ENV_EMAIL'], os.environ['BACDIVE_PASSWORD'])"
   ]
  },
  {
   "cell_type": "code",
   "execution_count": 5,
   "metadata": {},
   "outputs": [],
   "source": [
    "client.result = client.getIDsByTaxonomy(record.annotations['taxonomy'][5])"
   ]
  },
  {
   "cell_type": "code",
   "execution_count": 6,
   "metadata": {},
   "outputs": [],
   "source": [
    "response = client.retrieve()"
   ]
  },
  {
   "cell_type": "code",
   "execution_count": 7,
   "metadata": {},
   "outputs": [],
   "source": [
    "responses = [r for r in response]"
   ]
  },
  {
   "cell_type": "code",
   "execution_count": 8,
   "metadata": {},
   "outputs": [
    {
     "name": "stdout",
     "output_type": "stream",
     "text": [
      "Acidianus sp. RZ1 {'NCBI tax id': 1540082, 'Matching level': 'species'}\n",
      "Acidianus sp. {'NCBI tax id': 1872104, 'Matching level': 'species'}\n",
      "Acidianus sulfidivorans JP7 [{'NCBI tax id': 619593, 'Matching level': 'strain'}, {'NCBI tax id': 312539, 'Matching level': 'species'}]\n",
      "Acidianus ambivalens {'NCBI tax id': 2283, 'Matching level': 'species'}\n",
      "Acidianus infernus So4a {'NCBI tax id': 12915, 'Matching level': 'species'}\n",
      "Acidianus brierleyi Sp3a/1 {'NCBI tax id': 41673, 'Matching level': 'species'}\n",
      "Acidianus brierleyi {'NCBI tax id': 41673, 'Matching level': 'species'}\n"
     ]
    }
   ],
   "source": [
    "for r in responses:\n",
    "    string = r['Name and taxonomic classification']['species']\n",
    "    if 'strain designation' in  r['Name and taxonomic classification']:\n",
    "        string += f\" {r['Name and taxonomic classification']['strain designation']}\"\n",
    "    string += f\" {str(r['General']['NCBI tax id'])}\"\n",
    "    print(string)"
   ]
  },
  {
   "cell_type": "markdown",
   "metadata": {},
   "source": [
    "Using \"taxonomy\" search, on this refseq example, we actually get back multiple results, each with and NCBI Id"
   ]
  },
  {
   "cell_type": "code",
   "execution_count": 9,
   "metadata": {},
   "outputs": [
    {
     "data": {
      "text/plain": [
       "['taxon:2886040']"
      ]
     },
     "execution_count": 9,
     "metadata": {},
     "output_type": "execute_result"
    }
   ],
   "source": [
    "record.features[0].qualifiers['db_xref']"
   ]
  },
  {
   "cell_type": "markdown",
   "metadata": {},
   "source": [
    "None of the returned TAXID match the id on the file from refseq.\n",
    "> As a result __Bacdive Taxonomy search is too loose__\n",
    "\n",
    "*However* the Taxid for species sp. and strain RZ1 is 1540082, __which does exist in refseq__\n",
    "\n",
    "> Thus, we should search Bacdive by NCBI tax ID, and not all refseq examples with have data. It remaims to be seen if this method will produce a sufficient number of OGTs."
   ]
  },
  {
   "cell_type": "markdown",
   "metadata": {},
   "source": [
    "## Search by TAXID\n",
    "\n",
    "We can extract TAXID from refseq files in the \"source\" feature of the record in the dictionary qualifiers. Let's try to use such an ID to get a bacdive record."
   ]
  },
  {
   "cell_type": "code",
   "execution_count": 10,
   "metadata": {},
   "outputs": [],
   "source": [
    "class BacdiveClient(bacdive.BacdiveClient):\n",
    "\n",
    "    def getIDByNCBITaxID(self, tid):\n",
    "        if self.public:\n",
    "            baseurl = \"https://bacdive.dsmz.de/\"\n",
    "        else:\n",
    "            baseurl = \"http://bacdive-dev.dsmz.local/\"\n",
    "        url = baseurl+\"search?search=taxid:\"+str(tid)\n",
    "        print(url)\n",
    "        resp = self.do_request(url)\n",
    "\n",
    "        # now get the strain ID from the response\n",
    "        sid = int(resp.history[0].headers['location'].split('/')[-1])\n",
    "\n",
    "        result = {'count': 1,\n",
    "            'next': None,\n",
    "            'previous': None,\n",
    "            'results': [sid]}\n",
    "        self.result = result\n",
    "        return 1"
   ]
  },
  {
   "cell_type": "code",
   "execution_count": 11,
   "metadata": {},
   "outputs": [],
   "source": [
    "tid = 1540082"
   ]
  },
  {
   "cell_type": "code",
   "execution_count": 12,
   "metadata": {},
   "outputs": [
    {
     "name": "stdout",
     "output_type": "stream",
     "text": [
      "-- Authentication successful --\n"
     ]
    }
   ],
   "source": [
    "client = BacdiveClient(os.environ['ENV_EMAIL'], os.environ['BACDIVE_PASSWORD'])"
   ]
  },
  {
   "cell_type": "code",
   "execution_count": 13,
   "metadata": {},
   "outputs": [
    {
     "name": "stdout",
     "output_type": "stream",
     "text": [
      "https://bacdive.dsmz.de/search?search=taxid:1540082\n"
     ]
    },
    {
     "data": {
      "text/plain": [
       "1"
      ]
     },
     "execution_count": 13,
     "metadata": {},
     "output_type": "execute_result"
    }
   ],
   "source": [
    "client.getIDByNCBITaxID(tid)"
   ]
  },
  {
   "cell_type": "code",
   "execution_count": 14,
   "metadata": {},
   "outputs": [],
   "source": [
    "results = [i for i in client.retrieve()]"
   ]
  },
  {
   "cell_type": "code",
   "execution_count": 15,
   "metadata": {},
   "outputs": [
    {
     "data": {
      "text/plain": [
       "[{'General': {'@ref': 22551,\n",
       "   'BacDive-ID': 131324,\n",
       "   'DSM-Number': 29099,\n",
       "   'keywords': ['thermophilic', 'Archaea', '16S sequence', 'genome sequence'],\n",
       "   'description': 'Acidianus sp. RZ1 is a thermophilic archaeon that was isolated from hot spring.',\n",
       "   'NCBI tax id': {'NCBI tax id': 1540082, 'Matching level': 'species'},\n",
       "   'strain history': ['<- R. Zhang, Univ. Duisburg-Essen, Germany; RZ1 <- R. Zhang {2011}',\n",
       "    'W. Sand; Aquatic Biotechnol., Biofilm Centre, Univ. of Duisburg-Essen, Germany; RZ1.'],\n",
       "   'doi': '10.13145/bacdive131324.20220920.7'},\n",
       "  'Name and taxonomic classification': {'LPSN': {'@ref': 20215,\n",
       "    'description': 'domain/archaea',\n",
       "    'keyword': 'phylum/thermoproteota',\n",
       "    'domain': 'Archaea',\n",
       "    'phylum': 'Thermoproteota',\n",
       "    'class': 'Thermoprotei',\n",
       "    'order': 'Sulfolobales',\n",
       "    'family': 'Sulfolobaceae',\n",
       "    'genus': 'Acidianus',\n",
       "    'species': 'Acidianus sp.',\n",
       "    'full scientific name': '<I>Acidianus</I> Segerer et al. 1986',\n",
       "    'synonyms': {'@ref': 20215, 'synonym': 'Desulfurolobus'}},\n",
       "   '@ref': 22551,\n",
       "   'domain': 'Archaea',\n",
       "   'phylum': 'Crenarchaeota',\n",
       "   'class': 'Thermoprotei',\n",
       "   'order': 'Sulfolobales',\n",
       "   'family': 'Sulfolobaceae',\n",
       "   'genus': 'Acidianus',\n",
       "   'species': 'Acidianus sp.',\n",
       "   'full scientific name': 'Acidianus sp.',\n",
       "   'strain designation': 'RZ1',\n",
       "   'type strain': 'no'},\n",
       "  'Morphology': {'colony morphology': {'@ref': 22551,\n",
       "    'incubation period': '3-7 days'}},\n",
       "  'Culture and growth conditions': {'culture medium': {'@ref': 22551,\n",
       "    'name': 'SULFOLOBUS MEDIUM (DSMZ Medium 88)',\n",
       "    'growth': 'yes',\n",
       "    'link': 'https://bacmedia.dsmz.de/medium/88',\n",
       "    'composition': 'Name: SULFOLOBUS MEDIUM (DSMZ Medium 88; with strain-specific modifications)\\nComposition:\\n(NH4)2SO4 1.3 g/l\\nD-Glucose 1.0 g/l\\nYeast extract 1.0 g/l\\nKH2PO4 0.28 g/l\\nMgSO4 x 7 H2O 0.25 g/l\\nCaCl2 x 2 H2O 0.07 g/l\\nFeCl3 x 6 H2O 0.02 g/l\\nNa2B4O7 x 10 H2O 0.0045 g/l\\nMnCl2 x 4 H2O 0.0018 g/l\\nZnSO4 x 7 H2O 0.00022 g/l\\nCuCl2 x 2 H2O 5e-05 g/l\\nNa2MoO4 x 2 H2O 3e-05 g/l\\nVOSO4 x 2 H2O 3e-05 g/l\\nCoSO4 x 7 H2O 1e-05 g/l\\nDistilled water'},\n",
       "   'culture temp': [{'@ref': 22551,\n",
       "     'growth': 'positive',\n",
       "     'type': 'growth',\n",
       "     'temperature': '65',\n",
       "     'range': 'thermophilic'},\n",
       "    {'@ref': 67770,\n",
       "     'growth': 'positive',\n",
       "     'type': 'growth',\n",
       "     'temperature': '65',\n",
       "     'range': 'thermophilic'}]},\n",
       "  'Physiology and metabolism': {},\n",
       "  'Isolation, sampling and environmental information': {'isolation': [{'@ref': 22551,\n",
       "     'sample type': 'hot spring',\n",
       "     'geographic location': 'Caviahue-Copahue',\n",
       "     'country': 'Argentina',\n",
       "     'origin.country': 'ARG',\n",
       "     'continent': 'Middle and South America',\n",
       "     'latitude': -37.8182,\n",
       "     'longitude': -71.0984},\n",
       "    {'@ref': 67770,\n",
       "     'sample type': 'Hot spring in Caviahue-Copahue',\n",
       "     'country': 'Argentina',\n",
       "     'origin.country': 'ARG',\n",
       "     'continent': 'Middle and South America'}],\n",
       "   'isolation source categories': [{'Cat1': '#Environmental',\n",
       "     'Cat2': '#Aquatic',\n",
       "     'Cat3': '#Thermal spring'},\n",
       "    {'Cat1': '#Condition', 'Cat2': '#Thermophilic (>45°C)'}]},\n",
       "  'Safety information': {},\n",
       "  'Sequence information': {'16S sequences': {'@ref': 22551,\n",
       "    'description': 'Acidianus sp. RZ1 16S ribosomal RNA gene, partial sequence',\n",
       "    'accession': 'KJ921703',\n",
       "    'length': 934,\n",
       "    'database': 'ena',\n",
       "    'NCBI tax ID': 1540082},\n",
       "   'Genome sequences': [{'@ref': 66792,\n",
       "     'description': 'Acidianus sp. RZ1 DSM 29099',\n",
       "     'accession': 'GCA_013133895',\n",
       "     'assembly level': 'contig',\n",
       "     'database': 'ncbi',\n",
       "     'NCBI tax ID': 1540082},\n",
       "    {'@ref': 67770,\n",
       "     'description': 'Acidianus sp. RZ1 strain DSM 29099, whole genome shotgun sequencing project',\n",
       "     'accession': 'JABGBQ000000000',\n",
       "     'database': 'ncbi',\n",
       "     'NCBI tax ID': 1540082}]},\n",
       "  'External links': {'@ref': 22551,\n",
       "   'culture collection no.': 'DSM 29099, JCM 30227',\n",
       "   'literature': [{'topic': 'Metabolism',\n",
       "     'Pubmed-ID': '25488256',\n",
       "     'title': 'Use of lectins to in situ visualize glycoconjugates of extracellular polymeric substances in acidophilic archaeal biofilms.',\n",
       "     'authors': 'Zhang RY, Neu TR, Bellenberg S, Kuhlicke U, Sand W, Vera M',\n",
       "     'journal': 'Microb Biotechnol',\n",
       "     'DOI': '10.1111/1751-7915.12188',\n",
       "     'year': 2014,\n",
       "     'mesh': 'Archaea/growth & development/*metabolism/*physiology, Biofilms/*growth & development, Biopolymers/*analysis, Glycoconjugates/*analysis, Iron/metabolism, Lectins/*metabolism, Microscopy, Fluorescence, Protein Binding, Sulfides/metabolism'},\n",
       "    {'topic': 'Biotechnology',\n",
       "     'Pubmed-ID': '30743061',\n",
       "     'title': 'Biofilm dynamics and EPS production of a thermoacidophilic bioleaching archaeon.',\n",
       "     'authors': 'Zhang R, Neu TR, Blanchard V, Vera M, Sand W',\n",
       "     'journal': 'N Biotechnol',\n",
       "     'DOI': '10.1016/j.nbt.2019.02.002',\n",
       "     'year': 2019,\n",
       "     'mesh': 'Archaea/*metabolism, *Biofilms, Extracellular Polymeric Substance Matrix/chemistry/*metabolism, *Temperature',\n",
       "     'topic2': 'Metabolism'},\n",
       "    {'Pubmed-ID': '31133998',\n",
       "     'title': 'Insight Into Interactions of Thermoacidophilic Archaea With Elemental Sulfur: Biofilm Dynamics and EPS Analysis.',\n",
       "     'authors': 'Zhang R, Neu TR, Li Q, Blanchard V, Zhang Y, Schippers A, Sand W',\n",
       "     'journal': 'Front Microbiol',\n",
       "     'DOI': '10.3389/fmicb.2019.00896',\n",
       "     'year': 2019}]},\n",
       "  'Reference': [{'@id': 20215,\n",
       "    'authors': 'Parte, A.C., Sardà Carbasse, J., Meier-Kolthoff, J.P., Reimer, L.C. and Göker, M.',\n",
       "    'title': 'List of Prokaryotic names with Standing in Nomenclature (LPSN) moves to the DSMZ',\n",
       "    'doi/url': '10.1099/ijsem.0.004332'},\n",
       "   {'@id': 22551,\n",
       "    'authors': 'Curators of the DSMZ',\n",
       "    'catalogue': 'Leibniz Institut DSMZ-Deutsche Sammlung von Mikroorganismen und Zellkulturen GmbH (DSM 29099)',\n",
       "    'doi/url': 'https://www.dsmz.de/collection/catalogue/details/culture/DSM-29099'},\n",
       "   {'@id': 66792,\n",
       "    'authors': 'Julia Koblitz, Joaquim Sardà, Lorenz Christian Reimer, Boyke Bunk, Jörg Overmann',\n",
       "    'title': 'Automatically annotated for the DiASPora project (Digital Approaches for the Synthesis of Poorly Accessible Biodiversity Information)',\n",
       "    'doi/url': 'https://diaspora-project.de/progress.html#genomes'},\n",
       "   {'@id': 67770,\n",
       "    'authors': 'Curators of the JCM',\n",
       "    'doi/url': 'https://jcm.brc.riken.jp/en/'}]}]"
      ]
     },
     "execution_count": 15,
     "metadata": {},
     "output_type": "execute_result"
    }
   ],
   "source": [
    "results"
   ]
  },
  {
   "cell_type": "markdown",
   "metadata": {},
   "source": [
    "And there it is! A Bacdive result with the correct TAXID."
   ]
  },
  {
   "cell_type": "code",
   "execution_count": 16,
   "metadata": {},
   "outputs": [
    {
     "data": {
      "text/plain": [
       "[{'@ref': 22551,\n",
       "  'growth': 'positive',\n",
       "  'type': 'growth',\n",
       "  'temperature': '65',\n",
       "  'range': 'thermophilic'},\n",
       " {'@ref': 67770,\n",
       "  'growth': 'positive',\n",
       "  'type': 'growth',\n",
       "  'temperature': '65',\n",
       "  'range': 'thermophilic'}]"
      ]
     },
     "execution_count": 16,
     "metadata": {},
     "output_type": "execute_result"
    }
   ],
   "source": [
    "results[0]['Culture and growth conditions']['culture temp']"
   ]
  },
  {
   "cell_type": "markdown",
   "metadata": {},
   "source": [
    "### BOOM\n",
    "\n",
    "> search bacdive by TAXID with this new modified class"
   ]
  },
  {
   "cell_type": "markdown",
   "metadata": {},
   "source": []
  }
 ],
 "metadata": {
  "interpreter": {
   "hash": "4b9da095881b704967dc48778f25785864cf1780c4a84ddad275ec66ae3d1384"
  },
  "kernelspec": {
   "display_name": "Python 3.10.6 ('learn2therm')",
   "language": "python",
   "name": "python3"
  },
  "language_info": {
   "codemirror_mode": {
    "name": "ipython",
    "version": 3
   },
   "file_extension": ".py",
   "mimetype": "text/x-python",
   "name": "python",
   "nbconvert_exporter": "python",
   "pygments_lexer": "ipython3",
   "version": "3.10.6"
  },
  "orig_nbformat": 4
 },
 "nbformat": 4,
 "nbformat_minor": 2
}
