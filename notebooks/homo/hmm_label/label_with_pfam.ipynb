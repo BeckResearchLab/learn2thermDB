{
 "cells": [
  {
   "cell_type": "code",
   "execution_count": 1,
   "id": "632cda46-bb18-47b0-8979-b9ef6e515b70",
   "metadata": {
    "tags": []
   },
   "outputs": [],
   "source": [
    "import pyhmmer\n",
    "import time\n",
    "import numpy as np"
   ]
  },
  {
   "cell_type": "markdown",
   "id": "19a6d073-25f2-4635-8b9c-75814a3dc9aa",
   "metadata": {},
   "source": [
    "## Press into database for speed"
   ]
  },
  {
   "cell_type": "code",
   "execution_count": 2,
   "id": "f7b46b82-64fd-4d78-a578-f9f50c6d7188",
   "metadata": {},
   "outputs": [
    {
     "data": {
      "text/plain": [
       "19632"
      ]
     },
     "execution_count": 2,
     "metadata": {},
     "output_type": "execute_result"
    }
   ],
   "source": [
    "hmms = pyhmmer.plan7.HMMFile(\"../data/Pfam-A.hmm\")\n",
    "pyhmmer.hmmer.hmmpress(hmms, '../data/pfam')"
   ]
  },
  {
   "cell_type": "markdown",
   "id": "c34e0fd4-e2b5-47e5-b377-4066c00ec593",
   "metadata": {},
   "source": [
    "## Searching for ~12k sequences against pfam, use 5 cpus"
   ]
  },
  {
   "cell_type": "code",
   "execution_count": 2,
   "id": "b48400a6-80de-40c7-9cc1-e478cc31ac29",
   "metadata": {
    "tags": []
   },
   "outputs": [
    {
     "name": "stdout",
     "output_type": "stream",
     "text": [
      "- hmmscan found a total of 16555 hits in 4.07e+02 seconds\n"
     ]
    }
   ],
   "source": [
    "with pyhmmer.plan7.HMMFile(\"../data/pfam.h3m\") as hmms:\n",
    "    with pyhmmer.easel.SequenceFile(\"../data/test.fasta\", digital=True) as seqs:\n",
    "        t1 = time.time()\n",
    "        hits = list(pyhmmer.hmmer.hmmscan(seqs, hmms, cpus=5, E=1e-10))\n",
    "        total = len(hits)\n",
    "        print(f\"- hmmscan found a total of {total} hits in {time.time() - t1:.3} seconds\")"
   ]
  },
  {
   "cell_type": "code",
   "execution_count": 4,
   "id": "cdfdfc4e-5fd0-4bb5-9394-c37f13824e74",
   "metadata": {
    "tags": []
   },
   "outputs": [
    {
     "data": {
      "text/plain": [
       "pyhmmer.plan7.TopHits"
      ]
     },
     "execution_count": 4,
     "metadata": {},
     "output_type": "execute_result"
    }
   ],
   "source": [
    "type(hits[0])"
   ]
  },
  {
   "cell_type": "markdown",
   "id": "69d07921-0d07-49fe-b7fd-a3cff396aca4",
   "metadata": {},
   "source": [
    "Collection of hits: https://pyhmmer.readthedocs.io/en/stable/api/plan7.html?highlight=Hit#tophits\n",
    "\n",
    "looks like they organize by original query"
   ]
  },
  {
   "cell_type": "code",
   "execution_count": 6,
   "id": "6fe03bf1-7ee2-449a-8fa4-53c21850b06b",
   "metadata": {
    "tags": []
   },
   "outputs": [],
   "source": [
    "tophits = hits[0]"
   ]
  },
  {
   "cell_type": "code",
   "execution_count": 11,
   "id": "b5cf86fb-3f39-47d9-8be4-33e0b68fd21d",
   "metadata": {
    "tags": []
   },
   "outputs": [
    {
     "data": {
      "text/plain": [
       "b'0'"
      ]
     },
     "execution_count": 11,
     "metadata": {},
     "output_type": "execute_result"
    }
   ],
   "source": [
    "tophits.query_name"
   ]
  },
  {
   "cell_type": "code",
   "execution_count": 12,
   "id": "7a7dfaad-a12a-445e-930d-6abc2a4359ef",
   "metadata": {
    "tags": []
   },
   "outputs": [
    {
     "data": {
      "text/plain": [
       "4"
      ]
     },
     "execution_count": 12,
     "metadata": {},
     "output_type": "execute_result"
    }
   ],
   "source": [
    "len(tophits)"
   ]
  },
  {
   "cell_type": "markdown",
   "id": "d5047884-2ef7-4506-ac9d-8d8ed59b3350",
   "metadata": {},
   "source": [
    "Got 4 hits"
   ]
  },
  {
   "cell_type": "code",
   "execution_count": 14,
   "id": "57bc700c-9cac-4ff3-af47-53589339128a",
   "metadata": {
    "tags": []
   },
   "outputs": [
    {
     "data": {
      "text/plain": [
       "['__class__',\n",
       " '__delattr__',\n",
       " '__dir__',\n",
       " '__doc__',\n",
       " '__eq__',\n",
       " '__format__',\n",
       " '__ge__',\n",
       " '__getattribute__',\n",
       " '__getstate__',\n",
       " '__gt__',\n",
       " '__hash__',\n",
       " '__init__',\n",
       " '__init_subclass__',\n",
       " '__le__',\n",
       " '__lt__',\n",
       " '__ne__',\n",
       " '__new__',\n",
       " '__pyx_vtable__',\n",
       " '__reduce__',\n",
       " '__reduce_cython__',\n",
       " '__reduce_ex__',\n",
       " '__repr__',\n",
       " '__setattr__',\n",
       " '__setstate__',\n",
       " '__setstate_cython__',\n",
       " '__sizeof__',\n",
       " '__str__',\n",
       " '__subclasshook__',\n",
       " 'accession',\n",
       " 'best_domain',\n",
       " 'bias',\n",
       " 'description',\n",
       " 'domains',\n",
       " 'dropped',\n",
       " 'duplicate',\n",
       " 'evalue',\n",
       " 'hits',\n",
       " 'included',\n",
       " 'name',\n",
       " 'new',\n",
       " 'pre_score',\n",
       " 'pvalue',\n",
       " 'reported',\n",
       " 'score',\n",
       " 'sum_score']"
      ]
     },
     "execution_count": 14,
     "metadata": {},
     "output_type": "execute_result"
    }
   ],
   "source": [
    "dir(tophits[0])"
   ]
  },
  {
   "cell_type": "code",
   "execution_count": 17,
   "id": "6e2a2f68-2932-49f2-86a6-04fae83807eb",
   "metadata": {
    "tags": []
   },
   "outputs": [
    {
     "data": {
      "text/plain": [
       "b'PF00501.31'"
      ]
     },
     "execution_count": 17,
     "metadata": {},
     "output_type": "execute_result"
    }
   ],
   "source": [
    "tophits[0].accession"
   ]
  },
  {
   "cell_type": "code",
   "execution_count": 19,
   "id": "556a3e54-bfaa-439e-9855-e7acafa55c7c",
   "metadata": {
    "tags": []
   },
   "outputs": [
    {
     "data": {
      "text/plain": [
       "2.7230017339031424e-209"
      ]
     },
     "execution_count": 19,
     "metadata": {},
     "output_type": "execute_result"
    }
   ],
   "source": [
    "tophits[0].evalue"
   ]
  },
  {
   "cell_type": "code",
   "execution_count": 21,
   "id": "ccee9df3-8201-4275-a413-e8b60987f612",
   "metadata": {
    "tags": []
   },
   "outputs": [
    {
     "data": {
      "text/plain": [
       "b'AMP-binding'"
      ]
     },
     "execution_count": 21,
     "metadata": {},
     "output_type": "execute_result"
    }
   ],
   "source": [
    "tophits[0].name"
   ]
  },
  {
   "cell_type": "code",
   "execution_count": 27,
   "id": "31158b89-575f-40bf-b567-fa8ef21909ca",
   "metadata": {
    "tags": []
   },
   "outputs": [
    {
     "data": {
      "text/plain": [
       "<pyhmmer.plan7.Domain at 0x7f6a1b15ad00>"
      ]
     },
     "execution_count": 27,
     "metadata": {},
     "output_type": "execute_result"
    }
   ],
   "source": [
    "tophits[0].best_domain"
   ]
  },
  {
   "cell_type": "markdown",
   "id": "36fd7f88-fdf4-4da6-9de8-53f13427f8da",
   "metadata": {},
   "source": [
    "Contains some info about the domain"
   ]
  },
  {
   "cell_type": "code",
   "execution_count": 29,
   "id": "697865c3-e9ee-4ce9-89db-7ba7ecba3592",
   "metadata": {
    "tags": []
   },
   "outputs": [
    {
     "data": {
      "text/plain": [
       "['__class__',\n",
       " '__delattr__',\n",
       " '__dir__',\n",
       " '__doc__',\n",
       " '__eq__',\n",
       " '__format__',\n",
       " '__ge__',\n",
       " '__getattribute__',\n",
       " '__getstate__',\n",
       " '__gt__',\n",
       " '__hash__',\n",
       " '__init__',\n",
       " '__init_subclass__',\n",
       " '__le__',\n",
       " '__lt__',\n",
       " '__ne__',\n",
       " '__new__',\n",
       " '__pyx_vtable__',\n",
       " '__reduce__',\n",
       " '__reduce_cython__',\n",
       " '__reduce_ex__',\n",
       " '__repr__',\n",
       " '__setattr__',\n",
       " '__setstate__',\n",
       " '__setstate_cython__',\n",
       " '__sizeof__',\n",
       " '__str__',\n",
       " '__subclasshook__',\n",
       " 'alignment',\n",
       " 'bias',\n",
       " 'c_evalue',\n",
       " 'correction',\n",
       " 'env_from',\n",
       " 'env_to',\n",
       " 'envelope_score',\n",
       " 'hit',\n",
       " 'i_evalue',\n",
       " 'included',\n",
       " 'pvalue',\n",
       " 'reported',\n",
       " 'score']"
      ]
     },
     "execution_count": 29,
     "metadata": {},
     "output_type": "execute_result"
    }
   ],
   "source": [
    "dir(tophits[0].best_domain)"
   ]
  },
  {
   "cell_type": "code",
   "execution_count": 31,
   "id": "94ba0070-5161-4b4e-ae35-e552210e05ac",
   "metadata": {
    "tags": []
   },
   "outputs": [
    {
     "data": {
      "text/plain": [
       "['__class__',\n",
       " '__delattr__',\n",
       " '__dir__',\n",
       " '__doc__',\n",
       " '__eq__',\n",
       " '__format__',\n",
       " '__ge__',\n",
       " '__getattribute__',\n",
       " '__getstate__',\n",
       " '__gt__',\n",
       " '__hash__',\n",
       " '__init__',\n",
       " '__init_subclass__',\n",
       " '__le__',\n",
       " '__len__',\n",
       " '__lt__',\n",
       " '__ne__',\n",
       " '__new__',\n",
       " '__pyx_vtable__',\n",
       " '__reduce__',\n",
       " '__reduce_cython__',\n",
       " '__reduce_ex__',\n",
       " '__repr__',\n",
       " '__setattr__',\n",
       " '__setstate__',\n",
       " '__setstate_cython__',\n",
       " '__sizeof__',\n",
       " '__str__',\n",
       " '__subclasshook__',\n",
       " 'domain',\n",
       " 'hmm_accession',\n",
       " 'hmm_from',\n",
       " 'hmm_name',\n",
       " 'hmm_sequence',\n",
       " 'hmm_to',\n",
       " 'identity_sequence',\n",
       " 'target_from',\n",
       " 'target_name',\n",
       " 'target_sequence',\n",
       " 'target_to']"
      ]
     },
     "execution_count": 31,
     "metadata": {},
     "output_type": "execute_result"
    }
   ],
   "source": [
    "dir(tophits[0].best_domain.alignment)"
   ]
  },
  {
   "cell_type": "code",
   "execution_count": 32,
   "id": "7e746873-0e26-4530-a9a6-e690f2bc9460",
   "metadata": {
    "tags": []
   },
   "outputs": [
    {
     "data": {
      "text/plain": [
       "'FRRQVAQSADAPAVLF--EGETLSYRELNERANRLARFLVDSGVRAEDRVALALPRAPELVVAMLAVLKAGAAYVPVDPDYPAERIAYILDDSRPAAVV---TARSTDAAVG------DHASRRVVLDEIA--DD--LARLD---AAD----LDETPDPHQAAYVIYTSGSTGAPKGVVVSHAGTAALAATQ--AERLRVGPGDRVLQFASPSFDAAF-WETVMALLSGAALVVAPSERLRPGPDLAALAAEYDVTHLTLPPSALAALPDGGLP----------EQATLVSAGEALTPDLMRRWSAG-R-RMINAYGPTETTVCAT-MSDPLTDRSAPLIGRPVDDARVYVLDAC-LRPVPPGVTGELYVAGAGLARGYVNRPDLTAERFVAapwgaPgERMYRTGDLVRWTEDGALEFVGRADDQVKVR'"
      ]
     },
     "execution_count": 32,
     "metadata": {},
     "output_type": "execute_result"
    }
   ],
   "source": [
    "tophits[0].best_domain.alignment.target_sequence"
   ]
  },
  {
   "cell_type": "code",
   "execution_count": 37,
   "id": "83a3e11f-ffc8-4408-9a52-7400b4095dd1",
   "metadata": {
    "tags": []
   },
   "outputs": [
    {
     "data": {
      "text/plain": [
       "'+++q+a+  d++a+ +  eg+tl+Yrel+er+nrlA++L   Gv+ +drVa++lp+ pe+vva+la+lkaGa++vp++p+++ae++ayil+ds++ +++   + +   +++       ++ +  +vld+ +  +   l   +   +++     +e+++p++ ay+iYTSG+TG PKGV++sh+ ++a +a++   +r +++++d+vl++++ ++++++ +e+ +allsGa++v+++ +  ++   l++l +e+ vt+++++P++l al + g +             +++++ge+l+p+l+r+++a  + +++++YG+TEtt+++t + ++  +++++ +G+p+ +++v+++D   ++pvp+g++Gel+v g+g+++gY ++p++tae+f++     + +r++rTGDl+r++edG le+vgR++d++k+r'"
      ]
     },
     "execution_count": 37,
     "metadata": {},
     "output_type": "execute_result"
    }
   ],
   "source": [
    "tophits[0].best_domain.alignment.identity_sequence"
   ]
  },
  {
   "cell_type": "code",
   "execution_count": 38,
   "id": "355d52ad-f81e-4ca0-8af5-84a6ffe102bd",
   "metadata": {
    "tags": []
   },
   "outputs": [
    {
     "data": {
      "text/plain": [
       "'leeqaaktpdkvalvdsgegqtlTYreldervnrlAagLrslGvkkgdrVaillpnspewvvallailkaGavvvplnptltaeelayiledseakvlitatvdselleklleaaakleavklvivldadellkeeelkeeeeseekaekpeeeeelkpddlayiiYTSGTTGkPKGVmlshrnlvasvaslkletrfklkeddvvlsilplahifglilelllallsGatvvllekdaaldpklllelieelkvtviagvPrvleallesgalkaakkakdlsslrlvllggeplspellrffralfgeevlegYGlTEttgvvtvlpleedkkklgsvGkplpgvevkivDeetgepvpdgeeGellvrgpgvmkgYlkdpeataeafds.....e.grwlrTGDlgrldedGyleivgRkkdliklr'"
      ]
     },
     "execution_count": 38,
     "metadata": {},
     "output_type": "execute_result"
    }
   ],
   "source": [
    "tophits[0].best_domain.alignment.hmm_sequence"
   ]
  },
  {
   "cell_type": "code",
   "execution_count": null,
   "id": "2e0a4001-03ca-4f67-b766-7693edd8c8c6",
   "metadata": {},
   "outputs": [],
   "source": []
  }
 ],
 "metadata": {
  "kernelspec": {
   "display_name": "Python 3 (ipykernel)",
   "language": "python",
   "name": "python3"
  },
  "language_info": {
   "codemirror_mode": {
    "name": "ipython",
    "version": 3
   },
   "file_extension": ".py",
   "mimetype": "text/x-python",
   "name": "python",
   "nbconvert_exporter": "python",
   "pygments_lexer": "ipython3",
   "version": "3.10.6"
  }
 },
 "nbformat": 4,
 "nbformat_minor": 5
}
