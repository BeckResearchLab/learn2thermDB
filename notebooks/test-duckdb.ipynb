{
 "cells": [
  {
   "cell_type": "markdown",
   "metadata": {},
   "source": [
    "# Is duckDB ammenible to our data structure? Should we build a class around it?"
   ]
  },
  {
   "cell_type": "markdown",
   "metadata": {},
   "source": [
    "***"
   ]
  },
  {
   "cell_type": "code",
   "execution_count": 2,
   "metadata": {},
   "outputs": [],
   "source": [
    "import duckdb as ddb\n",
    "import pandas as pd\n",
    "import numpy as np"
   ]
  },
  {
   "cell_type": "markdown",
   "metadata": {},
   "source": [
    "## 1. How quick can we query protein files?"
   ]
  },
  {
   "cell_type": "code",
   "execution_count": 2,
   "metadata": {},
   "outputs": [],
   "source": [
    "# in memory db - lost when process ends\n",
    "conn = ddb.connect()"
   ]
  },
  {
   "cell_type": "code",
   "execution_count": 3,
   "metadata": {},
   "outputs": [],
   "source": [
    "# run query on set of protein files\n",
    "df = conn.execute(\"\"\"\n",
    "    SELECT *\n",
    "    FROM read_csv_auto('../data/taxa/proteins/taxa*.csv', header=True)\n",
    "    LIMIT 10\n",
    "\"\"\").df()"
   ]
  },
  {
   "cell_type": "code",
   "execution_count": 14,
   "metadata": {},
   "outputs": [
    {
     "data": {
      "text/html": [
       "<div>\n",
       "<style scoped>\n",
       "    .dataframe tbody tr th:only-of-type {\n",
       "        vertical-align: middle;\n",
       "    }\n",
       "\n",
       "    .dataframe tbody tr th {\n",
       "        vertical-align: top;\n",
       "    }\n",
       "\n",
       "    .dataframe thead th {\n",
       "        text-align: right;\n",
       "    }\n",
       "</style>\n",
       "<table border=\"1\" class=\"dataframe\">\n",
       "  <thead>\n",
       "    <tr style=\"text-align: right;\">\n",
       "      <th></th>\n",
       "      <th>seq_id</th>\n",
       "      <th>protein_seq</th>\n",
       "      <th>protein_desc</th>\n",
       "      <th>protein_len</th>\n",
       "    </tr>\n",
       "  </thead>\n",
       "  <tbody>\n",
       "    <tr>\n",
       "      <th>0</th>\n",
       "      <td>4417.0</td>\n",
       "      <td>MSKYDEALARMQLRSNEAFERITGQTVEQYQQEQRQNRMPTTAQLA...</td>\n",
       "      <td>hypothetical protein</td>\n",
       "      <td>4602</td>\n",
       "    </tr>\n",
       "    <tr>\n",
       "      <th>1</th>\n",
       "      <td>4417.1</td>\n",
       "      <td>MTEEETLGILSENPEASPMKINPKHLEKFFKDNHTPNTKISISIAN...</td>\n",
       "      <td>hypothetical protein</td>\n",
       "      <td>53</td>\n",
       "    </tr>\n",
       "    <tr>\n",
       "      <th>2</th>\n",
       "      <td>4417.2</td>\n",
       "      <td>MTQHLSHLSTTPNTQKPITLYISGLTHDGRGIATYDDTHGDKSGKK...</td>\n",
       "      <td>23S rRNA (uracil(1939)-C(5))-methyltransferase...</td>\n",
       "      <td>476</td>\n",
       "    </tr>\n",
       "    <tr>\n",
       "      <th>3</th>\n",
       "      <td>4417.3</td>\n",
       "      <td>MSNNIQHLRNIAIIAHVDHGKTTLVDKLLQQSGALGERAGEIERVM...</td>\n",
       "      <td>translational GTPase TypA</td>\n",
       "      <td>615</td>\n",
       "    </tr>\n",
       "    <tr>\n",
       "      <th>4</th>\n",
       "      <td>4417.4</td>\n",
       "      <td>MKLNKIALALIATATTAATAGVTVTPLIGYQHQNEAHKKQREIFHT...</td>\n",
       "      <td>OmpA family protein</td>\n",
       "      <td>423</td>\n",
       "    </tr>\n",
       "    <tr>\n",
       "      <th>5</th>\n",
       "      <td>4417.5</td>\n",
       "      <td>MRAPRLGVNIDHIATLRNVRGVDYPCPIKGALVCQRAGADGITLHL...</td>\n",
       "      <td>pyridoxine 5'-phosphate synthase</td>\n",
       "      <td>244</td>\n",
       "    </tr>\n",
       "    <tr>\n",
       "      <th>6</th>\n",
       "      <td>4417.6</td>\n",
       "      <td>MSLQSLKIQSLPRFSLNFAANIVAALWMLVGSVRAFNWVKPTFGQF...</td>\n",
       "      <td>caspase family protein</td>\n",
       "      <td>479</td>\n",
       "    </tr>\n",
       "    <tr>\n",
       "      <th>7</th>\n",
       "      <td>4417.7</td>\n",
       "      <td>MTSIYLLIPLSLMLFVVAIWAIAYAVKSNQFEDLDNAPDQIILDDR...</td>\n",
       "      <td>cbb3-type cytochrome oxidase assembly protein ...</td>\n",
       "      <td>70</td>\n",
       "    </tr>\n",
       "    <tr>\n",
       "      <th>8</th>\n",
       "      <td>4417.8</td>\n",
       "      <td>MSIVLLAPALAMGFLGSPHCMGMCGGIVTAFGISMKNLSPQKRGML...</td>\n",
       "      <td>sulfite exporter TauE/SafE family protein</td>\n",
       "      <td>280</td>\n",
       "    </tr>\n",
       "    <tr>\n",
       "      <th>9</th>\n",
       "      <td>4417.9</td>\n",
       "      <td>MLEIRHLQMLSILARHGSLVMTADELNLTASAISHQLKELESYYDI...</td>\n",
       "      <td>LysR family transcriptional regulator</td>\n",
       "      <td>295</td>\n",
       "    </tr>\n",
       "  </tbody>\n",
       "</table>\n",
       "</div>"
      ],
      "text/plain": [
       "   seq_id                                        protein_seq  \\\n",
       "0  4417.0  MSKYDEALARMQLRSNEAFERITGQTVEQYQQEQRQNRMPTTAQLA...   \n",
       "1  4417.1  MTEEETLGILSENPEASPMKINPKHLEKFFKDNHTPNTKISISIAN...   \n",
       "2  4417.2  MTQHLSHLSTTPNTQKPITLYISGLTHDGRGIATYDDTHGDKSGKK...   \n",
       "3  4417.3  MSNNIQHLRNIAIIAHVDHGKTTLVDKLLQQSGALGERAGEIERVM...   \n",
       "4  4417.4  MKLNKIALALIATATTAATAGVTVTPLIGYQHQNEAHKKQREIFHT...   \n",
       "5  4417.5  MRAPRLGVNIDHIATLRNVRGVDYPCPIKGALVCQRAGADGITLHL...   \n",
       "6  4417.6  MSLQSLKIQSLPRFSLNFAANIVAALWMLVGSVRAFNWVKPTFGQF...   \n",
       "7  4417.7  MTSIYLLIPLSLMLFVVAIWAIAYAVKSNQFEDLDNAPDQIILDDR...   \n",
       "8  4417.8  MSIVLLAPALAMGFLGSPHCMGMCGGIVTAFGISMKNLSPQKRGML...   \n",
       "9  4417.9  MLEIRHLQMLSILARHGSLVMTADELNLTASAISHQLKELESYYDI...   \n",
       "\n",
       "                                        protein_desc  protein_len  \n",
       "0                               hypothetical protein         4602  \n",
       "1                               hypothetical protein           53  \n",
       "2  23S rRNA (uracil(1939)-C(5))-methyltransferase...          476  \n",
       "3                          translational GTPase TypA          615  \n",
       "4                                OmpA family protein          423  \n",
       "5                   pyridoxine 5'-phosphate synthase          244  \n",
       "6                             caspase family protein          479  \n",
       "7  cbb3-type cytochrome oxidase assembly protein ...           70  \n",
       "8          sulfite exporter TauE/SafE family protein          280  \n",
       "9              LysR family transcriptional regulator          295  "
      ]
     },
     "execution_count": 14,
     "metadata": {},
     "output_type": "execute_result"
    }
   ],
   "source": [
    "df"
   ]
  },
  {
   "cell_type": "markdown",
   "metadata": {},
   "source": [
    "## 2. Make it a virtual table"
   ]
  },
  {
   "cell_type": "code",
   "execution_count": 15,
   "metadata": {},
   "outputs": [],
   "source": [
    "# all protein files\n",
    "df = conn.execute(\"\"\"\n",
    "    SELECT *\n",
    "    FROM read_csv_auto('../data/taxa/proteins/taxa*.csv', header=True)\n",
    "\"\"\").df()\n",
    "conn.register('proteins', df)"
   ]
  },
  {
   "cell_type": "markdown",
   "metadata": {},
   "source": [
    "its too big to be a virtual table..."
   ]
  },
  {
   "cell_type": "markdown",
   "metadata": {},
   "source": [
    "## 3. Make a database of file and add an actual table"
   ]
  },
  {
   "cell_type": "code",
   "execution_count": 4,
   "metadata": {},
   "outputs": [],
   "source": [
    "conn = ddb.connect(database=\"./dbs/test_db\")"
   ]
  },
  {
   "cell_type": "code",
   "execution_count": 7,
   "metadata": {},
   "outputs": [
    {
     "data": {
      "text/plain": [
       "<duckdb.DuckDBPyConnection at 0x117839b30>"
      ]
     },
     "execution_count": 7,
     "metadata": {},
     "output_type": "execute_result"
    }
   ],
   "source": [
    "conn.execute(\"\"\"\n",
    "    CREATE OR REPLACE TABLE proteins AS\n",
    "        SELECT\n",
    "            \"seq_id\"::STRING AS seq_id.m\n",
    "            \"protein_seq\"::STRING AS protein_seq,\n",
    "            \"protein_desc\"::STRING AS protein_desc,\n",
    "            \"protein_len\"::INT AS protein_len\n",
    "        FROM read_csv_auto('../data/taxa/proteins/taxa*.csv', header=True)\n",
    "\"\"\")"
   ]
  },
  {
   "cell_type": "code",
   "execution_count": 8,
   "metadata": {},
   "outputs": [
    {
     "data": {
      "text/html": [
       "<div>\n",
       "<style scoped>\n",
       "    .dataframe tbody tr th:only-of-type {\n",
       "        vertical-align: middle;\n",
       "    }\n",
       "\n",
       "    .dataframe tbody tr th {\n",
       "        vertical-align: top;\n",
       "    }\n",
       "\n",
       "    .dataframe thead th {\n",
       "        text-align: right;\n",
       "    }\n",
       "</style>\n",
       "<table border=\"1\" class=\"dataframe\">\n",
       "  <thead>\n",
       "    <tr style=\"text-align: right;\">\n",
       "      <th></th>\n",
       "      <th>seq_id</th>\n",
       "      <th>protein_seq</th>\n",
       "      <th>protein_desc</th>\n",
       "      <th>protein_len</th>\n",
       "    </tr>\n",
       "  </thead>\n",
       "  <tbody>\n",
       "    <tr>\n",
       "      <th>0</th>\n",
       "      <td>4417.0</td>\n",
       "      <td>MSKYDEALARMQLRSNEAFERITGQTVEQYQQEQRQNRMPTTAQLA...</td>\n",
       "      <td>hypothetical protein</td>\n",
       "      <td>4602</td>\n",
       "    </tr>\n",
       "    <tr>\n",
       "      <th>1</th>\n",
       "      <td>4417.1</td>\n",
       "      <td>MTEEETLGILSENPEASPMKINPKHLEKFFKDNHTPNTKISISIAN...</td>\n",
       "      <td>hypothetical protein</td>\n",
       "      <td>53</td>\n",
       "    </tr>\n",
       "    <tr>\n",
       "      <th>2</th>\n",
       "      <td>4417.2</td>\n",
       "      <td>MTQHLSHLSTTPNTQKPITLYISGLTHDGRGIATYDDTHGDKSGKK...</td>\n",
       "      <td>23S rRNA (uracil(1939)-C(5))-methyltransferase...</td>\n",
       "      <td>476</td>\n",
       "    </tr>\n",
       "    <tr>\n",
       "      <th>3</th>\n",
       "      <td>4417.3</td>\n",
       "      <td>MSNNIQHLRNIAIIAHVDHGKTTLVDKLLQQSGALGERAGEIERVM...</td>\n",
       "      <td>translational GTPase TypA</td>\n",
       "      <td>615</td>\n",
       "    </tr>\n",
       "    <tr>\n",
       "      <th>4</th>\n",
       "      <td>4417.4</td>\n",
       "      <td>MKLNKIALALIATATTAATAGVTVTPLIGYQHQNEAHKKQREIFHT...</td>\n",
       "      <td>OmpA family protein</td>\n",
       "      <td>423</td>\n",
       "    </tr>\n",
       "    <tr>\n",
       "      <th>5</th>\n",
       "      <td>4417.5</td>\n",
       "      <td>MRAPRLGVNIDHIATLRNVRGVDYPCPIKGALVCQRAGADGITLHL...</td>\n",
       "      <td>pyridoxine 5'-phosphate synthase</td>\n",
       "      <td>244</td>\n",
       "    </tr>\n",
       "    <tr>\n",
       "      <th>6</th>\n",
       "      <td>4417.6</td>\n",
       "      <td>MSLQSLKIQSLPRFSLNFAANIVAALWMLVGSVRAFNWVKPTFGQF...</td>\n",
       "      <td>caspase family protein</td>\n",
       "      <td>479</td>\n",
       "    </tr>\n",
       "    <tr>\n",
       "      <th>7</th>\n",
       "      <td>4417.7</td>\n",
       "      <td>MTSIYLLIPLSLMLFVVAIWAIAYAVKSNQFEDLDNAPDQIILDDR...</td>\n",
       "      <td>cbb3-type cytochrome oxidase assembly protein ...</td>\n",
       "      <td>70</td>\n",
       "    </tr>\n",
       "    <tr>\n",
       "      <th>8</th>\n",
       "      <td>4417.8</td>\n",
       "      <td>MSIVLLAPALAMGFLGSPHCMGMCGGIVTAFGISMKNLSPQKRGML...</td>\n",
       "      <td>sulfite exporter TauE/SafE family protein</td>\n",
       "      <td>280</td>\n",
       "    </tr>\n",
       "    <tr>\n",
       "      <th>9</th>\n",
       "      <td>4417.9</td>\n",
       "      <td>MLEIRHLQMLSILARHGSLVMTADELNLTASAISHQLKELESYYDI...</td>\n",
       "      <td>LysR family transcriptional regulator</td>\n",
       "      <td>295</td>\n",
       "    </tr>\n",
       "  </tbody>\n",
       "</table>\n",
       "</div>"
      ],
      "text/plain": [
       "   seq_id                                        protein_seq  \\\n",
       "0  4417.0  MSKYDEALARMQLRSNEAFERITGQTVEQYQQEQRQNRMPTTAQLA...   \n",
       "1  4417.1  MTEEETLGILSENPEASPMKINPKHLEKFFKDNHTPNTKISISIAN...   \n",
       "2  4417.2  MTQHLSHLSTTPNTQKPITLYISGLTHDGRGIATYDDTHGDKSGKK...   \n",
       "3  4417.3  MSNNIQHLRNIAIIAHVDHGKTTLVDKLLQQSGALGERAGEIERVM...   \n",
       "4  4417.4  MKLNKIALALIATATTAATAGVTVTPLIGYQHQNEAHKKQREIFHT...   \n",
       "5  4417.5  MRAPRLGVNIDHIATLRNVRGVDYPCPIKGALVCQRAGADGITLHL...   \n",
       "6  4417.6  MSLQSLKIQSLPRFSLNFAANIVAALWMLVGSVRAFNWVKPTFGQF...   \n",
       "7  4417.7  MTSIYLLIPLSLMLFVVAIWAIAYAVKSNQFEDLDNAPDQIILDDR...   \n",
       "8  4417.8  MSIVLLAPALAMGFLGSPHCMGMCGGIVTAFGISMKNLSPQKRGML...   \n",
       "9  4417.9  MLEIRHLQMLSILARHGSLVMTADELNLTASAISHQLKELESYYDI...   \n",
       "\n",
       "                                        protein_desc  protein_len  \n",
       "0                               hypothetical protein         4602  \n",
       "1                               hypothetical protein           53  \n",
       "2  23S rRNA (uracil(1939)-C(5))-methyltransferase...          476  \n",
       "3                          translational GTPase TypA          615  \n",
       "4                                OmpA family protein          423  \n",
       "5                   pyridoxine 5'-phosphate synthase          244  \n",
       "6                             caspase family protein          479  \n",
       "7  cbb3-type cytochrome oxidase assembly protein ...           70  \n",
       "8          sulfite exporter TauE/SafE family protein          280  \n",
       "9              LysR family transcriptional regulator          295  "
      ]
     },
     "execution_count": 8,
     "metadata": {},
     "output_type": "execute_result"
    }
   ],
   "source": [
    "conn.execute(\"FROM proteins LIMIT 10\").df()"
   ]
  },
  {
   "cell_type": "code",
   "execution_count": 9,
   "metadata": {},
   "outputs": [
    {
     "data": {
      "text/html": [
       "<div>\n",
       "<style scoped>\n",
       "    .dataframe tbody tr th:only-of-type {\n",
       "        vertical-align: middle;\n",
       "    }\n",
       "\n",
       "    .dataframe tbody tr th {\n",
       "        vertical-align: top;\n",
       "    }\n",
       "\n",
       "    .dataframe thead th {\n",
       "        text-align: right;\n",
       "    }\n",
       "</style>\n",
       "<table border=\"1\" class=\"dataframe\">\n",
       "  <thead>\n",
       "    <tr style=\"text-align: right;\">\n",
       "      <th></th>\n",
       "      <th>seq_id</th>\n",
       "      <th>protein_seq</th>\n",
       "      <th>protein_desc</th>\n",
       "      <th>protein_len</th>\n",
       "    </tr>\n",
       "  </thead>\n",
       "  <tbody>\n",
       "    <tr>\n",
       "      <th>0</th>\n",
       "      <td>4417.94</td>\n",
       "      <td>MFVSEWVYNLLVVMGGGEVWGFGGLGFDKMTWCIKAYVGRASLPS</td>\n",
       "      <td>hypothetical protein</td>\n",
       "      <td>45</td>\n",
       "    </tr>\n",
       "    <tr>\n",
       "      <th>1</th>\n",
       "      <td>4417.114</td>\n",
       "      <td>MPLHDNIRKFREQKQWSQEYMAEQLGLSKNGYAKIERGESRPSLDRLE</td>\n",
       "      <td>helix-turn-helix transcriptional regulator</td>\n",
       "      <td>48</td>\n",
       "    </tr>\n",
       "    <tr>\n",
       "      <th>2</th>\n",
       "      <td>4417.116</td>\n",
       "      <td>MQVLSSLKSAKNRHEDCQVVRRRGRTFVICKSNPRFKAVQGGKKRK</td>\n",
       "      <td>type B 50S ribosomal protein L36</td>\n",
       "      <td>46</td>\n",
       "    </tr>\n",
       "    <tr>\n",
       "      <th>3</th>\n",
       "      <td>4417.121</td>\n",
       "      <td>MSKFLVSTRINRYEKGVYQPNFGILEKMAMALDVPVIYFLAMMNWHK</td>\n",
       "      <td>helix-turn-helix transcriptional regulator</td>\n",
       "      <td>47</td>\n",
       "    </tr>\n",
       "    <tr>\n",
       "      <th>4</th>\n",
       "      <td>4417.185</td>\n",
       "      <td>MKRTFQPSVLKRKRTHGFRARMATKNGRQVLARRRAKGRHRLTV</td>\n",
       "      <td>50S ribosomal protein L34</td>\n",
       "      <td>44</td>\n",
       "    </tr>\n",
       "    <tr>\n",
       "      <th>...</th>\n",
       "      <td>...</td>\n",
       "      <td>...</td>\n",
       "      <td>...</td>\n",
       "      <td>...</td>\n",
       "    </tr>\n",
       "    <tr>\n",
       "      <th>405400</th>\n",
       "      <td>3361.3628</td>\n",
       "      <td>MKVRASVKKLCRNCKIVRREGVVRVICSAEPRHKQRQG</td>\n",
       "      <td>50S ribosomal protein L36</td>\n",
       "      <td>38</td>\n",
       "    </tr>\n",
       "    <tr>\n",
       "      <th>405401</th>\n",
       "      <td>3361.3861</td>\n",
       "      <td>MNAQSKIEQHSPIRTDGFEIVEYRASTTAGIAGSLPYLAYRVLGA</td>\n",
       "      <td>hypothetical protein</td>\n",
       "      <td>45</td>\n",
       "    </tr>\n",
       "    <tr>\n",
       "      <th>405402</th>\n",
       "      <td>3361.3879</td>\n",
       "      <td>MWYFAWILGVLLACSFGIVNALWLETTQDLDEGEAGDD</td>\n",
       "      <td>cytochrome bd-I oxidase subunit CydX</td>\n",
       "      <td>38</td>\n",
       "    </tr>\n",
       "    <tr>\n",
       "      <th>405403</th>\n",
       "      <td>3361.3889</td>\n",
       "      <td>MACSIDRSYIGRIERGEVNITVEKLYRIASLLSCDPASLLPLVSELQG</td>\n",
       "      <td>helix-turn-helix domain-containing protein</td>\n",
       "      <td>48</td>\n",
       "    </tr>\n",
       "    <tr>\n",
       "      <th>405404</th>\n",
       "      <td>3361.3906</td>\n",
       "      <td>MHAKRVLSDDLVSRLEDKIPAMAECAVNTAYINALAAGSSVMEVVN</td>\n",
       "      <td>hypothetical protein</td>\n",
       "      <td>46</td>\n",
       "    </tr>\n",
       "  </tbody>\n",
       "</table>\n",
       "<p>405405 rows × 4 columns</p>\n",
       "</div>"
      ],
      "text/plain": [
       "           seq_id                                       protein_seq  \\\n",
       "0         4417.94     MFVSEWVYNLLVVMGGGEVWGFGGLGFDKMTWCIKAYVGRASLPS   \n",
       "1        4417.114  MPLHDNIRKFREQKQWSQEYMAEQLGLSKNGYAKIERGESRPSLDRLE   \n",
       "2        4417.116    MQVLSSLKSAKNRHEDCQVVRRRGRTFVICKSNPRFKAVQGGKKRK   \n",
       "3        4417.121   MSKFLVSTRINRYEKGVYQPNFGILEKMAMALDVPVIYFLAMMNWHK   \n",
       "4        4417.185      MKRTFQPSVLKRKRTHGFRARMATKNGRQVLARRRAKGRHRLTV   \n",
       "...           ...                                               ...   \n",
       "405400  3361.3628            MKVRASVKKLCRNCKIVRREGVVRVICSAEPRHKQRQG   \n",
       "405401  3361.3861     MNAQSKIEQHSPIRTDGFEIVEYRASTTAGIAGSLPYLAYRVLGA   \n",
       "405402  3361.3879            MWYFAWILGVLLACSFGIVNALWLETTQDLDEGEAGDD   \n",
       "405403  3361.3889  MACSIDRSYIGRIERGEVNITVEKLYRIASLLSCDPASLLPLVSELQG   \n",
       "405404  3361.3906    MHAKRVLSDDLVSRLEDKIPAMAECAVNTAYINALAAGSSVMEVVN   \n",
       "\n",
       "                                      protein_desc  protein_len  \n",
       "0                             hypothetical protein           45  \n",
       "1       helix-turn-helix transcriptional regulator           48  \n",
       "2                 type B 50S ribosomal protein L36           46  \n",
       "3       helix-turn-helix transcriptional regulator           47  \n",
       "4                        50S ribosomal protein L34           44  \n",
       "...                                            ...          ...  \n",
       "405400                   50S ribosomal protein L36           38  \n",
       "405401                        hypothetical protein           45  \n",
       "405402        cytochrome bd-I oxidase subunit CydX           38  \n",
       "405403  helix-turn-helix domain-containing protein           48  \n",
       "405404                        hypothetical protein           46  \n",
       "\n",
       "[405405 rows x 4 columns]"
      ]
     },
     "execution_count": 9,
     "metadata": {},
     "output_type": "execute_result"
    }
   ],
   "source": [
    "conn.execute(\"FROM proteins SELECT * WHERE protein_len<50\").df()"
   ]
  },
  {
   "cell_type": "markdown",
   "metadata": {},
   "source": [
    "## 4. create table with primary keys\n",
    "\n",
    "Summary: it sucks. YOu cannot modify a column to be foreign key, and you cant create the scheme with foreign key and then import data from CSV unless the headers match percetly, so have to parse, rename, save, create scheme then parse again"
   ]
  },
  {
   "cell_type": "code",
   "execution_count": 30,
   "metadata": {},
   "outputs": [
    {
     "data": {
      "text/plain": [
       "<duckdb.DuckDBPyConnection at 0x117839b30>"
      ]
     },
     "execution_count": 30,
     "metadata": {},
     "output_type": "execute_result"
    }
   ],
   "source": [
    "conn.execute(\"\"\"\n",
    "    CREATE OR REPLACE TABLE taxa AS\n",
    "        SELECT\n",
    "            \"taxid\"::INT AS ncbi_taxid,\n",
    "            \"record_name\"::STRING AS record_name,\n",
    "            \"filepath\"::STRING AS filepath,\n",
    "            \"taxonomy\"::STRING AS taxonomy,\n",
    "            \"organism\"::STRING AS organism,\n",
    "            \"bacdive_id\"::INT AS bacdive_id,\n",
    "            \"ogt_raw\":: STRING AS ogt_scraped_string\n",
    "        FROM read_csv_auto('../data/taxa/taxa_info_and_ogt.csv', header=True)\n",
    "\"\"\")"
   ]
  },
  {
   "cell_type": "code",
   "execution_count": 31,
   "metadata": {},
   "outputs": [
    {
     "data": {
      "text/html": [
       "<div>\n",
       "<style scoped>\n",
       "    .dataframe tbody tr th:only-of-type {\n",
       "        vertical-align: middle;\n",
       "    }\n",
       "\n",
       "    .dataframe tbody tr th {\n",
       "        vertical-align: top;\n",
       "    }\n",
       "\n",
       "    .dataframe thead th {\n",
       "        text-align: right;\n",
       "    }\n",
       "</style>\n",
       "<table border=\"1\" class=\"dataframe\">\n",
       "  <thead>\n",
       "    <tr style=\"text-align: right;\">\n",
       "      <th></th>\n",
       "      <th>column_name</th>\n",
       "      <th>column_type</th>\n",
       "      <th>null</th>\n",
       "      <th>key</th>\n",
       "      <th>default</th>\n",
       "      <th>extra</th>\n",
       "    </tr>\n",
       "  </thead>\n",
       "  <tbody>\n",
       "    <tr>\n",
       "      <th>0</th>\n",
       "      <td>ncbi_taxid</td>\n",
       "      <td>INTEGER</td>\n",
       "      <td>YES</td>\n",
       "      <td>NaN</td>\n",
       "      <td>NaN</td>\n",
       "      <td>NaN</td>\n",
       "    </tr>\n",
       "    <tr>\n",
       "      <th>1</th>\n",
       "      <td>record_name</td>\n",
       "      <td>VARCHAR</td>\n",
       "      <td>YES</td>\n",
       "      <td>NaN</td>\n",
       "      <td>NaN</td>\n",
       "      <td>NaN</td>\n",
       "    </tr>\n",
       "    <tr>\n",
       "      <th>2</th>\n",
       "      <td>filepath</td>\n",
       "      <td>VARCHAR</td>\n",
       "      <td>YES</td>\n",
       "      <td>NaN</td>\n",
       "      <td>NaN</td>\n",
       "      <td>NaN</td>\n",
       "    </tr>\n",
       "    <tr>\n",
       "      <th>3</th>\n",
       "      <td>taxonomy</td>\n",
       "      <td>VARCHAR</td>\n",
       "      <td>YES</td>\n",
       "      <td>NaN</td>\n",
       "      <td>NaN</td>\n",
       "      <td>NaN</td>\n",
       "    </tr>\n",
       "    <tr>\n",
       "      <th>4</th>\n",
       "      <td>organism</td>\n",
       "      <td>VARCHAR</td>\n",
       "      <td>YES</td>\n",
       "      <td>NaN</td>\n",
       "      <td>NaN</td>\n",
       "      <td>NaN</td>\n",
       "    </tr>\n",
       "    <tr>\n",
       "      <th>5</th>\n",
       "      <td>bacdive_id</td>\n",
       "      <td>INTEGER</td>\n",
       "      <td>YES</td>\n",
       "      <td>NaN</td>\n",
       "      <td>NaN</td>\n",
       "      <td>NaN</td>\n",
       "    </tr>\n",
       "    <tr>\n",
       "      <th>6</th>\n",
       "      <td>ogt_scraped_string</td>\n",
       "      <td>VARCHAR</td>\n",
       "      <td>YES</td>\n",
       "      <td>NaN</td>\n",
       "      <td>NaN</td>\n",
       "      <td>NaN</td>\n",
       "    </tr>\n",
       "  </tbody>\n",
       "</table>\n",
       "</div>"
      ],
      "text/plain": [
       "          column_name column_type null  key default  extra\n",
       "0          ncbi_taxid     INTEGER  YES  NaN     NaN    NaN\n",
       "1         record_name     VARCHAR  YES  NaN     NaN    NaN\n",
       "2            filepath     VARCHAR  YES  NaN     NaN    NaN\n",
       "3            taxonomy     VARCHAR  YES  NaN     NaN    NaN\n",
       "4            organism     VARCHAR  YES  NaN     NaN    NaN\n",
       "5          bacdive_id     INTEGER  YES  NaN     NaN    NaN\n",
       "6  ogt_scraped_string     VARCHAR  YES  NaN     NaN    NaN"
      ]
     },
     "execution_count": 31,
     "metadata": {},
     "output_type": "execute_result"
    }
   ],
   "source": [
    "conn.execute(\"DESCRIBE taxa\").df()"
   ]
  },
  {
   "cell_type": "code",
   "execution_count": 2,
   "metadata": {},
   "outputs": [],
   "source": [
    "conn = ddb.connect(database=\"./dbs/test_db\")"
   ]
  },
  {
   "cell_type": "code",
   "execution_count": 3,
   "metadata": {},
   "outputs": [
    {
     "data": {
      "text/plain": [
       "<duckdb.DuckDBPyConnection at 0x1a76a9bf0>"
      ]
     },
     "execution_count": 3,
     "metadata": {},
     "output_type": "execute_result"
    }
   ],
   "source": [
    "\n",
    "conn.execute(\"\"\"\n",
    "CREATE SEQUENCE seq_taxa_index START 1\n",
    "\"\"\")\n",
    "conn.execute(\"\"\"\n",
    "CREATE OR REPLACE TABLE taxa(\n",
    "    taxa_index INT PRIMARY KEY default nextval('seq_taxa_index')-1,\n",
    "    ncbi_taxid INT\n",
    ")\n",
    "\"\"\")\n"
   ]
  },
  {
   "cell_type": "code",
   "execution_count": 4,
   "metadata": {},
   "outputs": [
    {
     "data": {
      "text/plain": [
       "<duckdb.DuckDBPyConnection at 0x1a76a9bf0>"
      ]
     },
     "execution_count": 4,
     "metadata": {},
     "output_type": "execute_result"
    }
   ],
   "source": [
    "conn.execute(\"INSERT INTO taxa(ncbi_taxid) VALUES (1)\")"
   ]
  },
  {
   "cell_type": "code",
   "execution_count": 5,
   "metadata": {},
   "outputs": [
    {
     "data": {
      "text/html": [
       "<div>\n",
       "<style scoped>\n",
       "    .dataframe tbody tr th:only-of-type {\n",
       "        vertical-align: middle;\n",
       "    }\n",
       "\n",
       "    .dataframe tbody tr th {\n",
       "        vertical-align: top;\n",
       "    }\n",
       "\n",
       "    .dataframe thead th {\n",
       "        text-align: right;\n",
       "    }\n",
       "</style>\n",
       "<table border=\"1\" class=\"dataframe\">\n",
       "  <thead>\n",
       "    <tr style=\"text-align: right;\">\n",
       "      <th></th>\n",
       "      <th>taxa_index</th>\n",
       "      <th>ncbi_taxid</th>\n",
       "    </tr>\n",
       "  </thead>\n",
       "  <tbody>\n",
       "    <tr>\n",
       "      <th>0</th>\n",
       "      <td>0</td>\n",
       "      <td>1</td>\n",
       "    </tr>\n",
       "  </tbody>\n",
       "</table>\n",
       "</div>"
      ],
      "text/plain": [
       "   taxa_index  ncbi_taxid\n",
       "0           0           1"
      ]
     },
     "execution_count": 5,
     "metadata": {},
     "output_type": "execute_result"
    }
   ],
   "source": [
    "conn.execute(\"SELECT * FROM taxa\").df(\n",
    ")"
   ]
  },
  {
   "cell_type": "markdown",
   "metadata": {},
   "source": [
    "Try creating a virtual table with the correct names, THEN using the copy on the actual table with the correct scheme"
   ]
  },
  {
   "cell_type": "code",
   "execution_count": 2,
   "metadata": {},
   "outputs": [],
   "source": [
    "conn = ddb.connect(database=\"./dbs/test_db\")"
   ]
  },
  {
   "cell_type": "code",
   "execution_count": 14,
   "metadata": {},
   "outputs": [
    {
     "data": {
      "text/plain": [
       "<duckdb.DuckDBPyConnection at 0x1ae194070>"
      ]
     },
     "execution_count": 14,
     "metadata": {},
     "output_type": "execute_result"
    }
   ],
   "source": [
    "conn.execute(\"\"\"\n",
    "CREATE OR REPLACE TABLE taxa(\n",
    "    taxa_index INT PRIMARY KEY NOT NULL,\n",
    "    ncbi_taxid INT NOT NULL,\n",
    "    record_name STRING,\n",
    "    filepath STRING,\n",
    "    taxonomy STRING,\n",
    "    organism STRING,\n",
    "    bacdive_id INT,\n",
    "    ogt_scraped_string STRING\n",
    ")\n",
    "\"\"\")"
   ]
  },
  {
   "cell_type": "code",
   "execution_count": 7,
   "metadata": {},
   "outputs": [
    {
     "data": {
      "text/plain": [
       "<duckdb.DuckDBPyConnection at 0x1ae194070>"
      ]
     },
     "execution_count": 7,
     "metadata": {},
     "output_type": "execute_result"
    }
   ],
   "source": [
    "conn.execute(\"\"\"CREATE OR REPLACE TEMP TABLE taxa_tmp AS \n",
    "        SELECT\n",
    "            \"column0\"::INT AS taxa_index,\n",
    "            \"taxid\"::INT AS ncbi_taxid,\n",
    "            \"record_name\"::STRING AS record_name,\n",
    "            \"filepath\"::STRING AS filepath,\n",
    "            \"taxonomy\"::STRING AS taxonomy,\n",
    "            \"organism\"::STRING AS organism,\n",
    "            \"bacdive_id\"::INT AS bacdive_id,\n",
    "            \"ogt_raw\":: STRING AS ogt_scraped_string\n",
    "        FROM read_csv_auto('../data/taxa/taxa_info_and_ogt.csv', header=True)\"\"\")\n",
    "conn.execute(\"COPY taxa_tmp TO 'taxa_tmp.csv' (HEADER)\")"
   ]
  },
  {
   "cell_type": "code",
   "execution_count": 15,
   "metadata": {},
   "outputs": [
    {
     "data": {
      "text/plain": [
       "<duckdb.DuckDBPyConnection at 0x1ae194070>"
      ]
     },
     "execution_count": 15,
     "metadata": {},
     "output_type": "execute_result"
    }
   ],
   "source": [
    "conn.execute(\"COPY taxa FROM 'taxa_tmp.csv' ( HEADER )\")"
   ]
  },
  {
   "cell_type": "code",
   "execution_count": 17,
   "metadata": {},
   "outputs": [
    {
     "data": {
      "text/html": [
       "<div>\n",
       "<style scoped>\n",
       "    .dataframe tbody tr th:only-of-type {\n",
       "        vertical-align: middle;\n",
       "    }\n",
       "\n",
       "    .dataframe tbody tr th {\n",
       "        vertical-align: top;\n",
       "    }\n",
       "\n",
       "    .dataframe thead th {\n",
       "        text-align: right;\n",
       "    }\n",
       "</style>\n",
       "<table border=\"1\" class=\"dataframe\">\n",
       "  <thead>\n",
       "    <tr style=\"text-align: right;\">\n",
       "      <th></th>\n",
       "      <th>column_name</th>\n",
       "      <th>column_type</th>\n",
       "      <th>null</th>\n",
       "      <th>key</th>\n",
       "      <th>default</th>\n",
       "      <th>extra</th>\n",
       "    </tr>\n",
       "  </thead>\n",
       "  <tbody>\n",
       "    <tr>\n",
       "      <th>0</th>\n",
       "      <td>taxa_index</td>\n",
       "      <td>INTEGER</td>\n",
       "      <td>NO</td>\n",
       "      <td>NaN</td>\n",
       "      <td>NaN</td>\n",
       "      <td>NaN</td>\n",
       "    </tr>\n",
       "    <tr>\n",
       "      <th>1</th>\n",
       "      <td>ncbi_taxid</td>\n",
       "      <td>INTEGER</td>\n",
       "      <td>NO</td>\n",
       "      <td>NaN</td>\n",
       "      <td>NaN</td>\n",
       "      <td>NaN</td>\n",
       "    </tr>\n",
       "    <tr>\n",
       "      <th>2</th>\n",
       "      <td>record_name</td>\n",
       "      <td>VARCHAR</td>\n",
       "      <td>YES</td>\n",
       "      <td>NaN</td>\n",
       "      <td>NaN</td>\n",
       "      <td>NaN</td>\n",
       "    </tr>\n",
       "    <tr>\n",
       "      <th>3</th>\n",
       "      <td>filepath</td>\n",
       "      <td>VARCHAR</td>\n",
       "      <td>YES</td>\n",
       "      <td>NaN</td>\n",
       "      <td>NaN</td>\n",
       "      <td>NaN</td>\n",
       "    </tr>\n",
       "    <tr>\n",
       "      <th>4</th>\n",
       "      <td>taxonomy</td>\n",
       "      <td>VARCHAR</td>\n",
       "      <td>YES</td>\n",
       "      <td>NaN</td>\n",
       "      <td>NaN</td>\n",
       "      <td>NaN</td>\n",
       "    </tr>\n",
       "    <tr>\n",
       "      <th>5</th>\n",
       "      <td>organism</td>\n",
       "      <td>VARCHAR</td>\n",
       "      <td>YES</td>\n",
       "      <td>NaN</td>\n",
       "      <td>NaN</td>\n",
       "      <td>NaN</td>\n",
       "    </tr>\n",
       "    <tr>\n",
       "      <th>6</th>\n",
       "      <td>bacdive_id</td>\n",
       "      <td>INTEGER</td>\n",
       "      <td>YES</td>\n",
       "      <td>NaN</td>\n",
       "      <td>NaN</td>\n",
       "      <td>NaN</td>\n",
       "    </tr>\n",
       "    <tr>\n",
       "      <th>7</th>\n",
       "      <td>ogt_scraped_string</td>\n",
       "      <td>VARCHAR</td>\n",
       "      <td>YES</td>\n",
       "      <td>NaN</td>\n",
       "      <td>NaN</td>\n",
       "      <td>NaN</td>\n",
       "    </tr>\n",
       "  </tbody>\n",
       "</table>\n",
       "</div>"
      ],
      "text/plain": [
       "          column_name column_type null  key default  extra\n",
       "0          taxa_index     INTEGER   NO  NaN     NaN    NaN\n",
       "1          ncbi_taxid     INTEGER   NO  NaN     NaN    NaN\n",
       "2         record_name     VARCHAR  YES  NaN     NaN    NaN\n",
       "3            filepath     VARCHAR  YES  NaN     NaN    NaN\n",
       "4            taxonomy     VARCHAR  YES  NaN     NaN    NaN\n",
       "5            organism     VARCHAR  YES  NaN     NaN    NaN\n",
       "6          bacdive_id     INTEGER  YES  NaN     NaN    NaN\n",
       "7  ogt_scraped_string     VARCHAR  YES  NaN     NaN    NaN"
      ]
     },
     "execution_count": 17,
     "metadata": {},
     "output_type": "execute_result"
    }
   ],
   "source": [
    "conn.execute(\"DESCRIBE taxa\").df()"
   ]
  },
  {
   "cell_type": "code",
   "execution_count": 25,
   "metadata": {},
   "outputs": [
    {
     "data": {
      "text/plain": [
       "<duckdb.DuckDBPyConnection at 0x1ae194070>"
      ]
     },
     "execution_count": 25,
     "metadata": {},
     "output_type": "execute_result"
    }
   ],
   "source": [
    "conn.execute(\"CREATE INDEX pkey ON taxa (taxa_index)\")"
   ]
  },
  {
   "cell_type": "code",
   "execution_count": 26,
   "metadata": {},
   "outputs": [
    {
     "data": {
      "text/html": [
       "<div>\n",
       "<style scoped>\n",
       "    .dataframe tbody tr th:only-of-type {\n",
       "        vertical-align: middle;\n",
       "    }\n",
       "\n",
       "    .dataframe tbody tr th {\n",
       "        vertical-align: top;\n",
       "    }\n",
       "\n",
       "    .dataframe thead th {\n",
       "        text-align: right;\n",
       "    }\n",
       "</style>\n",
       "<table border=\"1\" class=\"dataframe\">\n",
       "  <thead>\n",
       "    <tr style=\"text-align: right;\">\n",
       "      <th></th>\n",
       "      <th>schema_name</th>\n",
       "      <th>schema_oid</th>\n",
       "      <th>index_name</th>\n",
       "      <th>index_oid</th>\n",
       "      <th>table_name</th>\n",
       "      <th>table_oid</th>\n",
       "      <th>is_unique</th>\n",
       "      <th>is_primary</th>\n",
       "      <th>expressions</th>\n",
       "      <th>sql</th>\n",
       "    </tr>\n",
       "  </thead>\n",
       "  <tbody>\n",
       "    <tr>\n",
       "      <th>0</th>\n",
       "      <td>main</td>\n",
       "      <td>1</td>\n",
       "      <td>pkey</td>\n",
       "      <td>1334</td>\n",
       "      <td>taxa</td>\n",
       "      <td>1294</td>\n",
       "      <td>False</td>\n",
       "      <td>False</td>\n",
       "      <td>NaN</td>\n",
       "      <td>CREATE INDEX pkey ON taxa (taxa_index);</td>\n",
       "    </tr>\n",
       "  </tbody>\n",
       "</table>\n",
       "</div>"
      ],
      "text/plain": [
       "  schema_name  schema_oid index_name  index_oid table_name  table_oid  \\\n",
       "0        main           1       pkey       1334       taxa       1294   \n",
       "\n",
       "   is_unique  is_primary expressions                                      sql  \n",
       "0      False       False         NaN  CREATE INDEX pkey ON taxa (taxa_index);  "
      ]
     },
     "execution_count": 26,
     "metadata": {},
     "output_type": "execute_result"
    }
   ],
   "source": [
    "conn.execute(\"SELECT * FROM duckdb_indexes()\").df()"
   ]
  },
  {
   "cell_type": "code",
   "execution_count": 27,
   "metadata": {},
   "outputs": [
    {
     "data": {
      "text/html": [
       "<div>\n",
       "<style scoped>\n",
       "    .dataframe tbody tr th:only-of-type {\n",
       "        vertical-align: middle;\n",
       "    }\n",
       "\n",
       "    .dataframe tbody tr th {\n",
       "        vertical-align: top;\n",
       "    }\n",
       "\n",
       "    .dataframe thead th {\n",
       "        text-align: right;\n",
       "    }\n",
       "</style>\n",
       "<table border=\"1\" class=\"dataframe\">\n",
       "  <thead>\n",
       "    <tr style=\"text-align: right;\">\n",
       "      <th></th>\n",
       "      <th>schema_name</th>\n",
       "      <th>schema_oid</th>\n",
       "      <th>table_name</th>\n",
       "      <th>table_oid</th>\n",
       "      <th>constraint_index</th>\n",
       "      <th>constraint_type</th>\n",
       "      <th>constraint_text</th>\n",
       "      <th>expression</th>\n",
       "      <th>constraint_column_indexes</th>\n",
       "      <th>constraint_column_names</th>\n",
       "    </tr>\n",
       "  </thead>\n",
       "  <tbody>\n",
       "    <tr>\n",
       "      <th>0</th>\n",
       "      <td>main</td>\n",
       "      <td>1</td>\n",
       "      <td>taxa</td>\n",
       "      <td>1294</td>\n",
       "      <td>0</td>\n",
       "      <td>PRIMARY KEY</td>\n",
       "      <td>PRIMARY KEY(taxa_index)</td>\n",
       "      <td>NaN</td>\n",
       "      <td>[0]</td>\n",
       "      <td>[taxa_index]</td>\n",
       "    </tr>\n",
       "    <tr>\n",
       "      <th>1</th>\n",
       "      <td>main</td>\n",
       "      <td>1</td>\n",
       "      <td>taxa</td>\n",
       "      <td>1294</td>\n",
       "      <td>1</td>\n",
       "      <td>NOT NULL</td>\n",
       "      <td>NOT NULL</td>\n",
       "      <td>NaN</td>\n",
       "      <td>[0]</td>\n",
       "      <td>[taxa_index]</td>\n",
       "    </tr>\n",
       "    <tr>\n",
       "      <th>2</th>\n",
       "      <td>main</td>\n",
       "      <td>1</td>\n",
       "      <td>taxa</td>\n",
       "      <td>1294</td>\n",
       "      <td>2</td>\n",
       "      <td>NOT NULL</td>\n",
       "      <td>NOT NULL</td>\n",
       "      <td>NaN</td>\n",
       "      <td>[1]</td>\n",
       "      <td>[ncbi_taxid]</td>\n",
       "    </tr>\n",
       "  </tbody>\n",
       "</table>\n",
       "</div>"
      ],
      "text/plain": [
       "  schema_name  schema_oid table_name  table_oid  constraint_index  \\\n",
       "0        main           1       taxa       1294                 0   \n",
       "1        main           1       taxa       1294                 1   \n",
       "2        main           1       taxa       1294                 2   \n",
       "\n",
       "  constraint_type          constraint_text expression  \\\n",
       "0     PRIMARY KEY  PRIMARY KEY(taxa_index)        NaN   \n",
       "1        NOT NULL                 NOT NULL        NaN   \n",
       "2        NOT NULL                 NOT NULL        NaN   \n",
       "\n",
       "  constraint_column_indexes constraint_column_names  \n",
       "0                       [0]            [taxa_index]  \n",
       "1                       [0]            [taxa_index]  \n",
       "2                       [1]            [ncbi_taxid]  "
      ]
     },
     "execution_count": 27,
     "metadata": {},
     "output_type": "execute_result"
    }
   ],
   "source": [
    "conn.execute(\"SELECT * FROM duckdb_constraints()\").df()"
   ]
  },
  {
   "cell_type": "markdown",
   "metadata": {},
   "source": [
    "## 5. Do a foreign key assignment"
   ]
  },
  {
   "cell_type": "code",
   "execution_count": 30,
   "metadata": {},
   "outputs": [
    {
     "data": {
      "text/plain": [
       "<duckdb.DuckDBPyConnection at 0x1ae194070>"
      ]
     },
     "execution_count": 30,
     "metadata": {},
     "output_type": "execute_result"
    }
   ],
   "source": [
    "conn.execute(\"\"\"\n",
    "CREATE OR REPLACE TABLE taxa(\n",
    "    taxa_index INT PRIMARY KEY NOT NULL,\n",
    "    ncbi_taxid INT NOT NULL,\n",
    "    record_name STRING,\n",
    "    filepath STRING,\n",
    "    taxonomy STRING,\n",
    "    organism STRING,\n",
    "    bacdive_id INT,\n",
    "    ogt_scraped_string STRING\n",
    ")\n",
    "\"\"\")\n",
    "conn.execute(\"\"\"\n",
    "CREATE OR REPLACE TABLE taxa_16s(\n",
    "    taxa_index INT PRIMARY KEY NOT NULL,\n",
    "    seq_16srRNA STRING,\n",
    "    FOREIGN KEY (taxa_index) REFERENCES taxa(taxa_index) \n",
    ")\"\"\")"
   ]
  },
  {
   "cell_type": "markdown",
   "metadata": {},
   "source": [
    "Fill in the taxa table"
   ]
  },
  {
   "cell_type": "code",
   "execution_count": 31,
   "metadata": {},
   "outputs": [
    {
     "data": {
      "text/plain": [
       "<duckdb.DuckDBPyConnection at 0x1ae194070>"
      ]
     },
     "execution_count": 31,
     "metadata": {},
     "output_type": "execute_result"
    }
   ],
   "source": [
    "conn.execute(\"\"\"CREATE OR REPLACE TEMP TABLE taxa_tmp AS \n",
    "        SELECT\n",
    "            \"column0\"::INT AS taxa_index,\n",
    "            \"taxid\"::INT AS ncbi_taxid,\n",
    "            \"record_name\"::STRING AS record_name,\n",
    "            \"filepath\"::STRING AS filepath,\n",
    "            \"taxonomy\"::STRING AS taxonomy,\n",
    "            \"organism\"::STRING AS organism,\n",
    "            \"bacdive_id\"::INT AS bacdive_id,\n",
    "            \"ogt_raw\":: STRING AS ogt_scraped_string\n",
    "        FROM read_csv_auto('../data/taxa/taxa_info_and_ogt.csv', header=True)\"\"\")\n",
    "conn.execute(\"COPY taxa_tmp TO 'taxa_tmp.csv' (HEADER)\")\n",
    "conn.execute(\"COPY taxa FROM 'taxa_tmp.csv' ( HEADER )\")"
   ]
  },
  {
   "cell_type": "markdown",
   "metadata": {},
   "source": [
    "now fill in the 16s table"
   ]
  },
  {
   "cell_type": "code",
   "execution_count": 33,
   "metadata": {},
   "outputs": [
    {
     "data": {
      "text/plain": [
       "<duckdb.DuckDBPyConnection at 0x1ae194070>"
      ]
     },
     "execution_count": 33,
     "metadata": {},
     "output_type": "execute_result"
    }
   ],
   "source": [
    "conn.execute(\"COPY taxa_16s FROM '../data/taxa/16s_rRNA.csv' ( HEADER , NULLSTR 'None')\")"
   ]
  },
  {
   "cell_type": "markdown",
   "metadata": {},
   "source": [
    "Try to execute an inner join"
   ]
  },
  {
   "cell_type": "code",
   "execution_count": 49,
   "metadata": {},
   "outputs": [],
   "source": [
    "df = conn.execute(\"\"\"\n",
    "    SELECT (taxa_16s.seq_16srRNA, taxa.ncbi_taxid)\n",
    "        FROM taxa_16s INNER JOIN taxa\n",
    "        ON taxa_16s.taxa_index = taxa.taxa_index\n",
    "    WHERE taxa.ncbi_taxid<100000\n",
    "\"\"\").df()"
   ]
  },
  {
   "cell_type": "code",
   "execution_count": 53,
   "metadata": {},
   "outputs": [],
   "source": [
    "df = df['main.row(taxa_16s.\"seq_16srRNA\", taxa.ncbi_taxid)'].apply(pd.Series)"
   ]
  },
  {
   "cell_type": "code",
   "execution_count": 57,
   "metadata": {},
   "outputs": [
    {
     "data": {
      "text/plain": [
       "seq_16srRNA    0\n",
       "ncbi_taxid     0\n",
       "dtype: int64"
      ]
     },
     "execution_count": 57,
     "metadata": {},
     "output_type": "execute_result"
    }
   ],
   "source": [
    "df.isna().sum()"
   ]
  },
  {
   "cell_type": "code",
   "execution_count": 67,
   "metadata": {},
   "outputs": [],
   "source": [
    "df = conn.execute(\"\"\"\n",
    "    SELECT (taxa_16s.seq_16srRNA)\n",
    "        FROM taxa_16s INNER JOIN taxa\n",
    "        ON taxa_16s.taxa_index = taxa.taxa_index\n",
    "    WHERE taxa.ncbi_taxid<1000000\n",
    "\"\"\").df()"
   ]
  },
  {
   "cell_type": "code",
   "execution_count": 68,
   "metadata": {},
   "outputs": [
    {
     "data": {
      "text/plain": [
       "0"
      ]
     },
     "execution_count": 68,
     "metadata": {},
     "output_type": "execute_result"
    }
   ],
   "source": [
    "(df['seq_16srRNA'].apply(len) == 0).sum()"
   ]
  },
  {
   "cell_type": "markdown",
   "metadata": {},
   "source": [
    "where are the taxa without sequances?"
   ]
  },
  {
   "cell_type": "code",
   "execution_count": 77,
   "metadata": {},
   "outputs": [
    {
     "data": {
      "text/html": [
       "<div>\n",
       "<style scoped>\n",
       "    .dataframe tbody tr th:only-of-type {\n",
       "        vertical-align: middle;\n",
       "    }\n",
       "\n",
       "    .dataframe tbody tr th {\n",
       "        vertical-align: top;\n",
       "    }\n",
       "\n",
       "    .dataframe thead th {\n",
       "        text-align: right;\n",
       "    }\n",
       "</style>\n",
       "<table border=\"1\" class=\"dataframe\">\n",
       "  <thead>\n",
       "    <tr style=\"text-align: right;\">\n",
       "      <th></th>\n",
       "      <th>taxa_index</th>\n",
       "      <th>seq_16srRNA</th>\n",
       "    </tr>\n",
       "  </thead>\n",
       "  <tbody>\n",
       "    <tr>\n",
       "      <th>0</th>\n",
       "      <td>0</td>\n",
       "      <td>ACGATGGAGAGTTTGATCCTGGCTCAGGATGAACGCTAGCGGCAGG...</td>\n",
       "    </tr>\n",
       "    <tr>\n",
       "      <th>1</th>\n",
       "      <td>2</td>\n",
       "      <td>CAACTTGAGAGTTTGATCCTGGCTCAGAGCGAACGCTGGCGGCAGG...</td>\n",
       "    </tr>\n",
       "    <tr>\n",
       "      <th>2</th>\n",
       "      <td>1</td>\n",
       "      <td>TCAACGGAGAGTTTGATCCTGGCTCAGGACGAACGCTGGCGGCGTG...</td>\n",
       "    </tr>\n",
       "    <tr>\n",
       "      <th>3</th>\n",
       "      <td>4</td>\n",
       "      <td>CAAATGGAGAGTTTGATCCTGGCTCAGGATGAACGCTGGCGGCATG...</td>\n",
       "    </tr>\n",
       "    <tr>\n",
       "      <th>4</th>\n",
       "      <td>11</td>\n",
       "      <td>GAACCTGAGAGTTTGATCCTGGCTCAGAGCGAACGCTGGCGGCATG...</td>\n",
       "    </tr>\n",
       "    <tr>\n",
       "      <th>5</th>\n",
       "      <td>8</td>\n",
       "      <td>None</td>\n",
       "    </tr>\n",
       "    <tr>\n",
       "      <th>6</th>\n",
       "      <td>10</td>\n",
       "      <td>CAACTAAAGAGTTTGATCCTGGCTCAGATTGAACGCTGGCGGCATG...</td>\n",
       "    </tr>\n",
       "    <tr>\n",
       "      <th>7</th>\n",
       "      <td>7</td>\n",
       "      <td>ACAATGGAGAGTTTGATCCTGGCTCAGGATGAACGCTAGCGGGAGG...</td>\n",
       "    </tr>\n",
       "    <tr>\n",
       "      <th>8</th>\n",
       "      <td>5</td>\n",
       "      <td>TTGTTGGAGAGTTTGATCCTGGCTCAGGACGAACGCTGGCGGCGTG...</td>\n",
       "    </tr>\n",
       "    <tr>\n",
       "      <th>9</th>\n",
       "      <td>6</td>\n",
       "      <td>GAACTGAAGAGTTTGATCCTGGCTCAGATTGAACGCTGGCGGCATG...</td>\n",
       "    </tr>\n",
       "  </tbody>\n",
       "</table>\n",
       "</div>"
      ],
      "text/plain": [
       "   taxa_index                                        seq_16srRNA\n",
       "0           0  ACGATGGAGAGTTTGATCCTGGCTCAGGATGAACGCTAGCGGCAGG...\n",
       "1           2  CAACTTGAGAGTTTGATCCTGGCTCAGAGCGAACGCTGGCGGCAGG...\n",
       "2           1  TCAACGGAGAGTTTGATCCTGGCTCAGGACGAACGCTGGCGGCGTG...\n",
       "3           4  CAAATGGAGAGTTTGATCCTGGCTCAGGATGAACGCTGGCGGCATG...\n",
       "4          11  GAACCTGAGAGTTTGATCCTGGCTCAGAGCGAACGCTGGCGGCATG...\n",
       "5           8                                               None\n",
       "6          10  CAACTAAAGAGTTTGATCCTGGCTCAGATTGAACGCTGGCGGCATG...\n",
       "7           7  ACAATGGAGAGTTTGATCCTGGCTCAGGATGAACGCTAGCGGGAGG...\n",
       "8           5  TTGTTGGAGAGTTTGATCCTGGCTCAGGACGAACGCTGGCGGCGTG...\n",
       "9           6  GAACTGAAGAGTTTGATCCTGGCTCAGATTGAACGCTGGCGGCATG..."
      ]
     },
     "execution_count": 77,
     "metadata": {},
     "output_type": "execute_result"
    }
   ],
   "source": [
    "conn.execute(\"\"\"\n",
    "    SELECT * FROM taxa_16s\n",
    "    LIMIT 10 \n",
    "\"\"\").df()"
   ]
  },
  {
   "cell_type": "markdown",
   "metadata": {},
   "source": [
    "they are there, but dissappeared when we inner joined?"
   ]
  },
  {
   "cell_type": "code",
   "execution_count": 79,
   "metadata": {},
   "outputs": [
    {
     "data": {
      "text/html": [
       "<div>\n",
       "<style scoped>\n",
       "    .dataframe tbody tr th:only-of-type {\n",
       "        vertical-align: middle;\n",
       "    }\n",
       "\n",
       "    .dataframe tbody tr th {\n",
       "        vertical-align: top;\n",
       "    }\n",
       "\n",
       "    .dataframe thead th {\n",
       "        text-align: right;\n",
       "    }\n",
       "</style>\n",
       "<table border=\"1\" class=\"dataframe\">\n",
       "  <thead>\n",
       "    <tr style=\"text-align: right;\">\n",
       "      <th></th>\n",
       "      <th>seq_16srRNA</th>\n",
       "    </tr>\n",
       "  </thead>\n",
       "  <tbody>\n",
       "    <tr>\n",
       "      <th>0</th>\n",
       "      <td>None</td>\n",
       "    </tr>\n",
       "  </tbody>\n",
       "</table>\n",
       "</div>"
      ],
      "text/plain": [
       "  seq_16srRNA\n",
       "0        None"
      ]
     },
     "execution_count": 79,
     "metadata": {},
     "output_type": "execute_result"
    }
   ],
   "source": [
    "conn.execute(\"\"\"\n",
    "    SELECT (taxa_16s.seq_16srRNA)\n",
    "        FROM taxa_16s INNER JOIN taxa\n",
    "        ON taxa_16s.taxa_index = taxa.taxa_index\n",
    "    WHERE taxa_16s.taxa_index=8\n",
    "\"\"\").df()"
   ]
  },
  {
   "cell_type": "code",
   "execution_count": 85,
   "metadata": {},
   "outputs": [],
   "source": [
    "df = conn.execute(\"\"\"\n",
    "    SELECT taxa.taxa_index, taxa_16s.seq_16srRNA\n",
    "        FROM taxa_16s INNER JOIN taxa\n",
    "        ON taxa_16s.taxa_index = taxa.taxa_index\n",
    "\"\"\").df()"
   ]
  },
  {
   "cell_type": "code",
   "execution_count": 86,
   "metadata": {},
   "outputs": [
    {
     "data": {
      "text/html": [
       "<div>\n",
       "<style scoped>\n",
       "    .dataframe tbody tr th:only-of-type {\n",
       "        vertical-align: middle;\n",
       "    }\n",
       "\n",
       "    .dataframe tbody tr th {\n",
       "        vertical-align: top;\n",
       "    }\n",
       "\n",
       "    .dataframe thead th {\n",
       "        text-align: right;\n",
       "    }\n",
       "</style>\n",
       "<table border=\"1\" class=\"dataframe\">\n",
       "  <thead>\n",
       "    <tr style=\"text-align: right;\">\n",
       "      <th></th>\n",
       "      <th>taxa_index</th>\n",
       "      <th>seq_16srRNA</th>\n",
       "    </tr>\n",
       "  </thead>\n",
       "  <tbody>\n",
       "    <tr>\n",
       "      <th>0</th>\n",
       "      <td>0</td>\n",
       "      <td>ACGATGGAGAGTTTGATCCTGGCTCAGGATGAACGCTAGCGGCAGG...</td>\n",
       "    </tr>\n",
       "    <tr>\n",
       "      <th>1</th>\n",
       "      <td>2</td>\n",
       "      <td>CAACTTGAGAGTTTGATCCTGGCTCAGAGCGAACGCTGGCGGCAGG...</td>\n",
       "    </tr>\n",
       "    <tr>\n",
       "      <th>2</th>\n",
       "      <td>1</td>\n",
       "      <td>TCAACGGAGAGTTTGATCCTGGCTCAGGACGAACGCTGGCGGCGTG...</td>\n",
       "    </tr>\n",
       "    <tr>\n",
       "      <th>3</th>\n",
       "      <td>4</td>\n",
       "      <td>CAAATGGAGAGTTTGATCCTGGCTCAGGATGAACGCTGGCGGCATG...</td>\n",
       "    </tr>\n",
       "    <tr>\n",
       "      <th>4</th>\n",
       "      <td>11</td>\n",
       "      <td>GAACCTGAGAGTTTGATCCTGGCTCAGAGCGAACGCTGGCGGCATG...</td>\n",
       "    </tr>\n",
       "    <tr>\n",
       "      <th>5</th>\n",
       "      <td>8</td>\n",
       "      <td>None</td>\n",
       "    </tr>\n",
       "    <tr>\n",
       "      <th>6</th>\n",
       "      <td>10</td>\n",
       "      <td>CAACTAAAGAGTTTGATCCTGGCTCAGATTGAACGCTGGCGGCATG...</td>\n",
       "    </tr>\n",
       "    <tr>\n",
       "      <th>7</th>\n",
       "      <td>7</td>\n",
       "      <td>ACAATGGAGAGTTTGATCCTGGCTCAGGATGAACGCTAGCGGGAGG...</td>\n",
       "    </tr>\n",
       "    <tr>\n",
       "      <th>8</th>\n",
       "      <td>5</td>\n",
       "      <td>TTGTTGGAGAGTTTGATCCTGGCTCAGGACGAACGCTGGCGGCGTG...</td>\n",
       "    </tr>\n",
       "    <tr>\n",
       "      <th>9</th>\n",
       "      <td>6</td>\n",
       "      <td>GAACTGAAGAGTTTGATCCTGGCTCAGATTGAACGCTGGCGGCATG...</td>\n",
       "    </tr>\n",
       "  </tbody>\n",
       "</table>\n",
       "</div>"
      ],
      "text/plain": [
       "   taxa_index                                        seq_16srRNA\n",
       "0           0  ACGATGGAGAGTTTGATCCTGGCTCAGGATGAACGCTAGCGGCAGG...\n",
       "1           2  CAACTTGAGAGTTTGATCCTGGCTCAGAGCGAACGCTGGCGGCAGG...\n",
       "2           1  TCAACGGAGAGTTTGATCCTGGCTCAGGACGAACGCTGGCGGCGTG...\n",
       "3           4  CAAATGGAGAGTTTGATCCTGGCTCAGGATGAACGCTGGCGGCATG...\n",
       "4          11  GAACCTGAGAGTTTGATCCTGGCTCAGAGCGAACGCTGGCGGCATG...\n",
       "5           8                                               None\n",
       "6          10  CAACTAAAGAGTTTGATCCTGGCTCAGATTGAACGCTGGCGGCATG...\n",
       "7           7  ACAATGGAGAGTTTGATCCTGGCTCAGGATGAACGCTAGCGGGAGG...\n",
       "8           5  TTGTTGGAGAGTTTGATCCTGGCTCAGGACGAACGCTGGCGGCGTG...\n",
       "9           6  GAACTGAAGAGTTTGATCCTGGCTCAGATTGAACGCTGGCGGCATG..."
      ]
     },
     "execution_count": 86,
     "metadata": {},
     "output_type": "execute_result"
    }
   ],
   "source": [
    "df.head(10)"
   ]
  },
  {
   "cell_type": "markdown",
   "metadata": {},
   "source": [
    "All looks good..."
   ]
  },
  {
   "cell_type": "markdown",
   "metadata": {},
   "source": [
    "## 6. Do operations on proteins to extract taxa id"
   ]
  },
  {
   "cell_type": "code",
   "execution_count": 38,
   "metadata": {},
   "outputs": [],
   "source": [
    "test = conn.execute(\"\"\"SELECT \n",
    "    substr(seq_id, 0, strpos(seq_id, '.'))::INT AS col \n",
    "FROM read_csv('../data/taxa/proteins/*.csv', auto_detect=False, header=True, sep=';', columns={'seq_id': 'VARCHAR', 'protein_seq': 'STRING', 'protein_desc': 'STRING', 'protein_len': 'INT'})\n",
    "LIMIT 11\n",
    "\"\"\").df()"
   ]
  },
  {
   "cell_type": "code",
   "execution_count": 39,
   "metadata": {},
   "outputs": [
    {
     "data": {
      "text/html": [
       "<div>\n",
       "<style scoped>\n",
       "    .dataframe tbody tr th:only-of-type {\n",
       "        vertical-align: middle;\n",
       "    }\n",
       "\n",
       "    .dataframe tbody tr th {\n",
       "        vertical-align: top;\n",
       "    }\n",
       "\n",
       "    .dataframe thead th {\n",
       "        text-align: right;\n",
       "    }\n",
       "</style>\n",
       "<table border=\"1\" class=\"dataframe\">\n",
       "  <thead>\n",
       "    <tr style=\"text-align: right;\">\n",
       "      <th></th>\n",
       "      <th>col</th>\n",
       "    </tr>\n",
       "  </thead>\n",
       "  <tbody>\n",
       "    <tr>\n",
       "      <th>0</th>\n",
       "      <td>4417</td>\n",
       "    </tr>\n",
       "    <tr>\n",
       "      <th>1</th>\n",
       "      <td>4417</td>\n",
       "    </tr>\n",
       "    <tr>\n",
       "      <th>2</th>\n",
       "      <td>4417</td>\n",
       "    </tr>\n",
       "    <tr>\n",
       "      <th>3</th>\n",
       "      <td>4417</td>\n",
       "    </tr>\n",
       "    <tr>\n",
       "      <th>4</th>\n",
       "      <td>4417</td>\n",
       "    </tr>\n",
       "    <tr>\n",
       "      <th>5</th>\n",
       "      <td>4417</td>\n",
       "    </tr>\n",
       "    <tr>\n",
       "      <th>6</th>\n",
       "      <td>4417</td>\n",
       "    </tr>\n",
       "    <tr>\n",
       "      <th>7</th>\n",
       "      <td>4417</td>\n",
       "    </tr>\n",
       "    <tr>\n",
       "      <th>8</th>\n",
       "      <td>4417</td>\n",
       "    </tr>\n",
       "    <tr>\n",
       "      <th>9</th>\n",
       "      <td>4417</td>\n",
       "    </tr>\n",
       "    <tr>\n",
       "      <th>10</th>\n",
       "      <td>4417</td>\n",
       "    </tr>\n",
       "  </tbody>\n",
       "</table>\n",
       "</div>"
      ],
      "text/plain": [
       "     col\n",
       "0   4417\n",
       "1   4417\n",
       "2   4417\n",
       "3   4417\n",
       "4   4417\n",
       "5   4417\n",
       "6   4417\n",
       "7   4417\n",
       "8   4417\n",
       "9   4417\n",
       "10  4417"
      ]
     },
     "execution_count": 39,
     "metadata": {},
     "output_type": "execute_result"
    }
   ],
   "source": [
    "test"
   ]
  },
  {
   "cell_type": "markdown",
   "metadata": {},
   "source": [
    "## 7. Put together entire schema"
   ]
  },
  {
   "cell_type": "code",
   "execution_count": 58,
   "metadata": {},
   "outputs": [],
   "source": [
    "conn = ddb.connect(database=\"./dbs/test_db\")"
   ]
  },
  {
   "cell_type": "markdown",
   "metadata": {},
   "source": [
    "### TAXA"
   ]
  },
  {
   "cell_type": "markdown",
   "metadata": {},
   "source": [
    "#### Schema for final table"
   ]
  },
  {
   "cell_type": "code",
   "execution_count": 4,
   "metadata": {},
   "outputs": [
    {
     "data": {
      "text/plain": [
       "<duckdb.DuckDBPyConnection at 0x118ac9e70>"
      ]
     },
     "execution_count": 4,
     "metadata": {},
     "output_type": "execute_result"
    }
   ],
   "source": [
    "# schema for taxa\n",
    "conn.execute(\"\"\"\n",
    "CREATE OR REPLACE TABLE taxa(\n",
    "    taxa_index INT PRIMARY KEY NOT NULL,\n",
    "    ncbi_taxid INT NOT NULL,\n",
    "    record_name STRING,\n",
    "    filepath STRING,\n",
    "    taxonomy STRING,\n",
    "    organism STRING,\n",
    "    bacdive_id INT,\n",
    "    ogt_scraped_string STRING,\n",
    "    seq_16srRNA STRING,\n",
    "    len_16s INT,\n",
    "    ogt FLOAT,\n",
    "    thermophile_label BOOL,\n",
    ")\n",
    "\"\"\")"
   ]
  },
  {
   "cell_type": "markdown",
   "metadata": {},
   "source": [
    "#### Create temp tables for each of the three taxa related files"
   ]
  },
  {
   "cell_type": "code",
   "execution_count": 5,
   "metadata": {},
   "outputs": [
    {
     "data": {
      "text/plain": [
       "<duckdb.DuckDBPyConnection at 0x118ac9e70>"
      ]
     },
     "execution_count": 5,
     "metadata": {},
     "output_type": "execute_result"
    }
   ],
   "source": [
    "conn.execute(\"\"\"CREATE OR REPLACE TEMP TABLE taxa_tmp AS \n",
    "    SELECT\n",
    "        \"column0\"::INT AS taxa_index,\n",
    "        \"taxid\"::INT AS ncbi_taxid,\n",
    "        \"record_name\"::STRING AS record_name,\n",
    "        \"filepath\"::STRING AS filepath,\n",
    "        \"taxonomy\"::STRING AS taxonomy,\n",
    "        \"organism\"::STRING AS organism,\n",
    "        \"bacdive_id\"::INT AS bacdive_id,\n",
    "        \"ogt_raw\":: STRING AS ogt_scraped_string\n",
    "    FROM read_csv_auto('../data/taxa/taxa_info_and_ogt.csv', header=True)\"\"\")"
   ]
  },
  {
   "cell_type": "code",
   "execution_count": 6,
   "metadata": {},
   "outputs": [
    {
     "data": {
      "text/plain": [
       "<duckdb.DuckDBPyConnection at 0x118ac9e70>"
      ]
     },
     "execution_count": 6,
     "metadata": {},
     "output_type": "execute_result"
    }
   ],
   "source": [
    "conn.execute(\"\"\"CREATE OR REPLACE TEMP TABLE taxa_16s_tmp AS \n",
    "    SELECT \n",
    "        \"taxa_index\"::INT AS taxa_index_1,\n",
    "        \"seq_16srRNA\"::STRING AS seq_16srRNA,\n",
    "        length(seq_16srRNA)::INT as len_16s\n",
    "    FROM read_csv_auto('../data/taxa/16s_rRNA.csv', header=True, nullstr='None')\"\"\")"
   ]
  },
  {
   "cell_type": "code",
   "execution_count": 7,
   "metadata": {},
   "outputs": [
    {
     "data": {
      "text/plain": [
       "<duckdb.DuckDBPyConnection at 0x118ac9e70>"
      ]
     },
     "execution_count": 7,
     "metadata": {},
     "output_type": "execute_result"
    }
   ],
   "source": [
    "conn.execute(\"\"\"CREATE OR REPLACE TEMP TABLE taxa_labels_tmp AS \n",
    "    SELECT *\n",
    "    FROM read_csv_auto('../data/taxa/labels.csv', header=True)\"\"\")"
   ]
  },
  {
   "cell_type": "markdown",
   "metadata": {},
   "source": [
    "#### inner join table into taxa file"
   ]
  },
  {
   "cell_type": "code",
   "execution_count": 8,
   "metadata": {},
   "outputs": [
    {
     "data": {
      "text/html": [
       "<div>\n",
       "<style scoped>\n",
       "    .dataframe tbody tr th:only-of-type {\n",
       "        vertical-align: middle;\n",
       "    }\n",
       "\n",
       "    .dataframe tbody tr th {\n",
       "        vertical-align: top;\n",
       "    }\n",
       "\n",
       "    .dataframe thead th {\n",
       "        text-align: right;\n",
       "    }\n",
       "</style>\n",
       "<table border=\"1\" class=\"dataframe\">\n",
       "  <thead>\n",
       "    <tr style=\"text-align: right;\">\n",
       "      <th></th>\n",
       "      <th>Count</th>\n",
       "    </tr>\n",
       "  </thead>\n",
       "  <tbody>\n",
       "    <tr>\n",
       "      <th>0</th>\n",
       "      <td>16664</td>\n",
       "    </tr>\n",
       "  </tbody>\n",
       "</table>\n",
       "</div>"
      ],
      "text/plain": [
       "   Count\n",
       "0  16664"
      ]
     },
     "execution_count": 8,
     "metadata": {},
     "output_type": "execute_result"
    }
   ],
   "source": [
    "conn.execute(\"\"\"\n",
    "    COPY (SELECT * EXCLUDE (column0, taxa_index_1) FROM taxa_tmp\n",
    "        INNER JOIN taxa_16s_tmp ON (taxa_tmp.taxa_index=taxa_16s_tmp.taxa_index_1)\n",
    "        INNER JOIN taxa_labels_tmp ON (taxa_tmp.taxa_index=taxa_labels_tmp.column0))\n",
    "    TO 'taxa_joined.csv' WITH (HEADER 1, DELIMITER '|')\n",
    "\"\"\").df()"
   ]
  },
  {
   "cell_type": "code",
   "execution_count": 9,
   "metadata": {},
   "outputs": [
    {
     "data": {
      "text/plain": [
       "<duckdb.DuckDBPyConnection at 0x118ac9e70>"
      ]
     },
     "execution_count": 9,
     "metadata": {},
     "output_type": "execute_result"
    }
   ],
   "source": [
    "conn.execute(\"\"\"\n",
    "    COPY taxa FROM 'taxa_joined.csv' ( HEADER, DELIMITER '|' )\"\"\")"
   ]
  },
  {
   "cell_type": "code",
   "execution_count": 10,
   "metadata": {},
   "outputs": [
    {
     "data": {
      "text/html": [
       "<div>\n",
       "<style scoped>\n",
       "    .dataframe tbody tr th:only-of-type {\n",
       "        vertical-align: middle;\n",
       "    }\n",
       "\n",
       "    .dataframe tbody tr th {\n",
       "        vertical-align: top;\n",
       "    }\n",
       "\n",
       "    .dataframe thead th {\n",
       "        text-align: right;\n",
       "    }\n",
       "</style>\n",
       "<table border=\"1\" class=\"dataframe\">\n",
       "  <thead>\n",
       "    <tr style=\"text-align: right;\">\n",
       "      <th></th>\n",
       "      <th>taxa_index</th>\n",
       "      <th>ncbi_taxid</th>\n",
       "      <th>record_name</th>\n",
       "      <th>filepath</th>\n",
       "      <th>taxonomy</th>\n",
       "      <th>organism</th>\n",
       "      <th>bacdive_id</th>\n",
       "      <th>ogt_scraped_string</th>\n",
       "      <th>seq_16srRNA</th>\n",
       "      <th>len_16s</th>\n",
       "      <th>ogt</th>\n",
       "      <th>thermophile_label</th>\n",
       "    </tr>\n",
       "  </thead>\n",
       "  <tbody>\n",
       "    <tr>\n",
       "      <th>0</th>\n",
       "      <td>0</td>\n",
       "      <td>1968276</td>\n",
       "      <td>NZ_JAAFZH010000001</td>\n",
       "      <td>./data/refseq/bacteria/GCF_010435915.1_ASM1043...</td>\n",
       "      <td>Bacteria Bacteroidetes Cytophagia Cytophagales...</td>\n",
       "      <td>Spirosoma terrae</td>\n",
       "      <td>164169.0</td>\n",
       "      <td>{'growth': ['25'], 'max': None, 'min': None}</td>\n",
       "      <td>ACGATGGAGAGTTTGATCCTGGCTCAGGATGAACGCTAGCGGCAGG...</td>\n",
       "      <td>79.0</td>\n",
       "      <td>NaN</td>\n",
       "      <td>NaN</td>\n",
       "    </tr>\n",
       "    <tr>\n",
       "      <th>1</th>\n",
       "      <td>1</td>\n",
       "      <td>132919</td>\n",
       "      <td>NZ_FNTL01000005</td>\n",
       "      <td>./data/refseq/bacteria/GCF_900105375.1_IMG-tax...</td>\n",
       "      <td>Bacteria Actinobacteria Corynebacteriales Noca...</td>\n",
       "      <td>Rhodococcus jostii</td>\n",
       "      <td>11034.0</td>\n",
       "      <td>{'growth': ['28', '30', '28'], 'max': None, 'm...</td>\n",
       "      <td>TCAACGGAGAGTTTGATCCTGGCTCAGGACGAACGCTGGCGGCGTG...</td>\n",
       "      <td>1518.0</td>\n",
       "      <td>NaN</td>\n",
       "      <td>NaN</td>\n",
       "    </tr>\n",
       "    <tr>\n",
       "      <th>2</th>\n",
       "      <td>2</td>\n",
       "      <td>1654716</td>\n",
       "      <td>NZ_LGTB01000001</td>\n",
       "      <td>./data/refseq/bacteria/GCF_001238275.1_ASM1238...</td>\n",
       "      <td>Bacteria Proteobacteria Alphaproteobacteria Hy...</td>\n",
       "      <td>Bradyrhizobium viridifuturi</td>\n",
       "      <td>168770.0</td>\n",
       "      <td>NaN</td>\n",
       "      <td>CAACTTGAGAGTTTGATCCTGGCTCAGAGCGAACGCTGGCGGCAGG...</td>\n",
       "      <td>1489.0</td>\n",
       "      <td>NaN</td>\n",
       "      <td>NaN</td>\n",
       "    </tr>\n",
       "    <tr>\n",
       "      <th>3</th>\n",
       "      <td>3</td>\n",
       "      <td>1181879</td>\n",
       "      <td>NZ_JACHMG010000001</td>\n",
       "      <td>./data/refseq/bacteria/GCF_014204865.1_ASM1420...</td>\n",
       "      <td>Bacteria Actinobacteria Pseudonocardiales Pseu...</td>\n",
       "      <td>Amycolatopsis jiangsuensis</td>\n",
       "      <td>23214.0</td>\n",
       "      <td>{'growth': ['28', '28'], 'max': None, 'min': N...</td>\n",
       "      <td>TTGTTGGAGAGTTTGATCCTGGCTCAGGACGAACGCTGGCGGCGTG...</td>\n",
       "      <td>1519.0</td>\n",
       "      <td>NaN</td>\n",
       "      <td>NaN</td>\n",
       "    </tr>\n",
       "    <tr>\n",
       "      <th>4</th>\n",
       "      <td>4</td>\n",
       "      <td>31971</td>\n",
       "      <td>NZ_CABKNA010000001</td>\n",
       "      <td>./data/refseq/bacteria/GCF_902373665.1_MGYG-HG...</td>\n",
       "      <td>Bacteria Firmicutes Erysipelotrichia Erysipelo...</td>\n",
       "      <td>Amedibacillus dolichus</td>\n",
       "      <td>5424.0</td>\n",
       "      <td>{'growth': ['37', '37'], 'max': None, 'min': N...</td>\n",
       "      <td>CAAATGGAGAGTTTGATCCTGGCTCAGGATGAACGCTGGCGGCATG...</td>\n",
       "      <td>1540.0</td>\n",
       "      <td>NaN</td>\n",
       "      <td>NaN</td>\n",
       "    </tr>\n",
       "    <tr>\n",
       "      <th>5</th>\n",
       "      <td>5</td>\n",
       "      <td>1763543</td>\n",
       "      <td>NZ_BMNB01000001</td>\n",
       "      <td>./data/refseq/bacteria/GCF_014646235.1_ASM1464...</td>\n",
       "      <td>Bacteria Actinobacteria Micromonosporales Micr...</td>\n",
       "      <td>Verrucosispora sonchi</td>\n",
       "      <td>132025.0</td>\n",
       "      <td>28</td>\n",
       "      <td>TTGTTGGAGAGTTTGATCCTGGCTCAGGACGAACGCTGGCGGCGTG...</td>\n",
       "      <td>1517.0</td>\n",
       "      <td>28.0</td>\n",
       "      <td>False</td>\n",
       "    </tr>\n",
       "    <tr>\n",
       "      <th>6</th>\n",
       "      <td>6</td>\n",
       "      <td>305</td>\n",
       "      <td>NZ_CP088237</td>\n",
       "      <td>./data/refseq/bacteria/GCF_021117135.1_ASM2111...</td>\n",
       "      <td>Bacteria Proteobacteria Betaproteobacteria Bur...</td>\n",
       "      <td>Ralstonia solanacearum</td>\n",
       "      <td>NaN</td>\n",
       "      <td>NaN</td>\n",
       "      <td>GAACTGAAGAGTTTGATCCTGGCTCAGATTGAACGCTGGCGGCATG...</td>\n",
       "      <td>1536.0</td>\n",
       "      <td>NaN</td>\n",
       "      <td>NaN</td>\n",
       "    </tr>\n",
       "    <tr>\n",
       "      <th>7</th>\n",
       "      <td>7</td>\n",
       "      <td>1807141</td>\n",
       "      <td>NZ_VTRU01000001</td>\n",
       "      <td>./data/refseq/bacteria/GCF_008274625.1_ASM8274...</td>\n",
       "      <td>Bacteria Bacteroidetes Flavobacteriia Flavobac...</td>\n",
       "      <td>Chryseobacterium panacisoli</td>\n",
       "      <td>166547.0</td>\n",
       "      <td>NaN</td>\n",
       "      <td>ACAATGGAGAGTTTGATCCTGGCTCAGGATGAACGCTAGCGGGAGG...</td>\n",
       "      <td>1517.0</td>\n",
       "      <td>NaN</td>\n",
       "      <td>NaN</td>\n",
       "    </tr>\n",
       "    <tr>\n",
       "      <th>8</th>\n",
       "      <td>8</td>\n",
       "      <td>1121477</td>\n",
       "      <td>NZ_FQVC01000024</td>\n",
       "      <td>./data/refseq/bacteria/GCF_900128975.1_IMG-tax...</td>\n",
       "      <td>Bacteria Proteobacteria Alphaproteobacteria Hy...</td>\n",
       "      <td>Devosia limi DSM 17137</td>\n",
       "      <td>6165.0</td>\n",
       "      <td>28</td>\n",
       "      <td>NaN</td>\n",
       "      <td>NaN</td>\n",
       "      <td>28.0</td>\n",
       "      <td>False</td>\n",
       "    </tr>\n",
       "    <tr>\n",
       "      <th>9</th>\n",
       "      <td>9</td>\n",
       "      <td>1178482</td>\n",
       "      <td>NZ_CP013106</td>\n",
       "      <td>./data/refseq/bacteria/GCF_001431725.1_ASM1431...</td>\n",
       "      <td>Bacteria Proteobacteria Gammaproteobacteria Oc...</td>\n",
       "      <td>Halomonas huangheensis</td>\n",
       "      <td>168874.0</td>\n",
       "      <td>NaN</td>\n",
       "      <td>CAACTGAAGAGTTTGATCATGGCTCAGATTGAACGCTGGCGGCAGG...</td>\n",
       "      <td>1540.0</td>\n",
       "      <td>NaN</td>\n",
       "      <td>NaN</td>\n",
       "    </tr>\n",
       "  </tbody>\n",
       "</table>\n",
       "</div>"
      ],
      "text/plain": [
       "   taxa_index  ncbi_taxid         record_name  \\\n",
       "0           0     1968276  NZ_JAAFZH010000001   \n",
       "1           1      132919     NZ_FNTL01000005   \n",
       "2           2     1654716     NZ_LGTB01000001   \n",
       "3           3     1181879  NZ_JACHMG010000001   \n",
       "4           4       31971  NZ_CABKNA010000001   \n",
       "5           5     1763543     NZ_BMNB01000001   \n",
       "6           6         305         NZ_CP088237   \n",
       "7           7     1807141     NZ_VTRU01000001   \n",
       "8           8     1121477     NZ_FQVC01000024   \n",
       "9           9     1178482         NZ_CP013106   \n",
       "\n",
       "                                            filepath  \\\n",
       "0  ./data/refseq/bacteria/GCF_010435915.1_ASM1043...   \n",
       "1  ./data/refseq/bacteria/GCF_900105375.1_IMG-tax...   \n",
       "2  ./data/refseq/bacteria/GCF_001238275.1_ASM1238...   \n",
       "3  ./data/refseq/bacteria/GCF_014204865.1_ASM1420...   \n",
       "4  ./data/refseq/bacteria/GCF_902373665.1_MGYG-HG...   \n",
       "5  ./data/refseq/bacteria/GCF_014646235.1_ASM1464...   \n",
       "6  ./data/refseq/bacteria/GCF_021117135.1_ASM2111...   \n",
       "7  ./data/refseq/bacteria/GCF_008274625.1_ASM8274...   \n",
       "8  ./data/refseq/bacteria/GCF_900128975.1_IMG-tax...   \n",
       "9  ./data/refseq/bacteria/GCF_001431725.1_ASM1431...   \n",
       "\n",
       "                                            taxonomy  \\\n",
       "0  Bacteria Bacteroidetes Cytophagia Cytophagales...   \n",
       "1  Bacteria Actinobacteria Corynebacteriales Noca...   \n",
       "2  Bacteria Proteobacteria Alphaproteobacteria Hy...   \n",
       "3  Bacteria Actinobacteria Pseudonocardiales Pseu...   \n",
       "4  Bacteria Firmicutes Erysipelotrichia Erysipelo...   \n",
       "5  Bacteria Actinobacteria Micromonosporales Micr...   \n",
       "6  Bacteria Proteobacteria Betaproteobacteria Bur...   \n",
       "7  Bacteria Bacteroidetes Flavobacteriia Flavobac...   \n",
       "8  Bacteria Proteobacteria Alphaproteobacteria Hy...   \n",
       "9  Bacteria Proteobacteria Gammaproteobacteria Oc...   \n",
       "\n",
       "                      organism  bacdive_id  \\\n",
       "0             Spirosoma terrae    164169.0   \n",
       "1           Rhodococcus jostii     11034.0   \n",
       "2  Bradyrhizobium viridifuturi    168770.0   \n",
       "3   Amycolatopsis jiangsuensis     23214.0   \n",
       "4       Amedibacillus dolichus      5424.0   \n",
       "5        Verrucosispora sonchi    132025.0   \n",
       "6       Ralstonia solanacearum         NaN   \n",
       "7  Chryseobacterium panacisoli    166547.0   \n",
       "8       Devosia limi DSM 17137      6165.0   \n",
       "9       Halomonas huangheensis    168874.0   \n",
       "\n",
       "                                  ogt_scraped_string  \\\n",
       "0       {'growth': ['25'], 'max': None, 'min': None}   \n",
       "1  {'growth': ['28', '30', '28'], 'max': None, 'm...   \n",
       "2                                                NaN   \n",
       "3  {'growth': ['28', '28'], 'max': None, 'min': N...   \n",
       "4  {'growth': ['37', '37'], 'max': None, 'min': N...   \n",
       "5                                                 28   \n",
       "6                                                NaN   \n",
       "7                                                NaN   \n",
       "8                                                 28   \n",
       "9                                                NaN   \n",
       "\n",
       "                                         seq_16srRNA  len_16s   ogt  \\\n",
       "0  ACGATGGAGAGTTTGATCCTGGCTCAGGATGAACGCTAGCGGCAGG...     79.0   NaN   \n",
       "1  TCAACGGAGAGTTTGATCCTGGCTCAGGACGAACGCTGGCGGCGTG...   1518.0   NaN   \n",
       "2  CAACTTGAGAGTTTGATCCTGGCTCAGAGCGAACGCTGGCGGCAGG...   1489.0   NaN   \n",
       "3  TTGTTGGAGAGTTTGATCCTGGCTCAGGACGAACGCTGGCGGCGTG...   1519.0   NaN   \n",
       "4  CAAATGGAGAGTTTGATCCTGGCTCAGGATGAACGCTGGCGGCATG...   1540.0   NaN   \n",
       "5  TTGTTGGAGAGTTTGATCCTGGCTCAGGACGAACGCTGGCGGCGTG...   1517.0  28.0   \n",
       "6  GAACTGAAGAGTTTGATCCTGGCTCAGATTGAACGCTGGCGGCATG...   1536.0   NaN   \n",
       "7  ACAATGGAGAGTTTGATCCTGGCTCAGGATGAACGCTAGCGGGAGG...   1517.0   NaN   \n",
       "8                                                NaN      NaN  28.0   \n",
       "9  CAACTGAAGAGTTTGATCATGGCTCAGATTGAACGCTGGCGGCAGG...   1540.0   NaN   \n",
       "\n",
       "  thermophile_label  \n",
       "0               NaN  \n",
       "1               NaN  \n",
       "2               NaN  \n",
       "3               NaN  \n",
       "4               NaN  \n",
       "5             False  \n",
       "6               NaN  \n",
       "7               NaN  \n",
       "8             False  \n",
       "9               NaN  "
      ]
     },
     "execution_count": 10,
     "metadata": {},
     "output_type": "execute_result"
    }
   ],
   "source": [
    "conn.execute(\"SELECT * FROM taxa LIMIT 10\").df()"
   ]
  },
  {
   "cell_type": "markdown",
   "metadata": {},
   "source": [
    "### PROTEINS"
   ]
  },
  {
   "cell_type": "markdown",
   "metadata": {},
   "source": [
    "#### create a table no primary keys this time unfortunately"
   ]
  },
  {
   "cell_type": "code",
   "execution_count": 11,
   "metadata": {},
   "outputs": [
    {
     "data": {
      "text/html": [
       "<div>\n",
       "<style scoped>\n",
       "    .dataframe tbody tr th:only-of-type {\n",
       "        vertical-align: middle;\n",
       "    }\n",
       "\n",
       "    .dataframe tbody tr th {\n",
       "        vertical-align: top;\n",
       "    }\n",
       "\n",
       "    .dataframe thead th {\n",
       "        text-align: right;\n",
       "    }\n",
       "</style>\n",
       "<table border=\"1\" class=\"dataframe\">\n",
       "  <thead>\n",
       "    <tr style=\"text-align: right;\">\n",
       "      <th></th>\n",
       "      <th>Count</th>\n",
       "    </tr>\n",
       "  </thead>\n",
       "  <tbody>\n",
       "    <tr>\n",
       "      <th>0</th>\n",
       "      <td>65427472</td>\n",
       "    </tr>\n",
       "  </tbody>\n",
       "</table>\n",
       "</div>"
      ],
      "text/plain": [
       "      Count\n",
       "0  65427472"
      ]
     },
     "execution_count": 11,
     "metadata": {},
     "output_type": "execute_result"
    }
   ],
   "source": [
    "conn.execute(\"\"\"\n",
    "CREATE OR REPLACE TABLE proteins AS SELECT \n",
    "    substr(seq_id, 0, strpos(seq_id, '.'))::INT AS taxa_index,\n",
    "    \"seq_id\"::STRING AS protein_index,\n",
    "    \"protein_seq\"::STRING AS protein_seq,\n",
    "    \"protein_desc\"::STRING AS protein_desc,\n",
    "    \"protein_len\"::INT AS protein_len\n",
    "FROM read_csv('../data/taxa/proteins/taxa_*.csv', auto_detect=False, header=True, sep=';', columns={'seq_id': 'VARCHAR', 'protein_seq': 'STRING', 'protein_desc': 'STRING', 'protein_len': 'INT'})\n",
    "\"\"\").df()"
   ]
  },
  {
   "cell_type": "code",
   "execution_count": 12,
   "metadata": {},
   "outputs": [
    {
     "data": {
      "text/plain": [
       "<duckdb.DuckDBPyConnection at 0x118ac9e70>"
      ]
     },
     "execution_count": 12,
     "metadata": {},
     "output_type": "execute_result"
    }
   ],
   "source": [
    "conn.execute(\"CREATE SEQUENCE protein_int_index_seq START 1\")\n",
    "conn.execute(\"\"\"\n",
    "    ALTER TABLE proteins ADD COLUMN protein_int_index INT DEFAULT nextval('protein_int_index_seq')-1\n",
    "\"\"\")"
   ]
  },
  {
   "cell_type": "code",
   "execution_count": 13,
   "metadata": {},
   "outputs": [
    {
     "data": {
      "text/html": [
       "<div>\n",
       "<style scoped>\n",
       "    .dataframe tbody tr th:only-of-type {\n",
       "        vertical-align: middle;\n",
       "    }\n",
       "\n",
       "    .dataframe tbody tr th {\n",
       "        vertical-align: top;\n",
       "    }\n",
       "\n",
       "    .dataframe thead th {\n",
       "        text-align: right;\n",
       "    }\n",
       "</style>\n",
       "<table border=\"1\" class=\"dataframe\">\n",
       "  <thead>\n",
       "    <tr style=\"text-align: right;\">\n",
       "      <th></th>\n",
       "      <th>count_star()</th>\n",
       "    </tr>\n",
       "  </thead>\n",
       "  <tbody>\n",
       "    <tr>\n",
       "      <th>0</th>\n",
       "      <td>65427472</td>\n",
       "    </tr>\n",
       "  </tbody>\n",
       "</table>\n",
       "</div>"
      ],
      "text/plain": [
       "   count_star()\n",
       "0      65427472"
      ]
     },
     "execution_count": 13,
     "metadata": {},
     "output_type": "execute_result"
    }
   ],
   "source": [
    "conn.execute(\"\"\"SELECT COUNT(*) FROM proteins\"\"\").df()"
   ]
  },
  {
   "cell_type": "code",
   "execution_count": 14,
   "metadata": {},
   "outputs": [
    {
     "data": {
      "text/html": [
       "<div>\n",
       "<style scoped>\n",
       "    .dataframe tbody tr th:only-of-type {\n",
       "        vertical-align: middle;\n",
       "    }\n",
       "\n",
       "    .dataframe tbody tr th {\n",
       "        vertical-align: top;\n",
       "    }\n",
       "\n",
       "    .dataframe thead th {\n",
       "        text-align: right;\n",
       "    }\n",
       "</style>\n",
       "<table border=\"1\" class=\"dataframe\">\n",
       "  <thead>\n",
       "    <tr style=\"text-align: right;\">\n",
       "      <th></th>\n",
       "      <th>count(DISTINCT taxa_index)</th>\n",
       "    </tr>\n",
       "  </thead>\n",
       "  <tbody>\n",
       "    <tr>\n",
       "      <th>0</th>\n",
       "      <td>16664</td>\n",
       "    </tr>\n",
       "  </tbody>\n",
       "</table>\n",
       "</div>"
      ],
      "text/plain": [
       "   count(DISTINCT taxa_index)\n",
       "0                       16664"
      ]
     },
     "execution_count": 14,
     "metadata": {},
     "output_type": "execute_result"
    }
   ],
   "source": [
    "conn.execute(\"\"\"SELECT COUNT(DISTINCT taxa_index) FROM proteins\"\"\").df()"
   ]
  },
  {
   "cell_type": "code",
   "execution_count": 15,
   "metadata": {},
   "outputs": [
    {
     "data": {
      "text/html": [
       "<div>\n",
       "<style scoped>\n",
       "    .dataframe tbody tr th:only-of-type {\n",
       "        vertical-align: middle;\n",
       "    }\n",
       "\n",
       "    .dataframe tbody tr th {\n",
       "        vertical-align: top;\n",
       "    }\n",
       "\n",
       "    .dataframe thead th {\n",
       "        text-align: right;\n",
       "    }\n",
       "</style>\n",
       "<table border=\"1\" class=\"dataframe\">\n",
       "  <thead>\n",
       "    <tr style=\"text-align: right;\">\n",
       "      <th></th>\n",
       "      <th>count(DISTINCT protein_int_index)</th>\n",
       "    </tr>\n",
       "  </thead>\n",
       "  <tbody>\n",
       "    <tr>\n",
       "      <th>0</th>\n",
       "      <td>65427472</td>\n",
       "    </tr>\n",
       "  </tbody>\n",
       "</table>\n",
       "</div>"
      ],
      "text/plain": [
       "   count(DISTINCT protein_int_index)\n",
       "0                           65427472"
      ]
     },
     "execution_count": 15,
     "metadata": {},
     "output_type": "execute_result"
    }
   ],
   "source": [
    "conn.execute(\"\"\"SELECT COUNT(DISTINCT protein_int_index) FROM proteins\"\"\").df()"
   ]
  },
  {
   "cell_type": "markdown",
   "metadata": {},
   "source": [
    "All is well."
   ]
  },
  {
   "cell_type": "markdown",
   "metadata": {},
   "source": [
    "### TAXA PAIRS"
   ]
  },
  {
   "cell_type": "markdown",
   "metadata": {},
   "source": [
    "### Create temp tables and inner join to make pairs"
   ]
  },
  {
   "cell_type": "code",
   "execution_count": 16,
   "metadata": {},
   "outputs": [
    {
     "data": {
      "text/plain": [
       "<duckdb.DuckDBPyConnection at 0x118ac9e70>"
      ]
     },
     "execution_count": 16,
     "metadata": {},
     "output_type": "execute_result"
    }
   ],
   "source": [
    "conn.execute(\"\"\"\n",
    "    CREATE OR REPLACE TEMP TABLE taxa_pairs_tmp AS SELECT \n",
    "        *\n",
    "    FROM read_csv_auto('../data/taxa_pairs/pairwise_16s_blast.csv', header=True)\n",
    "\"\"\")"
   ]
  },
  {
   "cell_type": "code",
   "execution_count": 17,
   "metadata": {},
   "outputs": [
    {
     "data": {
      "text/plain": [
       "<duckdb.DuckDBPyConnection at 0x118ac9e70>"
      ]
     },
     "execution_count": 17,
     "metadata": {},
     "output_type": "execute_result"
    }
   ],
   "source": [
    "# now get labels, we might as well make this one table now\n",
    "conn.execute(\"\"\"\n",
    "    CREATE OR REPLACE TEMP TABLE taxa_pair_labels_tmp AS SELECT \n",
    "        column0:: INT AS taxa_pair_index,\n",
    "        is_pair:: BOOL AS is_pair\n",
    "    FROM read_csv_auto('../data/taxa_pairs/pair_labels.csv', header=True)\n",
    "\"\"\")"
   ]
  },
  {
   "cell_type": "code",
   "execution_count": 18,
   "metadata": {},
   "outputs": [
    {
     "data": {
      "text/plain": [
       "<duckdb.DuckDBPyConnection at 0x118ac9e70>"
      ]
     },
     "execution_count": 18,
     "metadata": {},
     "output_type": "execute_result"
    }
   ],
   "source": [
    "conn.execute(\"CREATE SEQUENCE taxa_pair_id_seq START 1\")"
   ]
  },
  {
   "cell_type": "code",
   "execution_count": 19,
   "metadata": {},
   "outputs": [
    {
     "data": {
      "text/plain": [
       "<duckdb.DuckDBPyConnection at 0x118ac9e70>"
      ]
     },
     "execution_count": 19,
     "metadata": {},
     "output_type": "execute_result"
    }
   ],
   "source": [
    "# add an index to the taxa pairs table which doesn't have one\n",
    "conn.execute(\"\"\"\n",
    "    ALTER TABLE taxa_pairs_tmp ADD COLUMN taxa_pair_index INT DEFAULT nextval('taxa_pair_id_seq')-1\n",
    "\"\"\")"
   ]
  },
  {
   "cell_type": "code",
   "execution_count": 20,
   "metadata": {},
   "outputs": [
    {
     "data": {
      "text/plain": [
       "<duckdb.DuckDBPyConnection at 0x118ac9e70>"
      ]
     },
     "execution_count": 20,
     "metadata": {},
     "output_type": "execute_result"
    }
   ],
   "source": [
    "# join the two tables and create a true table\n",
    "conn.execute(\"\"\"\n",
    "    CREATE OR REPLACE TABLE taxa_pairs AS SELECT * FROM taxa_pairs_tmp\n",
    "        INNER JOIN taxa_pair_labels_tmp ON (taxa_pairs_tmp.taxa_pair_index=taxa_pair_labels_tmp.taxa_pair_index)\n",
    "    \n",
    "\"\"\")"
   ]
  },
  {
   "cell_type": "code",
   "execution_count": 21,
   "metadata": {},
   "outputs": [
    {
     "data": {
      "text/html": [
       "<div>\n",
       "<style scoped>\n",
       "    .dataframe tbody tr th:only-of-type {\n",
       "        vertical-align: middle;\n",
       "    }\n",
       "\n",
       "    .dataframe tbody tr th {\n",
       "        vertical-align: top;\n",
       "    }\n",
       "\n",
       "    .dataframe thead th {\n",
       "        text-align: right;\n",
       "    }\n",
       "</style>\n",
       "<table border=\"1\" class=\"dataframe\">\n",
       "  <thead>\n",
       "    <tr style=\"text-align: right;\">\n",
       "      <th></th>\n",
       "      <th>Success</th>\n",
       "    </tr>\n",
       "  </thead>\n",
       "  <tbody>\n",
       "  </tbody>\n",
       "</table>\n",
       "</div>"
      ],
      "text/plain": [
       "Empty DataFrame\n",
       "Columns: [Success]\n",
       "Index: []"
      ]
     },
     "execution_count": 21,
     "metadata": {},
     "output_type": "execute_result"
    }
   ],
   "source": [
    "# join the two tables and create a true table\n",
    "conn.execute(\"\"\"\n",
    "    ALTER TABLE taxa_pairs DROP \"taxa_pair_index:1\"\n",
    "\"\"\").df()"
   ]
  },
  {
   "cell_type": "code",
   "execution_count": 22,
   "metadata": {},
   "outputs": [
    {
     "data": {
      "text/html": [
       "<div>\n",
       "<style scoped>\n",
       "    .dataframe tbody tr th:only-of-type {\n",
       "        vertical-align: middle;\n",
       "    }\n",
       "\n",
       "    .dataframe tbody tr th {\n",
       "        vertical-align: top;\n",
       "    }\n",
       "\n",
       "    .dataframe thead th {\n",
       "        text-align: right;\n",
       "    }\n",
       "</style>\n",
       "<table border=\"1\" class=\"dataframe\">\n",
       "  <thead>\n",
       "    <tr style=\"text-align: right;\">\n",
       "      <th></th>\n",
       "      <th>thermo_index</th>\n",
       "      <th>meso_index</th>\n",
       "      <th>local_gap_compressed_percent_id</th>\n",
       "      <th>scaled_local_query_percent_id</th>\n",
       "      <th>scaled_local_symmetric_percent_id</th>\n",
       "      <th>local_E_value</th>\n",
       "      <th>query_align_start</th>\n",
       "      <th>query_align_end</th>\n",
       "      <th>subject_align_end</th>\n",
       "      <th>subject_align_start</th>\n",
       "      <th>query_align_len</th>\n",
       "      <th>query_align_cov</th>\n",
       "      <th>subject_align_len</th>\n",
       "      <th>subject_align_cov</th>\n",
       "      <th>bit_score</th>\n",
       "      <th>taxa_pair_index</th>\n",
       "      <th>is_pair</th>\n",
       "    </tr>\n",
       "  </thead>\n",
       "  <tbody>\n",
       "    <tr>\n",
       "      <th>0</th>\n",
       "      <td>16361</td>\n",
       "      <td>16481</td>\n",
       "      <td>0.944407</td>\n",
       "      <td>0.946975</td>\n",
       "      <td>0.946010</td>\n",
       "      <td>0.0</td>\n",
       "      <td>1</td>\n",
       "      <td>1471</td>\n",
       "      <td>1474</td>\n",
       "      <td>1</td>\n",
       "      <td>1471</td>\n",
       "      <td>1.00000</td>\n",
       "      <td>1474</td>\n",
       "      <td>1.000000</td>\n",
       "      <td>1222.0</td>\n",
       "      <td>740239</td>\n",
       "      <td>True</td>\n",
       "    </tr>\n",
       "    <tr>\n",
       "      <th>1</th>\n",
       "      <td>16361</td>\n",
       "      <td>16385</td>\n",
       "      <td>0.943729</td>\n",
       "      <td>0.946295</td>\n",
       "      <td>0.945331</td>\n",
       "      <td>0.0</td>\n",
       "      <td>1</td>\n",
       "      <td>1471</td>\n",
       "      <td>1474</td>\n",
       "      <td>1</td>\n",
       "      <td>1471</td>\n",
       "      <td>1.00000</td>\n",
       "      <td>1474</td>\n",
       "      <td>1.000000</td>\n",
       "      <td>1219.0</td>\n",
       "      <td>740240</td>\n",
       "      <td>True</td>\n",
       "    </tr>\n",
       "    <tr>\n",
       "      <th>2</th>\n",
       "      <td>16361</td>\n",
       "      <td>16460</td>\n",
       "      <td>0.933018</td>\n",
       "      <td>0.937458</td>\n",
       "      <td>0.936821</td>\n",
       "      <td>0.0</td>\n",
       "      <td>1</td>\n",
       "      <td>1471</td>\n",
       "      <td>1473</td>\n",
       "      <td>1</td>\n",
       "      <td>1471</td>\n",
       "      <td>1.00000</td>\n",
       "      <td>1473</td>\n",
       "      <td>1.000000</td>\n",
       "      <td>1167.0</td>\n",
       "      <td>740241</td>\n",
       "      <td>True</td>\n",
       "    </tr>\n",
       "    <tr>\n",
       "      <th>3</th>\n",
       "      <td>16361</td>\n",
       "      <td>16345</td>\n",
       "      <td>0.934371</td>\n",
       "      <td>0.938817</td>\n",
       "      <td>0.938179</td>\n",
       "      <td>0.0</td>\n",
       "      <td>1</td>\n",
       "      <td>1471</td>\n",
       "      <td>1473</td>\n",
       "      <td>1</td>\n",
       "      <td>1471</td>\n",
       "      <td>1.00000</td>\n",
       "      <td>1473</td>\n",
       "      <td>1.000000</td>\n",
       "      <td>1167.0</td>\n",
       "      <td>740242</td>\n",
       "      <td>True</td>\n",
       "    </tr>\n",
       "    <tr>\n",
       "      <th>4</th>\n",
       "      <td>16361</td>\n",
       "      <td>16211</td>\n",
       "      <td>0.931525</td>\n",
       "      <td>0.934058</td>\n",
       "      <td>0.933107</td>\n",
       "      <td>0.0</td>\n",
       "      <td>1</td>\n",
       "      <td>1471</td>\n",
       "      <td>1474</td>\n",
       "      <td>1</td>\n",
       "      <td>1471</td>\n",
       "      <td>1.00000</td>\n",
       "      <td>1474</td>\n",
       "      <td>1.000000</td>\n",
       "      <td>1161.0</td>\n",
       "      <td>740243</td>\n",
       "      <td>True</td>\n",
       "    </tr>\n",
       "    <tr>\n",
       "      <th>5</th>\n",
       "      <td>16361</td>\n",
       "      <td>16315</td>\n",
       "      <td>0.924068</td>\n",
       "      <td>0.926581</td>\n",
       "      <td>0.925322</td>\n",
       "      <td>0.0</td>\n",
       "      <td>1</td>\n",
       "      <td>1471</td>\n",
       "      <td>1475</td>\n",
       "      <td>1</td>\n",
       "      <td>1471</td>\n",
       "      <td>1.00000</td>\n",
       "      <td>1475</td>\n",
       "      <td>1.000000</td>\n",
       "      <td>1121.0</td>\n",
       "      <td>740244</td>\n",
       "      <td>True</td>\n",
       "    </tr>\n",
       "    <tr>\n",
       "      <th>6</th>\n",
       "      <td>16361</td>\n",
       "      <td>16272</td>\n",
       "      <td>0.905341</td>\n",
       "      <td>0.910265</td>\n",
       "      <td>0.909647</td>\n",
       "      <td>0.0</td>\n",
       "      <td>1</td>\n",
       "      <td>1470</td>\n",
       "      <td>1472</td>\n",
       "      <td>1</td>\n",
       "      <td>1470</td>\n",
       "      <td>0.99932</td>\n",
       "      <td>1472</td>\n",
       "      <td>0.999321</td>\n",
       "      <td>1039.0</td>\n",
       "      <td>740245</td>\n",
       "      <td>True</td>\n",
       "    </tr>\n",
       "    <tr>\n",
       "      <th>7</th>\n",
       "      <td>16361</td>\n",
       "      <td>16296</td>\n",
       "      <td>0.905213</td>\n",
       "      <td>0.908906</td>\n",
       "      <td>0.908597</td>\n",
       "      <td>0.0</td>\n",
       "      <td>1</td>\n",
       "      <td>1470</td>\n",
       "      <td>1471</td>\n",
       "      <td>1</td>\n",
       "      <td>1470</td>\n",
       "      <td>0.99932</td>\n",
       "      <td>1471</td>\n",
       "      <td>0.999321</td>\n",
       "      <td>1036.0</td>\n",
       "      <td>740246</td>\n",
       "      <td>True</td>\n",
       "    </tr>\n",
       "    <tr>\n",
       "      <th>8</th>\n",
       "      <td>16361</td>\n",
       "      <td>16340</td>\n",
       "      <td>0.906567</td>\n",
       "      <td>0.910265</td>\n",
       "      <td>0.909338</td>\n",
       "      <td>0.0</td>\n",
       "      <td>1</td>\n",
       "      <td>1471</td>\n",
       "      <td>1474</td>\n",
       "      <td>1</td>\n",
       "      <td>1471</td>\n",
       "      <td>1.00000</td>\n",
       "      <td>1474</td>\n",
       "      <td>1.000000</td>\n",
       "      <td>1026.0</td>\n",
       "      <td>740247</td>\n",
       "      <td>True</td>\n",
       "    </tr>\n",
       "    <tr>\n",
       "      <th>9</th>\n",
       "      <td>16361</td>\n",
       "      <td>16115</td>\n",
       "      <td>0.899324</td>\n",
       "      <td>0.904827</td>\n",
       "      <td>0.903598</td>\n",
       "      <td>0.0</td>\n",
       "      <td>1</td>\n",
       "      <td>1470</td>\n",
       "      <td>1474</td>\n",
       "      <td>1</td>\n",
       "      <td>1470</td>\n",
       "      <td>0.99932</td>\n",
       "      <td>1474</td>\n",
       "      <td>0.999322</td>\n",
       "      <td>1015.0</td>\n",
       "      <td>740248</td>\n",
       "      <td>True</td>\n",
       "    </tr>\n",
       "    <tr>\n",
       "      <th>10</th>\n",
       "      <td>16361</td>\n",
       "      <td>16639</td>\n",
       "      <td>0.898111</td>\n",
       "      <td>0.904827</td>\n",
       "      <td>0.903598</td>\n",
       "      <td>0.0</td>\n",
       "      <td>1</td>\n",
       "      <td>1470</td>\n",
       "      <td>1474</td>\n",
       "      <td>1</td>\n",
       "      <td>1470</td>\n",
       "      <td>0.99932</td>\n",
       "      <td>1474</td>\n",
       "      <td>0.999322</td>\n",
       "      <td>1007.0</td>\n",
       "      <td>740249</td>\n",
       "      <td>True</td>\n",
       "    </tr>\n",
       "    <tr>\n",
       "      <th>11</th>\n",
       "      <td>16361</td>\n",
       "      <td>16573</td>\n",
       "      <td>0.899593</td>\n",
       "      <td>0.901428</td>\n",
       "      <td>0.901734</td>\n",
       "      <td>0.0</td>\n",
       "      <td>1</td>\n",
       "      <td>1470</td>\n",
       "      <td>1469</td>\n",
       "      <td>1</td>\n",
       "      <td>1470</td>\n",
       "      <td>0.99932</td>\n",
       "      <td>1469</td>\n",
       "      <td>0.999320</td>\n",
       "      <td>1005.0</td>\n",
       "      <td>740250</td>\n",
       "      <td>True</td>\n",
       "    </tr>\n",
       "  </tbody>\n",
       "</table>\n",
       "</div>"
      ],
      "text/plain": [
       "    thermo_index  meso_index  local_gap_compressed_percent_id  \\\n",
       "0          16361       16481                         0.944407   \n",
       "1          16361       16385                         0.943729   \n",
       "2          16361       16460                         0.933018   \n",
       "3          16361       16345                         0.934371   \n",
       "4          16361       16211                         0.931525   \n",
       "5          16361       16315                         0.924068   \n",
       "6          16361       16272                         0.905341   \n",
       "7          16361       16296                         0.905213   \n",
       "8          16361       16340                         0.906567   \n",
       "9          16361       16115                         0.899324   \n",
       "10         16361       16639                         0.898111   \n",
       "11         16361       16573                         0.899593   \n",
       "\n",
       "    scaled_local_query_percent_id  scaled_local_symmetric_percent_id  \\\n",
       "0                        0.946975                           0.946010   \n",
       "1                        0.946295                           0.945331   \n",
       "2                        0.937458                           0.936821   \n",
       "3                        0.938817                           0.938179   \n",
       "4                        0.934058                           0.933107   \n",
       "5                        0.926581                           0.925322   \n",
       "6                        0.910265                           0.909647   \n",
       "7                        0.908906                           0.908597   \n",
       "8                        0.910265                           0.909338   \n",
       "9                        0.904827                           0.903598   \n",
       "10                       0.904827                           0.903598   \n",
       "11                       0.901428                           0.901734   \n",
       "\n",
       "    local_E_value  query_align_start  query_align_end  subject_align_end  \\\n",
       "0             0.0                  1             1471               1474   \n",
       "1             0.0                  1             1471               1474   \n",
       "2             0.0                  1             1471               1473   \n",
       "3             0.0                  1             1471               1473   \n",
       "4             0.0                  1             1471               1474   \n",
       "5             0.0                  1             1471               1475   \n",
       "6             0.0                  1             1470               1472   \n",
       "7             0.0                  1             1470               1471   \n",
       "8             0.0                  1             1471               1474   \n",
       "9             0.0                  1             1470               1474   \n",
       "10            0.0                  1             1470               1474   \n",
       "11            0.0                  1             1470               1469   \n",
       "\n",
       "    subject_align_start  query_align_len  query_align_cov  subject_align_len  \\\n",
       "0                     1             1471          1.00000               1474   \n",
       "1                     1             1471          1.00000               1474   \n",
       "2                     1             1471          1.00000               1473   \n",
       "3                     1             1471          1.00000               1473   \n",
       "4                     1             1471          1.00000               1474   \n",
       "5                     1             1471          1.00000               1475   \n",
       "6                     1             1470          0.99932               1472   \n",
       "7                     1             1470          0.99932               1471   \n",
       "8                     1             1471          1.00000               1474   \n",
       "9                     1             1470          0.99932               1474   \n",
       "10                    1             1470          0.99932               1474   \n",
       "11                    1             1470          0.99932               1469   \n",
       "\n",
       "    subject_align_cov  bit_score  taxa_pair_index  is_pair  \n",
       "0            1.000000     1222.0           740239     True  \n",
       "1            1.000000     1219.0           740240     True  \n",
       "2            1.000000     1167.0           740241     True  \n",
       "3            1.000000     1167.0           740242     True  \n",
       "4            1.000000     1161.0           740243     True  \n",
       "5            1.000000     1121.0           740244     True  \n",
       "6            0.999321     1039.0           740245     True  \n",
       "7            0.999321     1036.0           740246     True  \n",
       "8            1.000000     1026.0           740247     True  \n",
       "9            0.999322     1015.0           740248     True  \n",
       "10           0.999322     1007.0           740249     True  \n",
       "11           0.999320     1005.0           740250     True  "
      ]
     },
     "execution_count": 22,
     "metadata": {},
     "output_type": "execute_result"
    }
   ],
   "source": [
    "conn.execute(\"\"\"SELECT * FROM taxa_pairs WHERE is_pair LIMIT 12\"\"\").df()"
   ]
  },
  {
   "cell_type": "markdown",
   "metadata": {},
   "source": [
    "### PROTEIN PAIRS"
   ]
  },
  {
   "cell_type": "code",
   "execution_count": 23,
   "metadata": {},
   "outputs": [
    {
     "data": {
      "text/html": [
       "<div>\n",
       "<style scoped>\n",
       "    .dataframe tbody tr th:only-of-type {\n",
       "        vertical-align: middle;\n",
       "    }\n",
       "\n",
       "    .dataframe tbody tr th {\n",
       "        vertical-align: top;\n",
       "    }\n",
       "\n",
       "    .dataframe thead th {\n",
       "        text-align: right;\n",
       "    }\n",
       "</style>\n",
       "<table border=\"1\" class=\"dataframe\">\n",
       "  <thead>\n",
       "    <tr style=\"text-align: right;\">\n",
       "      <th></th>\n",
       "      <th>Count</th>\n",
       "    </tr>\n",
       "  </thead>\n",
       "  <tbody>\n",
       "    <tr>\n",
       "      <th>0</th>\n",
       "      <td>181500502</td>\n",
       "    </tr>\n",
       "  </tbody>\n",
       "</table>\n",
       "</div>"
      ],
      "text/plain": [
       "       Count\n",
       "0  181500502"
      ]
     },
     "execution_count": 23,
     "metadata": {},
     "output_type": "execute_result"
    }
   ],
   "source": [
    "conn.execute(\"\"\"\n",
    "CREATE OR REPLACE TABLE protein_pairs AS SELECT  \n",
    "    \"thermo_protein_id\"::STRING AS thermo_protein_index,\n",
    "    \"meso_protein_id\"::STRING AS meso_protein_index,\n",
    "    \"local_gap_compressed_percent_id\"::FLOAT AS local_gap_compressed_percent_id,\n",
    "    \"scaled_local_query_percent_id\"::FLOAT AS scaled_local_query_percent_id,\n",
    "    \"scaled_local_symmetric_percent_id\"::FLOAT AS scaled_local_symmetric_percent_id,\n",
    "    \"local_E_value\"::FLOAT AS local_E_value,\n",
    "    \"query_align_start\"::INT AS query_align_start,\n",
    "    \"query_align_end\"::INT AS query_align_end,\n",
    "    \"subject_align_end\"::INT AS subject_align_end,\n",
    "    \"subject_align_start\"::INT AS subject_align_start,\n",
    "    \"query_align_len\"::INT AS query_align_len,\n",
    "    \"query_align_cov\"::FLOAT AS query_align_cov,\n",
    "    \"subject_align_len\"::INT AS subject_align_len,\n",
    "    \"subject_align_cov\"::FLOAT AS subject_align_cov,\n",
    "    \"bit_score\"::INT AS bit_score,\n",
    "    substr(thermo_protein_id, 0, strpos(thermo_protein_id, '.'))::INT AS thermo_index,\n",
    "    substr(meso_protein_id, 0, strpos(meso_protein_id, '.'))::INT AS meso_index,\n",
    "FROM read_csv('../data/taxa_pairs/protein_alignment/taxa_pair*.csv', auto_detect=False, header=True, sep=',', columns={\n",
    "    'column0': 'INT',\n",
    "    'thermo_protein_id': 'STRING',\n",
    "    'meso_protein_id': 'STRING',\n",
    "    'local_gap_compressed_percent_id': 'FLOAT',\n",
    "    'scaled_local_query_percent_id': 'FLOAT',\n",
    "    'scaled_local_symmetric_percent_id': 'FLOAT',\n",
    "    'local_E_value': 'FLOAT',\n",
    "    'query_align_start': 'INT',\n",
    "    'query_align_end': 'INT',\n",
    "    'subject_align_end': 'INT',\n",
    "    'subject_align_start': 'INT',\n",
    "    'query_align_len': 'INT',\n",
    "    'query_align_cov': 'FLOAT',\n",
    "    'subject_align_len': 'INT',\n",
    "    'subject_align_cov': 'FLOAT',\n",
    "    'bit_score': 'INT',\n",
    "})\n",
    "\"\"\").df()"
   ]
  },
  {
   "cell_type": "markdown",
   "metadata": {},
   "source": [
    "create a new id - the 0th column in these files doesn't mean anything"
   ]
  },
  {
   "cell_type": "code",
   "execution_count": 24,
   "metadata": {},
   "outputs": [
    {
     "data": {
      "text/plain": [
       "<duckdb.DuckDBPyConnection at 0x118ac9e70>"
      ]
     },
     "execution_count": 24,
     "metadata": {},
     "output_type": "execute_result"
    }
   ],
   "source": [
    "conn.execute(\"CREATE SEQUENCE protein_pair_id_seq START 1\")"
   ]
  },
  {
   "cell_type": "code",
   "execution_count": 25,
   "metadata": {},
   "outputs": [
    {
     "data": {
      "text/plain": [
       "<duckdb.DuckDBPyConnection at 0x118ac9e70>"
      ]
     },
     "execution_count": 25,
     "metadata": {},
     "output_type": "execute_result"
    }
   ],
   "source": [
    "conn.execute(\"\"\"\n",
    "    ALTER TABLE protein_pairs ADD COLUMN prot_pair_index INT DEFAULT nextval('protein_pair_id_seq')-1\n",
    "\"\"\")"
   ]
  },
  {
   "cell_type": "markdown",
   "metadata": {},
   "source": [
    "Need to add meso and thermo protein indexes that are not strings to actually make this fast"
   ]
  },
  {
   "cell_type": "code",
   "execution_count": 26,
   "metadata": {},
   "outputs": [
    {
     "data": {
      "text/plain": [
       "<duckdb.DuckDBPyConnection at 0x118ac9e70>"
      ]
     },
     "execution_count": 26,
     "metadata": {},
     "output_type": "execute_result"
    }
   ],
   "source": [
    "conn.execute(\"\"\"\n",
    "    ALTER TABLE protein_pairs ADD COLUMN meso_protein_int_index INT;\n",
    "    ALTER TABLE protein_pairs ADD COLUMN thermo_protein_int_index INT;\n",
    "\"\"\")"
   ]
  },
  {
   "cell_type": "code",
   "execution_count": 27,
   "metadata": {},
   "outputs": [
    {
     "data": {
      "text/plain": [
       "<duckdb.DuckDBPyConnection at 0x118ac9e70>"
      ]
     },
     "execution_count": 27,
     "metadata": {},
     "output_type": "execute_result"
    }
   ],
   "source": [
    "conn.execute(\"\"\"\n",
    "    UPDATE protein_pairs SET meso_protein_int_index=(\n",
    "        SELECT proteins.protein_int_index\n",
    "        FROM proteins\n",
    "        WHERE protein_pairs.meso_protein_index=proteins.protein_index\n",
    "    )\n",
    "\"\"\")"
   ]
  },
  {
   "cell_type": "code",
   "execution_count": 28,
   "metadata": {},
   "outputs": [
    {
     "data": {
      "text/plain": [
       "<duckdb.DuckDBPyConnection at 0x118ac9e70>"
      ]
     },
     "execution_count": 28,
     "metadata": {},
     "output_type": "execute_result"
    }
   ],
   "source": [
    "conn.execute(\"\"\"\n",
    "    UPDATE protein_pairs SET thermo_protein_int_index=(\n",
    "        SELECT proteins.protein_int_index\n",
    "        FROM proteins\n",
    "        WHERE protein_pairs.thermo_protein_index=proteins.protein_index\n",
    "    )\n",
    "\"\"\")"
   ]
  },
  {
   "cell_type": "code",
   "execution_count": 29,
   "metadata": {},
   "outputs": [
    {
     "data": {
      "text/html": [
       "<div>\n",
       "<style scoped>\n",
       "    .dataframe tbody tr th:only-of-type {\n",
       "        vertical-align: middle;\n",
       "    }\n",
       "\n",
       "    .dataframe tbody tr th {\n",
       "        vertical-align: top;\n",
       "    }\n",
       "\n",
       "    .dataframe thead th {\n",
       "        text-align: right;\n",
       "    }\n",
       "</style>\n",
       "<table border=\"1\" class=\"dataframe\">\n",
       "  <thead>\n",
       "    <tr style=\"text-align: right;\">\n",
       "      <th></th>\n",
       "      <th>count_star()</th>\n",
       "    </tr>\n",
       "  </thead>\n",
       "  <tbody>\n",
       "    <tr>\n",
       "      <th>0</th>\n",
       "      <td>181500502</td>\n",
       "    </tr>\n",
       "  </tbody>\n",
       "</table>\n",
       "</div>"
      ],
      "text/plain": [
       "   count_star()\n",
       "0     181500502"
      ]
     },
     "execution_count": 29,
     "metadata": {},
     "output_type": "execute_result"
    }
   ],
   "source": [
    "conn.execute(\"\"\"SELECT COUNT(*) FROM protein_pairs\"\"\").df()"
   ]
  },
  {
   "cell_type": "code",
   "execution_count": 30,
   "metadata": {},
   "outputs": [
    {
     "data": {
      "text/html": [
       "<div>\n",
       "<style scoped>\n",
       "    .dataframe tbody tr th:only-of-type {\n",
       "        vertical-align: middle;\n",
       "    }\n",
       "\n",
       "    .dataframe tbody tr th {\n",
       "        vertical-align: top;\n",
       "    }\n",
       "\n",
       "    .dataframe thead th {\n",
       "        text-align: right;\n",
       "    }\n",
       "</style>\n",
       "<table border=\"1\" class=\"dataframe\">\n",
       "  <thead>\n",
       "    <tr style=\"text-align: right;\">\n",
       "      <th></th>\n",
       "      <th>count(DISTINCT prot_pair_index)</th>\n",
       "    </tr>\n",
       "  </thead>\n",
       "  <tbody>\n",
       "    <tr>\n",
       "      <th>0</th>\n",
       "      <td>181500502</td>\n",
       "    </tr>\n",
       "  </tbody>\n",
       "</table>\n",
       "</div>"
      ],
      "text/plain": [
       "   count(DISTINCT prot_pair_index)\n",
       "0                        181500502"
      ]
     },
     "execution_count": 30,
     "metadata": {},
     "output_type": "execute_result"
    }
   ],
   "source": [
    "conn.execute(\"\"\"SELECT COUNT(DISTINCT prot_pair_index) FROM protein_pairs\"\"\").df()"
   ]
  },
  {
   "cell_type": "code",
   "execution_count": 31,
   "metadata": {},
   "outputs": [
    {
     "data": {
      "text/html": [
       "<div>\n",
       "<style scoped>\n",
       "    .dataframe tbody tr th:only-of-type {\n",
       "        vertical-align: middle;\n",
       "    }\n",
       "\n",
       "    .dataframe tbody tr th {\n",
       "        vertical-align: top;\n",
       "    }\n",
       "\n",
       "    .dataframe thead th {\n",
       "        text-align: right;\n",
       "    }\n",
       "</style>\n",
       "<table border=\"1\" class=\"dataframe\">\n",
       "  <thead>\n",
       "    <tr style=\"text-align: right;\">\n",
       "      <th></th>\n",
       "      <th>count(DISTINCT meso_protein_int_index)</th>\n",
       "    </tr>\n",
       "  </thead>\n",
       "  <tbody>\n",
       "    <tr>\n",
       "      <th>0</th>\n",
       "      <td>6410621</td>\n",
       "    </tr>\n",
       "  </tbody>\n",
       "</table>\n",
       "</div>"
      ],
      "text/plain": [
       "   count(DISTINCT meso_protein_int_index)\n",
       "0                                 6410621"
      ]
     },
     "execution_count": 31,
     "metadata": {},
     "output_type": "execute_result"
    }
   ],
   "source": [
    "conn.execute(\"\"\"SELECT COUNT(DISTINCT meso_protein_int_index) FROM protein_pairs\"\"\").df()"
   ]
  },
  {
   "cell_type": "code",
   "execution_count": 33,
   "metadata": {},
   "outputs": [
    {
     "data": {
      "text/html": [
       "<div>\n",
       "<style scoped>\n",
       "    .dataframe tbody tr th:only-of-type {\n",
       "        vertical-align: middle;\n",
       "    }\n",
       "\n",
       "    .dataframe tbody tr th {\n",
       "        vertical-align: top;\n",
       "    }\n",
       "\n",
       "    .dataframe thead th {\n",
       "        text-align: right;\n",
       "    }\n",
       "</style>\n",
       "<table border=\"1\" class=\"dataframe\">\n",
       "  <thead>\n",
       "    <tr style=\"text-align: right;\">\n",
       "      <th></th>\n",
       "      <th>count(DISTINCT thermo_protein_int_index)</th>\n",
       "    </tr>\n",
       "  </thead>\n",
       "  <tbody>\n",
       "    <tr>\n",
       "      <th>0</th>\n",
       "      <td>301597</td>\n",
       "    </tr>\n",
       "  </tbody>\n",
       "</table>\n",
       "</div>"
      ],
      "text/plain": [
       "   count(DISTINCT thermo_protein_int_index)\n",
       "0                                    301597"
      ]
     },
     "execution_count": 33,
     "metadata": {},
     "output_type": "execute_result"
    }
   ],
   "source": [
    "conn.execute(\"\"\"SELECT COUNT(DISTINCT thermo_protein_int_index) FROM protein_pairs\"\"\").df()"
   ]
  },
  {
   "cell_type": "markdown",
   "metadata": {},
   "source": [
    "### CREATE INDEXES"
   ]
  },
  {
   "cell_type": "markdown",
   "metadata": {},
   "source": [
    "#### primaries"
   ]
  },
  {
   "cell_type": "code",
   "execution_count": 34,
   "metadata": {},
   "outputs": [
    {
     "data": {
      "text/plain": [
       "<duckdb.DuckDBPyConnection at 0x118ac9e70>"
      ]
     },
     "execution_count": 34,
     "metadata": {},
     "output_type": "execute_result"
    }
   ],
   "source": [
    "conn.execute(\"CREATE UNIQUE INDEX taxa_primary ON taxa (taxa_index)\")"
   ]
  },
  {
   "cell_type": "code",
   "execution_count": 35,
   "metadata": {},
   "outputs": [
    {
     "data": {
      "text/plain": [
       "<duckdb.DuckDBPyConnection at 0x118ac9e70>"
      ]
     },
     "execution_count": 35,
     "metadata": {},
     "output_type": "execute_result"
    }
   ],
   "source": [
    "conn.execute(\"CREATE UNIQUE INDEX protein_primary ON proteins (protein_int_index)\")"
   ]
  },
  {
   "cell_type": "code",
   "execution_count": 36,
   "metadata": {},
   "outputs": [
    {
     "data": {
      "text/plain": [
       "<duckdb.DuckDBPyConnection at 0x118ac9e70>"
      ]
     },
     "execution_count": 36,
     "metadata": {},
     "output_type": "execute_result"
    }
   ],
   "source": [
    "conn.execute(\"CREATE UNIQUE INDEX taxa_pair_primary ON taxa_pairs (taxa_pair_index)\")"
   ]
  },
  {
   "cell_type": "code",
   "execution_count": 37,
   "metadata": {},
   "outputs": [
    {
     "data": {
      "text/plain": [
       "<duckdb.DuckDBPyConnection at 0x118ac9e70>"
      ]
     },
     "execution_count": 37,
     "metadata": {},
     "output_type": "execute_result"
    }
   ],
   "source": [
    "conn.execute(\"CREATE UNIQUE INDEX prot_pair_primary ON protein_pairs (prot_pair_index)\")"
   ]
  },
  {
   "cell_type": "markdown",
   "metadata": {},
   "source": [
    "#### foreign indexes"
   ]
  },
  {
   "cell_type": "code",
   "execution_count": 38,
   "metadata": {},
   "outputs": [
    {
     "data": {
      "text/plain": [
       "<duckdb.DuckDBPyConnection at 0x118ac9e70>"
      ]
     },
     "execution_count": 38,
     "metadata": {},
     "output_type": "execute_result"
    }
   ],
   "source": [
    "conn.execute(\"CREATE INDEX protein_to_taxa ON proteins (taxa_index)\")"
   ]
  },
  {
   "cell_type": "code",
   "execution_count": 39,
   "metadata": {},
   "outputs": [
    {
     "data": {
      "text/plain": [
       "<duckdb.DuckDBPyConnection at 0x118ac9e70>"
      ]
     },
     "execution_count": 39,
     "metadata": {},
     "output_type": "execute_result"
    }
   ],
   "source": [
    "conn.execute(\"CREATE INDEX taxa_pair_to_meso ON taxa_pairs (meso_index)\")\n",
    "conn.execute(\"CREATE INDEX taxa_pair_to_thermo ON taxa_pairs (thermo_index)\")"
   ]
  },
  {
   "cell_type": "code",
   "execution_count": 60,
   "metadata": {},
   "outputs": [
    {
     "data": {
      "text/plain": [
       "<duckdb.DuckDBPyConnection at 0x1af149a70>"
      ]
     },
     "execution_count": 60,
     "metadata": {},
     "output_type": "execute_result"
    }
   ],
   "source": [
    "conn.execute(\"CREATE INDEX taxa_pair_both ON taxa_pairs (meso_index, thermo_index)\")"
   ]
  },
  {
   "cell_type": "code",
   "execution_count": 40,
   "metadata": {},
   "outputs": [
    {
     "data": {
      "text/plain": [
       "<duckdb.DuckDBPyConnection at 0x118ac9e70>"
      ]
     },
     "execution_count": 40,
     "metadata": {},
     "output_type": "execute_result"
    }
   ],
   "source": [
    "conn.execute(\"CREATE INDEX prot_pair_to_meso ON protein_pairs (meso_index)\")\n",
    "conn.execute(\"CREATE INDEX prot_pair_to_thermo ON protein_pairs (thermo_index)\")\n",
    "\n",
    "conn.execute(\"CREATE INDEX prot_pair_to_meso_prot ON protein_pairs (meso_protein_int_index)\")\n",
    "conn.execute(\"CREATE INDEX prot_pair_to_thermo_prot ON protein_pairs (thermo_protein_int_index)\")"
   ]
  },
  {
   "cell_type": "code",
   "execution_count": 82,
   "metadata": {},
   "outputs": [
    {
     "data": {
      "text/html": [
       "<div>\n",
       "<style scoped>\n",
       "    .dataframe tbody tr th:only-of-type {\n",
       "        vertical-align: middle;\n",
       "    }\n",
       "\n",
       "    .dataframe tbody tr th {\n",
       "        vertical-align: top;\n",
       "    }\n",
       "\n",
       "    .dataframe thead th {\n",
       "        text-align: right;\n",
       "    }\n",
       "</style>\n",
       "<table border=\"1\" class=\"dataframe\">\n",
       "  <thead>\n",
       "    <tr style=\"text-align: right;\">\n",
       "      <th></th>\n",
       "      <th>schema_name</th>\n",
       "      <th>schema_oid</th>\n",
       "      <th>index_name</th>\n",
       "      <th>index_oid</th>\n",
       "      <th>table_name</th>\n",
       "      <th>table_oid</th>\n",
       "      <th>is_unique</th>\n",
       "      <th>is_primary</th>\n",
       "      <th>expressions</th>\n",
       "      <th>sql</th>\n",
       "    </tr>\n",
       "  </thead>\n",
       "  <tbody>\n",
       "    <tr>\n",
       "      <th>0</th>\n",
       "      <td>main</td>\n",
       "      <td>1</td>\n",
       "      <td>prot_pair_to_meso_prot</td>\n",
       "      <td>1425</td>\n",
       "      <td>protein_pairs</td>\n",
       "      <td>1422</td>\n",
       "      <td>False</td>\n",
       "      <td>False</td>\n",
       "      <td>NaN</td>\n",
       "      <td>CREATE INDEX prot_pair_to_meso_prot ON protein...</td>\n",
       "    </tr>\n",
       "    <tr>\n",
       "      <th>1</th>\n",
       "      <td>main</td>\n",
       "      <td>1</td>\n",
       "      <td>prot_pair_primary</td>\n",
       "      <td>1423</td>\n",
       "      <td>protein_pairs</td>\n",
       "      <td>1422</td>\n",
       "      <td>True</td>\n",
       "      <td>False</td>\n",
       "      <td>NaN</td>\n",
       "      <td>CREATE UNIQUE INDEX prot_pair_primary ON prote...</td>\n",
       "    </tr>\n",
       "    <tr>\n",
       "      <th>2</th>\n",
       "      <td>main</td>\n",
       "      <td>1</td>\n",
       "      <td>taxa_pair_to_thermo</td>\n",
       "      <td>1388</td>\n",
       "      <td>taxa_pairs</td>\n",
       "      <td>837</td>\n",
       "      <td>False</td>\n",
       "      <td>False</td>\n",
       "      <td>NaN</td>\n",
       "      <td>CREATE INDEX taxa_pair_to_thermo ON taxa_pairs...</td>\n",
       "    </tr>\n",
       "    <tr>\n",
       "      <th>3</th>\n",
       "      <td>main</td>\n",
       "      <td>1</td>\n",
       "      <td>taxa_pair_to_meso</td>\n",
       "      <td>1386</td>\n",
       "      <td>taxa_pairs</td>\n",
       "      <td>837</td>\n",
       "      <td>False</td>\n",
       "      <td>False</td>\n",
       "      <td>NaN</td>\n",
       "      <td>CREATE INDEX taxa_pair_to_meso ON taxa_pairs (...</td>\n",
       "    </tr>\n",
       "    <tr>\n",
       "      <th>4</th>\n",
       "      <td>main</td>\n",
       "      <td>1</td>\n",
       "      <td>protein_to_taxa</td>\n",
       "      <td>1384</td>\n",
       "      <td>proteins</td>\n",
       "      <td>831</td>\n",
       "      <td>False</td>\n",
       "      <td>False</td>\n",
       "      <td>NaN</td>\n",
       "      <td>CREATE INDEX protein_to_taxa ON proteins (taxa...</td>\n",
       "    </tr>\n",
       "    <tr>\n",
       "      <th>5</th>\n",
       "      <td>main</td>\n",
       "      <td>1</td>\n",
       "      <td>prot_pair_to_thermo</td>\n",
       "      <td>1431</td>\n",
       "      <td>protein_pairs</td>\n",
       "      <td>1422</td>\n",
       "      <td>False</td>\n",
       "      <td>False</td>\n",
       "      <td>NaN</td>\n",
       "      <td>CREATE INDEX prot_pair_to_thermo ON protein_pa...</td>\n",
       "    </tr>\n",
       "    <tr>\n",
       "      <th>6</th>\n",
       "      <td>main</td>\n",
       "      <td>1</td>\n",
       "      <td>taxa_pair_primary</td>\n",
       "      <td>1372</td>\n",
       "      <td>taxa_pairs</td>\n",
       "      <td>837</td>\n",
       "      <td>True</td>\n",
       "      <td>False</td>\n",
       "      <td>NaN</td>\n",
       "      <td>CREATE UNIQUE INDEX taxa_pair_primary ON taxa_...</td>\n",
       "    </tr>\n",
       "    <tr>\n",
       "      <th>7</th>\n",
       "      <td>main</td>\n",
       "      <td>1</td>\n",
       "      <td>prot_pair_to_meso</td>\n",
       "      <td>1429</td>\n",
       "      <td>protein_pairs</td>\n",
       "      <td>1422</td>\n",
       "      <td>False</td>\n",
       "      <td>False</td>\n",
       "      <td>NaN</td>\n",
       "      <td>CREATE INDEX prot_pair_to_meso ON protein_pair...</td>\n",
       "    </tr>\n",
       "    <tr>\n",
       "      <th>8</th>\n",
       "      <td>main</td>\n",
       "      <td>1</td>\n",
       "      <td>protein_primary</td>\n",
       "      <td>1370</td>\n",
       "      <td>proteins</td>\n",
       "      <td>831</td>\n",
       "      <td>True</td>\n",
       "      <td>False</td>\n",
       "      <td>NaN</td>\n",
       "      <td>CREATE UNIQUE INDEX protein_primary ON protein...</td>\n",
       "    </tr>\n",
       "    <tr>\n",
       "      <th>9</th>\n",
       "      <td>main</td>\n",
       "      <td>1</td>\n",
       "      <td>prot_pair_to_thermo_prot</td>\n",
       "      <td>1427</td>\n",
       "      <td>protein_pairs</td>\n",
       "      <td>1422</td>\n",
       "      <td>False</td>\n",
       "      <td>False</td>\n",
       "      <td>NaN</td>\n",
       "      <td>CREATE INDEX prot_pair_to_thermo_prot ON prote...</td>\n",
       "    </tr>\n",
       "    <tr>\n",
       "      <th>10</th>\n",
       "      <td>main</td>\n",
       "      <td>1</td>\n",
       "      <td>taxa_primary</td>\n",
       "      <td>1368</td>\n",
       "      <td>taxa</td>\n",
       "      <td>1305</td>\n",
       "      <td>True</td>\n",
       "      <td>False</td>\n",
       "      <td>NaN</td>\n",
       "      <td>CREATE UNIQUE INDEX taxa_primary ON taxa (taxa...</td>\n",
       "    </tr>\n",
       "  </tbody>\n",
       "</table>\n",
       "</div>"
      ],
      "text/plain": [
       "   schema_name  schema_oid                index_name  index_oid  \\\n",
       "0         main           1    prot_pair_to_meso_prot       1425   \n",
       "1         main           1         prot_pair_primary       1423   \n",
       "2         main           1       taxa_pair_to_thermo       1388   \n",
       "3         main           1         taxa_pair_to_meso       1386   \n",
       "4         main           1           protein_to_taxa       1384   \n",
       "5         main           1       prot_pair_to_thermo       1431   \n",
       "6         main           1         taxa_pair_primary       1372   \n",
       "7         main           1         prot_pair_to_meso       1429   \n",
       "8         main           1           protein_primary       1370   \n",
       "9         main           1  prot_pair_to_thermo_prot       1427   \n",
       "10        main           1              taxa_primary       1368   \n",
       "\n",
       "       table_name  table_oid  is_unique  is_primary expressions  \\\n",
       "0   protein_pairs       1422      False       False         NaN   \n",
       "1   protein_pairs       1422       True       False         NaN   \n",
       "2      taxa_pairs        837      False       False         NaN   \n",
       "3      taxa_pairs        837      False       False         NaN   \n",
       "4        proteins        831      False       False         NaN   \n",
       "5   protein_pairs       1422      False       False         NaN   \n",
       "6      taxa_pairs        837       True       False         NaN   \n",
       "7   protein_pairs       1422      False       False         NaN   \n",
       "8        proteins        831       True       False         NaN   \n",
       "9   protein_pairs       1422      False       False         NaN   \n",
       "10           taxa       1305       True       False         NaN   \n",
       "\n",
       "                                                  sql  \n",
       "0   CREATE INDEX prot_pair_to_meso_prot ON protein...  \n",
       "1   CREATE UNIQUE INDEX prot_pair_primary ON prote...  \n",
       "2   CREATE INDEX taxa_pair_to_thermo ON taxa_pairs...  \n",
       "3   CREATE INDEX taxa_pair_to_meso ON taxa_pairs (...  \n",
       "4   CREATE INDEX protein_to_taxa ON proteins (taxa...  \n",
       "5   CREATE INDEX prot_pair_to_thermo ON protein_pa...  \n",
       "6   CREATE UNIQUE INDEX taxa_pair_primary ON taxa_...  \n",
       "7   CREATE INDEX prot_pair_to_meso ON protein_pair...  \n",
       "8   CREATE UNIQUE INDEX protein_primary ON protein...  \n",
       "9   CREATE INDEX prot_pair_to_thermo_prot ON prote...  \n",
       "10  CREATE UNIQUE INDEX taxa_primary ON taxa (taxa...  "
      ]
     },
     "execution_count": 82,
     "metadata": {},
     "output_type": "execute_result"
    }
   ],
   "source": [
    "conn.execute(\"SELECT * FROM duckdb_indexes()\").df()"
   ]
  },
  {
   "cell_type": "markdown",
   "metadata": {},
   "source": [
    "## Test some queries"
   ]
  },
  {
   "cell_type": "markdown",
   "metadata": {},
   "source": [
    "#### taxa pairs and protein pairs"
   ]
  },
  {
   "cell_type": "code",
   "execution_count": 42,
   "metadata": {},
   "outputs": [
    {
     "data": {
      "text/html": [
       "<div>\n",
       "<style scoped>\n",
       "    .dataframe tbody tr th:only-of-type {\n",
       "        vertical-align: middle;\n",
       "    }\n",
       "\n",
       "    .dataframe tbody tr th {\n",
       "        vertical-align: top;\n",
       "    }\n",
       "\n",
       "    .dataframe thead th {\n",
       "        text-align: right;\n",
       "    }\n",
       "</style>\n",
       "<table border=\"1\" class=\"dataframe\">\n",
       "  <thead>\n",
       "    <tr style=\"text-align: right;\">\n",
       "      <th></th>\n",
       "      <th>taxa_pair_index</th>\n",
       "      <th>prot_pair_index</th>\n",
       "      <th>local_E_value</th>\n",
       "      <th>is_pair</th>\n",
       "    </tr>\n",
       "  </thead>\n",
       "  <tbody>\n",
       "    <tr>\n",
       "      <th>0</th>\n",
       "      <td>652803</td>\n",
       "      <td>0</td>\n",
       "      <td>0.000000e+00</td>\n",
       "      <td>True</td>\n",
       "    </tr>\n",
       "    <tr>\n",
       "      <th>1</th>\n",
       "      <td>652803</td>\n",
       "      <td>1</td>\n",
       "      <td>7.400000e-33</td>\n",
       "      <td>True</td>\n",
       "    </tr>\n",
       "    <tr>\n",
       "      <th>2</th>\n",
       "      <td>652803</td>\n",
       "      <td>2</td>\n",
       "      <td>0.000000e+00</td>\n",
       "      <td>True</td>\n",
       "    </tr>\n",
       "    <tr>\n",
       "      <th>3</th>\n",
       "      <td>652803</td>\n",
       "      <td>3</td>\n",
       "      <td>4.080000e-01</td>\n",
       "      <td>True</td>\n",
       "    </tr>\n",
       "    <tr>\n",
       "      <th>4</th>\n",
       "      <td>652803</td>\n",
       "      <td>4</td>\n",
       "      <td>3.640000e-01</td>\n",
       "      <td>True</td>\n",
       "    </tr>\n",
       "    <tr>\n",
       "      <th>5</th>\n",
       "      <td>652803</td>\n",
       "      <td>5</td>\n",
       "      <td>0.000000e+00</td>\n",
       "      <td>True</td>\n",
       "    </tr>\n",
       "    <tr>\n",
       "      <th>6</th>\n",
       "      <td>652803</td>\n",
       "      <td>6</td>\n",
       "      <td>0.000000e+00</td>\n",
       "      <td>True</td>\n",
       "    </tr>\n",
       "    <tr>\n",
       "      <th>7</th>\n",
       "      <td>652803</td>\n",
       "      <td>7</td>\n",
       "      <td>0.000000e+00</td>\n",
       "      <td>True</td>\n",
       "    </tr>\n",
       "    <tr>\n",
       "      <th>8</th>\n",
       "      <td>652803</td>\n",
       "      <td>8</td>\n",
       "      <td>0.000000e+00</td>\n",
       "      <td>True</td>\n",
       "    </tr>\n",
       "    <tr>\n",
       "      <th>9</th>\n",
       "      <td>652803</td>\n",
       "      <td>9</td>\n",
       "      <td>2.326155e-43</td>\n",
       "      <td>True</td>\n",
       "    </tr>\n",
       "  </tbody>\n",
       "</table>\n",
       "</div>"
      ],
      "text/plain": [
       "   taxa_pair_index  prot_pair_index  local_E_value  is_pair\n",
       "0           652803                0   0.000000e+00     True\n",
       "1           652803                1   7.400000e-33     True\n",
       "2           652803                2   0.000000e+00     True\n",
       "3           652803                3   4.080000e-01     True\n",
       "4           652803                4   3.640000e-01     True\n",
       "5           652803                5   0.000000e+00     True\n",
       "6           652803                6   0.000000e+00     True\n",
       "7           652803                7   0.000000e+00     True\n",
       "8           652803                8   0.000000e+00     True\n",
       "9           652803                9   2.326155e-43     True"
      ]
     },
     "execution_count": 42,
     "metadata": {},
     "output_type": "execute_result"
    }
   ],
   "source": [
    "# join taxa and protein pairs\n",
    "test = conn.execute(\"\"\"\n",
    "    SELECT taxa_pair_index, prot_pair_index, protein_pairs.local_E_value, taxa_pairs.is_pair FROM protein_pairs\n",
    "    INNER JOIN taxa_pairs ON (protein_pairs.meso_index=taxa_pairs.meso_index AND protein_pairs.thermo_index=taxa_pairs.thermo_index)\n",
    "    LIMIT 10\n",
    "\"\"\").df()\n",
    "test"
   ]
  },
  {
   "cell_type": "code",
   "execution_count": 43,
   "metadata": {},
   "outputs": [
    {
     "data": {
      "text/html": [
       "<div>\n",
       "<style scoped>\n",
       "    .dataframe tbody tr th:only-of-type {\n",
       "        vertical-align: middle;\n",
       "    }\n",
       "\n",
       "    .dataframe tbody tr th {\n",
       "        vertical-align: top;\n",
       "    }\n",
       "\n",
       "    .dataframe thead th {\n",
       "        text-align: right;\n",
       "    }\n",
       "</style>\n",
       "<table border=\"1\" class=\"dataframe\">\n",
       "  <thead>\n",
       "    <tr style=\"text-align: right;\">\n",
       "      <th></th>\n",
       "      <th>count(taxa_pair_index)</th>\n",
       "    </tr>\n",
       "  </thead>\n",
       "  <tbody>\n",
       "    <tr>\n",
       "      <th>0</th>\n",
       "      <td>181500502</td>\n",
       "    </tr>\n",
       "  </tbody>\n",
       "</table>\n",
       "</div>"
      ],
      "text/plain": [
       "   count(taxa_pair_index)\n",
       "0               181500502"
      ]
     },
     "execution_count": 43,
     "metadata": {},
     "output_type": "execute_result"
    }
   ],
   "source": [
    "# should have number equal to number of protein pairs\n",
    "conn.execute(\"\"\"\n",
    "    SELECT COUNT(taxa_pair_index) FROM protein_pairs\n",
    "    INNER JOIN taxa_pairs ON (protein_pairs.meso_index=taxa_pairs.meso_index AND protein_pairs.thermo_index=taxa_pairs.thermo_index)\n",
    "\"\"\").df()"
   ]
  },
  {
   "cell_type": "code",
   "execution_count": 44,
   "metadata": {},
   "outputs": [
    {
     "data": {
      "text/html": [
       "<div>\n",
       "<style scoped>\n",
       "    .dataframe tbody tr th:only-of-type {\n",
       "        vertical-align: middle;\n",
       "    }\n",
       "\n",
       "    .dataframe tbody tr th {\n",
       "        vertical-align: top;\n",
       "    }\n",
       "\n",
       "    .dataframe thead th {\n",
       "        text-align: right;\n",
       "    }\n",
       "</style>\n",
       "<table border=\"1\" class=\"dataframe\">\n",
       "  <thead>\n",
       "    <tr style=\"text-align: right;\">\n",
       "      <th></th>\n",
       "      <th>count(DISTINCT taxa_pair_index)</th>\n",
       "    </tr>\n",
       "  </thead>\n",
       "  <tbody>\n",
       "    <tr>\n",
       "      <th>0</th>\n",
       "      <td>13781</td>\n",
       "    </tr>\n",
       "  </tbody>\n",
       "</table>\n",
       "</div>"
      ],
      "text/plain": [
       "   count(DISTINCT taxa_pair_index)\n",
       "0                            13781"
      ]
     },
     "execution_count": 44,
     "metadata": {},
     "output_type": "execute_result"
    }
   ],
   "source": [
    "# should have number equal to or less than number taxa pairs\n",
    "conn.execute(\"\"\"\n",
    "    SELECT COUNT(DISTINCT taxa_pair_index) FROM protein_pairs\n",
    "    INNER JOIN taxa_pairs ON (protein_pairs.meso_index=taxa_pairs.meso_index AND protein_pairs.thermo_index=taxa_pairs.thermo_index)\n",
    "\"\"\").df()"
   ]
  },
  {
   "cell_type": "code",
   "execution_count": 45,
   "metadata": {},
   "outputs": [
    {
     "data": {
      "text/html": [
       "<div>\n",
       "<style scoped>\n",
       "    .dataframe tbody tr th:only-of-type {\n",
       "        vertical-align: middle;\n",
       "    }\n",
       "\n",
       "    .dataframe tbody tr th {\n",
       "        vertical-align: top;\n",
       "    }\n",
       "\n",
       "    .dataframe thead th {\n",
       "        text-align: right;\n",
       "    }\n",
       "</style>\n",
       "<table border=\"1\" class=\"dataframe\">\n",
       "  <thead>\n",
       "    <tr style=\"text-align: right;\">\n",
       "      <th></th>\n",
       "      <th>count(taxa_pair_index)</th>\n",
       "    </tr>\n",
       "  </thead>\n",
       "  <tbody>\n",
       "    <tr>\n",
       "      <th>0</th>\n",
       "      <td>13784</td>\n",
       "    </tr>\n",
       "  </tbody>\n",
       "</table>\n",
       "</div>"
      ],
      "text/plain": [
       "   count(taxa_pair_index)\n",
       "0                   13784"
      ]
     },
     "execution_count": 45,
     "metadata": {},
     "output_type": "execute_result"
    }
   ],
   "source": [
    "conn.execute(\"SELECT COUNT(taxa_pair_index) FROM taxa_pairs WHERE is_pair\").df()"
   ]
  },
  {
   "cell_type": "markdown",
   "metadata": {},
   "source": [
    "close, looks like 3 taxa pairs failed or got no proteins\n"
   ]
  },
  {
   "cell_type": "markdown",
   "metadata": {},
   "source": [
    "#### protein pairs to proteins"
   ]
  },
  {
   "cell_type": "code",
   "execution_count": 46,
   "metadata": {},
   "outputs": [
    {
     "data": {
      "text/html": [
       "<div>\n",
       "<style scoped>\n",
       "    .dataframe tbody tr th:only-of-type {\n",
       "        vertical-align: middle;\n",
       "    }\n",
       "\n",
       "    .dataframe tbody tr th {\n",
       "        vertical-align: top;\n",
       "    }\n",
       "\n",
       "    .dataframe thead th {\n",
       "        text-align: right;\n",
       "    }\n",
       "</style>\n",
       "<table border=\"1\" class=\"dataframe\">\n",
       "  <thead>\n",
       "    <tr style=\"text-align: right;\">\n",
       "      <th></th>\n",
       "      <th>count(prot_pair_index)</th>\n",
       "    </tr>\n",
       "  </thead>\n",
       "  <tbody>\n",
       "    <tr>\n",
       "      <th>0</th>\n",
       "      <td>1758286</td>\n",
       "    </tr>\n",
       "  </tbody>\n",
       "</table>\n",
       "</div>"
      ],
      "text/plain": [
       "   count(prot_pair_index)\n",
       "0                 1758286"
      ]
     },
     "execution_count": 46,
     "metadata": {},
     "output_type": "execute_result"
    }
   ],
   "source": [
    "# run a basic filter of protein pair metrics\n",
    "conn.execute(\"\"\"\n",
    "    SELECT COUNT(prot_pair_index) FROM protein_pairs\n",
    "    WHERE\n",
    "        protein_pairs.local_E_Value< 1e-46\n",
    "        AND protein_pairs.query_align_cov > 0.95\n",
    "        AND protein_pairs.subject_align_cov > 0.95\n",
    "        AND protein_pairs.scaled_local_symmetric_percent_id > 0.7\n",
    "\"\"\").df()"
   ]
  },
  {
   "cell_type": "code",
   "execution_count": 47,
   "metadata": {},
   "outputs": [
    {
     "data": {
      "text/html": [
       "<div>\n",
       "<style scoped>\n",
       "    .dataframe tbody tr th:only-of-type {\n",
       "        vertical-align: middle;\n",
       "    }\n",
       "\n",
       "    .dataframe tbody tr th {\n",
       "        vertical-align: top;\n",
       "    }\n",
       "\n",
       "    .dataframe thead th {\n",
       "        text-align: right;\n",
       "    }\n",
       "</style>\n",
       "<table border=\"1\" class=\"dataframe\">\n",
       "  <thead>\n",
       "    <tr style=\"text-align: right;\">\n",
       "      <th></th>\n",
       "      <th>meso_protein_index</th>\n",
       "      <th>thermo_protein_index</th>\n",
       "      <th>meso_protein_int_index</th>\n",
       "      <th>thermo_protein_int_index</th>\n",
       "    </tr>\n",
       "  </thead>\n",
       "  <tbody>\n",
       "    <tr>\n",
       "      <th>0</th>\n",
       "      <td>4886.1509</td>\n",
       "      <td>14963.324</td>\n",
       "      <td>17226524</td>\n",
       "      <td>28678489</td>\n",
       "    </tr>\n",
       "    <tr>\n",
       "      <th>1</th>\n",
       "      <td>4886.1507</td>\n",
       "      <td>14963.327</td>\n",
       "      <td>17226522</td>\n",
       "      <td>28678492</td>\n",
       "    </tr>\n",
       "    <tr>\n",
       "      <th>2</th>\n",
       "      <td>4886.1129</td>\n",
       "      <td>14963.649</td>\n",
       "      <td>17226144</td>\n",
       "      <td>28678814</td>\n",
       "    </tr>\n",
       "    <tr>\n",
       "      <th>3</th>\n",
       "      <td>4886.2204</td>\n",
       "      <td>14963.1008</td>\n",
       "      <td>17227219</td>\n",
       "      <td>28679173</td>\n",
       "    </tr>\n",
       "    <tr>\n",
       "      <th>4</th>\n",
       "      <td>4886.1765</td>\n",
       "      <td>14963.1048</td>\n",
       "      <td>17226780</td>\n",
       "      <td>28679213</td>\n",
       "    </tr>\n",
       "    <tr>\n",
       "      <th>5</th>\n",
       "      <td>4886.279</td>\n",
       "      <td>14963.1352</td>\n",
       "      <td>17225294</td>\n",
       "      <td>28679517</td>\n",
       "    </tr>\n",
       "    <tr>\n",
       "      <th>6</th>\n",
       "      <td>4886.3305</td>\n",
       "      <td>14963.1814</td>\n",
       "      <td>17228320</td>\n",
       "      <td>28679979</td>\n",
       "    </tr>\n",
       "    <tr>\n",
       "      <th>7</th>\n",
       "      <td>4886.1277</td>\n",
       "      <td>14963.2090</td>\n",
       "      <td>17226292</td>\n",
       "      <td>28680255</td>\n",
       "    </tr>\n",
       "    <tr>\n",
       "      <th>8</th>\n",
       "      <td>4886.2503</td>\n",
       "      <td>14963.2668</td>\n",
       "      <td>17227518</td>\n",
       "      <td>28680833</td>\n",
       "    </tr>\n",
       "    <tr>\n",
       "      <th>9</th>\n",
       "      <td>4886.132</td>\n",
       "      <td>14963.3160</td>\n",
       "      <td>17225147</td>\n",
       "      <td>28681325</td>\n",
       "    </tr>\n",
       "  </tbody>\n",
       "</table>\n",
       "</div>"
      ],
      "text/plain": [
       "  meso_protein_index thermo_protein_index  meso_protein_int_index  \\\n",
       "0          4886.1509            14963.324                17226524   \n",
       "1          4886.1507            14963.327                17226522   \n",
       "2          4886.1129            14963.649                17226144   \n",
       "3          4886.2204           14963.1008                17227219   \n",
       "4          4886.1765           14963.1048                17226780   \n",
       "5           4886.279           14963.1352                17225294   \n",
       "6          4886.3305           14963.1814                17228320   \n",
       "7          4886.1277           14963.2090                17226292   \n",
       "8          4886.2503           14963.2668                17227518   \n",
       "9           4886.132           14963.3160                17225147   \n",
       "\n",
       "   thermo_protein_int_index  \n",
       "0                  28678489  \n",
       "1                  28678492  \n",
       "2                  28678814  \n",
       "3                  28679173  \n",
       "4                  28679213  \n",
       "5                  28679517  \n",
       "6                  28679979  \n",
       "7                  28680255  \n",
       "8                  28680833  \n",
       "9                  28681325  "
      ]
     },
     "execution_count": 47,
     "metadata": {},
     "output_type": "execute_result"
    }
   ],
   "source": [
    "# look at the protein indexes of the filter\n",
    "conn.execute(\"\"\"\n",
    "    SELECT \n",
    "        protein_pairs.meso_protein_index,\n",
    "        protein_pairs.thermo_protein_index,\n",
    "        protein_pairs.meso_protein_int_index,\n",
    "        protein_pairs.thermo_protein_int_index\n",
    "    FROM protein_pairs\n",
    "    WHERE\n",
    "        protein_pairs.local_E_Value< 1e-46\n",
    "        AND protein_pairs.query_align_cov > 0.95\n",
    "        AND protein_pairs.subject_align_cov > 0.95\n",
    "        AND protein_pairs.scaled_local_symmetric_percent_id > 0.7\n",
    "    LIMIT 10\n",
    "\"\"\").df()"
   ]
  },
  {
   "cell_type": "code",
   "execution_count": 48,
   "metadata": {},
   "outputs": [],
   "source": [
    "# show the protein sequences for the filter\n",
    "test = conn.execute(\"\"\"\n",
    "    SELECT \n",
    "        pr_t.protein_seq AS thermo_seq,\n",
    "        pr_m.protein_seq AS meso_seq,\n",
    "        protein_pairs.meso_protein_index,\n",
    "        protein_pairs.thermo_protein_index,\n",
    "        protein_pairs.query_align_cov,\n",
    "        protein_pairs.subject_align_cov\n",
    "    FROM protein_pairs\n",
    "        INNER JOIN proteins AS pr_t ON protein_pairs.thermo_protein_int_index=pr_t.protein_int_index\n",
    "        INNER JOIN proteins AS pr_m ON protein_pairs.meso_protein_int_index=pr_m.protein_int_index\n",
    "    WHERE\n",
    "        protein_pairs.local_E_Value< 1e-46\n",
    "        AND protein_pairs.query_align_cov > 0.95\n",
    "        AND protein_pairs.subject_align_cov > 0.95\n",
    "        AND protein_pairs.scaled_local_symmetric_percent_id > 0.7\n",
    "    LIMIT 10\n",
    "\"\"\").df()"
   ]
  },
  {
   "cell_type": "code",
   "execution_count": 49,
   "metadata": {},
   "outputs": [
    {
     "data": {
      "text/plain": [
       "thermo_seq              MKITEIELFTVPPRWLFLKISTDEGITGWGEPVVEGRADTVAAAVR...\n",
       "meso_seq                MKITRFETFIVPPRWLFLKIETDEGISGWGEPVVEGKAHTVQAAVE...\n",
       "meso_protein_index                                              3950.3409\n",
       "thermo_protein_index                                            10208.908\n",
       "query_align_cov                                                       1.0\n",
       "subject_align_cov                                                     1.0\n",
       "Name: 0, dtype: object"
      ]
     },
     "execution_count": 49,
     "metadata": {},
     "output_type": "execute_result"
    }
   ],
   "source": [
    "test.iloc[0]"
   ]
  },
  {
   "cell_type": "markdown",
   "metadata": {},
   "source": [
    "Let's go check in the files that we did not screw everything up too bad..."
   ]
  },
  {
   "cell_type": "code",
   "execution_count": 50,
   "metadata": {},
   "outputs": [
    {
     "data": {
      "text/plain": [
       "thermo_protein_id                             10208.908\n",
       "meso_protein_id                               3950.3409\n",
       "local_gap_compressed_percent_id      0.7356020942408377\n",
       "scaled_local_query_percent_id        0.7356020942408377\n",
       "scaled_local_symmetric_percent_id    0.7356020942408377\n",
       "local_E_value                                 2.71e-217\n",
       "query_align_start                                     1\n",
       "query_align_end                                     382\n",
       "subject_align_end                                   382\n",
       "subject_align_start                                   1\n",
       "query_align_len                                     382\n",
       "query_align_cov                                     1.0\n",
       "subject_align_len                                   382\n",
       "subject_align_cov                                   1.0\n",
       "bit_score                                        1537.0\n",
       "dtype: object"
      ]
     },
     "execution_count": 50,
     "metadata": {},
     "output_type": "execute_result"
    }
   ],
   "source": [
    "pd.Series( \n",
    "    index='thermo_protein_id,meso_protein_id,local_gap_compressed_percent_id,scaled_local_query_percent_id,scaled_local_symmetric_percent_id,local_E_value,query_align_start,query_align_end,subject_align_end,subject_align_start,query_align_len,query_align_cov,subject_align_len,subject_align_cov,bit_score'.split(','),\n",
    "    data='10208.908,3950.3409,0.7356020942408377,0.7356020942408377,0.7356020942408377,2.71e-217,1,382,382,1,382,1.0,382,1.0,1537.0'.split(','))"
   ]
  },
  {
   "cell_type": "markdown",
   "metadata": {},
   "source": [
    "The scores are definately within the filter. Let's look at the original sequence."
   ]
  },
  {
   "cell_type": "markdown",
   "metadata": {},
   "source": [
    "MKITEIELFTVPPRWLFLKISTDEGITGWGEPVVEGRADTVAAAVRELEPCLIGNDPSRIEDLWQVLYRGGFYRGGPVMMSAIAGIDQALWDIKGQRYGLPVYEFLGGAAREKVRVYSWIGGDRPTDVGRAAAEKKEQGFNAIKMNASGEMNYIDSFSKVEAIVERVAAVREATGPDFGIAVDFHGRIHRAMAKVVAKELEPYRLMFIEEPVLPENNEALREVARHTSTPIATGERMYSRWDFKGLLEDGYVDIIQPDLSHAGGISEVKKIAAMAEAYDVTVAPHCPLGPVALASCLQLDACTPNVFIQEQSLGIHYNQESDLLDYLEDPTVFQYEDGYVAIPEGPGLGIRVDESVVREAARRGHKWKNPIWRNADGTVAEW\n",
    "\n",
    "MKITRFETFIVPPRWLFLKIETDEGISGWGEPVVEGKAHTVQAAVEELMDYLIGQDPQRIEDLWQLMYRGGFYRGGAILMSAIAGIDQALWDIKGKIYNAPVYQLLGGACRNTMRVYSWVGGDRPIDVVQAALEKKAAGFTAIKMNASEEMQFIDTHDKIYAIVERVAAIREACGPEFGIAVDFHGRLHKPMARGLARELDPYRLMFIEEPVLPENNEVLREIAHHTSTPIATGERMYSRWEFKNLLKDGVVDIIQPDLSHAGGITECKKIFAMAEAFDVAVAPHCPLGPIALAACLQVDATSYNAVIQEQSLGIHYNQGNDLLDYITDPTVFAYSDGHVHIPSGPGLGITVNEEYVRKMAEAGHRWRNPVWRHRDGSIAEW\n",
    "\n",
    "They look the same to me!"
   ]
  },
  {
   "cell_type": "markdown",
   "metadata": {},
   "source": [
    "###  filter by both taxa pair and protein pair"
   ]
  },
  {
   "cell_type": "code",
   "execution_count": 51,
   "metadata": {},
   "outputs": [
    {
     "data": {
      "text/html": [
       "<div>\n",
       "<style scoped>\n",
       "    .dataframe tbody tr th:only-of-type {\n",
       "        vertical-align: middle;\n",
       "    }\n",
       "\n",
       "    .dataframe tbody tr th {\n",
       "        vertical-align: top;\n",
       "    }\n",
       "\n",
       "    .dataframe thead th {\n",
       "        text-align: right;\n",
       "    }\n",
       "</style>\n",
       "<table border=\"1\" class=\"dataframe\">\n",
       "  <thead>\n",
       "    <tr style=\"text-align: right;\">\n",
       "      <th></th>\n",
       "      <th>prot_pair_index</th>\n",
       "    </tr>\n",
       "  </thead>\n",
       "  <tbody>\n",
       "    <tr>\n",
       "      <th>0</th>\n",
       "      <td>10299</td>\n",
       "    </tr>\n",
       "    <tr>\n",
       "      <th>1</th>\n",
       "      <td>10300</td>\n",
       "    </tr>\n",
       "    <tr>\n",
       "      <th>2</th>\n",
       "      <td>10316</td>\n",
       "    </tr>\n",
       "    <tr>\n",
       "      <th>3</th>\n",
       "      <td>10318</td>\n",
       "    </tr>\n",
       "    <tr>\n",
       "      <th>4</th>\n",
       "      <td>10320</td>\n",
       "    </tr>\n",
       "    <tr>\n",
       "      <th>...</th>\n",
       "      <td>...</td>\n",
       "    </tr>\n",
       "    <tr>\n",
       "      <th>1738393</th>\n",
       "      <td>179880601</td>\n",
       "    </tr>\n",
       "    <tr>\n",
       "      <th>1738394</th>\n",
       "      <td>179880788</td>\n",
       "    </tr>\n",
       "    <tr>\n",
       "      <th>1738395</th>\n",
       "      <td>179880791</td>\n",
       "    </tr>\n",
       "    <tr>\n",
       "      <th>1738396</th>\n",
       "      <td>179880792</td>\n",
       "    </tr>\n",
       "    <tr>\n",
       "      <th>1738397</th>\n",
       "      <td>179881032</td>\n",
       "    </tr>\n",
       "  </tbody>\n",
       "</table>\n",
       "<p>1738398 rows × 1 columns</p>\n",
       "</div>"
      ],
      "text/plain": [
       "         prot_pair_index\n",
       "0                  10299\n",
       "1                  10300\n",
       "2                  10316\n",
       "3                  10318\n",
       "4                  10320\n",
       "...                  ...\n",
       "1738393        179880601\n",
       "1738394        179880788\n",
       "1738395        179880791\n",
       "1738396        179880792\n",
       "1738397        179881032\n",
       "\n",
       "[1738398 rows x 1 columns]"
      ]
     },
     "execution_count": 51,
     "metadata": {},
     "output_type": "execute_result"
    }
   ],
   "source": [
    "conn.execute(\"\"\"\n",
    "    SELECT \n",
    "        protein_pairs.prot_pair_index\n",
    "    FROM protein_pairs\n",
    "    INNER JOIN taxa_pairs ON (protein_pairs.meso_index=taxa_pairs.meso_index AND protein_pairs.thermo_index=taxa_pairs.thermo_index)\n",
    "    WHERE\n",
    "        taxa_pairs.query_align_len>1300\n",
    "        AND taxa_pairs.subject_align_len>1300\n",
    "        AND protein_pairs.local_E_Value< 1e-46\n",
    "        AND protein_pairs.query_align_cov > 0.95\n",
    "        AND protein_pairs.subject_align_cov > 0.95\n",
    "        AND protein_pairs.scaled_local_symmetric_percent_id > 0.7\n",
    "\"\"\").df()"
   ]
  },
  {
   "cell_type": "code",
   "execution_count": 52,
   "metadata": {},
   "outputs": [],
   "source": [
    "# repeat above but print out the 16s sequence\n",
    "test = conn.execute(\"\"\"\n",
    "    SELECT \n",
    "        protein_pairs.prot_pair_index,\n",
    "        taxa_m.seq_16srRNA AS meso_16s,\n",
    "        taxa_t.seq_16srRNA AS thermo_16s,\n",
    "    FROM protein_pairs\n",
    "    INNER JOIN taxa_pairs ON (protein_pairs.meso_index=taxa_pairs.meso_index AND protein_pairs.thermo_index=taxa_pairs.thermo_index)\n",
    "    INNER JOIN taxa AS taxa_m ON (taxa_pairs.meso_index=taxa_m.taxa_index)\n",
    "    INNER JOIN taxa AS taxa_t ON (taxa_pairs.thermo_index=taxa_t.taxa_index)\n",
    "    WHERE\n",
    "        taxa_pairs.query_align_len>1300\n",
    "        AND taxa_pairs.subject_align_len>1300\n",
    "        AND protein_pairs.local_E_Value< 1e-46\n",
    "        AND protein_pairs.query_align_cov > 0.95\n",
    "        AND protein_pairs.subject_align_cov > 0.95\n",
    "        AND protein_pairs.scaled_local_symmetric_percent_id > 0.7\n",
    "\"\"\").df()"
   ]
  },
  {
   "cell_type": "code",
   "execution_count": 53,
   "metadata": {},
   "outputs": [
    {
     "data": {
      "text/plain": [
       "1348"
      ]
     },
     "execution_count": 53,
     "metadata": {},
     "output_type": "execute_result"
    }
   ],
   "source": [
    "test['thermo_16s'].apply(len).min()"
   ]
  },
  {
   "cell_type": "code",
   "execution_count": 54,
   "metadata": {},
   "outputs": [
    {
     "data": {
      "text/plain": [
       "1318"
      ]
     },
     "execution_count": 54,
     "metadata": {},
     "output_type": "execute_result"
    }
   ],
   "source": [
    "test['meso_16s'].apply(len).min()"
   ]
  },
  {
   "cell_type": "markdown",
   "metadata": {},
   "source": [
    "Dope, we sucessfully filtered out anything with meso and thermo 16s alignments using less that 1300 BPs"
   ]
  },
  {
   "cell_type": "code",
   "execution_count": 56,
   "metadata": {},
   "outputs": [],
   "source": [
    "# repeat above but print out what we would need for ML, eg. protein sequence and OGT\n",
    "test = conn.execute(\"\"\"\n",
    "    SELECT \n",
    "        protein_pairs.prot_pair_index,\n",
    "        proteins_m.protein_seq AS meso_seq,\n",
    "        proteins_t.protein_seq AS thermo_seq,\n",
    "        taxa_m.ogt AS meso_ogt,\n",
    "        taxa_t.ogt AS thermo_ogt,\n",
    "        protein_pairs.scaled_local_symmetric_percent_id\n",
    "    FROM protein_pairs\n",
    "    INNER JOIN taxa AS taxa_m ON (protein_pairs.meso_index=taxa_m.taxa_index)\n",
    "    INNER JOIN taxa AS taxa_t ON (protein_pairs.thermo_index=taxa_t.taxa_index)\n",
    "    INNER JOIN proteins AS proteins_m ON (protein_pairs.meso_protein_int_index=proteins_m.protein_int_index)\n",
    "    INNER JOIN proteins AS proteins_t ON (protein_pairs.thermo_protein_int_index=proteins_t.protein_int_index)\n",
    "    WHERE\n",
    "        taxa_m.len_16s>1300\n",
    "        AND taxa_t.len_16s>1300\n",
    "        AND protein_pairs.local_E_Value< 1e-46\n",
    "        AND protein_pairs.query_align_cov > 0.95\n",
    "        AND protein_pairs.subject_align_cov > 0.95\n",
    "        AND protein_pairs.scaled_local_symmetric_percent_id > 0.7\n",
    "\"\"\").df()"
   ]
  },
  {
   "cell_type": "code",
   "execution_count": 57,
   "metadata": {},
   "outputs": [
    {
     "data": {
      "text/html": [
       "<div>\n",
       "<style scoped>\n",
       "    .dataframe tbody tr th:only-of-type {\n",
       "        vertical-align: middle;\n",
       "    }\n",
       "\n",
       "    .dataframe tbody tr th {\n",
       "        vertical-align: top;\n",
       "    }\n",
       "\n",
       "    .dataframe thead th {\n",
       "        text-align: right;\n",
       "    }\n",
       "</style>\n",
       "<table border=\"1\" class=\"dataframe\">\n",
       "  <thead>\n",
       "    <tr style=\"text-align: right;\">\n",
       "      <th></th>\n",
       "      <th>prot_pair_index</th>\n",
       "      <th>meso_seq</th>\n",
       "      <th>thermo_seq</th>\n",
       "      <th>meso_ogt</th>\n",
       "      <th>thermo_ogt</th>\n",
       "      <th>scaled_local_symmetric_percent_id</th>\n",
       "    </tr>\n",
       "  </thead>\n",
       "  <tbody>\n",
       "    <tr>\n",
       "      <th>0</th>\n",
       "      <td>173553002</td>\n",
       "      <td>MPTLNEPKLIAGNANLPLAQSITRRMSMHRGVDQGLVDARVERFND...</td>\n",
       "      <td>MPAVTEPKLIAGNANLSLAKSIARRMSMHRGMSVNLVDARVERFND...</td>\n",
       "      <td>24.0</td>\n",
       "      <td>42.5</td>\n",
       "      <td>0.758112</td>\n",
       "    </tr>\n",
       "    <tr>\n",
       "      <th>1</th>\n",
       "      <td>173552983</td>\n",
       "      <td>MPDSNGADIKVGIIMGSQSDWPTMKEAATILDELGVAYEAKIVSAH...</td>\n",
       "      <td>MAVSVGIIMGSQSDWPTMKAAAEILDELGIAYEAKIVSAHRTPDRL...</td>\n",
       "      <td>24.0</td>\n",
       "      <td>42.5</td>\n",
       "      <td>0.815951</td>\n",
       "    </tr>\n",
       "    <tr>\n",
       "      <th>2</th>\n",
       "      <td>173551535</td>\n",
       "      <td>MIGRLNHVAIAVPDLDAASAQYKNTLGANVGAPQDEPDHGVTVVFI...</td>\n",
       "      <td>MIGRLNHVAIAVPDLDAAADQYRNTLGAKVGAPQPEPDHGVTVVFI...</td>\n",
       "      <td>24.0</td>\n",
       "      <td>42.5</td>\n",
       "      <td>0.917910</td>\n",
       "    </tr>\n",
       "    <tr>\n",
       "      <th>3</th>\n",
       "      <td>173551557</td>\n",
       "      <td>MSWTDERVELLKKMWGEGQSASQIAKELGGVTRNAVIGKVHRLGLS...</td>\n",
       "      <td>MSWTDERVETLKRMWGEGQSASQIAKELGGVTRNAVIGKVHRLGLS...</td>\n",
       "      <td>24.0</td>\n",
       "      <td>42.5</td>\n",
       "      <td>0.738155</td>\n",
       "    </tr>\n",
       "    <tr>\n",
       "      <th>4</th>\n",
       "      <td>15222340</td>\n",
       "      <td>MPKINGNEIRPGNVLEHNGGLWAAVKVDHVKPGKGGAFAQVEMRNL...</td>\n",
       "      <td>MPKINGNEIRPGNVLEHNGGLWSVMKVEHVKPGKGGAYAQVEMRNL...</td>\n",
       "      <td>24.0</td>\n",
       "      <td>54.0</td>\n",
       "      <td>0.844920</td>\n",
       "    </tr>\n",
       "    <tr>\n",
       "      <th>...</th>\n",
       "      <td>...</td>\n",
       "      <td>...</td>\n",
       "      <td>...</td>\n",
       "      <td>...</td>\n",
       "      <td>...</td>\n",
       "      <td>...</td>\n",
       "    </tr>\n",
       "    <tr>\n",
       "      <th>1738489</th>\n",
       "      <td>16259326</td>\n",
       "      <td>MTVLRTIVLFGLAAVAEIGGAWLIRQGVREQRGWGWMGSGVIALGL...</td>\n",
       "      <td>MLILRSAALFVLAAILEIGGAWLVWQGVREHRGWMWAAGGVLALGA...</td>\n",
       "      <td>28.0</td>\n",
       "      <td>45.0</td>\n",
       "      <td>0.702703</td>\n",
       "    </tr>\n",
       "    <tr>\n",
       "      <th>1738490</th>\n",
       "      <td>58837791</td>\n",
       "      <td>MKYSGWPDSGELVVGEVDEITDFGVFVDLEEYEDKRGLCHISEVAN...</td>\n",
       "      <td>MKYEGWPEPGELVVGKVDEIEDFGVFVDLEEYRDKRGLVHISEVAS...</td>\n",
       "      <td>30.0</td>\n",
       "      <td>42.5</td>\n",
       "      <td>0.726592</td>\n",
       "    </tr>\n",
       "    <tr>\n",
       "      <th>1738491</th>\n",
       "      <td>43501488</td>\n",
       "      <td>MTHVVTENCIKCRYTDCVDVCPVDCFREGPNFLAIDPDECIDCAVC...</td>\n",
       "      <td>MTHVVTENCINCKYTDCVDVCPVDCFKEGPNFLVIDPDECIDCAVC...</td>\n",
       "      <td>30.0</td>\n",
       "      <td>48.0</td>\n",
       "      <td>0.768519</td>\n",
       "    </tr>\n",
       "    <tr>\n",
       "      <th>1738492</th>\n",
       "      <td>143509651</td>\n",
       "      <td>MTHIVTEACIKCKYTDCVDVCPVDCFREGPNFLTIDPDECIDCAVC...</td>\n",
       "      <td>MTHVVTENCINCKYTDCVDVCPVDCFKEGPNFLVIDPDECIDCAVC...</td>\n",
       "      <td>25.0</td>\n",
       "      <td>48.0</td>\n",
       "      <td>0.779817</td>\n",
       "    </tr>\n",
       "    <tr>\n",
       "      <th>1738493</th>\n",
       "      <td>143519180</td>\n",
       "      <td>MTHVVTENCIKCKYTDCVDVCPVDCFREGPNFLVIDPDECIDCAVC...</td>\n",
       "      <td>MTHVVTENCINCKYTDCVDVCPVDCFKEGPNFLVIDPDECIDCAVC...</td>\n",
       "      <td>29.0</td>\n",
       "      <td>48.0</td>\n",
       "      <td>0.825688</td>\n",
       "    </tr>\n",
       "  </tbody>\n",
       "</table>\n",
       "<p>1738494 rows × 6 columns</p>\n",
       "</div>"
      ],
      "text/plain": [
       "         prot_pair_index                                           meso_seq  \\\n",
       "0              173553002  MPTLNEPKLIAGNANLPLAQSITRRMSMHRGVDQGLVDARVERFND...   \n",
       "1              173552983  MPDSNGADIKVGIIMGSQSDWPTMKEAATILDELGVAYEAKIVSAH...   \n",
       "2              173551535  MIGRLNHVAIAVPDLDAASAQYKNTLGANVGAPQDEPDHGVTVVFI...   \n",
       "3              173551557  MSWTDERVELLKKMWGEGQSASQIAKELGGVTRNAVIGKVHRLGLS...   \n",
       "4               15222340  MPKINGNEIRPGNVLEHNGGLWAAVKVDHVKPGKGGAFAQVEMRNL...   \n",
       "...                  ...                                                ...   \n",
       "1738489         16259326  MTVLRTIVLFGLAAVAEIGGAWLIRQGVREQRGWGWMGSGVIALGL...   \n",
       "1738490         58837791  MKYSGWPDSGELVVGEVDEITDFGVFVDLEEYEDKRGLCHISEVAN...   \n",
       "1738491         43501488  MTHVVTENCIKCRYTDCVDVCPVDCFREGPNFLAIDPDECIDCAVC...   \n",
       "1738492        143509651  MTHIVTEACIKCKYTDCVDVCPVDCFREGPNFLTIDPDECIDCAVC...   \n",
       "1738493        143519180  MTHVVTENCIKCKYTDCVDVCPVDCFREGPNFLVIDPDECIDCAVC...   \n",
       "\n",
       "                                                thermo_seq  meso_ogt  \\\n",
       "0        MPAVTEPKLIAGNANLSLAKSIARRMSMHRGMSVNLVDARVERFND...      24.0   \n",
       "1        MAVSVGIIMGSQSDWPTMKAAAEILDELGIAYEAKIVSAHRTPDRL...      24.0   \n",
       "2        MIGRLNHVAIAVPDLDAAADQYRNTLGAKVGAPQPEPDHGVTVVFI...      24.0   \n",
       "3        MSWTDERVETLKRMWGEGQSASQIAKELGGVTRNAVIGKVHRLGLS...      24.0   \n",
       "4        MPKINGNEIRPGNVLEHNGGLWSVMKVEHVKPGKGGAYAQVEMRNL...      24.0   \n",
       "...                                                    ...       ...   \n",
       "1738489  MLILRSAALFVLAAILEIGGAWLVWQGVREHRGWMWAAGGVLALGA...      28.0   \n",
       "1738490  MKYEGWPEPGELVVGKVDEIEDFGVFVDLEEYRDKRGLVHISEVAS...      30.0   \n",
       "1738491  MTHVVTENCINCKYTDCVDVCPVDCFKEGPNFLVIDPDECIDCAVC...      30.0   \n",
       "1738492  MTHVVTENCINCKYTDCVDVCPVDCFKEGPNFLVIDPDECIDCAVC...      25.0   \n",
       "1738493  MTHVVTENCINCKYTDCVDVCPVDCFKEGPNFLVIDPDECIDCAVC...      29.0   \n",
       "\n",
       "         thermo_ogt  scaled_local_symmetric_percent_id  \n",
       "0              42.5                           0.758112  \n",
       "1              42.5                           0.815951  \n",
       "2              42.5                           0.917910  \n",
       "3              42.5                           0.738155  \n",
       "4              54.0                           0.844920  \n",
       "...             ...                                ...  \n",
       "1738489        45.0                           0.702703  \n",
       "1738490        42.5                           0.726592  \n",
       "1738491        48.0                           0.768519  \n",
       "1738492        48.0                           0.779817  \n",
       "1738493        48.0                           0.825688  \n",
       "\n",
       "[1738494 rows x 6 columns]"
      ]
     },
     "execution_count": 57,
     "metadata": {},
     "output_type": "execute_result"
    }
   ],
   "source": [
    "test"
   ]
  },
  {
   "cell_type": "code",
   "execution_count": null,
   "metadata": {},
   "outputs": [],
   "source": []
  }
 ],
 "metadata": {
  "kernelspec": {
   "display_name": "Python 3 (ipykernel)",
   "language": "python",
   "name": "python3"
  },
  "language_info": {
   "codemirror_mode": {
    "name": "ipython",
    "version": 3
   },
   "file_extension": ".py",
   "mimetype": "text/x-python",
   "name": "python",
   "nbconvert_exporter": "python",
   "pygments_lexer": "ipython3",
   "version": "3.10.6"
  },
  "vscode": {
   "interpreter": {
    "hash": "4b9da095881b704967dc48778f25785864cf1780c4a84ddad275ec66ae3d1384"
   }
  }
 },
 "nbformat": 4,
 "nbformat_minor": 4
}
