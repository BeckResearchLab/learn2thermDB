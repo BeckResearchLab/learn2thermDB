{
 "cells": [
  {
   "cell_type": "markdown",
   "metadata": {},
   "source": [
    "# Is duckDB ammenible to our data structure? Should we build a class around it?"
   ]
  },
  {
   "cell_type": "markdown",
   "metadata": {},
   "source": [
    "***"
   ]
  },
  {
   "cell_type": "code",
   "execution_count": 1,
   "metadata": {},
   "outputs": [],
   "source": [
    "import duckdb as ddb\n",
    "import pandas as pd\n",
    "import numpy as np"
   ]
  },
  {
   "cell_type": "markdown",
   "metadata": {},
   "source": [
    "## 1. How quick can we query protein files?"
   ]
  },
  {
   "cell_type": "code",
   "execution_count": 2,
   "metadata": {},
   "outputs": [],
   "source": [
    "# in memory db - lost when process ends\n",
    "conn = ddb.connect()"
   ]
  },
  {
   "cell_type": "code",
   "execution_count": 3,
   "metadata": {},
   "outputs": [],
   "source": [
    "# run query on set of protein files\n",
    "df = conn.execute(\"\"\"\n",
    "    SELECT *\n",
    "    FROM read_csv_auto('../data/taxa/proteins/taxa*.csv', header=True)\n",
    "    LIMIT 10\n",
    "\"\"\").df()"
   ]
  },
  {
   "cell_type": "code",
   "execution_count": 14,
   "metadata": {},
   "outputs": [
    {
     "data": {
      "text/html": [
       "<div>\n",
       "<style scoped>\n",
       "    .dataframe tbody tr th:only-of-type {\n",
       "        vertical-align: middle;\n",
       "    }\n",
       "\n",
       "    .dataframe tbody tr th {\n",
       "        vertical-align: top;\n",
       "    }\n",
       "\n",
       "    .dataframe thead th {\n",
       "        text-align: right;\n",
       "    }\n",
       "</style>\n",
       "<table border=\"1\" class=\"dataframe\">\n",
       "  <thead>\n",
       "    <tr style=\"text-align: right;\">\n",
       "      <th></th>\n",
       "      <th>seq_id</th>\n",
       "      <th>protein_seq</th>\n",
       "      <th>protein_desc</th>\n",
       "      <th>protein_len</th>\n",
       "    </tr>\n",
       "  </thead>\n",
       "  <tbody>\n",
       "    <tr>\n",
       "      <th>0</th>\n",
       "      <td>4417.0</td>\n",
       "      <td>MSKYDEALARMQLRSNEAFERITGQTVEQYQQEQRQNRMPTTAQLA...</td>\n",
       "      <td>hypothetical protein</td>\n",
       "      <td>4602</td>\n",
       "    </tr>\n",
       "    <tr>\n",
       "      <th>1</th>\n",
       "      <td>4417.1</td>\n",
       "      <td>MTEEETLGILSENPEASPMKINPKHLEKFFKDNHTPNTKISISIAN...</td>\n",
       "      <td>hypothetical protein</td>\n",
       "      <td>53</td>\n",
       "    </tr>\n",
       "    <tr>\n",
       "      <th>2</th>\n",
       "      <td>4417.2</td>\n",
       "      <td>MTQHLSHLSTTPNTQKPITLYISGLTHDGRGIATYDDTHGDKSGKK...</td>\n",
       "      <td>23S rRNA (uracil(1939)-C(5))-methyltransferase...</td>\n",
       "      <td>476</td>\n",
       "    </tr>\n",
       "    <tr>\n",
       "      <th>3</th>\n",
       "      <td>4417.3</td>\n",
       "      <td>MSNNIQHLRNIAIIAHVDHGKTTLVDKLLQQSGALGERAGEIERVM...</td>\n",
       "      <td>translational GTPase TypA</td>\n",
       "      <td>615</td>\n",
       "    </tr>\n",
       "    <tr>\n",
       "      <th>4</th>\n",
       "      <td>4417.4</td>\n",
       "      <td>MKLNKIALALIATATTAATAGVTVTPLIGYQHQNEAHKKQREIFHT...</td>\n",
       "      <td>OmpA family protein</td>\n",
       "      <td>423</td>\n",
       "    </tr>\n",
       "    <tr>\n",
       "      <th>5</th>\n",
       "      <td>4417.5</td>\n",
       "      <td>MRAPRLGVNIDHIATLRNVRGVDYPCPIKGALVCQRAGADGITLHL...</td>\n",
       "      <td>pyridoxine 5'-phosphate synthase</td>\n",
       "      <td>244</td>\n",
       "    </tr>\n",
       "    <tr>\n",
       "      <th>6</th>\n",
       "      <td>4417.6</td>\n",
       "      <td>MSLQSLKIQSLPRFSLNFAANIVAALWMLVGSVRAFNWVKPTFGQF...</td>\n",
       "      <td>caspase family protein</td>\n",
       "      <td>479</td>\n",
       "    </tr>\n",
       "    <tr>\n",
       "      <th>7</th>\n",
       "      <td>4417.7</td>\n",
       "      <td>MTSIYLLIPLSLMLFVVAIWAIAYAVKSNQFEDLDNAPDQIILDDR...</td>\n",
       "      <td>cbb3-type cytochrome oxidase assembly protein ...</td>\n",
       "      <td>70</td>\n",
       "    </tr>\n",
       "    <tr>\n",
       "      <th>8</th>\n",
       "      <td>4417.8</td>\n",
       "      <td>MSIVLLAPALAMGFLGSPHCMGMCGGIVTAFGISMKNLSPQKRGML...</td>\n",
       "      <td>sulfite exporter TauE/SafE family protein</td>\n",
       "      <td>280</td>\n",
       "    </tr>\n",
       "    <tr>\n",
       "      <th>9</th>\n",
       "      <td>4417.9</td>\n",
       "      <td>MLEIRHLQMLSILARHGSLVMTADELNLTASAISHQLKELESYYDI...</td>\n",
       "      <td>LysR family transcriptional regulator</td>\n",
       "      <td>295</td>\n",
       "    </tr>\n",
       "  </tbody>\n",
       "</table>\n",
       "</div>"
      ],
      "text/plain": [
       "   seq_id                                        protein_seq  \\\n",
       "0  4417.0  MSKYDEALARMQLRSNEAFERITGQTVEQYQQEQRQNRMPTTAQLA...   \n",
       "1  4417.1  MTEEETLGILSENPEASPMKINPKHLEKFFKDNHTPNTKISISIAN...   \n",
       "2  4417.2  MTQHLSHLSTTPNTQKPITLYISGLTHDGRGIATYDDTHGDKSGKK...   \n",
       "3  4417.3  MSNNIQHLRNIAIIAHVDHGKTTLVDKLLQQSGALGERAGEIERVM...   \n",
       "4  4417.4  MKLNKIALALIATATTAATAGVTVTPLIGYQHQNEAHKKQREIFHT...   \n",
       "5  4417.5  MRAPRLGVNIDHIATLRNVRGVDYPCPIKGALVCQRAGADGITLHL...   \n",
       "6  4417.6  MSLQSLKIQSLPRFSLNFAANIVAALWMLVGSVRAFNWVKPTFGQF...   \n",
       "7  4417.7  MTSIYLLIPLSLMLFVVAIWAIAYAVKSNQFEDLDNAPDQIILDDR...   \n",
       "8  4417.8  MSIVLLAPALAMGFLGSPHCMGMCGGIVTAFGISMKNLSPQKRGML...   \n",
       "9  4417.9  MLEIRHLQMLSILARHGSLVMTADELNLTASAISHQLKELESYYDI...   \n",
       "\n",
       "                                        protein_desc  protein_len  \n",
       "0                               hypothetical protein         4602  \n",
       "1                               hypothetical protein           53  \n",
       "2  23S rRNA (uracil(1939)-C(5))-methyltransferase...          476  \n",
       "3                          translational GTPase TypA          615  \n",
       "4                                OmpA family protein          423  \n",
       "5                   pyridoxine 5'-phosphate synthase          244  \n",
       "6                             caspase family protein          479  \n",
       "7  cbb3-type cytochrome oxidase assembly protein ...           70  \n",
       "8          sulfite exporter TauE/SafE family protein          280  \n",
       "9              LysR family transcriptional regulator          295  "
      ]
     },
     "execution_count": 14,
     "metadata": {},
     "output_type": "execute_result"
    }
   ],
   "source": [
    "df"
   ]
  },
  {
   "cell_type": "markdown",
   "metadata": {},
   "source": [
    "## 2. Make it a virtual table"
   ]
  },
  {
   "cell_type": "code",
   "execution_count": 15,
   "metadata": {},
   "outputs": [],
   "source": [
    "# all protein files\n",
    "df = conn.execute(\"\"\"\n",
    "    SELECT *\n",
    "    FROM read_csv_auto('../data/taxa/proteins/taxa*.csv', header=True)\n",
    "\"\"\").df()\n",
    "conn.register('proteins', df)"
   ]
  },
  {
   "cell_type": "markdown",
   "metadata": {},
   "source": [
    "its too big to be a virtual table..."
   ]
  },
  {
   "cell_type": "markdown",
   "metadata": {},
   "source": [
    "## 3. Make a database of file and add an actual table"
   ]
  },
  {
   "cell_type": "code",
   "execution_count": 4,
   "metadata": {},
   "outputs": [],
   "source": [
    "conn = ddb.connect(database=\"./dbs/test_db\")"
   ]
  },
  {
   "cell_type": "code",
   "execution_count": 7,
   "metadata": {},
   "outputs": [
    {
     "data": {
      "text/plain": [
       "<duckdb.DuckDBPyConnection at 0x117839b30>"
      ]
     },
     "execution_count": 7,
     "metadata": {},
     "output_type": "execute_result"
    }
   ],
   "source": [
    "conn.execute(\"\"\"\n",
    "    CREATE OR REPLACE TABLE proteins AS\n",
    "        SELECT\n",
    "            \"seq_id\"::STRING AS seq_id.m\n",
    "            \"protein_seq\"::STRING AS protein_seq,\n",
    "            \"protein_desc\"::STRING AS protein_desc,\n",
    "            \"protein_len\"::INT AS protein_len\n",
    "        FROM read_csv_auto('../data/taxa/proteins/taxa*.csv', header=True)\n",
    "\"\"\")"
   ]
  },
  {
   "cell_type": "code",
   "execution_count": 8,
   "metadata": {},
   "outputs": [
    {
     "data": {
      "text/html": [
       "<div>\n",
       "<style scoped>\n",
       "    .dataframe tbody tr th:only-of-type {\n",
       "        vertical-align: middle;\n",
       "    }\n",
       "\n",
       "    .dataframe tbody tr th {\n",
       "        vertical-align: top;\n",
       "    }\n",
       "\n",
       "    .dataframe thead th {\n",
       "        text-align: right;\n",
       "    }\n",
       "</style>\n",
       "<table border=\"1\" class=\"dataframe\">\n",
       "  <thead>\n",
       "    <tr style=\"text-align: right;\">\n",
       "      <th></th>\n",
       "      <th>seq_id</th>\n",
       "      <th>protein_seq</th>\n",
       "      <th>protein_desc</th>\n",
       "      <th>protein_len</th>\n",
       "    </tr>\n",
       "  </thead>\n",
       "  <tbody>\n",
       "    <tr>\n",
       "      <th>0</th>\n",
       "      <td>4417.0</td>\n",
       "      <td>MSKYDEALARMQLRSNEAFERITGQTVEQYQQEQRQNRMPTTAQLA...</td>\n",
       "      <td>hypothetical protein</td>\n",
       "      <td>4602</td>\n",
       "    </tr>\n",
       "    <tr>\n",
       "      <th>1</th>\n",
       "      <td>4417.1</td>\n",
       "      <td>MTEEETLGILSENPEASPMKINPKHLEKFFKDNHTPNTKISISIAN...</td>\n",
       "      <td>hypothetical protein</td>\n",
       "      <td>53</td>\n",
       "    </tr>\n",
       "    <tr>\n",
       "      <th>2</th>\n",
       "      <td>4417.2</td>\n",
       "      <td>MTQHLSHLSTTPNTQKPITLYISGLTHDGRGIATYDDTHGDKSGKK...</td>\n",
       "      <td>23S rRNA (uracil(1939)-C(5))-methyltransferase...</td>\n",
       "      <td>476</td>\n",
       "    </tr>\n",
       "    <tr>\n",
       "      <th>3</th>\n",
       "      <td>4417.3</td>\n",
       "      <td>MSNNIQHLRNIAIIAHVDHGKTTLVDKLLQQSGALGERAGEIERVM...</td>\n",
       "      <td>translational GTPase TypA</td>\n",
       "      <td>615</td>\n",
       "    </tr>\n",
       "    <tr>\n",
       "      <th>4</th>\n",
       "      <td>4417.4</td>\n",
       "      <td>MKLNKIALALIATATTAATAGVTVTPLIGYQHQNEAHKKQREIFHT...</td>\n",
       "      <td>OmpA family protein</td>\n",
       "      <td>423</td>\n",
       "    </tr>\n",
       "    <tr>\n",
       "      <th>5</th>\n",
       "      <td>4417.5</td>\n",
       "      <td>MRAPRLGVNIDHIATLRNVRGVDYPCPIKGALVCQRAGADGITLHL...</td>\n",
       "      <td>pyridoxine 5'-phosphate synthase</td>\n",
       "      <td>244</td>\n",
       "    </tr>\n",
       "    <tr>\n",
       "      <th>6</th>\n",
       "      <td>4417.6</td>\n",
       "      <td>MSLQSLKIQSLPRFSLNFAANIVAALWMLVGSVRAFNWVKPTFGQF...</td>\n",
       "      <td>caspase family protein</td>\n",
       "      <td>479</td>\n",
       "    </tr>\n",
       "    <tr>\n",
       "      <th>7</th>\n",
       "      <td>4417.7</td>\n",
       "      <td>MTSIYLLIPLSLMLFVVAIWAIAYAVKSNQFEDLDNAPDQIILDDR...</td>\n",
       "      <td>cbb3-type cytochrome oxidase assembly protein ...</td>\n",
       "      <td>70</td>\n",
       "    </tr>\n",
       "    <tr>\n",
       "      <th>8</th>\n",
       "      <td>4417.8</td>\n",
       "      <td>MSIVLLAPALAMGFLGSPHCMGMCGGIVTAFGISMKNLSPQKRGML...</td>\n",
       "      <td>sulfite exporter TauE/SafE family protein</td>\n",
       "      <td>280</td>\n",
       "    </tr>\n",
       "    <tr>\n",
       "      <th>9</th>\n",
       "      <td>4417.9</td>\n",
       "      <td>MLEIRHLQMLSILARHGSLVMTADELNLTASAISHQLKELESYYDI...</td>\n",
       "      <td>LysR family transcriptional regulator</td>\n",
       "      <td>295</td>\n",
       "    </tr>\n",
       "  </tbody>\n",
       "</table>\n",
       "</div>"
      ],
      "text/plain": [
       "   seq_id                                        protein_seq  \\\n",
       "0  4417.0  MSKYDEALARMQLRSNEAFERITGQTVEQYQQEQRQNRMPTTAQLA...   \n",
       "1  4417.1  MTEEETLGILSENPEASPMKINPKHLEKFFKDNHTPNTKISISIAN...   \n",
       "2  4417.2  MTQHLSHLSTTPNTQKPITLYISGLTHDGRGIATYDDTHGDKSGKK...   \n",
       "3  4417.3  MSNNIQHLRNIAIIAHVDHGKTTLVDKLLQQSGALGERAGEIERVM...   \n",
       "4  4417.4  MKLNKIALALIATATTAATAGVTVTPLIGYQHQNEAHKKQREIFHT...   \n",
       "5  4417.5  MRAPRLGVNIDHIATLRNVRGVDYPCPIKGALVCQRAGADGITLHL...   \n",
       "6  4417.6  MSLQSLKIQSLPRFSLNFAANIVAALWMLVGSVRAFNWVKPTFGQF...   \n",
       "7  4417.7  MTSIYLLIPLSLMLFVVAIWAIAYAVKSNQFEDLDNAPDQIILDDR...   \n",
       "8  4417.8  MSIVLLAPALAMGFLGSPHCMGMCGGIVTAFGISMKNLSPQKRGML...   \n",
       "9  4417.9  MLEIRHLQMLSILARHGSLVMTADELNLTASAISHQLKELESYYDI...   \n",
       "\n",
       "                                        protein_desc  protein_len  \n",
       "0                               hypothetical protein         4602  \n",
       "1                               hypothetical protein           53  \n",
       "2  23S rRNA (uracil(1939)-C(5))-methyltransferase...          476  \n",
       "3                          translational GTPase TypA          615  \n",
       "4                                OmpA family protein          423  \n",
       "5                   pyridoxine 5'-phosphate synthase          244  \n",
       "6                             caspase family protein          479  \n",
       "7  cbb3-type cytochrome oxidase assembly protein ...           70  \n",
       "8          sulfite exporter TauE/SafE family protein          280  \n",
       "9              LysR family transcriptional regulator          295  "
      ]
     },
     "execution_count": 8,
     "metadata": {},
     "output_type": "execute_result"
    }
   ],
   "source": [
    "conn.execute(\"FROM proteins LIMIT 10\").df()"
   ]
  },
  {
   "cell_type": "code",
   "execution_count": 9,
   "metadata": {},
   "outputs": [
    {
     "data": {
      "text/html": [
       "<div>\n",
       "<style scoped>\n",
       "    .dataframe tbody tr th:only-of-type {\n",
       "        vertical-align: middle;\n",
       "    }\n",
       "\n",
       "    .dataframe tbody tr th {\n",
       "        vertical-align: top;\n",
       "    }\n",
       "\n",
       "    .dataframe thead th {\n",
       "        text-align: right;\n",
       "    }\n",
       "</style>\n",
       "<table border=\"1\" class=\"dataframe\">\n",
       "  <thead>\n",
       "    <tr style=\"text-align: right;\">\n",
       "      <th></th>\n",
       "      <th>seq_id</th>\n",
       "      <th>protein_seq</th>\n",
       "      <th>protein_desc</th>\n",
       "      <th>protein_len</th>\n",
       "    </tr>\n",
       "  </thead>\n",
       "  <tbody>\n",
       "    <tr>\n",
       "      <th>0</th>\n",
       "      <td>4417.94</td>\n",
       "      <td>MFVSEWVYNLLVVMGGGEVWGFGGLGFDKMTWCIKAYVGRASLPS</td>\n",
       "      <td>hypothetical protein</td>\n",
       "      <td>45</td>\n",
       "    </tr>\n",
       "    <tr>\n",
       "      <th>1</th>\n",
       "      <td>4417.114</td>\n",
       "      <td>MPLHDNIRKFREQKQWSQEYMAEQLGLSKNGYAKIERGESRPSLDRLE</td>\n",
       "      <td>helix-turn-helix transcriptional regulator</td>\n",
       "      <td>48</td>\n",
       "    </tr>\n",
       "    <tr>\n",
       "      <th>2</th>\n",
       "      <td>4417.116</td>\n",
       "      <td>MQVLSSLKSAKNRHEDCQVVRRRGRTFVICKSNPRFKAVQGGKKRK</td>\n",
       "      <td>type B 50S ribosomal protein L36</td>\n",
       "      <td>46</td>\n",
       "    </tr>\n",
       "    <tr>\n",
       "      <th>3</th>\n",
       "      <td>4417.121</td>\n",
       "      <td>MSKFLVSTRINRYEKGVYQPNFGILEKMAMALDVPVIYFLAMMNWHK</td>\n",
       "      <td>helix-turn-helix transcriptional regulator</td>\n",
       "      <td>47</td>\n",
       "    </tr>\n",
       "    <tr>\n",
       "      <th>4</th>\n",
       "      <td>4417.185</td>\n",
       "      <td>MKRTFQPSVLKRKRTHGFRARMATKNGRQVLARRRAKGRHRLTV</td>\n",
       "      <td>50S ribosomal protein L34</td>\n",
       "      <td>44</td>\n",
       "    </tr>\n",
       "    <tr>\n",
       "      <th>...</th>\n",
       "      <td>...</td>\n",
       "      <td>...</td>\n",
       "      <td>...</td>\n",
       "      <td>...</td>\n",
       "    </tr>\n",
       "    <tr>\n",
       "      <th>405400</th>\n",
       "      <td>3361.3628</td>\n",
       "      <td>MKVRASVKKLCRNCKIVRREGVVRVICSAEPRHKQRQG</td>\n",
       "      <td>50S ribosomal protein L36</td>\n",
       "      <td>38</td>\n",
       "    </tr>\n",
       "    <tr>\n",
       "      <th>405401</th>\n",
       "      <td>3361.3861</td>\n",
       "      <td>MNAQSKIEQHSPIRTDGFEIVEYRASTTAGIAGSLPYLAYRVLGA</td>\n",
       "      <td>hypothetical protein</td>\n",
       "      <td>45</td>\n",
       "    </tr>\n",
       "    <tr>\n",
       "      <th>405402</th>\n",
       "      <td>3361.3879</td>\n",
       "      <td>MWYFAWILGVLLACSFGIVNALWLETTQDLDEGEAGDD</td>\n",
       "      <td>cytochrome bd-I oxidase subunit CydX</td>\n",
       "      <td>38</td>\n",
       "    </tr>\n",
       "    <tr>\n",
       "      <th>405403</th>\n",
       "      <td>3361.3889</td>\n",
       "      <td>MACSIDRSYIGRIERGEVNITVEKLYRIASLLSCDPASLLPLVSELQG</td>\n",
       "      <td>helix-turn-helix domain-containing protein</td>\n",
       "      <td>48</td>\n",
       "    </tr>\n",
       "    <tr>\n",
       "      <th>405404</th>\n",
       "      <td>3361.3906</td>\n",
       "      <td>MHAKRVLSDDLVSRLEDKIPAMAECAVNTAYINALAAGSSVMEVVN</td>\n",
       "      <td>hypothetical protein</td>\n",
       "      <td>46</td>\n",
       "    </tr>\n",
       "  </tbody>\n",
       "</table>\n",
       "<p>405405 rows × 4 columns</p>\n",
       "</div>"
      ],
      "text/plain": [
       "           seq_id                                       protein_seq  \\\n",
       "0         4417.94     MFVSEWVYNLLVVMGGGEVWGFGGLGFDKMTWCIKAYVGRASLPS   \n",
       "1        4417.114  MPLHDNIRKFREQKQWSQEYMAEQLGLSKNGYAKIERGESRPSLDRLE   \n",
       "2        4417.116    MQVLSSLKSAKNRHEDCQVVRRRGRTFVICKSNPRFKAVQGGKKRK   \n",
       "3        4417.121   MSKFLVSTRINRYEKGVYQPNFGILEKMAMALDVPVIYFLAMMNWHK   \n",
       "4        4417.185      MKRTFQPSVLKRKRTHGFRARMATKNGRQVLARRRAKGRHRLTV   \n",
       "...           ...                                               ...   \n",
       "405400  3361.3628            MKVRASVKKLCRNCKIVRREGVVRVICSAEPRHKQRQG   \n",
       "405401  3361.3861     MNAQSKIEQHSPIRTDGFEIVEYRASTTAGIAGSLPYLAYRVLGA   \n",
       "405402  3361.3879            MWYFAWILGVLLACSFGIVNALWLETTQDLDEGEAGDD   \n",
       "405403  3361.3889  MACSIDRSYIGRIERGEVNITVEKLYRIASLLSCDPASLLPLVSELQG   \n",
       "405404  3361.3906    MHAKRVLSDDLVSRLEDKIPAMAECAVNTAYINALAAGSSVMEVVN   \n",
       "\n",
       "                                      protein_desc  protein_len  \n",
       "0                             hypothetical protein           45  \n",
       "1       helix-turn-helix transcriptional regulator           48  \n",
       "2                 type B 50S ribosomal protein L36           46  \n",
       "3       helix-turn-helix transcriptional regulator           47  \n",
       "4                        50S ribosomal protein L34           44  \n",
       "...                                            ...          ...  \n",
       "405400                   50S ribosomal protein L36           38  \n",
       "405401                        hypothetical protein           45  \n",
       "405402        cytochrome bd-I oxidase subunit CydX           38  \n",
       "405403  helix-turn-helix domain-containing protein           48  \n",
       "405404                        hypothetical protein           46  \n",
       "\n",
       "[405405 rows x 4 columns]"
      ]
     },
     "execution_count": 9,
     "metadata": {},
     "output_type": "execute_result"
    }
   ],
   "source": [
    "conn.execute(\"FROM proteins SELECT * WHERE protein_len<50\").df()"
   ]
  },
  {
   "cell_type": "markdown",
   "metadata": {},
   "source": [
    "## 4. create table with primary keys\n",
    "\n",
    "Summary: it sucks. YOu cannot modify a column to be foreign key, and you cant create the scheme with foreign key and then import data from CSV unless the headers match percetly, so have to parse, rename, save, create scheme then parse again"
   ]
  },
  {
   "cell_type": "code",
   "execution_count": 30,
   "metadata": {},
   "outputs": [
    {
     "data": {
      "text/plain": [
       "<duckdb.DuckDBPyConnection at 0x117839b30>"
      ]
     },
     "execution_count": 30,
     "metadata": {},
     "output_type": "execute_result"
    }
   ],
   "source": [
    "conn.execute(\"\"\"\n",
    "    CREATE OR REPLACE TABLE taxa AS\n",
    "        SELECT\n",
    "            \"taxid\"::INT AS ncbi_taxid,\n",
    "            \"record_name\"::STRING AS record_name,\n",
    "            \"filepath\"::STRING AS filepath,\n",
    "            \"taxonomy\"::STRING AS taxonomy,\n",
    "            \"organism\"::STRING AS organism,\n",
    "            \"bacdive_id\"::INT AS bacdive_id,\n",
    "            \"ogt_raw\":: STRING AS ogt_scraped_string\n",
    "        FROM read_csv_auto('../data/taxa/taxa_info_and_ogt.csv', header=True)\n",
    "\"\"\")"
   ]
  },
  {
   "cell_type": "code",
   "execution_count": 31,
   "metadata": {},
   "outputs": [
    {
     "data": {
      "text/html": [
       "<div>\n",
       "<style scoped>\n",
       "    .dataframe tbody tr th:only-of-type {\n",
       "        vertical-align: middle;\n",
       "    }\n",
       "\n",
       "    .dataframe tbody tr th {\n",
       "        vertical-align: top;\n",
       "    }\n",
       "\n",
       "    .dataframe thead th {\n",
       "        text-align: right;\n",
       "    }\n",
       "</style>\n",
       "<table border=\"1\" class=\"dataframe\">\n",
       "  <thead>\n",
       "    <tr style=\"text-align: right;\">\n",
       "      <th></th>\n",
       "      <th>column_name</th>\n",
       "      <th>column_type</th>\n",
       "      <th>null</th>\n",
       "      <th>key</th>\n",
       "      <th>default</th>\n",
       "      <th>extra</th>\n",
       "    </tr>\n",
       "  </thead>\n",
       "  <tbody>\n",
       "    <tr>\n",
       "      <th>0</th>\n",
       "      <td>ncbi_taxid</td>\n",
       "      <td>INTEGER</td>\n",
       "      <td>YES</td>\n",
       "      <td>NaN</td>\n",
       "      <td>NaN</td>\n",
       "      <td>NaN</td>\n",
       "    </tr>\n",
       "    <tr>\n",
       "      <th>1</th>\n",
       "      <td>record_name</td>\n",
       "      <td>VARCHAR</td>\n",
       "      <td>YES</td>\n",
       "      <td>NaN</td>\n",
       "      <td>NaN</td>\n",
       "      <td>NaN</td>\n",
       "    </tr>\n",
       "    <tr>\n",
       "      <th>2</th>\n",
       "      <td>filepath</td>\n",
       "      <td>VARCHAR</td>\n",
       "      <td>YES</td>\n",
       "      <td>NaN</td>\n",
       "      <td>NaN</td>\n",
       "      <td>NaN</td>\n",
       "    </tr>\n",
       "    <tr>\n",
       "      <th>3</th>\n",
       "      <td>taxonomy</td>\n",
       "      <td>VARCHAR</td>\n",
       "      <td>YES</td>\n",
       "      <td>NaN</td>\n",
       "      <td>NaN</td>\n",
       "      <td>NaN</td>\n",
       "    </tr>\n",
       "    <tr>\n",
       "      <th>4</th>\n",
       "      <td>organism</td>\n",
       "      <td>VARCHAR</td>\n",
       "      <td>YES</td>\n",
       "      <td>NaN</td>\n",
       "      <td>NaN</td>\n",
       "      <td>NaN</td>\n",
       "    </tr>\n",
       "    <tr>\n",
       "      <th>5</th>\n",
       "      <td>bacdive_id</td>\n",
       "      <td>INTEGER</td>\n",
       "      <td>YES</td>\n",
       "      <td>NaN</td>\n",
       "      <td>NaN</td>\n",
       "      <td>NaN</td>\n",
       "    </tr>\n",
       "    <tr>\n",
       "      <th>6</th>\n",
       "      <td>ogt_scraped_string</td>\n",
       "      <td>VARCHAR</td>\n",
       "      <td>YES</td>\n",
       "      <td>NaN</td>\n",
       "      <td>NaN</td>\n",
       "      <td>NaN</td>\n",
       "    </tr>\n",
       "  </tbody>\n",
       "</table>\n",
       "</div>"
      ],
      "text/plain": [
       "          column_name column_type null  key default  extra\n",
       "0          ncbi_taxid     INTEGER  YES  NaN     NaN    NaN\n",
       "1         record_name     VARCHAR  YES  NaN     NaN    NaN\n",
       "2            filepath     VARCHAR  YES  NaN     NaN    NaN\n",
       "3            taxonomy     VARCHAR  YES  NaN     NaN    NaN\n",
       "4            organism     VARCHAR  YES  NaN     NaN    NaN\n",
       "5          bacdive_id     INTEGER  YES  NaN     NaN    NaN\n",
       "6  ogt_scraped_string     VARCHAR  YES  NaN     NaN    NaN"
      ]
     },
     "execution_count": 31,
     "metadata": {},
     "output_type": "execute_result"
    }
   ],
   "source": [
    "conn.execute(\"DESCRIBE taxa\").df()"
   ]
  },
  {
   "cell_type": "code",
   "execution_count": 2,
   "metadata": {},
   "outputs": [],
   "source": [
    "conn = ddb.connect(database=\"./dbs/test_db\")"
   ]
  },
  {
   "cell_type": "code",
   "execution_count": 3,
   "metadata": {},
   "outputs": [
    {
     "data": {
      "text/plain": [
       "<duckdb.DuckDBPyConnection at 0x1a76a9bf0>"
      ]
     },
     "execution_count": 3,
     "metadata": {},
     "output_type": "execute_result"
    }
   ],
   "source": [
    "\n",
    "conn.execute(\"\"\"\n",
    "CREATE SEQUENCE seq_taxa_index START 1\n",
    "\"\"\")\n",
    "conn.execute(\"\"\"\n",
    "CREATE OR REPLACE TABLE taxa(\n",
    "    taxa_index INT PRIMARY KEY default nextval('seq_taxa_index')-1,\n",
    "    ncbi_taxid INT\n",
    ")\n",
    "\"\"\")\n"
   ]
  },
  {
   "cell_type": "code",
   "execution_count": 4,
   "metadata": {},
   "outputs": [
    {
     "data": {
      "text/plain": [
       "<duckdb.DuckDBPyConnection at 0x1a76a9bf0>"
      ]
     },
     "execution_count": 4,
     "metadata": {},
     "output_type": "execute_result"
    }
   ],
   "source": [
    "conn.execute(\"INSERT INTO taxa(ncbi_taxid) VALUES (1)\")"
   ]
  },
  {
   "cell_type": "code",
   "execution_count": 5,
   "metadata": {},
   "outputs": [
    {
     "data": {
      "text/html": [
       "<div>\n",
       "<style scoped>\n",
       "    .dataframe tbody tr th:only-of-type {\n",
       "        vertical-align: middle;\n",
       "    }\n",
       "\n",
       "    .dataframe tbody tr th {\n",
       "        vertical-align: top;\n",
       "    }\n",
       "\n",
       "    .dataframe thead th {\n",
       "        text-align: right;\n",
       "    }\n",
       "</style>\n",
       "<table border=\"1\" class=\"dataframe\">\n",
       "  <thead>\n",
       "    <tr style=\"text-align: right;\">\n",
       "      <th></th>\n",
       "      <th>taxa_index</th>\n",
       "      <th>ncbi_taxid</th>\n",
       "    </tr>\n",
       "  </thead>\n",
       "  <tbody>\n",
       "    <tr>\n",
       "      <th>0</th>\n",
       "      <td>0</td>\n",
       "      <td>1</td>\n",
       "    </tr>\n",
       "  </tbody>\n",
       "</table>\n",
       "</div>"
      ],
      "text/plain": [
       "   taxa_index  ncbi_taxid\n",
       "0           0           1"
      ]
     },
     "execution_count": 5,
     "metadata": {},
     "output_type": "execute_result"
    }
   ],
   "source": [
    "conn.execute(\"SELECT * FROM taxa\").df(\n",
    ")"
   ]
  },
  {
   "cell_type": "markdown",
   "metadata": {},
   "source": [
    "Try creating a virtual table with the correct names, THEN using the copy on the actual table with the correct scheme"
   ]
  },
  {
   "cell_type": "code",
   "execution_count": 2,
   "metadata": {},
   "outputs": [],
   "source": [
    "conn = ddb.connect(database=\"./dbs/test_db\")"
   ]
  },
  {
   "cell_type": "code",
   "execution_count": 14,
   "metadata": {},
   "outputs": [
    {
     "data": {
      "text/plain": [
       "<duckdb.DuckDBPyConnection at 0x1ae194070>"
      ]
     },
     "execution_count": 14,
     "metadata": {},
     "output_type": "execute_result"
    }
   ],
   "source": [
    "conn.execute(\"\"\"\n",
    "CREATE OR REPLACE TABLE taxa(\n",
    "    taxa_index INT PRIMARY KEY NOT NULL,\n",
    "    ncbi_taxid INT NOT NULL,\n",
    "    record_name STRING,\n",
    "    filepath STRING,\n",
    "    taxonomy STRING,\n",
    "    organism STRING,\n",
    "    bacdive_id INT,\n",
    "    ogt_scraped_string STRING\n",
    ")\n",
    "\"\"\")"
   ]
  },
  {
   "cell_type": "code",
   "execution_count": 7,
   "metadata": {},
   "outputs": [
    {
     "data": {
      "text/plain": [
       "<duckdb.DuckDBPyConnection at 0x1ae194070>"
      ]
     },
     "execution_count": 7,
     "metadata": {},
     "output_type": "execute_result"
    }
   ],
   "source": [
    "conn.execute(\"\"\"CREATE OR REPLACE TEMP TABLE taxa_tmp AS \n",
    "        SELECT\n",
    "            \"column0\"::INT AS taxa_index,\n",
    "            \"taxid\"::INT AS ncbi_taxid,\n",
    "            \"record_name\"::STRING AS record_name,\n",
    "            \"filepath\"::STRING AS filepath,\n",
    "            \"taxonomy\"::STRING AS taxonomy,\n",
    "            \"organism\"::STRING AS organism,\n",
    "            \"bacdive_id\"::INT AS bacdive_id,\n",
    "            \"ogt_raw\":: STRING AS ogt_scraped_string\n",
    "        FROM read_csv_auto('../data/taxa/taxa_info_and_ogt.csv', header=True)\"\"\")\n",
    "conn.execute(\"COPY taxa_tmp TO 'taxa_tmp.csv' (HEADER)\")"
   ]
  },
  {
   "cell_type": "code",
   "execution_count": 15,
   "metadata": {},
   "outputs": [
    {
     "data": {
      "text/plain": [
       "<duckdb.DuckDBPyConnection at 0x1ae194070>"
      ]
     },
     "execution_count": 15,
     "metadata": {},
     "output_type": "execute_result"
    }
   ],
   "source": [
    "conn.execute(\"COPY taxa FROM 'taxa_tmp.csv' ( HEADER )\")"
   ]
  },
  {
   "cell_type": "code",
   "execution_count": 17,
   "metadata": {},
   "outputs": [
    {
     "data": {
      "text/html": [
       "<div>\n",
       "<style scoped>\n",
       "    .dataframe tbody tr th:only-of-type {\n",
       "        vertical-align: middle;\n",
       "    }\n",
       "\n",
       "    .dataframe tbody tr th {\n",
       "        vertical-align: top;\n",
       "    }\n",
       "\n",
       "    .dataframe thead th {\n",
       "        text-align: right;\n",
       "    }\n",
       "</style>\n",
       "<table border=\"1\" class=\"dataframe\">\n",
       "  <thead>\n",
       "    <tr style=\"text-align: right;\">\n",
       "      <th></th>\n",
       "      <th>column_name</th>\n",
       "      <th>column_type</th>\n",
       "      <th>null</th>\n",
       "      <th>key</th>\n",
       "      <th>default</th>\n",
       "      <th>extra</th>\n",
       "    </tr>\n",
       "  </thead>\n",
       "  <tbody>\n",
       "    <tr>\n",
       "      <th>0</th>\n",
       "      <td>taxa_index</td>\n",
       "      <td>INTEGER</td>\n",
       "      <td>NO</td>\n",
       "      <td>NaN</td>\n",
       "      <td>NaN</td>\n",
       "      <td>NaN</td>\n",
       "    </tr>\n",
       "    <tr>\n",
       "      <th>1</th>\n",
       "      <td>ncbi_taxid</td>\n",
       "      <td>INTEGER</td>\n",
       "      <td>NO</td>\n",
       "      <td>NaN</td>\n",
       "      <td>NaN</td>\n",
       "      <td>NaN</td>\n",
       "    </tr>\n",
       "    <tr>\n",
       "      <th>2</th>\n",
       "      <td>record_name</td>\n",
       "      <td>VARCHAR</td>\n",
       "      <td>YES</td>\n",
       "      <td>NaN</td>\n",
       "      <td>NaN</td>\n",
       "      <td>NaN</td>\n",
       "    </tr>\n",
       "    <tr>\n",
       "      <th>3</th>\n",
       "      <td>filepath</td>\n",
       "      <td>VARCHAR</td>\n",
       "      <td>YES</td>\n",
       "      <td>NaN</td>\n",
       "      <td>NaN</td>\n",
       "      <td>NaN</td>\n",
       "    </tr>\n",
       "    <tr>\n",
       "      <th>4</th>\n",
       "      <td>taxonomy</td>\n",
       "      <td>VARCHAR</td>\n",
       "      <td>YES</td>\n",
       "      <td>NaN</td>\n",
       "      <td>NaN</td>\n",
       "      <td>NaN</td>\n",
       "    </tr>\n",
       "    <tr>\n",
       "      <th>5</th>\n",
       "      <td>organism</td>\n",
       "      <td>VARCHAR</td>\n",
       "      <td>YES</td>\n",
       "      <td>NaN</td>\n",
       "      <td>NaN</td>\n",
       "      <td>NaN</td>\n",
       "    </tr>\n",
       "    <tr>\n",
       "      <th>6</th>\n",
       "      <td>bacdive_id</td>\n",
       "      <td>INTEGER</td>\n",
       "      <td>YES</td>\n",
       "      <td>NaN</td>\n",
       "      <td>NaN</td>\n",
       "      <td>NaN</td>\n",
       "    </tr>\n",
       "    <tr>\n",
       "      <th>7</th>\n",
       "      <td>ogt_scraped_string</td>\n",
       "      <td>VARCHAR</td>\n",
       "      <td>YES</td>\n",
       "      <td>NaN</td>\n",
       "      <td>NaN</td>\n",
       "      <td>NaN</td>\n",
       "    </tr>\n",
       "  </tbody>\n",
       "</table>\n",
       "</div>"
      ],
      "text/plain": [
       "          column_name column_type null  key default  extra\n",
       "0          taxa_index     INTEGER   NO  NaN     NaN    NaN\n",
       "1          ncbi_taxid     INTEGER   NO  NaN     NaN    NaN\n",
       "2         record_name     VARCHAR  YES  NaN     NaN    NaN\n",
       "3            filepath     VARCHAR  YES  NaN     NaN    NaN\n",
       "4            taxonomy     VARCHAR  YES  NaN     NaN    NaN\n",
       "5            organism     VARCHAR  YES  NaN     NaN    NaN\n",
       "6          bacdive_id     INTEGER  YES  NaN     NaN    NaN\n",
       "7  ogt_scraped_string     VARCHAR  YES  NaN     NaN    NaN"
      ]
     },
     "execution_count": 17,
     "metadata": {},
     "output_type": "execute_result"
    }
   ],
   "source": [
    "conn.execute(\"DESCRIBE taxa\").df()"
   ]
  },
  {
   "cell_type": "code",
   "execution_count": 25,
   "metadata": {},
   "outputs": [
    {
     "data": {
      "text/plain": [
       "<duckdb.DuckDBPyConnection at 0x1ae194070>"
      ]
     },
     "execution_count": 25,
     "metadata": {},
     "output_type": "execute_result"
    }
   ],
   "source": [
    "conn.execute(\"CREATE INDEX pkey ON taxa (taxa_index)\")"
   ]
  },
  {
   "cell_type": "code",
   "execution_count": 26,
   "metadata": {},
   "outputs": [
    {
     "data": {
      "text/html": [
       "<div>\n",
       "<style scoped>\n",
       "    .dataframe tbody tr th:only-of-type {\n",
       "        vertical-align: middle;\n",
       "    }\n",
       "\n",
       "    .dataframe tbody tr th {\n",
       "        vertical-align: top;\n",
       "    }\n",
       "\n",
       "    .dataframe thead th {\n",
       "        text-align: right;\n",
       "    }\n",
       "</style>\n",
       "<table border=\"1\" class=\"dataframe\">\n",
       "  <thead>\n",
       "    <tr style=\"text-align: right;\">\n",
       "      <th></th>\n",
       "      <th>schema_name</th>\n",
       "      <th>schema_oid</th>\n",
       "      <th>index_name</th>\n",
       "      <th>index_oid</th>\n",
       "      <th>table_name</th>\n",
       "      <th>table_oid</th>\n",
       "      <th>is_unique</th>\n",
       "      <th>is_primary</th>\n",
       "      <th>expressions</th>\n",
       "      <th>sql</th>\n",
       "    </tr>\n",
       "  </thead>\n",
       "  <tbody>\n",
       "    <tr>\n",
       "      <th>0</th>\n",
       "      <td>main</td>\n",
       "      <td>1</td>\n",
       "      <td>pkey</td>\n",
       "      <td>1334</td>\n",
       "      <td>taxa</td>\n",
       "      <td>1294</td>\n",
       "      <td>False</td>\n",
       "      <td>False</td>\n",
       "      <td>NaN</td>\n",
       "      <td>CREATE INDEX pkey ON taxa (taxa_index);</td>\n",
       "    </tr>\n",
       "  </tbody>\n",
       "</table>\n",
       "</div>"
      ],
      "text/plain": [
       "  schema_name  schema_oid index_name  index_oid table_name  table_oid  \\\n",
       "0        main           1       pkey       1334       taxa       1294   \n",
       "\n",
       "   is_unique  is_primary expressions                                      sql  \n",
       "0      False       False         NaN  CREATE INDEX pkey ON taxa (taxa_index);  "
      ]
     },
     "execution_count": 26,
     "metadata": {},
     "output_type": "execute_result"
    }
   ],
   "source": [
    "conn.execute(\"SELECT * FROM duckdb_indexes()\").df()"
   ]
  },
  {
   "cell_type": "code",
   "execution_count": 27,
   "metadata": {},
   "outputs": [
    {
     "data": {
      "text/html": [
       "<div>\n",
       "<style scoped>\n",
       "    .dataframe tbody tr th:only-of-type {\n",
       "        vertical-align: middle;\n",
       "    }\n",
       "\n",
       "    .dataframe tbody tr th {\n",
       "        vertical-align: top;\n",
       "    }\n",
       "\n",
       "    .dataframe thead th {\n",
       "        text-align: right;\n",
       "    }\n",
       "</style>\n",
       "<table border=\"1\" class=\"dataframe\">\n",
       "  <thead>\n",
       "    <tr style=\"text-align: right;\">\n",
       "      <th></th>\n",
       "      <th>schema_name</th>\n",
       "      <th>schema_oid</th>\n",
       "      <th>table_name</th>\n",
       "      <th>table_oid</th>\n",
       "      <th>constraint_index</th>\n",
       "      <th>constraint_type</th>\n",
       "      <th>constraint_text</th>\n",
       "      <th>expression</th>\n",
       "      <th>constraint_column_indexes</th>\n",
       "      <th>constraint_column_names</th>\n",
       "    </tr>\n",
       "  </thead>\n",
       "  <tbody>\n",
       "    <tr>\n",
       "      <th>0</th>\n",
       "      <td>main</td>\n",
       "      <td>1</td>\n",
       "      <td>taxa</td>\n",
       "      <td>1294</td>\n",
       "      <td>0</td>\n",
       "      <td>PRIMARY KEY</td>\n",
       "      <td>PRIMARY KEY(taxa_index)</td>\n",
       "      <td>NaN</td>\n",
       "      <td>[0]</td>\n",
       "      <td>[taxa_index]</td>\n",
       "    </tr>\n",
       "    <tr>\n",
       "      <th>1</th>\n",
       "      <td>main</td>\n",
       "      <td>1</td>\n",
       "      <td>taxa</td>\n",
       "      <td>1294</td>\n",
       "      <td>1</td>\n",
       "      <td>NOT NULL</td>\n",
       "      <td>NOT NULL</td>\n",
       "      <td>NaN</td>\n",
       "      <td>[0]</td>\n",
       "      <td>[taxa_index]</td>\n",
       "    </tr>\n",
       "    <tr>\n",
       "      <th>2</th>\n",
       "      <td>main</td>\n",
       "      <td>1</td>\n",
       "      <td>taxa</td>\n",
       "      <td>1294</td>\n",
       "      <td>2</td>\n",
       "      <td>NOT NULL</td>\n",
       "      <td>NOT NULL</td>\n",
       "      <td>NaN</td>\n",
       "      <td>[1]</td>\n",
       "      <td>[ncbi_taxid]</td>\n",
       "    </tr>\n",
       "  </tbody>\n",
       "</table>\n",
       "</div>"
      ],
      "text/plain": [
       "  schema_name  schema_oid table_name  table_oid  constraint_index  \\\n",
       "0        main           1       taxa       1294                 0   \n",
       "1        main           1       taxa       1294                 1   \n",
       "2        main           1       taxa       1294                 2   \n",
       "\n",
       "  constraint_type          constraint_text expression  \\\n",
       "0     PRIMARY KEY  PRIMARY KEY(taxa_index)        NaN   \n",
       "1        NOT NULL                 NOT NULL        NaN   \n",
       "2        NOT NULL                 NOT NULL        NaN   \n",
       "\n",
       "  constraint_column_indexes constraint_column_names  \n",
       "0                       [0]            [taxa_index]  \n",
       "1                       [0]            [taxa_index]  \n",
       "2                       [1]            [ncbi_taxid]  "
      ]
     },
     "execution_count": 27,
     "metadata": {},
     "output_type": "execute_result"
    }
   ],
   "source": [
    "conn.execute(\"SELECT * FROM duckdb_constraints()\").df()"
   ]
  },
  {
   "cell_type": "markdown",
   "metadata": {},
   "source": [
    "## 5. Do a foreign key assignment"
   ]
  },
  {
   "cell_type": "code",
   "execution_count": 30,
   "metadata": {},
   "outputs": [
    {
     "data": {
      "text/plain": [
       "<duckdb.DuckDBPyConnection at 0x1ae194070>"
      ]
     },
     "execution_count": 30,
     "metadata": {},
     "output_type": "execute_result"
    }
   ],
   "source": [
    "conn.execute(\"\"\"\n",
    "CREATE OR REPLACE TABLE taxa(\n",
    "    taxa_index INT PRIMARY KEY NOT NULL,\n",
    "    ncbi_taxid INT NOT NULL,\n",
    "    record_name STRING,\n",
    "    filepath STRING,\n",
    "    taxonomy STRING,\n",
    "    organism STRING,\n",
    "    bacdive_id INT,\n",
    "    ogt_scraped_string STRING\n",
    ")\n",
    "\"\"\")\n",
    "conn.execute(\"\"\"\n",
    "CREATE OR REPLACE TABLE taxa_16s(\n",
    "    taxa_index INT PRIMARY KEY NOT NULL,\n",
    "    seq_16srRNA STRING,\n",
    "    FOREIGN KEY (taxa_index) REFERENCES taxa(taxa_index) \n",
    ")\"\"\")"
   ]
  },
  {
   "cell_type": "markdown",
   "metadata": {},
   "source": [
    "Fill in the taxa table"
   ]
  },
  {
   "cell_type": "code",
   "execution_count": 31,
   "metadata": {},
   "outputs": [
    {
     "data": {
      "text/plain": [
       "<duckdb.DuckDBPyConnection at 0x1ae194070>"
      ]
     },
     "execution_count": 31,
     "metadata": {},
     "output_type": "execute_result"
    }
   ],
   "source": [
    "conn.execute(\"\"\"CREATE OR REPLACE TEMP TABLE taxa_tmp AS \n",
    "        SELECT\n",
    "            \"column0\"::INT AS taxa_index,\n",
    "            \"taxid\"::INT AS ncbi_taxid,\n",
    "            \"record_name\"::STRING AS record_name,\n",
    "            \"filepath\"::STRING AS filepath,\n",
    "            \"taxonomy\"::STRING AS taxonomy,\n",
    "            \"organism\"::STRING AS organism,\n",
    "            \"bacdive_id\"::INT AS bacdive_id,\n",
    "            \"ogt_raw\":: STRING AS ogt_scraped_string\n",
    "        FROM read_csv_auto('../data/taxa/taxa_info_and_ogt.csv', header=True)\"\"\")\n",
    "conn.execute(\"COPY taxa_tmp TO 'taxa_tmp.csv' (HEADER)\")\n",
    "conn.execute(\"COPY taxa FROM 'taxa_tmp.csv' ( HEADER )\")"
   ]
  },
  {
   "cell_type": "markdown",
   "metadata": {},
   "source": [
    "now fill in the 16s table"
   ]
  },
  {
   "cell_type": "code",
   "execution_count": 33,
   "metadata": {},
   "outputs": [
    {
     "data": {
      "text/plain": [
       "<duckdb.DuckDBPyConnection at 0x1ae194070>"
      ]
     },
     "execution_count": 33,
     "metadata": {},
     "output_type": "execute_result"
    }
   ],
   "source": [
    "conn.execute(\"COPY taxa_16s FROM '../data/taxa/16s_rRNA.csv' ( HEADER )\")"
   ]
  },
  {
   "cell_type": "markdown",
   "metadata": {},
   "source": [
    "Try to execute an inner join"
   ]
  },
  {
   "cell_type": "code",
   "execution_count": 49,
   "metadata": {},
   "outputs": [],
   "source": [
    "df = conn.execute(\"\"\"\n",
    "    SELECT (taxa_16s.seq_16srRNA, taxa.ncbi_taxid)\n",
    "        FROM taxa_16s INNER JOIN taxa\n",
    "        ON taxa_16s.taxa_index = taxa.taxa_index\n",
    "    WHERE taxa.ncbi_taxid<100000\n",
    "\"\"\").df()"
   ]
  },
  {
   "cell_type": "code",
   "execution_count": 53,
   "metadata": {},
   "outputs": [],
   "source": [
    "df = df['main.row(taxa_16s.\"seq_16srRNA\", taxa.ncbi_taxid)'].apply(pd.Series)"
   ]
  },
  {
   "cell_type": "code",
   "execution_count": 57,
   "metadata": {},
   "outputs": [
    {
     "data": {
      "text/plain": [
       "seq_16srRNA    0\n",
       "ncbi_taxid     0\n",
       "dtype: int64"
      ]
     },
     "execution_count": 57,
     "metadata": {},
     "output_type": "execute_result"
    }
   ],
   "source": [
    "df.isna().sum()"
   ]
  },
  {
   "cell_type": "code",
   "execution_count": 67,
   "metadata": {},
   "outputs": [],
   "source": [
    "df = conn.execute(\"\"\"\n",
    "    SELECT (taxa_16s.seq_16srRNA)\n",
    "        FROM taxa_16s INNER JOIN taxa\n",
    "        ON taxa_16s.taxa_index = taxa.taxa_index\n",
    "    WHERE taxa.ncbi_taxid<1000000\n",
    "\"\"\").df()"
   ]
  },
  {
   "cell_type": "code",
   "execution_count": 68,
   "metadata": {},
   "outputs": [
    {
     "data": {
      "text/plain": [
       "0"
      ]
     },
     "execution_count": 68,
     "metadata": {},
     "output_type": "execute_result"
    }
   ],
   "source": [
    "(df['seq_16srRNA'].apply(len) == 0).sum()"
   ]
  },
  {
   "cell_type": "markdown",
   "metadata": {},
   "source": [
    "where are the taxa without sequances?"
   ]
  },
  {
   "cell_type": "code",
   "execution_count": 77,
   "metadata": {},
   "outputs": [
    {
     "data": {
      "text/html": [
       "<div>\n",
       "<style scoped>\n",
       "    .dataframe tbody tr th:only-of-type {\n",
       "        vertical-align: middle;\n",
       "    }\n",
       "\n",
       "    .dataframe tbody tr th {\n",
       "        vertical-align: top;\n",
       "    }\n",
       "\n",
       "    .dataframe thead th {\n",
       "        text-align: right;\n",
       "    }\n",
       "</style>\n",
       "<table border=\"1\" class=\"dataframe\">\n",
       "  <thead>\n",
       "    <tr style=\"text-align: right;\">\n",
       "      <th></th>\n",
       "      <th>taxa_index</th>\n",
       "      <th>seq_16srRNA</th>\n",
       "    </tr>\n",
       "  </thead>\n",
       "  <tbody>\n",
       "    <tr>\n",
       "      <th>0</th>\n",
       "      <td>0</td>\n",
       "      <td>ACGATGGAGAGTTTGATCCTGGCTCAGGATGAACGCTAGCGGCAGG...</td>\n",
       "    </tr>\n",
       "    <tr>\n",
       "      <th>1</th>\n",
       "      <td>2</td>\n",
       "      <td>CAACTTGAGAGTTTGATCCTGGCTCAGAGCGAACGCTGGCGGCAGG...</td>\n",
       "    </tr>\n",
       "    <tr>\n",
       "      <th>2</th>\n",
       "      <td>1</td>\n",
       "      <td>TCAACGGAGAGTTTGATCCTGGCTCAGGACGAACGCTGGCGGCGTG...</td>\n",
       "    </tr>\n",
       "    <tr>\n",
       "      <th>3</th>\n",
       "      <td>4</td>\n",
       "      <td>CAAATGGAGAGTTTGATCCTGGCTCAGGATGAACGCTGGCGGCATG...</td>\n",
       "    </tr>\n",
       "    <tr>\n",
       "      <th>4</th>\n",
       "      <td>11</td>\n",
       "      <td>GAACCTGAGAGTTTGATCCTGGCTCAGAGCGAACGCTGGCGGCATG...</td>\n",
       "    </tr>\n",
       "    <tr>\n",
       "      <th>5</th>\n",
       "      <td>8</td>\n",
       "      <td>None</td>\n",
       "    </tr>\n",
       "    <tr>\n",
       "      <th>6</th>\n",
       "      <td>10</td>\n",
       "      <td>CAACTAAAGAGTTTGATCCTGGCTCAGATTGAACGCTGGCGGCATG...</td>\n",
       "    </tr>\n",
       "    <tr>\n",
       "      <th>7</th>\n",
       "      <td>7</td>\n",
       "      <td>ACAATGGAGAGTTTGATCCTGGCTCAGGATGAACGCTAGCGGGAGG...</td>\n",
       "    </tr>\n",
       "    <tr>\n",
       "      <th>8</th>\n",
       "      <td>5</td>\n",
       "      <td>TTGTTGGAGAGTTTGATCCTGGCTCAGGACGAACGCTGGCGGCGTG...</td>\n",
       "    </tr>\n",
       "    <tr>\n",
       "      <th>9</th>\n",
       "      <td>6</td>\n",
       "      <td>GAACTGAAGAGTTTGATCCTGGCTCAGATTGAACGCTGGCGGCATG...</td>\n",
       "    </tr>\n",
       "  </tbody>\n",
       "</table>\n",
       "</div>"
      ],
      "text/plain": [
       "   taxa_index                                        seq_16srRNA\n",
       "0           0  ACGATGGAGAGTTTGATCCTGGCTCAGGATGAACGCTAGCGGCAGG...\n",
       "1           2  CAACTTGAGAGTTTGATCCTGGCTCAGAGCGAACGCTGGCGGCAGG...\n",
       "2           1  TCAACGGAGAGTTTGATCCTGGCTCAGGACGAACGCTGGCGGCGTG...\n",
       "3           4  CAAATGGAGAGTTTGATCCTGGCTCAGGATGAACGCTGGCGGCATG...\n",
       "4          11  GAACCTGAGAGTTTGATCCTGGCTCAGAGCGAACGCTGGCGGCATG...\n",
       "5           8                                               None\n",
       "6          10  CAACTAAAGAGTTTGATCCTGGCTCAGATTGAACGCTGGCGGCATG...\n",
       "7           7  ACAATGGAGAGTTTGATCCTGGCTCAGGATGAACGCTAGCGGGAGG...\n",
       "8           5  TTGTTGGAGAGTTTGATCCTGGCTCAGGACGAACGCTGGCGGCGTG...\n",
       "9           6  GAACTGAAGAGTTTGATCCTGGCTCAGATTGAACGCTGGCGGCATG..."
      ]
     },
     "execution_count": 77,
     "metadata": {},
     "output_type": "execute_result"
    }
   ],
   "source": [
    "conn.execute(\"\"\"\n",
    "    SELECT * FROM taxa_16s\n",
    "    LIMIT 10 \n",
    "\"\"\").df()"
   ]
  },
  {
   "cell_type": "markdown",
   "metadata": {},
   "source": [
    "they are there, but dissappeared when we inner joined?"
   ]
  },
  {
   "cell_type": "code",
   "execution_count": 79,
   "metadata": {},
   "outputs": [
    {
     "data": {
      "text/html": [
       "<div>\n",
       "<style scoped>\n",
       "    .dataframe tbody tr th:only-of-type {\n",
       "        vertical-align: middle;\n",
       "    }\n",
       "\n",
       "    .dataframe tbody tr th {\n",
       "        vertical-align: top;\n",
       "    }\n",
       "\n",
       "    .dataframe thead th {\n",
       "        text-align: right;\n",
       "    }\n",
       "</style>\n",
       "<table border=\"1\" class=\"dataframe\">\n",
       "  <thead>\n",
       "    <tr style=\"text-align: right;\">\n",
       "      <th></th>\n",
       "      <th>seq_16srRNA</th>\n",
       "    </tr>\n",
       "  </thead>\n",
       "  <tbody>\n",
       "    <tr>\n",
       "      <th>0</th>\n",
       "      <td>None</td>\n",
       "    </tr>\n",
       "  </tbody>\n",
       "</table>\n",
       "</div>"
      ],
      "text/plain": [
       "  seq_16srRNA\n",
       "0        None"
      ]
     },
     "execution_count": 79,
     "metadata": {},
     "output_type": "execute_result"
    }
   ],
   "source": [
    "conn.execute(\"\"\"\n",
    "    SELECT (taxa_16s.seq_16srRNA)\n",
    "        FROM taxa_16s INNER JOIN taxa\n",
    "        ON taxa_16s.taxa_index = taxa.taxa_index\n",
    "    WHERE taxa_16s.taxa_index=8\n",
    "\"\"\").df()"
   ]
  },
  {
   "cell_type": "code",
   "execution_count": 85,
   "metadata": {},
   "outputs": [],
   "source": [
    "df = conn.execute(\"\"\"\n",
    "    SELECT taxa.taxa_index, taxa_16s.seq_16srRNA\n",
    "        FROM taxa_16s INNER JOIN taxa\n",
    "        ON taxa_16s.taxa_index = taxa.taxa_index\n",
    "\"\"\").df()"
   ]
  },
  {
   "cell_type": "code",
   "execution_count": 86,
   "metadata": {},
   "outputs": [
    {
     "data": {
      "text/html": [
       "<div>\n",
       "<style scoped>\n",
       "    .dataframe tbody tr th:only-of-type {\n",
       "        vertical-align: middle;\n",
       "    }\n",
       "\n",
       "    .dataframe tbody tr th {\n",
       "        vertical-align: top;\n",
       "    }\n",
       "\n",
       "    .dataframe thead th {\n",
       "        text-align: right;\n",
       "    }\n",
       "</style>\n",
       "<table border=\"1\" class=\"dataframe\">\n",
       "  <thead>\n",
       "    <tr style=\"text-align: right;\">\n",
       "      <th></th>\n",
       "      <th>taxa_index</th>\n",
       "      <th>seq_16srRNA</th>\n",
       "    </tr>\n",
       "  </thead>\n",
       "  <tbody>\n",
       "    <tr>\n",
       "      <th>0</th>\n",
       "      <td>0</td>\n",
       "      <td>ACGATGGAGAGTTTGATCCTGGCTCAGGATGAACGCTAGCGGCAGG...</td>\n",
       "    </tr>\n",
       "    <tr>\n",
       "      <th>1</th>\n",
       "      <td>2</td>\n",
       "      <td>CAACTTGAGAGTTTGATCCTGGCTCAGAGCGAACGCTGGCGGCAGG...</td>\n",
       "    </tr>\n",
       "    <tr>\n",
       "      <th>2</th>\n",
       "      <td>1</td>\n",
       "      <td>TCAACGGAGAGTTTGATCCTGGCTCAGGACGAACGCTGGCGGCGTG...</td>\n",
       "    </tr>\n",
       "    <tr>\n",
       "      <th>3</th>\n",
       "      <td>4</td>\n",
       "      <td>CAAATGGAGAGTTTGATCCTGGCTCAGGATGAACGCTGGCGGCATG...</td>\n",
       "    </tr>\n",
       "    <tr>\n",
       "      <th>4</th>\n",
       "      <td>11</td>\n",
       "      <td>GAACCTGAGAGTTTGATCCTGGCTCAGAGCGAACGCTGGCGGCATG...</td>\n",
       "    </tr>\n",
       "    <tr>\n",
       "      <th>5</th>\n",
       "      <td>8</td>\n",
       "      <td>None</td>\n",
       "    </tr>\n",
       "    <tr>\n",
       "      <th>6</th>\n",
       "      <td>10</td>\n",
       "      <td>CAACTAAAGAGTTTGATCCTGGCTCAGATTGAACGCTGGCGGCATG...</td>\n",
       "    </tr>\n",
       "    <tr>\n",
       "      <th>7</th>\n",
       "      <td>7</td>\n",
       "      <td>ACAATGGAGAGTTTGATCCTGGCTCAGGATGAACGCTAGCGGGAGG...</td>\n",
       "    </tr>\n",
       "    <tr>\n",
       "      <th>8</th>\n",
       "      <td>5</td>\n",
       "      <td>TTGTTGGAGAGTTTGATCCTGGCTCAGGACGAACGCTGGCGGCGTG...</td>\n",
       "    </tr>\n",
       "    <tr>\n",
       "      <th>9</th>\n",
       "      <td>6</td>\n",
       "      <td>GAACTGAAGAGTTTGATCCTGGCTCAGATTGAACGCTGGCGGCATG...</td>\n",
       "    </tr>\n",
       "  </tbody>\n",
       "</table>\n",
       "</div>"
      ],
      "text/plain": [
       "   taxa_index                                        seq_16srRNA\n",
       "0           0  ACGATGGAGAGTTTGATCCTGGCTCAGGATGAACGCTAGCGGCAGG...\n",
       "1           2  CAACTTGAGAGTTTGATCCTGGCTCAGAGCGAACGCTGGCGGCAGG...\n",
       "2           1  TCAACGGAGAGTTTGATCCTGGCTCAGGACGAACGCTGGCGGCGTG...\n",
       "3           4  CAAATGGAGAGTTTGATCCTGGCTCAGGATGAACGCTGGCGGCATG...\n",
       "4          11  GAACCTGAGAGTTTGATCCTGGCTCAGAGCGAACGCTGGCGGCATG...\n",
       "5           8                                               None\n",
       "6          10  CAACTAAAGAGTTTGATCCTGGCTCAGATTGAACGCTGGCGGCATG...\n",
       "7           7  ACAATGGAGAGTTTGATCCTGGCTCAGGATGAACGCTAGCGGGAGG...\n",
       "8           5  TTGTTGGAGAGTTTGATCCTGGCTCAGGACGAACGCTGGCGGCGTG...\n",
       "9           6  GAACTGAAGAGTTTGATCCTGGCTCAGATTGAACGCTGGCGGCATG..."
      ]
     },
     "execution_count": 86,
     "metadata": {},
     "output_type": "execute_result"
    }
   ],
   "source": [
    "df.head(10)"
   ]
  },
  {
   "cell_type": "markdown",
   "metadata": {},
   "source": [
    "All looks good..."
   ]
  },
  {
   "cell_type": "markdown",
   "metadata": {},
   "source": []
  }
 ],
 "metadata": {
  "kernelspec": {
   "display_name": "Python 3.10.6 ('learn2therm')",
   "language": "python",
   "name": "python3"
  },
  "language_info": {
   "codemirror_mode": {
    "name": "ipython",
    "version": 3
   },
   "file_extension": ".py",
   "mimetype": "text/x-python",
   "name": "python",
   "nbconvert_exporter": "python",
   "pygments_lexer": "ipython3",
   "version": "3.10.6"
  },
  "orig_nbformat": 4,
  "vscode": {
   "interpreter": {
    "hash": "4b9da095881b704967dc48778f25785864cf1780c4a84ddad275ec66ae3d1384"
   }
  }
 },
 "nbformat": 4,
 "nbformat_minor": 2
}
