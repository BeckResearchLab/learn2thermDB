{
 "cells": [
  {
   "cell_type": "markdown",
   "metadata": {},
   "source": [
    "# Plotting stuff for my research report, CSE527\n",
    "I've two outputs (labels, 16S_pairs) with me b/c I had trouble accessing Waffle/DVC."
   ]
  },
  {
   "cell_type": "code",
   "execution_count": 3,
   "metadata": {},
   "outputs": [],
   "source": [
    "import matplotlib.pyplot as plt\n",
    "import seaborn as sns\n",
    "import pandas as pd"
   ]
  },
  {
   "cell_type": "code",
   "execution_count": 4,
   "metadata": {},
   "outputs": [],
   "source": [
    "sns.set_context('talk')"
   ]
  },
  {
   "cell_type": "code",
   "execution_count": 5,
   "metadata": {},
   "outputs": [],
   "source": [
    "df_ogt = pd.read_csv('../data/taxa/labels.csv', index_col=0)"
   ]
  },
  {
   "cell_type": "code",
   "execution_count": 6,
   "metadata": {},
   "outputs": [
    {
     "data": {
      "text/html": [
       "<div>\n",
       "<style scoped>\n",
       "    .dataframe tbody tr th:only-of-type {\n",
       "        vertical-align: middle;\n",
       "    }\n",
       "\n",
       "    .dataframe tbody tr th {\n",
       "        vertical-align: top;\n",
       "    }\n",
       "\n",
       "    .dataframe thead th {\n",
       "        text-align: right;\n",
       "    }\n",
       "</style>\n",
       "<table border=\"1\" class=\"dataframe\">\n",
       "  <thead>\n",
       "    <tr style=\"text-align: right;\">\n",
       "      <th></th>\n",
       "      <th>ogt</th>\n",
       "    </tr>\n",
       "  </thead>\n",
       "  <tbody>\n",
       "    <tr>\n",
       "      <th>count</th>\n",
       "      <td>4424.000000</td>\n",
       "    </tr>\n",
       "    <tr>\n",
       "      <th>mean</th>\n",
       "      <td>31.113743</td>\n",
       "    </tr>\n",
       "    <tr>\n",
       "      <th>std</th>\n",
       "      <td>8.568326</td>\n",
       "    </tr>\n",
       "    <tr>\n",
       "      <th>min</th>\n",
       "      <td>6.000000</td>\n",
       "    </tr>\n",
       "    <tr>\n",
       "      <th>25%</th>\n",
       "      <td>28.000000</td>\n",
       "    </tr>\n",
       "    <tr>\n",
       "      <th>50%</th>\n",
       "      <td>30.000000</td>\n",
       "    </tr>\n",
       "    <tr>\n",
       "      <th>75%</th>\n",
       "      <td>33.500000</td>\n",
       "    </tr>\n",
       "    <tr>\n",
       "      <th>max</th>\n",
       "      <td>105.000000</td>\n",
       "    </tr>\n",
       "  </tbody>\n",
       "</table>\n",
       "</div>"
      ],
      "text/plain": [
       "               ogt\n",
       "count  4424.000000\n",
       "mean     31.113743\n",
       "std       8.568326\n",
       "min       6.000000\n",
       "25%      28.000000\n",
       "50%      30.000000\n",
       "75%      33.500000\n",
       "max     105.000000"
      ]
     },
     "execution_count": 6,
     "metadata": {},
     "output_type": "execute_result"
    }
   ],
   "source": [
    "df_ogt.describe()"
   ]
  },
  {
   "cell_type": "code",
   "execution_count": 7,
   "metadata": {},
   "outputs": [],
   "source": [
    "df_16s = pd.read_csv('../data/taxa_pairs/pairwise_16s_blast.csv', index_col=None)"
   ]
  },
  {
   "cell_type": "code",
   "execution_count": 8,
   "metadata": {},
   "outputs": [
    {
     "data": {
      "text/html": [
       "<div>\n",
       "<style scoped>\n",
       "    .dataframe tbody tr th:only-of-type {\n",
       "        vertical-align: middle;\n",
       "    }\n",
       "\n",
       "    .dataframe tbody tr th {\n",
       "        vertical-align: top;\n",
       "    }\n",
       "\n",
       "    .dataframe thead th {\n",
       "        text-align: right;\n",
       "    }\n",
       "</style>\n",
       "<table border=\"1\" class=\"dataframe\">\n",
       "  <thead>\n",
       "    <tr style=\"text-align: right;\">\n",
       "      <th></th>\n",
       "      <th>thermo_index</th>\n",
       "      <th>meso_index</th>\n",
       "      <th>local_E_value</th>\n",
       "      <th>scaled_local_query_percent_id</th>\n",
       "      <th>scaled_local_symmetric_percent_id</th>\n",
       "      <th>local_gap_compressed_percent_id</th>\n",
       "      <th>local_average_coverage</th>\n",
       "    </tr>\n",
       "  </thead>\n",
       "  <tbody>\n",
       "    <tr>\n",
       "      <th>count</th>\n",
       "      <td>750633.000000</td>\n",
       "      <td>750633.000000</td>\n",
       "      <td>7.506330e+05</td>\n",
       "      <td>750633.000000</td>\n",
       "      <td>750633.000000</td>\n",
       "      <td>750633.000000</td>\n",
       "      <td>750633.000000</td>\n",
       "    </tr>\n",
       "    <tr>\n",
       "      <th>mean</th>\n",
       "      <td>8457.502636</td>\n",
       "      <td>8082.160624</td>\n",
       "      <td>7.732823e-12</td>\n",
       "      <td>0.667429</td>\n",
       "      <td>0.605776</td>\n",
       "      <td>0.822348</td>\n",
       "      <td>0.798307</td>\n",
       "    </tr>\n",
       "    <tr>\n",
       "      <th>std</th>\n",
       "      <td>4862.021723</td>\n",
       "      <td>4646.578599</td>\n",
       "      <td>1.765127e-09</td>\n",
       "      <td>0.211535</td>\n",
       "      <td>0.244945</td>\n",
       "      <td>0.054200</td>\n",
       "      <td>0.228732</td>\n",
       "    </tr>\n",
       "    <tr>\n",
       "      <th>min</th>\n",
       "      <td>24.000000</td>\n",
       "      <td>5.000000</td>\n",
       "      <td>0.000000e+00</td>\n",
       "      <td>0.013170</td>\n",
       "      <td>0.021458</td>\n",
       "      <td>0.704718</td>\n",
       "      <td>0.022761</td>\n",
       "    </tr>\n",
       "    <tr>\n",
       "      <th>25%</th>\n",
       "      <td>3997.000000</td>\n",
       "      <td>4043.000000</td>\n",
       "      <td>0.000000e+00</td>\n",
       "      <td>0.643177</td>\n",
       "      <td>0.427087</td>\n",
       "      <td>0.790074</td>\n",
       "      <td>0.643901</td>\n",
       "    </tr>\n",
       "    <tr>\n",
       "      <th>50%</th>\n",
       "      <td>8529.000000</td>\n",
       "      <td>8043.000000</td>\n",
       "      <td>0.000000e+00</td>\n",
       "      <td>0.757962</td>\n",
       "      <td>0.688264</td>\n",
       "      <td>0.812166</td>\n",
       "      <td>0.852390</td>\n",
       "    </tr>\n",
       "    <tr>\n",
       "      <th>75%</th>\n",
       "      <td>12717.000000</td>\n",
       "      <td>12069.000000</td>\n",
       "      <td>1.170250e-104</td>\n",
       "      <td>0.801040</td>\n",
       "      <td>0.795761</td>\n",
       "      <td>0.834335</td>\n",
       "      <td>0.995348</td>\n",
       "    </tr>\n",
       "    <tr>\n",
       "      <th>max</th>\n",
       "      <td>16650.000000</td>\n",
       "      <td>16663.000000</td>\n",
       "      <td>7.548360e-07</td>\n",
       "      <td>1.000000</td>\n",
       "      <td>0.996439</td>\n",
       "      <td>1.000000</td>\n",
       "      <td>0.999450</td>\n",
       "    </tr>\n",
       "  </tbody>\n",
       "</table>\n",
       "</div>"
      ],
      "text/plain": [
       "        thermo_index     meso_index  local_E_value  \\\n",
       "count  750633.000000  750633.000000   7.506330e+05   \n",
       "mean     8457.502636    8082.160624   7.732823e-12   \n",
       "std      4862.021723    4646.578599   1.765127e-09   \n",
       "min        24.000000       5.000000   0.000000e+00   \n",
       "25%      3997.000000    4043.000000   0.000000e+00   \n",
       "50%      8529.000000    8043.000000   0.000000e+00   \n",
       "75%     12717.000000   12069.000000  1.170250e-104   \n",
       "max     16650.000000   16663.000000   7.548360e-07   \n",
       "\n",
       "       scaled_local_query_percent_id  scaled_local_symmetric_percent_id  \\\n",
       "count                  750633.000000                      750633.000000   \n",
       "mean                        0.667429                           0.605776   \n",
       "std                         0.211535                           0.244945   \n",
       "min                         0.013170                           0.021458   \n",
       "25%                         0.643177                           0.427087   \n",
       "50%                         0.757962                           0.688264   \n",
       "75%                         0.801040                           0.795761   \n",
       "max                         1.000000                           0.996439   \n",
       "\n",
       "       local_gap_compressed_percent_id  local_average_coverage  \n",
       "count                    750633.000000           750633.000000  \n",
       "mean                          0.822348                0.798307  \n",
       "std                           0.054200                0.228732  \n",
       "min                           0.704718                0.022761  \n",
       "25%                           0.790074                0.643901  \n",
       "50%                           0.812166                0.852390  \n",
       "75%                           0.834335                0.995348  \n",
       "max                           1.000000                0.999450  "
      ]
     },
     "execution_count": 8,
     "metadata": {},
     "output_type": "execute_result"
    }
   ],
   "source": [
    "df_16s.describe()"
   ]
  },
  {
   "cell_type": "code",
   "execution_count": 9,
   "metadata": {},
   "outputs": [],
   "source": [
    "meso_OGT = df_ogt.loc[df_16s['meso_index']]['ogt']"
   ]
  },
  {
   "cell_type": "code",
   "execution_count": 10,
   "metadata": {},
   "outputs": [],
   "source": [
    "thermo_OGT = df_ogt.loc[df_16s['thermo_index']]['ogt']"
   ]
  },
  {
   "cell_type": "code",
   "execution_count": 11,
   "metadata": {},
   "outputs": [],
   "source": [
    "assert len(meso_OGT) == len(thermo_OGT)"
   ]
  },
  {
   "cell_type": "code",
   "execution_count": 12,
   "metadata": {},
   "outputs": [],
   "source": [
    "delta_OGT = thermo_OGT.values - meso_OGT.values"
   ]
  },
  {
   "cell_type": "code",
   "execution_count": 13,
   "metadata": {},
   "outputs": [],
   "source": [
    "df_16s['delta_OGT'] = delta_OGT"
   ]
  },
  {
   "cell_type": "code",
   "execution_count": 14,
   "metadata": {},
   "outputs": [
    {
     "data": {
      "text/html": [
       "<div>\n",
       "<style scoped>\n",
       "    .dataframe tbody tr th:only-of-type {\n",
       "        vertical-align: middle;\n",
       "    }\n",
       "\n",
       "    .dataframe tbody tr th {\n",
       "        vertical-align: top;\n",
       "    }\n",
       "\n",
       "    .dataframe thead th {\n",
       "        text-align: right;\n",
       "    }\n",
       "</style>\n",
       "<table border=\"1\" class=\"dataframe\">\n",
       "  <thead>\n",
       "    <tr style=\"text-align: right;\">\n",
       "      <th></th>\n",
       "      <th>thermo_index</th>\n",
       "      <th>meso_index</th>\n",
       "      <th>local_E_value</th>\n",
       "      <th>scaled_local_query_percent_id</th>\n",
       "      <th>scaled_local_symmetric_percent_id</th>\n",
       "      <th>local_gap_compressed_percent_id</th>\n",
       "      <th>local_average_coverage</th>\n",
       "      <th>delta_OGT</th>\n",
       "    </tr>\n",
       "  </thead>\n",
       "  <tbody>\n",
       "    <tr>\n",
       "      <th>count</th>\n",
       "      <td>750633.000000</td>\n",
       "      <td>750633.000000</td>\n",
       "      <td>7.506330e+05</td>\n",
       "      <td>750633.000000</td>\n",
       "      <td>750633.000000</td>\n",
       "      <td>750633.000000</td>\n",
       "      <td>750633.000000</td>\n",
       "      <td>750633.000000</td>\n",
       "    </tr>\n",
       "    <tr>\n",
       "      <th>mean</th>\n",
       "      <td>8457.502636</td>\n",
       "      <td>8082.160624</td>\n",
       "      <td>7.732823e-12</td>\n",
       "      <td>0.667429</td>\n",
       "      <td>0.605776</td>\n",
       "      <td>0.822348</td>\n",
       "      <td>0.798307</td>\n",
       "      <td>25.851470</td>\n",
       "    </tr>\n",
       "    <tr>\n",
       "      <th>std</th>\n",
       "      <td>4862.021723</td>\n",
       "      <td>4646.578599</td>\n",
       "      <td>1.765127e-09</td>\n",
       "      <td>0.211535</td>\n",
       "      <td>0.244945</td>\n",
       "      <td>0.054200</td>\n",
       "      <td>0.228732</td>\n",
       "      <td>11.882097</td>\n",
       "    </tr>\n",
       "    <tr>\n",
       "      <th>min</th>\n",
       "      <td>24.000000</td>\n",
       "      <td>5.000000</td>\n",
       "      <td>0.000000e+00</td>\n",
       "      <td>0.013170</td>\n",
       "      <td>0.021458</td>\n",
       "      <td>0.704718</td>\n",
       "      <td>0.022761</td>\n",
       "      <td>1.000000</td>\n",
       "    </tr>\n",
       "    <tr>\n",
       "      <th>25%</th>\n",
       "      <td>3997.000000</td>\n",
       "      <td>4043.000000</td>\n",
       "      <td>0.000000e+00</td>\n",
       "      <td>0.643177</td>\n",
       "      <td>0.427087</td>\n",
       "      <td>0.790074</td>\n",
       "      <td>0.643901</td>\n",
       "      <td>17.000000</td>\n",
       "    </tr>\n",
       "    <tr>\n",
       "      <th>50%</th>\n",
       "      <td>8529.000000</td>\n",
       "      <td>8043.000000</td>\n",
       "      <td>0.000000e+00</td>\n",
       "      <td>0.757962</td>\n",
       "      <td>0.688264</td>\n",
       "      <td>0.812166</td>\n",
       "      <td>0.852390</td>\n",
       "      <td>24.500000</td>\n",
       "    </tr>\n",
       "    <tr>\n",
       "      <th>75%</th>\n",
       "      <td>12717.000000</td>\n",
       "      <td>12069.000000</td>\n",
       "      <td>1.170250e-104</td>\n",
       "      <td>0.801040</td>\n",
       "      <td>0.795761</td>\n",
       "      <td>0.834335</td>\n",
       "      <td>0.995348</td>\n",
       "      <td>32.500000</td>\n",
       "    </tr>\n",
       "    <tr>\n",
       "      <th>max</th>\n",
       "      <td>16650.000000</td>\n",
       "      <td>16663.000000</td>\n",
       "      <td>7.548360e-07</td>\n",
       "      <td>1.000000</td>\n",
       "      <td>0.996439</td>\n",
       "      <td>1.000000</td>\n",
       "      <td>0.999450</td>\n",
       "      <td>98.000000</td>\n",
       "    </tr>\n",
       "  </tbody>\n",
       "</table>\n",
       "</div>"
      ],
      "text/plain": [
       "        thermo_index     meso_index  local_E_value  \\\n",
       "count  750633.000000  750633.000000   7.506330e+05   \n",
       "mean     8457.502636    8082.160624   7.732823e-12   \n",
       "std      4862.021723    4646.578599   1.765127e-09   \n",
       "min        24.000000       5.000000   0.000000e+00   \n",
       "25%      3997.000000    4043.000000   0.000000e+00   \n",
       "50%      8529.000000    8043.000000   0.000000e+00   \n",
       "75%     12717.000000   12069.000000  1.170250e-104   \n",
       "max     16650.000000   16663.000000   7.548360e-07   \n",
       "\n",
       "       scaled_local_query_percent_id  scaled_local_symmetric_percent_id  \\\n",
       "count                  750633.000000                      750633.000000   \n",
       "mean                        0.667429                           0.605776   \n",
       "std                         0.211535                           0.244945   \n",
       "min                         0.013170                           0.021458   \n",
       "25%                         0.643177                           0.427087   \n",
       "50%                         0.757962                           0.688264   \n",
       "75%                         0.801040                           0.795761   \n",
       "max                         1.000000                           0.996439   \n",
       "\n",
       "       local_gap_compressed_percent_id  local_average_coverage      delta_OGT  \n",
       "count                    750633.000000           750633.000000  750633.000000  \n",
       "mean                          0.822348                0.798307      25.851470  \n",
       "std                           0.054200                0.228732      11.882097  \n",
       "min                           0.704718                0.022761       1.000000  \n",
       "25%                           0.790074                0.643901      17.000000  \n",
       "50%                           0.812166                0.852390      24.500000  \n",
       "75%                           0.834335                0.995348      32.500000  \n",
       "max                           1.000000                0.999450      98.000000  "
      ]
     },
     "execution_count": 14,
     "metadata": {},
     "output_type": "execute_result"
    }
   ],
   "source": [
    "df_16s.describe()"
   ]
  },
  {
   "cell_type": "code",
   "execution_count": 15,
   "metadata": {},
   "outputs": [
    {
     "data": {
      "text/plain": [
       "<AxesSubplot:xlabel='local_average_coverage', ylabel='delta_OGT'>"
      ]
     },
     "execution_count": 15,
     "metadata": {},
     "output_type": "execute_result"
    },
    {
     "data": {
      "image/png": "[encoded data removed]",
      "text/plain": [
       "<Figure size 432x432 with 1 Axes>"
      ]
     },
     "metadata": {
      "needs_background": "light"
     },
     "output_type": "display_data"
    }
   ],
   "source": [
    "fig, ax = plt.subplots(figsize=(6,6))\n",
    "sns.lineplot(data=df_16s, x='local_average_coverage', y='delta_OGT')\n",
    "# ax.set_xlabel('')\n",
    "# ax.set_ylabel('')"
   ]
  },
  {
   "cell_type": "code",
   "execution_count": null,
   "metadata": {},
   "outputs": [],
   "source": []
  }
 ],
 "metadata": {
  "kernelspec": {
   "display_name": "Python 3 (ipykernel)",
   "language": "python",
   "name": "python3"
  },
  "language_info": {
   "codemirror_mode": {
    "name": "ipython",
    "version": 3
   },
   "file_extension": ".py",
   "mimetype": "text/x-python",
   "name": "python",
   "nbconvert_exporter": "python",
   "pygments_lexer": "ipython3",
   "version": "3.9.13"
  },
  "vscode": {
   "interpreter": {
    "hash": "7702da1917ec8ce15cdc07c43cc5365023909e5155732763592c15acedd2864e"
   }
  }
 },
 "nbformat": 4,
 "nbformat_minor": 4
}
