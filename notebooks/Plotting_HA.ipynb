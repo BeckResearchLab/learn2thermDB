{
 "cells": [
  {
   "cell_type": "markdown",
   "metadata": {},
   "source": [
    "# Plotting stuff for my research report, CSE527\n",
    "I've two outputs (labels, 16S_pairs) with me b/c I had trouble accessing Waffle/DVC."
   ]
  },
  {
   "cell_type": "code",
   "execution_count": 1,
   "metadata": {},
   "outputs": [],
   "source": [
    "import matplotlib.pyplot as plt\n",
    "import seaborn as sns\n",
    "import pandas as pd"
   ]
  },
  {
   "cell_type": "code",
   "execution_count": 3,
   "metadata": {},
   "outputs": [],
   "source": [
    "sns.set_context('talk')"
   ]
  },
  {
   "cell_type": "code",
   "execution_count": 27,
   "metadata": {},
   "outputs": [],
   "source": [
    "df_ogt = pd.read_csv('../data/taxa/labels.csv', index_col=0)"
   ]
  },
  {
   "cell_type": "code",
   "execution_count": 28,
   "metadata": {},
   "outputs": [
    {
     "data": {
      "text/html": [
       "<div>\n",
       "<style scoped>\n",
       "    .dataframe tbody tr th:only-of-type {\n",
       "        vertical-align: middle;\n",
       "    }\n",
       "\n",
       "    .dataframe tbody tr th {\n",
       "        vertical-align: top;\n",
       "    }\n",
       "\n",
       "    .dataframe thead th {\n",
       "        text-align: right;\n",
       "    }\n",
       "</style>\n",
       "<table border=\"1\" class=\"dataframe\">\n",
       "  <thead>\n",
       "    <tr style=\"text-align: right;\">\n",
       "      <th></th>\n",
       "      <th>ogt</th>\n",
       "    </tr>\n",
       "  </thead>\n",
       "  <tbody>\n",
       "    <tr>\n",
       "      <th>count</th>\n",
       "      <td>4424.000000</td>\n",
       "    </tr>\n",
       "    <tr>\n",
       "      <th>mean</th>\n",
       "      <td>31.113743</td>\n",
       "    </tr>\n",
       "    <tr>\n",
       "      <th>std</th>\n",
       "      <td>8.568326</td>\n",
       "    </tr>\n",
       "    <tr>\n",
       "      <th>min</th>\n",
       "      <td>6.000000</td>\n",
       "    </tr>\n",
       "    <tr>\n",
       "      <th>25%</th>\n",
       "      <td>28.000000</td>\n",
       "    </tr>\n",
       "    <tr>\n",
       "      <th>50%</th>\n",
       "      <td>30.000000</td>\n",
       "    </tr>\n",
       "    <tr>\n",
       "      <th>75%</th>\n",
       "      <td>33.500000</td>\n",
       "    </tr>\n",
       "    <tr>\n",
       "      <th>max</th>\n",
       "      <td>105.000000</td>\n",
       "    </tr>\n",
       "  </tbody>\n",
       "</table>\n",
       "</div>"
      ],
      "text/plain": [
       "               ogt\n",
       "count  4424.000000\n",
       "mean     31.113743\n",
       "std       8.568326\n",
       "min       6.000000\n",
       "25%      28.000000\n",
       "50%      30.000000\n",
       "75%      33.500000\n",
       "max     105.000000"
      ]
     },
     "execution_count": 28,
     "metadata": {},
     "output_type": "execute_result"
    }
   ],
   "source": [
    "df_ogt.describe()"
   ]
  },
  {
   "cell_type": "code",
   "execution_count": 38,
   "metadata": {},
   "outputs": [],
   "source": [
    "df_16s = pd.read_csv('../data/taxa_pairs/pairwise_16s_blast.csv', index_col=None)"
   ]
  },
  {
   "cell_type": "code",
   "execution_count": 39,
   "metadata": {},
   "outputs": [
    {
     "data": {
      "text/html": [
       "<div>\n",
       "<style scoped>\n",
       "    .dataframe tbody tr th:only-of-type {\n",
       "        vertical-align: middle;\n",
       "    }\n",
       "\n",
       "    .dataframe tbody tr th {\n",
       "        vertical-align: top;\n",
       "    }\n",
       "\n",
       "    .dataframe thead th {\n",
       "        text-align: right;\n",
       "    }\n",
       "</style>\n",
       "<table border=\"1\" class=\"dataframe\">\n",
       "  <thead>\n",
       "    <tr style=\"text-align: right;\">\n",
       "      <th></th>\n",
       "      <th>thermo_index</th>\n",
       "      <th>meso_index</th>\n",
       "      <th>local_E_value</th>\n",
       "      <th>scaled_local_query_percent_id</th>\n",
       "      <th>scaled_local_symmetric_percent_id</th>\n",
       "      <th>local_gap_compressed_percent_id</th>\n",
       "      <th>local_average_coverage</th>\n",
       "    </tr>\n",
       "  </thead>\n",
       "  <tbody>\n",
       "    <tr>\n",
       "      <th>count</th>\n",
       "      <td>750633.000000</td>\n",
       "      <td>750633.000000</td>\n",
       "      <td>7.506330e+05</td>\n",
       "      <td>750633.000000</td>\n",
       "      <td>750633.000000</td>\n",
       "      <td>750633.000000</td>\n",
       "      <td>750633.000000</td>\n",
       "    </tr>\n",
       "    <tr>\n",
       "      <th>mean</th>\n",
       "      <td>8457.502636</td>\n",
       "      <td>8082.160624</td>\n",
       "      <td>7.732823e-12</td>\n",
       "      <td>0.667429</td>\n",
       "      <td>0.605776</td>\n",
       "      <td>0.822348</td>\n",
       "      <td>0.798307</td>\n",
       "    </tr>\n",
       "    <tr>\n",
       "      <th>std</th>\n",
       "      <td>4862.021723</td>\n",
       "      <td>4646.578599</td>\n",
       "      <td>1.765127e-09</td>\n",
       "      <td>0.211535</td>\n",
       "      <td>0.244945</td>\n",
       "      <td>0.054200</td>\n",
       "      <td>0.228732</td>\n",
       "    </tr>\n",
       "    <tr>\n",
       "      <th>min</th>\n",
       "      <td>24.000000</td>\n",
       "      <td>5.000000</td>\n",
       "      <td>0.000000e+00</td>\n",
       "      <td>0.013170</td>\n",
       "      <td>0.021458</td>\n",
       "      <td>0.704718</td>\n",
       "      <td>0.022761</td>\n",
       "    </tr>\n",
       "    <tr>\n",
       "      <th>25%</th>\n",
       "      <td>3997.000000</td>\n",
       "      <td>4043.000000</td>\n",
       "      <td>0.000000e+00</td>\n",
       "      <td>0.643177</td>\n",
       "      <td>0.427087</td>\n",
       "      <td>0.790074</td>\n",
       "      <td>0.643901</td>\n",
       "    </tr>\n",
       "    <tr>\n",
       "      <th>50%</th>\n",
       "      <td>8529.000000</td>\n",
       "      <td>8043.000000</td>\n",
       "      <td>0.000000e+00</td>\n",
       "      <td>0.757962</td>\n",
       "      <td>0.688264</td>\n",
       "      <td>0.812166</td>\n",
       "      <td>0.852390</td>\n",
       "    </tr>\n",
       "    <tr>\n",
       "      <th>75%</th>\n",
       "      <td>12717.000000</td>\n",
       "      <td>12069.000000</td>\n",
       "      <td>1.170250e-104</td>\n",
       "      <td>0.801040</td>\n",
       "      <td>0.795761</td>\n",
       "      <td>0.834335</td>\n",
       "      <td>0.995348</td>\n",
       "    </tr>\n",
       "    <tr>\n",
       "      <th>max</th>\n",
       "      <td>16650.000000</td>\n",
       "      <td>16663.000000</td>\n",
       "      <td>7.548360e-07</td>\n",
       "      <td>1.000000</td>\n",
       "      <td>0.996439</td>\n",
       "      <td>1.000000</td>\n",
       "      <td>0.999450</td>\n",
       "    </tr>\n",
       "  </tbody>\n",
       "</table>\n",
       "</div>"
      ],
      "text/plain": [
       "        thermo_index     meso_index  local_E_value  \\\n",
       "count  750633.000000  750633.000000   7.506330e+05   \n",
       "mean     8457.502636    8082.160624   7.732823e-12   \n",
       "std      4862.021723    4646.578599   1.765127e-09   \n",
       "min        24.000000       5.000000   0.000000e+00   \n",
       "25%      3997.000000    4043.000000   0.000000e+00   \n",
       "50%      8529.000000    8043.000000   0.000000e+00   \n",
       "75%     12717.000000   12069.000000  1.170250e-104   \n",
       "max     16650.000000   16663.000000   7.548360e-07   \n",
       "\n",
       "       scaled_local_query_percent_id  scaled_local_symmetric_percent_id  \\\n",
       "count                  750633.000000                      750633.000000   \n",
       "mean                        0.667429                           0.605776   \n",
       "std                         0.211535                           0.244945   \n",
       "min                         0.013170                           0.021458   \n",
       "25%                         0.643177                           0.427087   \n",
       "50%                         0.757962                           0.688264   \n",
       "75%                         0.801040                           0.795761   \n",
       "max                         1.000000                           0.996439   \n",
       "\n",
       "       local_gap_compressed_percent_id  local_average_coverage  \n",
       "count                    750633.000000           750633.000000  \n",
       "mean                          0.822348                0.798307  \n",
       "std                           0.054200                0.228732  \n",
       "min                           0.704718                0.022761  \n",
       "25%                           0.790074                0.643901  \n",
       "50%                           0.812166                0.852390  \n",
       "75%                           0.834335                0.995348  \n",
       "max                           1.000000                0.999450  "
      ]
     },
     "execution_count": 39,
     "metadata": {},
     "output_type": "execute_result"
    }
   ],
   "source": [
    "df_16s.describe()"
   ]
  },
  {
   "cell_type": "code",
   "execution_count": 25,
   "metadata": {},
   "outputs": [
    {
     "name": "stdout",
     "output_type": "stream",
     "text": [
      "              meso_index  local_E_value  scaled_local_query_percent_id  \\\n",
      "thermo_index                                                             \n",
      "24                  1501   0.000000e+00                       0.800129   \n",
      "24                 10270   0.000000e+00                       0.800771   \n",
      "24                 10294   0.000000e+00                       0.799486   \n",
      "24                 14090   0.000000e+00                       0.804627   \n",
      "24                 12269   0.000000e+00                       0.797558   \n",
      "...                  ...            ...                            ...   \n",
      "16650              14843   1.008060e-17                       0.152561   \n",
      "16650               5961   1.008060e-17                       0.150334   \n",
      "16650              16094   3.662080e-17                       0.134744   \n",
      "16650              11097   1.330360e-16                       0.150334   \n",
      "16650               5765   1.755690e-15                       0.066815   \n",
      "\n",
      "              scaled_local_symmetric_percent_id  \\\n",
      "thermo_index                                      \n",
      "24                                     0.801158   \n",
      "24                                     0.802318   \n",
      "24                                     0.800772   \n",
      "24                                     0.802307   \n",
      "24                                     0.799099   \n",
      "...                                         ...   \n",
      "16650                                  0.113787   \n",
      "16650                                  0.112313   \n",
      "16650                                  0.100749   \n",
      "16650                                  0.111987   \n",
      "16650                                  0.049689   \n",
      "\n",
      "              local_gap_compressed_percent_id  local_average_coverage  \n",
      "thermo_index                                                           \n",
      "24                                   0.803744                0.997426  \n",
      "24                                   0.807518                0.996136  \n",
      "24                                   0.803618                0.996138  \n",
      "24                                   0.804627                0.996155  \n",
      "24                                   0.804799                0.996136  \n",
      "...                                       ...                     ...  \n",
      "16650                                0.810651                0.151849  \n",
      "16650                                0.798817                0.151995  \n",
      "16650                                0.812081                0.134616  \n",
      "16650                                0.794118                0.151740  \n",
      "16650                                0.882353                0.059059  \n",
      "\n",
      "[750633 rows x 6 columns]\n"
     ]
    }
   ],
   "source": [
    "print(df_16s)"
   ]
  },
  {
   "cell_type": "code",
   "execution_count": 40,
   "metadata": {},
   "outputs": [],
   "source": [
    "meso_OGT = df_ogt.loc[df_16s['meso_index']]['ogt']"
   ]
  },
  {
   "cell_type": "code",
   "execution_count": 41,
   "metadata": {},
   "outputs": [],
   "source": [
    "thermo_OGT = df_ogt.loc[df_16s['thermo_index']]['ogt']"
   ]
  },
  {
   "cell_type": "code",
   "execution_count": 42,
   "metadata": {},
   "outputs": [],
   "source": [
    "delta_OGT = thermo_OGT - meso_OGT"
   ]
  },
  {
   "cell_type": "code",
   "execution_count": 43,
   "metadata": {},
   "outputs": [
    {
     "ename": "ValueError",
     "evalue": "Length of values (1501266) does not match length of index (750633)",
     "output_type": "error",
     "traceback": [
      "\u001b[0;31m---------------------------------------------------------------------------\u001b[0m",
      "\u001b[0;31mValueError\u001b[0m                                Traceback (most recent call last)",
      "\u001b[0;32m<ipython-input-43-f74249acfd2b>\u001b[0m in \u001b[0;36m<module>\u001b[0;34m\u001b[0m\n\u001b[0;32m----> 1\u001b[0;31m \u001b[0mdf_16s\u001b[0m\u001b[0;34m[\u001b[0m\u001b[0;34m'delta_OGT'\u001b[0m\u001b[0;34m]\u001b[0m \u001b[0;34m=\u001b[0m \u001b[0mdelta_OGT\u001b[0m\u001b[0;34m.\u001b[0m\u001b[0mvalues\u001b[0m\u001b[0;34m\u001b[0m\u001b[0;34m\u001b[0m\u001b[0m\n\u001b[0m",
      "\u001b[0;32m~/opt/anaconda3/lib/python3.8/site-packages/pandas/core/frame.py\u001b[0m in \u001b[0;36m__setitem__\u001b[0;34m(self, key, value)\u001b[0m\n\u001b[1;32m   3038\u001b[0m         \u001b[0;32melse\u001b[0m\u001b[0;34m:\u001b[0m\u001b[0;34m\u001b[0m\u001b[0;34m\u001b[0m\u001b[0m\n\u001b[1;32m   3039\u001b[0m             \u001b[0;31m# set column\u001b[0m\u001b[0;34m\u001b[0m\u001b[0;34m\u001b[0m\u001b[0;34m\u001b[0m\u001b[0m\n\u001b[0;32m-> 3040\u001b[0;31m             \u001b[0mself\u001b[0m\u001b[0;34m.\u001b[0m\u001b[0m_set_item\u001b[0m\u001b[0;34m(\u001b[0m\u001b[0mkey\u001b[0m\u001b[0;34m,\u001b[0m \u001b[0mvalue\u001b[0m\u001b[0;34m)\u001b[0m\u001b[0;34m\u001b[0m\u001b[0;34m\u001b[0m\u001b[0m\n\u001b[0m\u001b[1;32m   3041\u001b[0m \u001b[0;34m\u001b[0m\u001b[0m\n\u001b[1;32m   3042\u001b[0m     \u001b[0;32mdef\u001b[0m \u001b[0m_setitem_slice\u001b[0m\u001b[0;34m(\u001b[0m\u001b[0mself\u001b[0m\u001b[0;34m,\u001b[0m \u001b[0mkey\u001b[0m\u001b[0;34m:\u001b[0m \u001b[0mslice\u001b[0m\u001b[0;34m,\u001b[0m \u001b[0mvalue\u001b[0m\u001b[0;34m)\u001b[0m\u001b[0;34m:\u001b[0m\u001b[0;34m\u001b[0m\u001b[0;34m\u001b[0m\u001b[0m\n",
      "\u001b[0;32m~/opt/anaconda3/lib/python3.8/site-packages/pandas/core/frame.py\u001b[0m in \u001b[0;36m_set_item\u001b[0;34m(self, key, value)\u001b[0m\n\u001b[1;32m   3114\u001b[0m         \"\"\"\n\u001b[1;32m   3115\u001b[0m         \u001b[0mself\u001b[0m\u001b[0;34m.\u001b[0m\u001b[0m_ensure_valid_index\u001b[0m\u001b[0;34m(\u001b[0m\u001b[0mvalue\u001b[0m\u001b[0;34m)\u001b[0m\u001b[0;34m\u001b[0m\u001b[0;34m\u001b[0m\u001b[0m\n\u001b[0;32m-> 3116\u001b[0;31m         \u001b[0mvalue\u001b[0m \u001b[0;34m=\u001b[0m \u001b[0mself\u001b[0m\u001b[0;34m.\u001b[0m\u001b[0m_sanitize_column\u001b[0m\u001b[0;34m(\u001b[0m\u001b[0mkey\u001b[0m\u001b[0;34m,\u001b[0m \u001b[0mvalue\u001b[0m\u001b[0;34m)\u001b[0m\u001b[0;34m\u001b[0m\u001b[0;34m\u001b[0m\u001b[0m\n\u001b[0m\u001b[1;32m   3117\u001b[0m         \u001b[0mNDFrame\u001b[0m\u001b[0;34m.\u001b[0m\u001b[0m_set_item\u001b[0m\u001b[0;34m(\u001b[0m\u001b[0mself\u001b[0m\u001b[0;34m,\u001b[0m \u001b[0mkey\u001b[0m\u001b[0;34m,\u001b[0m \u001b[0mvalue\u001b[0m\u001b[0;34m)\u001b[0m\u001b[0;34m\u001b[0m\u001b[0;34m\u001b[0m\u001b[0m\n\u001b[1;32m   3118\u001b[0m \u001b[0;34m\u001b[0m\u001b[0m\n",
      "\u001b[0;32m~/opt/anaconda3/lib/python3.8/site-packages/pandas/core/frame.py\u001b[0m in \u001b[0;36m_sanitize_column\u001b[0;34m(self, key, value, broadcast)\u001b[0m\n\u001b[1;32m   3762\u001b[0m \u001b[0;34m\u001b[0m\u001b[0m\n\u001b[1;32m   3763\u001b[0m             \u001b[0;31m# turn me into an ndarray\u001b[0m\u001b[0;34m\u001b[0m\u001b[0;34m\u001b[0m\u001b[0;34m\u001b[0m\u001b[0m\n\u001b[0;32m-> 3764\u001b[0;31m             \u001b[0mvalue\u001b[0m \u001b[0;34m=\u001b[0m \u001b[0msanitize_index\u001b[0m\u001b[0;34m(\u001b[0m\u001b[0mvalue\u001b[0m\u001b[0;34m,\u001b[0m \u001b[0mself\u001b[0m\u001b[0;34m.\u001b[0m\u001b[0mindex\u001b[0m\u001b[0;34m)\u001b[0m\u001b[0;34m\u001b[0m\u001b[0;34m\u001b[0m\u001b[0m\n\u001b[0m\u001b[1;32m   3765\u001b[0m             \u001b[0;32mif\u001b[0m \u001b[0;32mnot\u001b[0m \u001b[0misinstance\u001b[0m\u001b[0;34m(\u001b[0m\u001b[0mvalue\u001b[0m\u001b[0;34m,\u001b[0m \u001b[0;34m(\u001b[0m\u001b[0mnp\u001b[0m\u001b[0;34m.\u001b[0m\u001b[0mndarray\u001b[0m\u001b[0;34m,\u001b[0m \u001b[0mIndex\u001b[0m\u001b[0;34m)\u001b[0m\u001b[0;34m)\u001b[0m\u001b[0;34m:\u001b[0m\u001b[0;34m\u001b[0m\u001b[0;34m\u001b[0m\u001b[0m\n\u001b[1;32m   3766\u001b[0m                 \u001b[0;32mif\u001b[0m \u001b[0misinstance\u001b[0m\u001b[0;34m(\u001b[0m\u001b[0mvalue\u001b[0m\u001b[0;34m,\u001b[0m \u001b[0mlist\u001b[0m\u001b[0;34m)\u001b[0m \u001b[0;32mand\u001b[0m \u001b[0mlen\u001b[0m\u001b[0;34m(\u001b[0m\u001b[0mvalue\u001b[0m\u001b[0;34m)\u001b[0m \u001b[0;34m>\u001b[0m \u001b[0;36m0\u001b[0m\u001b[0;34m:\u001b[0m\u001b[0;34m\u001b[0m\u001b[0;34m\u001b[0m\u001b[0m\n",
      "\u001b[0;32m~/opt/anaconda3/lib/python3.8/site-packages/pandas/core/internals/construction.py\u001b[0m in \u001b[0;36msanitize_index\u001b[0;34m(data, index)\u001b[0m\n\u001b[1;32m    745\u001b[0m     \"\"\"\n\u001b[1;32m    746\u001b[0m     \u001b[0;32mif\u001b[0m \u001b[0mlen\u001b[0m\u001b[0;34m(\u001b[0m\u001b[0mdata\u001b[0m\u001b[0;34m)\u001b[0m \u001b[0;34m!=\u001b[0m \u001b[0mlen\u001b[0m\u001b[0;34m(\u001b[0m\u001b[0mindex\u001b[0m\u001b[0;34m)\u001b[0m\u001b[0;34m:\u001b[0m\u001b[0;34m\u001b[0m\u001b[0;34m\u001b[0m\u001b[0m\n\u001b[0;32m--> 747\u001b[0;31m         raise ValueError(\n\u001b[0m\u001b[1;32m    748\u001b[0m             \u001b[0;34m\"Length of values \"\u001b[0m\u001b[0;34m\u001b[0m\u001b[0;34m\u001b[0m\u001b[0m\n\u001b[1;32m    749\u001b[0m             \u001b[0;34mf\"({len(data)}) \"\u001b[0m\u001b[0;34m\u001b[0m\u001b[0;34m\u001b[0m\u001b[0m\n",
      "\u001b[0;31mValueError\u001b[0m: Length of values (1501266) does not match length of index (750633)"
     ]
    }
   ],
   "source": [
    "df_16s['delta_OGT'] = delta_OGT.values"
   ]
  },
  {
   "cell_type": "code",
   "execution_count": null,
   "metadata": {},
   "outputs": [],
   "source": [
    "fig, ax = plt.subplots(figsize=(6,6))\n",
    "ax.set_xlabel('')\n",
    "ax.set_ylabel('')"
   ]
  }
 ],
 "metadata": {
  "kernelspec": {
   "display_name": "Python 3.8.5 ('base')",
   "language": "python",
   "name": "python3"
  },
  "language_info": {
   "codemirror_mode": {
    "name": "ipython",
    "version": 3
   },
   "file_extension": ".py",
   "mimetype": "text/x-python",
   "name": "python",
   "nbconvert_exporter": "python",
   "pygments_lexer": "ipython3",
   "version": "3.8.5"
  },
  "orig_nbformat": 4,
  "vscode": {
   "interpreter": {
    "hash": "7702da1917ec8ce15cdc07c43cc5365023909e5155732763592c15acedd2864e"
   }
  }
 },
 "nbformat": 4,
 "nbformat_minor": 2
}
