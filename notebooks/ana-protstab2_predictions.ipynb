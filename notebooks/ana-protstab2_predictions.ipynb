{
 "cells": [
  {
   "cell_type": "code",
   "execution_count": null,
   "metadata": {},
   "outputs": [],
   "source": []
  }
 ],
 "metadata": {
  "kernelspec": {
   "display_name": "Python 3.10.6 ('learn2therm')",
   "language": "python",
   "name": "python3"
  },
  "language_info": {
   "name": "python",
   "version": "3.10.6"
  },
  "orig_nbformat": 4,
  "vscode": {
   "interpreter": {
    "hash": "4b9da095881b704967dc48778f25785864cf1780c4a84ddad275ec66ae3d1384"
   }
  }
 },
 "nbformat": 4,
 "nbformat_minor": 2
}
