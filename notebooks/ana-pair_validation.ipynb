{
 "cells": [
  {
   "cell_type": "markdown",
   "metadata": {},
   "source": [
    "# Double check example ing the database"
   ]
  },
  {
   "cell_type": "code",
   "execution_count": 36,
   "metadata": {},
   "outputs": [],
   "source": [
    "import learn2therm.database\n",
    "import pandas as pd"
   ]
  },
  {
   "cell_type": "code",
   "execution_count": 3,
   "metadata": {},
   "outputs": [],
   "source": [
    "db =learn2therm.database.L2TDatabase('../data/database')"
   ]
  },
  {
   "cell_type": "markdown",
   "metadata": {},
   "source": [
    "### get best protein pair in the database"
   ]
  },
  {
   "cell_type": "code",
   "execution_count": 78,
   "metadata": {},
   "outputs": [],
   "source": [
    "protein = db.execute(\"\"\"\n",
    "    SELECT \n",
    "        taxa_m.filepath AS meso_file,\n",
    "        taxa_t.filepath AS thermo_file,\n",
    "        taxa_m.taxa_index AS meso_taxa_index,\n",
    "        taxa_t.taxa_index AS thermo_taxa_index,\n",
    "        taxa_m.seq_16srRNA AS meso_seq_16srRNA,\n",
    "        taxa_t.seq_16srRNA AS thermo_seq_16srRNA,\n",
    "        protein_pairs.scaled_local_symmetric_percent_id,\n",
    "        protein_pairs.local_E_value, \n",
    "        protein_pairs.subject_align_cov, \n",
    "        protein_pairs.query_align_cov, \n",
    "        protein_pairs.thermo_protein_int_index,\n",
    "        protein_pairs.meso_protein_int_index,\n",
    "        taxa_pairs.local_E_value AS E_16s,\n",
    "        taxa_pairs.scaled_local_symmetric_percent_id AS pid_16s\n",
    "    FROM protein_pairs\n",
    "    INNER JOIN taxa AS taxa_m ON (protein_pairs.meso_index=taxa_m.taxa_index)\n",
    "    INNER JOIN taxa AS taxa_t ON (protein_pairs.thermo_index=taxa_t.taxa_index)\n",
    "    INNER JOIN taxa_pairs ON (taxa_pairs.meso_index=protein_pairs.meso_index AND taxa_pairs.thermo_index=protein_pairs.thermo_index)\n",
    "    WHERE\n",
    "        taxa_m.len_16s>1300\n",
    "        AND taxa_t.len_16s>1300\n",
    "        AND protein_pairs.local_E_Value< 1e-46\n",
    "        AND protein_pairs.query_align_cov > 0.95\n",
    "        AND protein_pairs.subject_align_cov > 0.95\n",
    "        AND protein_pairs.scaled_local_symmetric_percent_id > 0.7\n",
    "    LIMIT 1\n",
    "\"\"\")"
   ]
  },
  {
   "cell_type": "code",
   "execution_count": 79,
   "metadata": {},
   "outputs": [],
   "source": [
    "protein = pd.Series(protein.T[0])"
   ]
  },
  {
   "cell_type": "code",
   "execution_count": 80,
   "metadata": {},
   "outputs": [
    {
     "data": {
      "text/plain": [
       "meso_file                            ./data/refseq/bacteria/GCF_013409865.1_ASM1340...\n",
       "thermo_file                          ./data/refseq/bacteria/GCF_006363815.1_ASM6363...\n",
       "meso_taxa_index                                                                   4886\n",
       "thermo_taxa_index                                                                14963\n",
       "meso_seq_16srRNA                     TTTACGGAGAGTTTGATCCTGGCTCAGGACGAACGCTGGCGGCGTG...\n",
       "thermo_seq_16srRNA                   TTGATGGAGAGTTTGATCCTGGCTCAGGACGAACGCTGGCGGCGTG...\n",
       "scaled_local_symmetric_percent_id                                                  0.8\n",
       "local_E_value                                                                      0.0\n",
       "subject_align_cov                                                             0.969697\n",
       "query_align_cov                                                               0.962406\n",
       "thermo_protein_int_index                                                      28682671\n",
       "meso_protein_int_index                                                        17226417\n",
       "E_16s                                                                              0.0\n",
       "pid_16s                                                                       0.881756\n",
       "Name: 0, dtype: object"
      ]
     },
     "execution_count": 80,
     "metadata": {},
     "output_type": "execute_result"
    }
   ],
   "source": [
    "protein"
   ]
  },
  {
   "cell_type": "code",
   "execution_count": 81,
   "metadata": {},
   "outputs": [
    {
     "data": {
      "text/plain": [
       "'MPPRSKAGAKKVRRKEKKNIAHGHAHIKSTFNNTIVSITDPQGNVISWASAGHVGFKGSRKSTPFAAQQAAEAAARRAMEHGMRKVDVFVKGPGSGRETAIRSLQATGLEVGSIQDVTPVPHNGCRPPKRRRV'"
      ]
     },
     "execution_count": 81,
     "metadata": {},
     "output_type": "execute_result"
    }
   ],
   "source": [
    "thermo_prot_seq = db.execute(\"\"\"SELECT * FROM proteins WHERE protein_int_index=28682671\"\"\")['protein_seq'][0]\n",
    "thermo_prot_seq"
   ]
  },
  {
   "cell_type": "code",
   "execution_count": 82,
   "metadata": {},
   "outputs": [
    {
     "data": {
      "text/plain": [
       "'MATPKSAARKPRKKEKKNVAVGQAHIKSTFNNTIVSITDTTGAVISWASSGGVGFKGSRKSTPFAAQLAAESAARQAQEHGMKKVDVFVKGPGSGRETAIRSLQAAGLEVGSINDVTPQAHNGCRPPKRRRV'"
      ]
     },
     "execution_count": 82,
     "metadata": {},
     "output_type": "execute_result"
    }
   ],
   "source": [
    "meso_prot_seq = db.execute(\"\"\"SELECT * FROM proteins WHERE protein_int_index=17226417\"\"\")['protein_seq'][0]\n",
    "meso_prot_seq"
   ]
  },
  {
   "cell_type": "markdown",
   "metadata": {},
   "source": [
    "> #### blast online for protein reports 96% query cov and 82% id. Our %id makes sense at 80% because it is scaled. this is pretty convincing"
   ]
  },
  {
   "cell_type": "markdown",
   "metadata": {},
   "source": [
    "***"
   ]
  },
  {
   "cell_type": "markdown",
   "metadata": {},
   "source": [
    "## Manually open files, get 16s sequence"
   ]
  },
  {
   "cell_type": "code",
   "execution_count": 83,
   "metadata": {},
   "outputs": [],
   "source": [
    "import learn2therm.io"
   ]
  },
  {
   "cell_type": "code",
   "execution_count": 84,
   "metadata": {},
   "outputs": [],
   "source": [
    "thermo = learn2therm.io.seq_io_gnuzipped('../'+protein['thermo_file'], 'genbank')"
   ]
  },
  {
   "cell_type": "code",
   "execution_count": 86,
   "metadata": {},
   "outputs": [
    {
     "name": "stdout",
     "output_type": "stream",
     "text": [
      "TTGATGGAGAGTTTGATCCTGGCTCAGGACGAACGCTGGCGGCGTGCTTAACACATGCAAGTCGAGCGGAAAGGCCCCTTCGGGGGTACTCGAGCGGCGAACGGGTGAGTAACACGTGAGCAACCTGCCCTCGACTCTGGGATAAGCCTGGGAAACCGGGTCTAATACCGGATATGACCCGTCATCGCATGATGTGCGGGTGGAAAGTTCCCCTTTTTGGGGTTCGGTCGGGGATGGGCTCGCGGCCTATCAGCTTGTTGGTGGGGTAACGGCCTACCAAGGCGACGACGGGTAGCCGGCCTGAGAGGGCGACCGGCCACACTGGGACTGAGACACGGCCCAGACTCCTACGGGAGGCAGCAGTGGGGAATATTGCGCAATGGGCGGAAGCCTGACGCAGCGACGCCGCGTGAGGGATGAAGGCCTTCGGGTTGTAAACCTCTTTCAGCACCGACGAATTCGGACGGTAGGTGCAGAAGAAGCGCCGGCTAACTACGTGCCAGCAGCCGCGGTAATACGTAGGGCGCGAGCGTTGTCCGGAATTATTGGGCGTAAAGAGCTCGTAGGCGGCTTGTCGCGTCTGCCGTGAAAGCCCACGGCTTAACCGTGGGTCTGCGGTGGATACGGGCAGGCTAGAGGCAGGTAGGGGAGCATGGAATTCCCGGTGTAGCGGTGAAATGCGCAGATATCGGGAGGAACACCGGTGGCGAAGGCGGTGCTCTGGGCCTGTCCTGACGCTGAGGAGCGAAAGCGTGGGGAGCGAACAGGATTAGATACCCTGGTAGTCCACGCCGTAAACGTTGGGCGCTAGGTGTGGGGTTCTTCCACGGGCTCCGCGCCGTAGCTAACGCATTAAGCGCCCCGCCTGGGGAGTACGGCCGCAAGGCTAAAACTCAAAGGAATTGACGGGGGCCCGCACAAGCGGCGGAGCATGTTGCTTAATTCGACGCAACGCGAAGAACCTTACCAGGGCTTGACATCACCCGAAAACCTGCAGAGATGTGGGGTCCCTTCGGGGGCGGGTGACAGGTGGTGCATGGCTGTCGTCAGCTCGTGTCGTGAGATGTTGGGTTAAGTCCCGCAACGAGCGCAACCCTCGTCCCATGTTGCCAGCGGGTTATGCCGGGGACTCATGGGAGACCGCCGGGGTCAACTCGGAGGAAGGTGGGGACGACGTCAAGTCATCATGCCCCTTATGTCCTGGGCTGCAAACATGCTACAATGGCCGGTACAGAGGGCTGCGATACCGTGAGGTGGAGCGAATCCCTAAAAGCCGGTCTCAGTTCGGATCGAAGTCTGCAACTCGACTTCGTGAAGTCGGAGTCGCTAGTAATCGCAGATCAGCAACGCTGCGGTGAATACGTTCCCGGGCCTTGTACACACCGCCCGTCACGTCACGAAAGTCGGCAACACCCGAAGCCCGTGGCCTAACCCTTGTGGGGGGGAGCGGTCGAAGGTGGGGCCGGCGATTGGGACGAAGTCGTAACAAGGTAGCCGTACCGGAAGGTGCGGCTGGATCACCTCCTTT\n"
     ]
    }
   ],
   "source": [
    "protein_sequences = {\n",
    "    'sequence': [],\n",
    "    'desc': [],\n",
    "}\n",
    "seq_16srRNA = None\n",
    "for record in thermo:\n",
    "    for feature in record.features:\n",
    "        # check for 16s\n",
    "        if feature.type == 'rRNA' and feature.qualifiers['product'][0] == '16S ribosomal RNA':\n",
    "            seq_16srRNA = feature.extract(record.seq)\n",
    "            print(seq_16srRNA)\n",
    "        # check for protein with a translation\n",
    "        if feature.type == 'CDS' and 'translation' in feature.qualifiers:\n",
    "            if len(feature.qualifiers['translation']) > 1:\n",
    "                raise ValueError(f'Multiple translations for feature')\n",
    "            protein_sequences['sequence'].append(feature.qualifiers['translation'][0])\n",
    "            if 'product' in feature.qualifiers:\n",
    "                protein_sequences['desc'].append(feature.qualifiers['product'][0])\n",
    "            else:\n",
    "                protein_sequences['desc'].append(None)"
   ]
  },
  {
   "cell_type": "code",
   "execution_count": 87,
   "metadata": {},
   "outputs": [],
   "source": [
    "thermo_16s = seq_16srRNA\n",
    "thermo_proteins = protein_sequences"
   ]
  },
  {
   "cell_type": "code",
   "execution_count": 88,
   "metadata": {},
   "outputs": [
    {
     "data": {
      "text/plain": [
       "True"
      ]
     },
     "execution_count": 88,
     "metadata": {},
     "output_type": "execute_result"
    }
   ],
   "source": [
    "thermo_prot_seq in thermo_proteins['sequence']"
   ]
  },
  {
   "cell_type": "markdown",
   "metadata": {},
   "source": [
    "> #### the protein was in the original file... yay!"
   ]
  },
  {
   "cell_type": "code",
   "execution_count": 95,
   "metadata": {},
   "outputs": [
    {
     "data": {
      "text/plain": [
       "True"
      ]
     },
     "execution_count": 95,
     "metadata": {},
     "output_type": "execute_result"
    }
   ],
   "source": [
    "protein['thermo_seq_16srRNA'] == thermo_16s"
   ]
  },
  {
   "cell_type": "markdown",
   "metadata": {},
   "source": [
    "> #### the 16s was in the original file, yay!"
   ]
  },
  {
   "cell_type": "code",
   "execution_count": 96,
   "metadata": {},
   "outputs": [],
   "source": [
    "meso = learn2therm.io.seq_io_gnuzipped('../'+protein['meso_file'], 'genbank')"
   ]
  },
  {
   "cell_type": "code",
   "execution_count": 97,
   "metadata": {},
   "outputs": [
    {
     "name": "stdout",
     "output_type": "stream",
     "text": [
      "TTTACGGAGAGTTTGATCCTGGCTCAGGACGAACGCTGGCGGCGTGCTTAACACATGCAAGTCGAACGGTGAAGCAGAGCTTGCTCTGTGGATCAGTGGCGAACGGGTGAGTAACACGTGAGTAACCTGCCCTTGACTCTGGGATAAGCGTTGGAAACGACGTCTAATACCGGATACGAGCTGAGACCGCATGGTCATCAGTTGGAAAGATTTTTTGGTCAAGGATGGACTCGCGGCCTATCAGCTTGTTGGTGAGGTAATGGCTCACCAAGGCGACGACGGGTAGCCGGCCTGAGAGGGTGACCGGCCACACTGGGACTGAGACACGGCCCAGACTCCTACGGGAGGCAGCAGTGGGGAATATTGCACAATGGGCGCAAGCCTGATGCAGCAACGCCGCGTGAGGGATGACGGCCTTCGGGTTGTAAACCTCTTTTAGTAGGGAAGAAGCGAAAGTGACGGTACCTGCAGAAAAAGCACCGGCTAACTACGTGCCAGCAGCCGCGGTAATACGTAGGGTGCAAGCGTTGTCCGGAATTATTGGGCGTAAAGAGCTCGTAGGCGGTTTGTCGCGTCTGCTGTGAAAACTGGAGGCTCAACCTCCAGCCTGCAGTGGGTACGGGCAGACTAGAGTGCGGTAGGGGAGATTGGAATTCCTGGTGTAGCGGTGGAATGCGCAGATATCAGGAGGAACACCGATGGCGAAGGCAGATCTCTGGGCCGTAACTGACGCTGAGGAGCGAAAGCGTGGGGAGCGAACAGGATTAGATACCCTGGTAGTCCACGCCGTAAACGTTGGGAACTAGATGTGGGGGCCATTCCACGGTCTCCGTGTCGCAGCTAACGCATTAAGTTCCCCGCCTGGGGAGTACGGCCGCAAGGCTAAAACTCAAAGGAATTGACGGGGGCCCGCACAAGCGGCGGAGCATGCGGATTAATTCGATGCAACGCGAAGAACCTTACCAAGGCTTGACATATACGAGAACGGGCCAGAAATGGTCAACTCTTTGGACACTCGTAAACAGGTGGTGCATGGTTGTCGTCAGCTCGTGTCGTGAGATGTTGGGTTAAGTCCCGCAACGAGCGCAACCCTCGTTCTATGTTGCCAGCACGTCATGGTGGGAACTCATAGGAGACTGCCGGGGTCAACTCGGAGGAAGGTGGGGATGACGTCAAATCATCATGCCCCTTATGTCTTGGGCTTCACGCATGCTACAATGGCCGGTACAAAGGGCTGCAATACCGTAAGGTGGAGCGAATCCCAAAAAGCCGGTCTCAGTTCGGATTGAGGTCTGCAACTCGACCTCATGAAGTCGGAGTCGCTAGTAATCGTGAATCAGCAACGTCACGGTGAATACGTTCCCGGGCCTTGTACACACCGCCCGTCAAGTCATGAAAGTCGGTAACACCCAACGCCAGTGGCCTAACCCCTTGTGGGAGGGAGCTGTCTAAGGTGGGATCGGTGATTAGGACTAAGTCGTAACAAGGTAGCCGTACCGGAAGGTGCGGCTGGATCACCTCCTTT\n",
      "TTTACGGAGAGTTTGATCCTGGCTCAGGACGAACGCTGGCGGCGTGCTTAACACATGCAAGTCGAACGGTGAAGCAGAGCTTGCTCTGTGGATCAGTGGCGAACGGGTGAGTAACACGTGAGTAACCTGCCCTTGACTCTGGGATAAGCGTTGGAAACGACGTCTAATACCGGATACGAGCTGAGACCGCATGGTCATCAGTTGGAAAGATTTTTTGGTCAAGGATGGACTCGCGGCCTATCAGCTTGTTGGTGAGGTAATGGCTCACCAAGGCGACGACGGGTAGCCGGCCTGAGAGGGTGACCGGCCACACTGGGACTGAGACACGGCCCAGACTCCTACGGGAGGCAGCAGTGGGGAATATTGCACAATGGGCGCAAGCCTGATGCAGCAACGCCGCGTGAGGGATGACGGCCTTCGGGTTGTAAACCTCTTTTAGTAGGGAAGAAGCGAAAGTGACGGTACCTGCAGAAAAAGCACCGGCTAACTACGTGCCAGCAGCCGCGGTAATACGTAGGGTGCAAGCGTTGTCCGGAATTATTGGGCGTAAAGAGCTCGTAGGCGGTTTGTCGCGTCTGCTGTGAAAACTGGAGGCTCAACCTCCAGCCTGCAGTGGGTACGGGCAGACTAGAGTGCGGTAGGGGAGATTGGAATTCCTGGTGTAGCGGTGGAATGCGCAGATATCAGGAGGAACACCGATGGCGAAGGCAGATCTCTGGGCCGTAACTGACGCTGAGGAGCGAAAGCGTGGGGAGCGAACAGGATTAGATACCCTGGTAGTCCACGCCGTAAACGTTGGGAACTAGATGTGGGGGCCATTCCACGGTCTCCGTGTCGCAGCTAACGCATTAAGTTCCCCGCCTGGGGAGTACGGCCGCAAGGCTAAAACTCAAAGGAATTGACGGGGGCCCGCACAAGCGGCGGAGCATGCGGATTAATTCGATGCAACGCGAAGAACCTTACCAAGGCTTGACATATACGAGAACGGGCCAGAAATGGTCAACTCTTTGGACACTCGTAAACAGGTGGTGCATGGTTGTCGTCAGCTCGTGTCGTGAGATGTTGGGTTAAGTCCCGCAACGAGCGCAACCCTCGTTCTATGTTGCCAGCACGTCATGGTGGGAACTCATAGGAGACTGCCGGGGTCAACTCGGAGGAAGGTGGGGATGACGTCAAATCATCATGCCCCTTATGTCTTGGGCTTCACGCATGCTACAATGGCCGGTACAAAGGGCTGCAATACCGTAAGGTGGAGCGAATCCCAAAAAGCCGGTCTCAGTTCGGATTGAGGTCTGCAACTCGACCTCATGAAGTCGGAGTCGCTAGTAATCGTGAATCAGCAACGTCACGGTGAATACGTTCCCGGGCCTTGTACACACCGCCCGTCAAGTCATGAAAGTCGGTAACACCCAACGCCAGTGGCCTAACCCCTTGTGGGAGGGAGCTGTCTAAGGTGGGATCGGTGATTAGGACTAAGTCGTAACAAGGTAGCCGTACCGGAAGGTGCGGCTGGATCACCTCCTTT\n"
     ]
    }
   ],
   "source": [
    "protein_sequences = {\n",
    "    'sequence': [],\n",
    "    'desc': [],\n",
    "}\n",
    "seq_16srRNA = None\n",
    "for record in meso:\n",
    "    for feature in record.features:\n",
    "        # check for 16s\n",
    "        if feature.type == 'rRNA' and feature.qualifiers['product'][0] == '16S ribosomal RNA':\n",
    "            seq_16srRNA = feature.extract(record.seq)\n",
    "            print(seq_16srRNA)\n",
    "        # check for protein with a translation\n",
    "        if feature.type == 'CDS' and 'translation' in feature.qualifiers:\n",
    "            if len(feature.qualifiers['translation']) > 1:\n",
    "                raise ValueError(f'Multiple translations for feature')\n",
    "            protein_sequences['sequence'].append(feature.qualifiers['translation'][0])\n",
    "            if 'product' in feature.qualifiers:\n",
    "                protein_sequences['desc'].append(feature.qualifiers['product'][0])\n",
    "            else:\n",
    "                protein_sequences['desc'].append(None)"
   ]
  },
  {
   "cell_type": "code",
   "execution_count": 98,
   "metadata": {},
   "outputs": [],
   "source": [
    "meso_16s = seq_16srRNA\n",
    "meso_proteins = protein_sequences"
   ]
  },
  {
   "cell_type": "code",
   "execution_count": 99,
   "metadata": {},
   "outputs": [
    {
     "data": {
      "text/plain": [
       "True"
      ]
     },
     "execution_count": 99,
     "metadata": {},
     "output_type": "execute_result"
    }
   ],
   "source": [
    "meso_prot_seq in meso_proteins['sequence']"
   ]
  },
  {
   "cell_type": "markdown",
   "metadata": {},
   "source": [
    "> #### the protein was in the original file... yay!"
   ]
  },
  {
   "cell_type": "code",
   "execution_count": 103,
   "metadata": {},
   "outputs": [
    {
     "data": {
      "text/plain": [
       "True"
      ]
     },
     "execution_count": 103,
     "metadata": {},
     "output_type": "execute_result"
    }
   ],
   "source": [
    "protein['meso_seq_16srRNA'] == meso_16s"
   ]
  },
  {
   "cell_type": "markdown",
   "metadata": {},
   "source": [
    "> #### the 16s was in the original file, yay!"
   ]
  },
  {
   "cell_type": "code",
   "execution_count": 104,
   "metadata": {},
   "outputs": [
    {
     "data": {
      "text/plain": [
       "'TTTACGGAGAGTTTGATCCTGGCTCAGGACGAACGCTGGCGGCGTGCTTAACACATGCAAGTCGAACGGTGAAGCAGAGCTTGCTCTGTGGATCAGTGGCGAACGGGTGAGTAACACGTGAGTAACCTGCCCTTGACTCTGGGATAAGCGTTGGAAACGACGTCTAATACCGGATACGAGCTGAGACCGCATGGTCATCAGTTGGAAAGATTTTTTGGTCAAGGATGGACTCGCGGCCTATCAGCTTGTTGGTGAGGTAATGGCTCACCAAGGCGACGACGGGTAGCCGGCCTGAGAGGGTGACCGGCCACACTGGGACTGAGACACGGCCCAGACTCCTACGGGAGGCAGCAGTGGGGAATATTGCACAATGGGCGCAAGCCTGATGCAGCAACGCCGCGTGAGGGATGACGGCCTTCGGGTTGTAAACCTCTTTTAGTAGGGAAGAAGCGAAAGTGACGGTACCTGCAGAAAAAGCACCGGCTAACTACGTGCCAGCAGCCGCGGTAATACGTAGGGTGCAAGCGTTGTCCGGAATTATTGGGCGTAAAGAGCTCGTAGGCGGTTTGTCGCGTCTGCTGTGAAAACTGGAGGCTCAACCTCCAGCCTGCAGTGGGTACGGGCAGACTAGAGTGCGGTAGGGGAGATTGGAATTCCTGGTGTAGCGGTGGAATGCGCAGATATCAGGAGGAACACCGATGGCGAAGGCAGATCTCTGGGCCGTAACTGACGCTGAGGAGCGAAAGCGTGGGGAGCGAACAGGATTAGATACCCTGGTAGTCCACGCCGTAAACGTTGGGAACTAGATGTGGGGGCCATTCCACGGTCTCCGTGTCGCAGCTAACGCATTAAGTTCCCCGCCTGGGGAGTACGGCCGCAAGGCTAAAACTCAAAGGAATTGACGGGGGCCCGCACAAGCGGCGGAGCATGCGGATTAATTCGATGCAACGCGAAGAACCTTACCAAGGCTTGACATATACGAGAACGGGCCAGAAATGGTCAACTCTTTGGACACTCGTAAACAGGTGGTGCATGGTTGTCGTCAGCTCGTGTCGTGAGATGTTGGGTTAAGTCCCGCAACGAGCGCAACCCTCGTTCTATGTTGCCAGCACGTCATGGTGGGAACTCATAGGAGACTGCCGGGGTCAACTCGGAGGAAGGTGGGGATGACGTCAAATCATCATGCCCCTTATGTCTTGGGCTTCACGCATGCTACAATGGCCGGTACAAAGGGCTGCAATACCGTAAGGTGGAGCGAATCCCAAAAAGCCGGTCTCAGTTCGGATTGAGGTCTGCAACTCGACCTCATGAAGTCGGAGTCGCTAGTAATCGTGAATCAGCAACGTCACGGTGAATACGTTCCCGGGCCTTGTACACACCGCCCGTCAAGTCATGAAAGTCGGTAACACCCAACGCCAGTGGCCTAACCCCTTGTGGGAGGGAGCTGTCTAAGGTGGGATCGGTGATTAGGACTAAGTCGTAACAAGGTAGCCGTACCGGAAGGTGCGGCTGGATCACCTCCTTT'"
      ]
     },
     "execution_count": 104,
     "metadata": {},
     "output_type": "execute_result"
    }
   ],
   "source": [
    "protein['meso_seq_16srRNA']"
   ]
  },
  {
   "cell_type": "code",
   "execution_count": 105,
   "metadata": {},
   "outputs": [
    {
     "data": {
      "text/plain": [
       "'TTGATGGAGAGTTTGATCCTGGCTCAGGACGAACGCTGGCGGCGTGCTTAACACATGCAAGTCGAGCGGAAAGGCCCCTTCGGGGGTACTCGAGCGGCGAACGGGTGAGTAACACGTGAGCAACCTGCCCTCGACTCTGGGATAAGCCTGGGAAACCGGGTCTAATACCGGATATGACCCGTCATCGCATGATGTGCGGGTGGAAAGTTCCCCTTTTTGGGGTTCGGTCGGGGATGGGCTCGCGGCCTATCAGCTTGTTGGTGGGGTAACGGCCTACCAAGGCGACGACGGGTAGCCGGCCTGAGAGGGCGACCGGCCACACTGGGACTGAGACACGGCCCAGACTCCTACGGGAGGCAGCAGTGGGGAATATTGCGCAATGGGCGGAAGCCTGACGCAGCGACGCCGCGTGAGGGATGAAGGCCTTCGGGTTGTAAACCTCTTTCAGCACCGACGAATTCGGACGGTAGGTGCAGAAGAAGCGCCGGCTAACTACGTGCCAGCAGCCGCGGTAATACGTAGGGCGCGAGCGTTGTCCGGAATTATTGGGCGTAAAGAGCTCGTAGGCGGCTTGTCGCGTCTGCCGTGAAAGCCCACGGCTTAACCGTGGGTCTGCGGTGGATACGGGCAGGCTAGAGGCAGGTAGGGGAGCATGGAATTCCCGGTGTAGCGGTGAAATGCGCAGATATCGGGAGGAACACCGGTGGCGAAGGCGGTGCTCTGGGCCTGTCCTGACGCTGAGGAGCGAAAGCGTGGGGAGCGAACAGGATTAGATACCCTGGTAGTCCACGCCGTAAACGTTGGGCGCTAGGTGTGGGGTTCTTCCACGGGCTCCGCGCCGTAGCTAACGCATTAAGCGCCCCGCCTGGGGAGTACGGCCGCAAGGCTAAAACTCAAAGGAATTGACGGGGGCCCGCACAAGCGGCGGAGCATGTTGCTTAATTCGACGCAACGCGAAGAACCTTACCAGGGCTTGACATCACCCGAAAACCTGCAGAGATGTGGGGTCCCTTCGGGGGCGGGTGACAGGTGGTGCATGGCTGTCGTCAGCTCGTGTCGTGAGATGTTGGGTTAAGTCCCGCAACGAGCGCAACCCTCGTCCCATGTTGCCAGCGGGTTATGCCGGGGACTCATGGGAGACCGCCGGGGTCAACTCGGAGGAAGGTGGGGACGACGTCAAGTCATCATGCCCCTTATGTCCTGGGCTGCAAACATGCTACAATGGCCGGTACAGAGGGCTGCGATACCGTGAGGTGGAGCGAATCCCTAAAAGCCGGTCTCAGTTCGGATCGAAGTCTGCAACTCGACTTCGTGAAGTCGGAGTCGCTAGTAATCGCAGATCAGCAACGCTGCGGTGAATACGTTCCCGGGCCTTGTACACACCGCCCGTCACGTCACGAAAGTCGGCAACACCCGAAGCCCGTGGCCTAACCCTTGTGGGGGGGAGCGGTCGAAGGTGGGGCCGGCGATTGGGACGAAGTCGTAACAAGGTAGCCGTACCGGAAGGTGCGGCTGGATCACCTCCTTT'"
      ]
     },
     "execution_count": 105,
     "metadata": {},
     "output_type": "execute_result"
    }
   ],
   "source": [
    "protein['thermo_seq_16srRNA']"
   ]
  },
  {
   "cell_type": "markdown",
   "metadata": {},
   "source": [
    "> #### 16s online reports 87% id, pretty much the same as what we got"
   ]
  },
  {
   "cell_type": "markdown",
   "metadata": {},
   "source": []
  }
 ],
 "metadata": {
  "kernelspec": {
   "display_name": "Python 3.10.6 ('learn2therm')",
   "language": "python",
   "name": "python3"
  },
  "language_info": {
   "codemirror_mode": {
    "name": "ipython",
    "version": 3
   },
   "file_extension": ".py",
   "mimetype": "text/x-python",
   "name": "python",
   "nbconvert_exporter": "python",
   "pygments_lexer": "ipython3",
   "version": "3.10.6"
  },
  "orig_nbformat": 4,
  "vscode": {
   "interpreter": {
    "hash": "4b9da095881b704967dc48778f25785864cf1780c4a84ddad275ec66ae3d1384"
   }
  }
 },
 "nbformat": 4,
 "nbformat_minor": 2
}
