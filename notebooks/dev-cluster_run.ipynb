{
 "cells": [
  {
   "cell_type": "code",
   "execution_count": 1,
   "id": "716cc2df-ecb0-43ad-b38f-c614e654e95b",
   "metadata": {},
   "outputs": [],
   "source": [
    "from yaml import safe_load as yaml_load\n",
    "from yaml import dump as yaml_dump\n",
    "import os\n",
    "import shutil\n",
    "import time\n",
    "import tempfile\n",
    "# set the dask config\n",
    "os.environ['DASK_CONFIG'] = '../.config/dask/'\n",
    "\n",
    "import pandas as pd\n",
    "import logging\n",
    "import logging_tree\n",
    "\n",
    "from codecarbon import EmissionsTracker\n",
    "import dask\n",
    "import dask_jobqueue\n",
    "import distributed\n",
    "\n",
    "import learn2therm.utils\n",
    "import learn2therm.blast\n",
    "\n",
    "LOGLEVEL = logging.INFO\n",
    "LOGNAME = 'loger'\n",
    "LOGFILE = f'./logs/test_cluster.log'\n",
    "\n",
    "PROTEIN_SEQ_DIR = '../data/taxa/proteins/'\n",
    "# NUM_SAMPLE = 32\n",
    "WORKER_WAKE_UP_TIME = 25 # this is to ensure that if a worker that is about to be shut down due to previous task completetion doesn't actually start running\n",
    "\n",
    "def worker_function(alignment_handler):\n",
    "    \"\"\"Run one taxa pair on a worker.\"\"\"\n",
    "    # we want to wait for execution to see if this worker is actually being used\n",
    "    # or if it is in the process of being killed\n",
    "    time.sleep(WORKER_WAKE_UP_TIME)\n",
    "    # begin execution\n",
    "    t0=time.time()\n",
    "    worker_logfile = f'./logs/t1.4_protein_alignment_resource_test_workers/pair_{alignment_handler.pair_indexes}.log'\n",
    "    logger = learn2therm.utils.start_logger_if_necessary(LOGNAME, worker_logfile, LOGLEVEL, filemode='a', worker=True)\n",
    "    learn2therm.blast.logger = learn2therm.utils.start_logger_if_necessary('learn2therm.blast', worker_logfile, LOGLEVEL, filemode='a', worker=True)\n",
    "    learn2therm.io.logger = learn2therm.utils.start_logger_if_necessary('learn2therm.io', worker_logfile, LOGLEVEL, filemode='a', worker=True)\n",
    "    # logger.info(logging_tree.tree())\n",
    "    logger.info(f\"recieved pair {alignment_handler.pair_indexes}\")\n",
    "    \n",
    "    with EmissionsTracker(project_name=f\"t1.4_{alignment_handler.pair_indexes}\", output_dir='./logs/t1.4_protein_alignment_resource_test_workers/') as tracker:\n",
    "        out_dic = alignment_handler.run()\n",
    "    t1=time.time()\n",
    "    logger.info(f\"Completed pair {alignment_handler.pair_indexes}. Took {(t1-t0)/60}m\")\n",
    "    return out_dic"
   ]
  },
  {
   "cell_type": "code",
   "execution_count": 2,
   "id": "37b31019-8f96-4d78-b584-b879cf952d2a",
   "metadata": {},
   "outputs": [],
   "source": [
    "Aligner = getattr(learn2therm.blast, 'BlastAlignmentHandler')"
   ]
  },
  {
   "cell_type": "code",
   "execution_count": 3,
   "id": "9bdd3ccc-c4e8-4fb1-ac20-39d15a69bc1e",
   "metadata": {},
   "outputs": [
    {
     "name": "stderr",
     "output_type": "stream",
     "text": [
      "INFO:root:Loaded parameters: {'dask_cluster_class': 'SLURMCluster', 'max_protein_length': 250, 'method': 'blast', 'n_jobs': 8, 'restart': False, 'method_blast_params': {'num_threads': 6, 'word_size': 3, 'gapopen': 11, 'gapextend': 1, 'matrix': 'BLOSUM62', 'threshold': 11, 'ungapped': False}, 'method_diamond_params': {'num_threads': 5, 'sensitivity': 'sensitive', 'iterate': True, 'global_ranking': None, 'gapopen': 11, 'gapextend': 1, 'matrix': 'BLOSUM62'}, 'blast_metrics': ['local_E_value', 'scaled_local_query_percent_id', 'scaled_local_symmetric_percent_id', 'local_gap_compressed_percent_id']}\n"
     ]
    }
   ],
   "source": [
    "with open(\"../params.yaml\", \"r\") as stream:\n",
    "    params = yaml_load(stream)['get_protein_blast_scores']\n",
    "logger = logging.basicConfig(level=logging.INFO)\n",
    "logging.info(f\"Loaded parameters: {params}\")"
   ]
  },
  {
   "cell_type": "code",
   "execution_count": 4,
   "id": "c4e1cfae-bf22-4213-bb0e-fdaca2e1de41",
   "metadata": {},
   "outputs": [],
   "source": [
    "aligner_params = params[f\"method_blast_params\"]"
   ]
  },
  {
   "cell_type": "code",
   "execution_count": 5,
   "id": "2699c222-ced7-42e3-beee-a55ac2acd2d9",
   "metadata": {},
   "outputs": [],
   "source": [
    "aligner_params['num_threads'] = 28"
   ]
  },
  {
   "cell_type": "code",
   "execution_count": 6,
   "id": "9e86616d-ec15-4d89-972d-8f58c4e7feb1",
   "metadata": {},
   "outputs": [],
   "source": [
    "pairs = [('5223','10686'), ('85', '7')]"
   ]
  },
  {
   "cell_type": "code",
   "execution_count": 7,
   "id": "99f1d249-3abe-4b4f-8d3d-ee5c9d4b21f6",
   "metadata": {
    "tags": []
   },
   "outputs": [
    {
     "name": "stderr",
     "output_type": "stream",
     "text": [
      "INFO:distributed.http.proxy:To route to workers diagnostics web server please install jupyter-server-proxy: python -m pip install jupyter-server-proxy\n",
      "WARNING:bokeh.server.util:Host wildcard '*' will allow connections originating from multiple (or possibly all) hostnames or IPs. Use non-wildcard values to restrict access explicitly\n",
      "INFO:bokeh.server.tornado:Keep-alive ping configured every 500 milliseconds\n",
      "INFO:bokeh.server.tornado:Check for unused sessions every 500 milliseconds\n",
      "INFO:bokeh.server.tornado:User authentication hooks NOT provided (default user enabled)\n",
      "INFO:distributed.scheduler:Clear task state\n",
      "INFO:distributed.scheduler:  Scheduler at:   tcp://10.64.66.32:33995\n",
      "INFO:distributed.scheduler:  dashboard at:                     :8787\n"
     ]
    }
   ],
   "source": [
    "Cluster = getattr(dask_jobqueue, params['dask_cluster_class'])\n",
    "cluster = Cluster(silence_logs=None, job_cpu=28)"
   ]
  },
  {
   "cell_type": "code",
   "execution_count": 8,
   "id": "37e89580-3b5a-4436-9b96-8ba6370dfe56",
   "metadata": {
    "tags": []
   },
   "outputs": [
    {
     "name": "stderr",
     "output_type": "stream",
     "text": [
      "INFO:distributed.deploy.adaptive:Adaptive scaling started: minimum=2 maximum=3\n"
     ]
    },
    {
     "data": {
      "text/plain": [
       "<distributed.deploy.adaptive.Adaptive at 0x14f9a2c6ceb0>"
      ]
     },
     "execution_count": 8,
     "metadata": {},
     "output_type": "execute_result"
    }
   ],
   "source": [
    "cluster.adapt(minimum=2, maximum=3)"
   ]
  },
  {
   "cell_type": "code",
   "execution_count": 9,
   "id": "691e59cc-1783-43dd-803b-7dc8dec37273",
   "metadata": {
    "tags": []
   },
   "outputs": [
    {
     "name": "stderr",
     "output_type": "stream",
     "text": [
      "INFO:distributed.scheduler:Receive client connection: Client-cfa76a59-6467-11ed-8dc8-0a94eff00317\n",
      "INFO:distributed.core:Starting established connection\n",
      "INFO:learn2therm.blast:Completed pairs: ['85-7']\n",
      "INFO:learn2therm.blast:Pair 85-7 already completed\n",
      "INFO:learn2therm.blast:Pair 5223-10686 erroneously ended, cleaning up file\n",
      "INFO:learn2therm.blast:Found 1 pairs already complete. Cleaned up 1 erroneous files.\n",
      "INFO:distributed.scheduler:Register worker <WorkerState 'tcp://10.64.66.7:34815', name: SLURMCluster-1, status: undefined, memory: 0, processing: 0>\n",
      "INFO:distributed.scheduler:Starting worker compute stream, tcp://10.64.66.7:34815\n",
      "INFO:distributed.core:Starting established connection\n",
      "INFO:distributed.scheduler:Register worker <WorkerState 'tcp://10.64.66.32:38523', name: SLURMCluster-0, status: undefined, memory: 0, processing: 0>\n",
      "INFO:distributed.scheduler:Starting worker compute stream, tcp://10.64.66.32:38523\n",
      "INFO:distributed.core:Starting established connection\n",
      "INFO:learn2therm.blast:Completed pair: {'pair': '85-7', 'pw_space': 1148550, 'hits': 12380}\n",
      "INFO:distributed.scheduler:Retiring worker tcp://10.64.66.32:38523\n",
      "INFO:distributed.active_memory_manager:Retiring worker tcp://10.64.66.32:38523; 1 keys are being moved away.\n",
      "INFO:distributed.scheduler:Closing worker tcp://10.64.66.32:38523\n",
      "INFO:distributed.scheduler:Remove worker <WorkerState 'tcp://10.64.66.32:38523', name: SLURMCluster-0, status: closing_gracefully, memory: 1, processing: 0>\n",
      "INFO:distributed.core:Removing comms to tcp://10.64.66.32:38523\n",
      "INFO:distributed.scheduler:Retired worker tcp://10.64.66.32:38523\n",
      "/mmfs1/gscratch/cheme/usr/evankomp/repos/learn2therm/learn2therm/blast.py:668: FutureWarning: The frame.append method is deprecated and will be removed from pandas in a future version. Use pandas.concat instead.\n",
      "  self.metadata = self.metadata.append(result, ignore_index=True)\n",
      "INFO:distributed.scheduler:Register worker <WorkerState 'tcp://10.64.66.32:41085', name: SLURMCluster-0, status: undefined, memory: 0, processing: 0>\n",
      "INFO:distributed.scheduler:Starting worker compute stream, tcp://10.64.66.32:41085\n",
      "INFO:distributed.core:Starting established connection\n",
      "INFO:learn2therm.blast:Completed pair: {'pair': '5223-10686', 'pw_space': 4598510, 'hits': 56983, 'execution_time': 2.388118898868561}\n",
      "INFO:distributed.scheduler:Retiring worker tcp://10.64.66.7:34815\n",
      "INFO:distributed.active_memory_manager:Retiring worker tcp://10.64.66.7:34815; 1 keys are being moved away.\n",
      "INFO:distributed.scheduler:Closing worker tcp://10.64.66.7:34815\n",
      "INFO:distributed.scheduler:Remove worker <WorkerState 'tcp://10.64.66.7:34815', name: SLURMCluster-1, status: closing_gracefully, memory: 1, processing: 0>\n",
      "INFO:distributed.core:Removing comms to tcp://10.64.66.7:34815\n",
      "INFO:distributed.scheduler:Retired worker tcp://10.64.66.7:34815\n",
      "/mmfs1/gscratch/cheme/usr/evankomp/repos/learn2therm/learn2therm/blast.py:668: FutureWarning: The frame.append method is deprecated and will be removed from pandas in a future version. Use pandas.concat instead.\n",
      "  self.metadata = self.metadata.append(result, ignore_index=True)\n",
      "INFO:distributed.scheduler:Remove client Client-cfa76a59-6467-11ed-8dc8-0a94eff00317\n",
      "INFO:distributed.scheduler:Remove client Client-cfa76a59-6467-11ed-8dc8-0a94eff00317\n",
      "INFO:distributed.scheduler:Close client connection: Client-cfa76a59-6467-11ed-8dc8-0a94eff00317\n",
      "INFO:distributed.scheduler:Register worker <WorkerState 'tcp://10.64.66.7:43177', name: SLURMCluster-1, status: undefined, memory: 0, processing: 0>\n",
      "INFO:distributed.scheduler:Starting worker compute stream, tcp://10.64.66.7:43177\n",
      "INFO:distributed.core:Starting established connection\n"
     ]
    }
   ],
   "source": [
    "with distributed.Client(cluster) as client:\n",
    "    # run the job\n",
    "    results = []\n",
    "    with learn2therm.blast.AlignmentClusterFutures(\n",
    "        pairs=pairs,\n",
    "        client=client,\n",
    "        worker_function=worker_function,\n",
    "        max_seq_len=params['max_protein_length'],\n",
    "        protein_deposit=PROTEIN_SEQ_DIR,\n",
    "        alignment_score_deposit='./logs/t1.4_protein_alignment_resource_test_workers/output/',\n",
    "        metrics=params['blast_metrics'],\n",
    "        alignment_params=aligner_params,\n",
    "        restart=False\n",
    "    ) as futures:\n",
    "        for future in futures:\n",
    "            results.append(future)"
   ]
  },
  {
   "cell_type": "code",
   "execution_count": 2,
   "id": "3115f5f5-1e0c-4368-a542-0b97217b5d07",
   "metadata": {},
   "outputs": [],
   "source": [
    "import pandas as pd"
   ]
  },
  {
   "cell_type": "code",
   "execution_count": 5,
   "id": "0eb05f35-3366-4d4f-9ac3-ed715ce57344",
   "metadata": {},
   "outputs": [],
   "source": [
    "df = pd.DataFrame([{'a':1, 'b':2}, {'a':1, 'b':2}])"
   ]
  },
  {
   "cell_type": "code",
   "execution_count": 6,
   "id": "847c60f5-cd18-42da-887e-7df0d26ca085",
   "metadata": {},
   "outputs": [],
   "source": [
    "s = pd.Series({'a':1, 'b':2})"
   ]
  },
  {
   "cell_type": "code",
   "execution_count": 22,
   "id": "d9cbf372-99c4-4af7-b114-a16308b31e53",
   "metadata": {},
   "outputs": [
    {
     "data": {
      "text/html": [
       "<div>\n",
       "<style scoped>\n",
       "    .dataframe tbody tr th:only-of-type {\n",
       "        vertical-align: middle;\n",
       "    }\n",
       "\n",
       "    .dataframe tbody tr th {\n",
       "        vertical-align: top;\n",
       "    }\n",
       "\n",
       "    .dataframe thead th {\n",
       "        text-align: right;\n",
       "    }\n",
       "</style>\n",
       "<table border=\"1\" class=\"dataframe\">\n",
       "  <thead>\n",
       "    <tr style=\"text-align: right;\">\n",
       "      <th></th>\n",
       "      <th>a</th>\n",
       "      <th>b</th>\n",
       "    </tr>\n",
       "  </thead>\n",
       "  <tbody>\n",
       "    <tr>\n",
       "      <th>0</th>\n",
       "      <td>1</td>\n",
       "      <td>2</td>\n",
       "    </tr>\n",
       "    <tr>\n",
       "      <th>1</th>\n",
       "      <td>1</td>\n",
       "      <td>2</td>\n",
       "    </tr>\n",
       "    <tr>\n",
       "      <th>2</th>\n",
       "      <td>1</td>\n",
       "      <td>2</td>\n",
       "    </tr>\n",
       "  </tbody>\n",
       "</table>\n",
       "</div>"
      ],
      "text/plain": [
       "   a  b\n",
       "0  1  2\n",
       "1  1  2\n",
       "2  1  2"
      ]
     },
     "execution_count": 22,
     "metadata": {},
     "output_type": "execute_result"
    }
   ],
   "source": [
    "pd.concat([df, s.to_frame().T], axis=0, ignore_index=True)"
   ]
  },
  {
   "cell_type": "code",
   "execution_count": 11,
   "id": "fb7e3124-c490-4804-9cbb-d07e77f58446",
   "metadata": {},
   "outputs": [
    {
     "data": {
      "text/html": [
       "<div>\n",
       "<style scoped>\n",
       "    .dataframe tbody tr th:only-of-type {\n",
       "        vertical-align: middle;\n",
       "    }\n",
       "\n",
       "    .dataframe tbody tr th {\n",
       "        vertical-align: top;\n",
       "    }\n",
       "\n",
       "    .dataframe thead th {\n",
       "        text-align: right;\n",
       "    }\n",
       "</style>\n",
       "<table border=\"1\" class=\"dataframe\">\n",
       "  <thead>\n",
       "    <tr style=\"text-align: right;\">\n",
       "      <th></th>\n",
       "      <th>a</th>\n",
       "      <th>b</th>\n",
       "    </tr>\n",
       "  </thead>\n",
       "  <tbody>\n",
       "    <tr>\n",
       "      <th>0</th>\n",
       "      <td>1</td>\n",
       "      <td>2</td>\n",
       "    </tr>\n",
       "    <tr>\n",
       "      <th>1</th>\n",
       "      <td>1</td>\n",
       "      <td>2</td>\n",
       "    </tr>\n",
       "  </tbody>\n",
       "</table>\n",
       "</div>"
      ],
      "text/plain": [
       "   a  b\n",
       "0  1  2\n",
       "1  1  2"
      ]
     },
     "execution_count": 11,
     "metadata": {},
     "output_type": "execute_result"
    }
   ],
   "source": [
    "df"
   ]
  },
  {
   "cell_type": "code",
   "execution_count": null,
   "id": "ab79004c-ae3b-4c90-8201-7f02f3d45472",
   "metadata": {},
   "outputs": [],
   "source": []
  }
 ],
 "metadata": {
  "kernelspec": {
   "display_name": "Python 3 (ipykernel)",
   "language": "python",
   "name": "python3"
  },
  "language_info": {
   "codemirror_mode": {
    "name": "ipython",
    "version": 3
   },
   "file_extension": ".py",
   "mimetype": "text/x-python",
   "name": "python",
   "nbconvert_exporter": "python",
   "pygments_lexer": "ipython3",
   "version": "3.10.6"
  }
 },
 "nbformat": 4,
 "nbformat_minor": 5
}
