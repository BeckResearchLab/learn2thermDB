{
 "cells": [
  {
   "attachments": {},
   "cell_type": "markdown",
   "metadata": {},
   "source": [
    "## Get identifiers for 16s"
   ]
  },
  {
   "cell_type": "code",
   "execution_count": null,
   "metadata": {},
   "outputs": [],
   "source": [
    "# This line imports the Bio.Entrez module, and makes it available\n",
    "# as 'Entrez'.\n",
    "from Bio import Entrez\n",
    "\n",
    "# The line below imports the Bio.SeqIO module, which allows reading\n",
    "# and writing of common bioinformatics sequence formats.\n",
    "from Bio import SeqIO\n",
    "\n",
    "# Create a new directory (if needed) for output/downloads\n",
    "import os\n",
    "outdir = \"./ncbi_downloads\"\n",
    "os.makedirs(outdir, exist_ok=True)\n",
    "\n",
    "# This line sets the variable 'Entrez.email' to the specified\n",
    "# email address. You should substitute your own address for the\n",
    "# example address provided below. Please do not provide a\n",
    "# fake name.\n",
    "Entrez.email = \"evankomp@uw.edu\"\n",
    "\n",
    "# This line sets the name of the tool that is making the queries\n",
    "Entrez.tool = \"learn2therm\""
   ]
  },
  {
   "cell_type": "code",
   "execution_count": null,
   "metadata": {},
   "outputs": [],
   "source": [
    "handle = Entrez.esearch(db=\"nucleotide\", term=\"33175[BioProject] OR 33317[BioProject]\", retmax=26980)\n",
    "\n",
    "# This line converts the returned information from NCBI into a form we\n",
    "# can use, as before.\n",
    "idlist = Entrez.read(handle)"
   ]
  },
  {
   "cell_type": "code",
   "execution_count": null,
   "metadata": {},
   "outputs": [],
   "source": [
    "idlist"
   ]
  },
  {
   "cell_type": "code",
   "execution_count": null,
   "metadata": {},
   "outputs": [],
   "source": [
    "len(idlist['IdList'])"
   ]
  },
  {
   "attachments": {},
   "cell_type": "markdown",
   "metadata": {},
   "source": [
    "## retrieve sequences"
   ]
  },
  {
   "cell_type": "code",
   "execution_count": null,
   "metadata": {},
   "outputs": [],
   "source": [
    "handle = Entrez.efetch(db=\"nucleotide\", rettype=\"gb\", retmode=\"text\",\n",
    "    id=idlist['IdList'])\n"
   ]
  },
  {
   "cell_type": "code",
   "execution_count": null,
   "metadata": {},
   "outputs": [],
   "source": [
    "records = SeqIO.parse(handle, 'genbank')"
   ]
  },
  {
   "cell_type": "code",
   "execution_count": null,
   "metadata": {},
   "outputs": [],
   "source": [
    "total = 0\n",
    "for record in records:\n",
    "    total += 1\n",
    "print(total)"
   ]
  },
  {
   "cell_type": "code",
   "execution_count": null,
   "metadata": {},
   "outputs": [],
   "source": [
    "dir(record)"
   ]
  },
  {
   "cell_type": "code",
   "execution_count": null,
   "metadata": {},
   "outputs": [],
   "source": [
    "record.annotations"
   ]
  },
  {
   "cell_type": "code",
   "execution_count": null,
   "metadata": {},
   "outputs": [],
   "source": [
    "dir(record.features[0])"
   ]
  },
  {
   "cell_type": "code",
   "execution_count": null,
   "metadata": {},
   "outputs": [],
   "source": [
    "record.features[0].type"
   ]
  },
  {
   "cell_type": "code",
   "execution_count": null,
   "metadata": {},
   "outputs": [],
   "source": [
    "record.features[0].qualifiers"
   ]
  },
  {
   "cell_type": "code",
   "execution_count": null,
   "metadata": {},
   "outputs": [],
   "source": [
    "record.seq"
   ]
  },
  {
   "cell_type": "code",
   "execution_count": null,
   "metadata": {},
   "outputs": [],
   "source": [
    "dir(record.seq)\n",
    "    "
   ]
  },
  {
   "attachments": {},
   "cell_type": "markdown",
   "metadata": {},
   "source": [
    "## load data sources and have a look"
   ]
  },
  {
   "cell_type": "code",
   "execution_count": null,
   "metadata": {},
   "outputs": [],
   "source": [
    "import pandas as pd"
   ]
  },
  {
   "cell_type": "code",
   "execution_count": null,
   "metadata": {},
   "outputs": [],
   "source": [
    "seq_16s = pd.read_csv('../tmp/16s.csv', index_col=0)"
   ]
  },
  {
   "cell_type": "code",
   "execution_count": null,
   "metadata": {},
   "outputs": [],
   "source": [
    "seq_16s['taxid'].value_counts()"
   ]
  },
  {
   "attachments": {},
   "cell_type": "markdown",
   "metadata": {},
   "source": [
    "We have multiple 16s for some taxa"
   ]
  },
  {
   "cell_type": "code",
   "execution_count": null,
   "metadata": {},
   "outputs": [],
   "source": [
    "sequences = seq_16s[seq_16s['taxid'] == 1406]['16s_seq']"
   ]
  },
  {
   "cell_type": "code",
   "execution_count": null,
   "metadata": {},
   "outputs": [],
   "source": [
    "sequences.apply(len)"
   ]
  },
  {
   "cell_type": "code",
   "execution_count": null,
   "metadata": {},
   "outputs": [],
   "source": [
    "from Bio.Blast.Applications import NcbiblastnCommandline\n",
    "from io import StringIO\n",
    "from Bio.Blast import NCBIXML\n",
    "from Bio.Seq import Seq\n",
    "from Bio.SeqRecord import SeqRecord\n",
    "from Bio import SeqIO\n",
    "\n",
    "# Create two sequence files\n",
    "seq_records = []\n",
    "for ind, s in sequences.items():\n",
    "    seq_records.append(SeqRecord(Seq(s),\n",
    "                   id=str(ind)))\n",
    "SeqIO.write(seq_records, \"./tmp/seqs.fasta\", \"fasta\")\n",
    "\n",
    "# Run BLAST and parse the output as XML\n",
    "output = NcbiblastnCommandline(query=\"./tmp/seqs.fasta\", subject=\"./tmp/seqs.fasta\", outfmt=5)()[0]\n",
    "blast_result_records = NCBIXML.parse(StringIO(output))\n",
    "\n",
    "# Print some information on the result\n",
    "ids = []\n",
    "for record in blast_result_records:\n",
    "    for alignment in record.alignments:\n",
    "        for hsp in alignment.hsps:\n",
    "            print('****Alignment****')\n",
    "            print('sequence:', alignment.title)\n",
    "            print('length:', alignment.length)\n",
    "            id_ = 2*hsp.identities/(record.query_length + alignment.length)\n",
    "            print('id', id_)\n",
    "            ids.append(id_)"
   ]
  },
  {
   "cell_type": "code",
   "execution_count": null,
   "metadata": {},
   "outputs": [],
   "source": [
    "min(ids)"
   ]
  },
  {
   "attachments": {},
   "cell_type": "markdown",
   "metadata": {},
   "source": [
    "The duplicates don't mutch matter. drop them."
   ]
  },
  {
   "cell_type": "code",
   "execution_count": null,
   "metadata": {},
   "outputs": [],
   "source": [
    "seq_16s['len'] = seq_16s['16s_seq'].apply(len)"
   ]
  },
  {
   "cell_type": "code",
   "execution_count": null,
   "metadata": {},
   "outputs": [],
   "source": [
    "seq_16s['len'].describe()"
   ]
  },
  {
   "cell_type": "code",
   "execution_count": null,
   "metadata": {},
   "outputs": [],
   "source": [
    "seq_16s = seq_16s.sort_values('len', ascending=False)"
   ]
  },
  {
   "cell_type": "code",
   "execution_count": null,
   "metadata": {},
   "outputs": [],
   "source": [
    "seq_16s = seq_16s.drop_duplicates(subset='taxid', keep='first')"
   ]
  },
  {
   "cell_type": "code",
   "execution_count": null,
   "metadata": {},
   "outputs": [],
   "source": [
    "len(seq_16s)"
   ]
  },
  {
   "cell_type": "code",
   "execution_count": null,
   "metadata": {},
   "outputs": [],
   "source": [
    "ogts = pd.read_csv('../tmp/ogt', index_col=0)"
   ]
  },
  {
   "cell_type": "code",
   "execution_count": null,
   "metadata": {},
   "outputs": [],
   "source": [
    "ogts['temperature'].plot.hist()"
   ]
  },
  {
   "cell_type": "code",
   "execution_count": null,
   "metadata": {},
   "outputs": [],
   "source": [
    "ogts.groupby('taxid').std()['temperature'].plot.hist()"
   ]
  },
  {
   "cell_type": "code",
   "execution_count": null,
   "metadata": {},
   "outputs": [],
   "source": [
    "groups = ogts.groupby('taxid')\n",
    "\n",
    "for _, df_ in groups:\n",
    "    if len(df_) > 1:\n",
    "        print(df_['temperature'].min(), df_['temperature'].max(), df_['temperature'].max() - df_['temperature'].min())"
   ]
  },
  {
   "attachments": {},
   "cell_type": "markdown",
   "metadata": {},
   "source": [
    "take the mean"
   ]
  },
  {
   "cell_type": "code",
   "execution_count": null,
   "metadata": {},
   "outputs": [],
   "source": [
    "ogts = ogts.groupby('taxid').mean().reset_index()"
   ]
  },
  {
   "cell_type": "code",
   "execution_count": null,
   "metadata": {},
   "outputs": [],
   "source": [
    "df = ogts.merge(seq_16s, on='taxid', how='inner')"
   ]
  },
  {
   "cell_type": "code",
   "execution_count": null,
   "metadata": {},
   "outputs": [],
   "source": [
    "df[df['taxid']==1609559]"
   ]
  },
  {
   "cell_type": "code",
   "execution_count": null,
   "metadata": {},
   "outputs": [],
   "source": [
    "df[df['taxid']==1609559].iloc[0]['16s_seq']"
   ]
  },
  {
   "cell_type": "code",
   "execution_count": null,
   "metadata": {},
   "outputs": [],
   "source": [
    "len(\"\"\"ATTCCGGTTGATCCTGCCGGAGGCCACTGCTATGGGGGTCCGACTAAGCCATGCGAGTCAAGGGGGCGTC\n",
    "CCTTCTGGGACGCCACCGGCGGACGGCTCAGTAACACGTCGGTAACCTACCCTCGGGAGGGGGATAACCC\n",
    "CGGGAAACTGGGGCTAATCCCCCATAGGCCTGGGGTACTGGAAGGTCCCCAGGCCGAAAGGGGACCGTAA\n",
    "GGTCCCGCCCGAGGATGGGCCGGCGGCCGATTAGGTAGTTGGTGGGGTAACGGCCCACCAAGCCGAAGAT\n",
    "CGGTACGGGCCGTGAGAGCGGGAGCCCGGAGATGGACACTGAGACACGGGTCCAGGCCCTACGGGGCGCA\n",
    "GCAGGCGCGAAACCTCCGCAATGCGGGAAACCGCGACGGGGGGACCCCCAGTGCCGTGCCTCTGGCACGG\n",
    "CTTTTCCGGAGTGTAAAAAGCTCCGGGAATAAGGGCTGGGCAAGGCCGGTGGCAGCCGCCGCGGTAATAC\n",
    "CGGCGGCCCGAGTGGTGGCCACTATTATTGGGCCTAAAGCGGCCGTAGCCGGGCCCGTAAGTCCCTGGCG\n",
    "AAATCCCACGGCTCAACCGTGGGGCTCGCTGGGGATACTGCGGGCCTTGGGACCGGGAGAGGCCGGGGGT\n",
    "ACCCCCGGGGTAGGGGTGAAATCCTATAATCCCGGGGGGACCGCCAGTGGCGAAGGCGCCCGGCTGGAAC\n",
    "GGGTCCGACGGTGAGGGCCGAAGGCCAGGGGAGCGAACCGGATTAGATACCCGGGTAGTCCTGGCTGTAA\n",
    "AGGATGCGGGCTAGGTGTCGGGCGAGCTTCGAGCTCGCCCGGTGCCGTAGGGAAGCCGTTAAGCCCGCCG\n",
    "CCTGGGGAGTACGGCCGCAAGGCTGAAACTTAAAGGAATTGGCGGGGGAGCACTACAAGGGGTGGAGCGT\n",
    "GCGGTTTAATTGGATTCAACGCCGGGAACCTCACCGGGGGCGACGGCAGGATGAAGGCCAGGCTGAAGGT\n",
    "CTTGCCGGACGCGCCGAGAGGAGGTGCATGGCCGCCGTCAGCTCGTACCGTGAGGCGTCCACTTAAGTGT\n",
    "GGTAACGAGCGAGACCCGCGCCCCCAGTTGCCAGTCCCTCCCGCTTGGGAGGGAGGCACTCTGGGGGGAC\n",
    "TGCCGGCGATAAGCCGGAGGAAGGGGCGGGCGACGGTAGGTCAGTATGCCCCGAAACCCCCGGGCTACAC\n",
    "GCGCGCTACAATGGGCGGGACAATGGGACCCGACCCCGAAAGGGGAAGGGAATCCCCTAAACCCGCCCTC\n",
    "AGTTCGGATCGCGGGCTGCAACTCGCCCGCGTGAAGCTGGAATCCCTAGTACCCGCGCGTCATCATCGCG\n",
    "CGGCGAATACGTCCCTGCTCCTTGCACACACCGCCCGTCACTCCACCCGAGCGGGGCCCGGGTGAGGCTC\n",
    "GATCTCCTTCGGGAGGTCGGGTCGAGCCCGGGCTCCGTGAGGGGGGAGAAGTCGTAACAAGGTAGCCGTA\n",
    "GGGGAACCTACGGCTCGATCACCTCCT\"\"\")"
   ]
  },
  {
   "attachments": {},
   "cell_type": "markdown",
   "metadata": {},
   "source": [
    "blast online is happy with the 16s we have and the one I found when looking up the taxa"
   ]
  },
  {
   "attachments": {},
   "cell_type": "markdown",
   "metadata": {},
   "source": [
    "## Read uniprot data for ecoli"
   ]
  },
  {
   "cell_type": "code",
   "execution_count": null,
   "metadata": {},
   "outputs": [],
   "source": [
    "import learn2therm.io\n",
    "from Bio import SeqIO\n",
    "import numpy as np\n",
    "import pandas as pd"
   ]
  },
  {
   "cell_type": "code",
   "execution_count": null,
   "metadata": {},
   "outputs": [],
   "source": [
    "records = learn2therm.io.seq_io_gnuzipped('./uniprot_ecoli.xml.gz', filetype='uniprot-xml')"
   ]
  },
  {
   "cell_type": "code",
   "execution_count": null,
   "metadata": {},
   "outputs": [],
   "source": [
    "record = next(records)"
   ]
  },
  {
   "cell_type": "code",
   "execution_count": null,
   "metadata": {},
   "outputs": [],
   "source": [
    "record.annotations"
   ]
  },
  {
   "cell_type": "code",
   "execution_count": null,
   "metadata": {},
   "outputs": [],
   "source": [
    "print(record.annotations.keys())"
   ]
  },
  {
   "cell_type": "code",
   "execution_count": null,
   "metadata": {},
   "outputs": [],
   "source": [
    "record.annotations['taxonomy']"
   ]
  },
  {
   "cell_type": "code",
   "execution_count": null,
   "metadata": {},
   "outputs": [],
   "source": [
    "record.annotations['organism']"
   ]
  },
  {
   "cell_type": "code",
   "execution_count": null,
   "metadata": {},
   "outputs": [],
   "source": [
    "record.annotations['type']"
   ]
  },
  {
   "cell_type": "code",
   "execution_count": null,
   "metadata": {},
   "outputs": [],
   "source": [
    "record.dbxrefs"
   ]
  },
  {
   "cell_type": "code",
   "execution_count": null,
   "metadata": {},
   "outputs": [],
   "source": [
    "def get_all_dbx(record):\n",
    "    return [k.split(':')[0] for k in record.dbxrefs]"
   ]
  },
  {
   "cell_type": "code",
   "execution_count": null,
   "metadata": {},
   "outputs": [],
   "source": [
    "records = learn2therm.io.seq_io_gnuzipped('./uniprot_ecoli.xml.gz', filetype='uniprot-xml')\n",
    "all_unique_ref = []\n",
    "total_recs = 0\n",
    "for record in records:\n",
    "    all_unique_ref.extend(list(np.unique(get_all_dbx(record))))\n",
    "    total_recs +=1\n",
    "    if total_recs % 50000 == 0:\n",
    "        print(total_recs)\n",
    "\n",
    "all_unique_ref = pd.Series(data=all_unique_ref)\n"
   ]
  },
  {
   "cell_type": "code",
   "execution_count": null,
   "metadata": {},
   "outputs": [],
   "source": [
    "percent_have_ref = all_unique_ref.value_counts()/total_recs\n",
    "with pd.option_context('display.max_rows', 70):\n",
    "    print(percent_have_ref)"
   ]
  },
  {
   "attachments": {},
   "cell_type": "markdown",
   "metadata": {},
   "source": [
    "looks like every single protein has taxid - lets see if we can differentiate between strains"
   ]
  },
  {
   "cell_type": "code",
   "execution_count": null,
   "metadata": {},
   "outputs": [],
   "source": [
    "def get_taxids(record):\n",
    "    found = 0\n",
    "    taxids = []\n",
    "    for dbxref in record.dbxrefs:\n",
    "        if dbxref.startswith('NCBI Taxonomy:'):\n",
    "            found += 1\n",
    "            taxids.extend(dbxref.split(':')[1:])\n",
    "    if found > 1:\n",
    "        print('found more than one taxid for record', record.id)\n",
    "        print(taxids)\n",
    "    return taxids"
   ]
  },
  {
   "cell_type": "code",
   "execution_count": null,
   "metadata": {},
   "outputs": [],
   "source": [
    "records = learn2therm.io.seq_io_gnuzipped('./uniprot_ecoli.xml.gz', filetype='uniprot-xml')\n",
    "all_taxids = []\n",
    "total_recs = 0\n",
    "for record in records:\n",
    "    all_taxids.append(get_taxids(record))\n",
    "    total_recs +=1\n",
    "    if total_recs % 50000 == 0:\n",
    "        print(total_recs)"
   ]
  },
  {
   "cell_type": "code",
   "execution_count": null,
   "metadata": {},
   "outputs": [],
   "source": [
    "all_taxids = pd.Series(data=all_taxids)"
   ]
  },
  {
   "cell_type": "code",
   "execution_count": null,
   "metadata": {},
   "outputs": [],
   "source": [
    "all_taxids.apply(len).value_counts()"
   ]
  },
  {
   "attachments": {},
   "cell_type": "markdown",
   "metadata": {},
   "source": [
    "taxid is parent taxid. Can we differentiate between strains by organism name?"
   ]
  },
  {
   "cell_type": "code",
   "execution_count": null,
   "metadata": {},
   "outputs": [],
   "source": [
    "records = learn2therm.io.seq_io_gnuzipped('./uniprot_ecoli.xml.gz', filetype='uniprot-xml')\n",
    "names = []\n",
    "total_recs = 0\n",
    "for record in records:\n",
    "    names.append(record.annotations['organism'])\n",
    "    total_recs +=1\n",
    "    if total_recs % 50000 == 0:\n",
    "        print(total_recs)"
   ]
  },
  {
   "cell_type": "code",
   "execution_count": null,
   "metadata": {},
   "outputs": [],
   "source": [
    "pd.value_counts(names)"
   ]
  },
  {
   "attachments": {},
   "cell_type": "markdown",
   "metadata": {},
   "source": [
    "All names come back the same, regardless of strain. Can we use accessions?"
   ]
  },
  {
   "cell_type": "code",
   "execution_count": null,
   "metadata": {},
   "outputs": [],
   "source": [
    "record.dbxrefs"
   ]
  },
  {
   "attachments": {},
   "cell_type": "markdown",
   "metadata": {},
   "source": [
    "## Load a single proteome\n",
    "\n",
    "can we first parse proteome metadata to help sift proteins?"
   ]
  },
  {
   "cell_type": "code",
   "execution_count": null,
   "metadata": {},
   "outputs": [],
   "source": [
    "from Bio import SeqIO\n",
    "import learn2therm.io\n",
    "import json"
   ]
  },
  {
   "cell_type": "code",
   "execution_count": null,
   "metadata": {},
   "outputs": [],
   "source": [
    "f = open('./uniprot_1prot.json', 'r')\n",
    "records = json.load(f)\n",
    "f.close()\n"
   ]
  },
  {
   "cell_type": "code",
   "execution_count": null,
   "metadata": {},
   "outputs": [],
   "source": [
    "record = records['results'][0]"
   ]
  },
  {
   "cell_type": "code",
   "execution_count": null,
   "metadata": {},
   "outputs": [],
   "source": [
    "record"
   ]
  },
  {
   "cell_type": "code",
   "execution_count": null,
   "metadata": {},
   "outputs": [],
   "source": [
    "record.keys()"
   ]
  },
  {
   "cell_type": "code",
   "execution_count": null,
   "metadata": {},
   "outputs": [],
   "source": []
  },
  {
   "attachments": {},
   "cell_type": "markdown",
   "metadata": {},
   "source": [
    "## Use pan proteom membership to filter proteins"
   ]
  },
  {
   "cell_type": "code",
   "execution_count": null,
   "metadata": {},
   "outputs": [],
   "source": [
    "import learn2therm.io\n",
    "from Bio import SeqIO\n",
    "import numpy as np\n",
    "import pandas as pd"
   ]
  },
  {
   "cell_type": "code",
   "execution_count": null,
   "metadata": {},
   "outputs": [],
   "source": [
    "records = learn2therm.io.seq_io_gnuzipped('./uniprot_ecoli.xml.gz', filetype='uniprot-xml')"
   ]
  },
  {
   "cell_type": "code",
   "execution_count": null,
   "metadata": {},
   "outputs": [],
   "source": [
    "proteome_memership = pd.read_csv('./PPMembership.txt', delim_whitespace=True)"
   ]
  },
  {
   "cell_type": "code",
   "execution_count": null,
   "metadata": {},
   "outputs": [],
   "source": [
    "proteome_memership = proteome_memership[~(proteome_memership['PPMember'] == proteome_memership['PP'])]"
   ]
  },
  {
   "cell_type": "code",
   "execution_count": null,
   "metadata": {},
   "outputs": [],
   "source": [
    "proteome_memership"
   ]
  },
  {
   "cell_type": "code",
   "execution_count": null,
   "metadata": {},
   "outputs": [],
   "source": [
    "def get_proteomes(record):\n",
    "    proteomes = []\n",
    "    for dbxref in record.dbxrefs:\n",
    "        if dbxref.startswith('Proteomes:'):\n",
    "            proteomes.append(dbxref.split(':')[1])\n",
    "    return np.array(proteomes)\n",
    "\n",
    "def select_best_proteome(proteomes):\n",
    "    if len(proteomes) == 0:\n",
    "        return None\n",
    "    elif len(proteomes) == 1:\n",
    "        return proteomes[0]\n",
    "    else:\n",
    "        non_redundant_proteomes = proteomes[~np.isin(proteomes, proteome_memership['PPMember'])]\n",
    "        if len(non_redundant_proteomes) >= 1:\n",
    "            num_pps = np.isin(non_redundant_proteomes, proteome_memership['PP']).sum()\n",
    "            if num_pps == 1:\n",
    "                return non_redundant_proteomes[np.isin(non_redundant_proteomes, proteome_memership['PP'])][0]\n",
    "            elif num_pps > 1:\n",
    "                raise ValueError(f\"Could not find a single proteome: {proteomes}\")\n",
    "            else:\n",
    "                return non_redundant_proteomes[0]\n",
    "        else:\n",
    "            return proteomes[0]"
   ]
  },
  {
   "cell_type": "code",
   "execution_count": null,
   "metadata": {},
   "outputs": [],
   "source": [
    "records = learn2therm.io.seq_io_gnuzipped('./uniprot_ecoli.xml.gz', filetype='uniprot-xml')\n",
    "proteome_list = []\n",
    "total = 0\n",
    "for record in records:\n",
    "    proteome_list.append(select_best_proteome(get_proteomes(record)))\n",
    "    total += 1\n",
    "    if total % 50000 == 0:\n",
    "        print(total)"
   ]
  },
  {
   "cell_type": "code",
   "execution_count": null,
   "metadata": {},
   "outputs": [],
   "source": [
    "pd.value_counts(proteome_list)"
   ]
  },
  {
   "cell_type": "code",
   "execution_count": null,
   "metadata": {},
   "outputs": [],
   "source": []
  },
  {
   "cell_type": "code",
   "execution_count": null,
   "metadata": {},
   "outputs": [],
   "source": [
    "proteomes = get_proteomes(record)\n",
    "proteomes"
   ]
  },
  {
   "cell_type": "code",
   "execution_count": null,
   "metadata": {},
   "outputs": [],
   "source": [
    "np.isin(proteomes, proteome_memership['PP']).sum()"
   ]
  },
  {
   "cell_type": "code",
   "execution_count": null,
   "metadata": {},
   "outputs": [],
   "source": [
    "np.isin(proteomes, proteome_memership['PPMember']).sum()"
   ]
  },
  {
   "cell_type": "code",
   "execution_count": null,
   "metadata": {},
   "outputs": [],
   "source": [
    "'UP000315125' in proteome_memership['PP']"
   ]
  },
  {
   "cell_type": "code",
   "execution_count": null,
   "metadata": {},
   "outputs": [],
   "source": [
    "proteomes[~np.isin(proteomes, proteome_memership['PPMember'])]"
   ]
  },
  {
   "attachments": {},
   "cell_type": "markdown",
   "metadata": {},
   "source": [
    "## Develop parsing of proteome metadata first"
   ]
  },
  {
   "cell_type": "code",
   "execution_count": 1,
   "metadata": {},
   "outputs": [],
   "source": [
    "import json\n",
    "import pandas as pd\n",
    "import gzip\n",
    "import matplotlib.pyplot as plt\n",
    "import pprint\n",
    "import numpy as np"
   ]
  },
  {
   "cell_type": "code",
   "execution_count": 2,
   "metadata": {},
   "outputs": [],
   "source": [
    "# load proteome file\n",
    "with gzip.open('./uniprot_proteoms.json.gz', 'rt') as f:\n",
    "    proteomes = json.load(f)\n",
    "proteomes = proteomes['results']"
   ]
  },
  {
   "cell_type": "code",
   "execution_count": 3,
   "metadata": {},
   "outputs": [
    {
     "data": {
      "text/plain": [
       "500354"
      ]
     },
     "execution_count": 3,
     "metadata": {},
     "output_type": "execute_result"
    }
   ],
   "source": [
    "len(proteomes)"
   ]
  },
  {
   "attachments": {},
   "cell_type": "markdown",
   "metadata": {},
   "source": [
    "what proteome types do we have"
   ]
  },
  {
   "cell_type": "code",
   "execution_count": 4,
   "metadata": {},
   "outputs": [
    {
     "data": {
      "text/plain": [
       "Redundant proteome                       314666\n",
       "Other proteome                           140874\n",
       "Representative proteome                   21925\n",
       "Excluded                                  21889\n",
       "Reference and representative proteome       811\n",
       "Reference proteome                          189\n",
       "dtype: int64"
      ]
     },
     "execution_count": 4,
     "metadata": {},
     "output_type": "execute_result"
    }
   ],
   "source": [
    "# loop through proteomes get the qualifiers of proteome, eg reference or pan\n",
    "proteome_qualifiers = [p['proteomeType'] for p in proteomes]\n",
    "pd.value_counts(proteome_qualifiers)"
   ]
  },
  {
   "attachments": {},
   "cell_type": "markdown",
   "metadata": {},
   "source": [
    "Parse as DF so we can do some groupbys"
   ]
  },
  {
   "cell_type": "code",
   "execution_count": 47,
   "metadata": {},
   "outputs": [],
   "source": [
    "def do_one_proteome(proteome):\n",
    "    try:\n",
    "        out = {}\n",
    "        out['pid'] = proteome['id']\n",
    "        try:\n",
    "            lowest_lineage = proteome['taxonLineage'][-1]\n",
    "            if lowest_lineage['rank'] == 'species':\n",
    "                out['species_taxid'] = lowest_lineage['taxonId']\n",
    "            else:\n",
    "                raise KeyError()\n",
    "        except KeyError:\n",
    "            out['species_taxid'] = proteome['taxonomy']['taxonId']\n",
    "        \n",
    "        out['strain_taxid'] = proteome['taxonomy']['taxonId']\n",
    "        out['qualifier'] = proteome['proteomeType']\n",
    "        out['completeness'] = proteome['proteomeCompletenessReport']['cpdReport']['status']\n",
    "        out['num_proteins'] = sum([c['proteinCount'] for c in proteome['components']])\n",
    "    except:\n",
    "        pprint.pprint(proteome)\n",
    "        raise\n",
    "    return out"
   ]
  },
  {
   "cell_type": "code",
   "execution_count": 48,
   "metadata": {},
   "outputs": [],
   "source": [
    "proteome_data = pd.DataFrame([do_one_proteome(p) for p in proteomes])"
   ]
  },
  {
   "attachments": {},
   "cell_type": "markdown",
   "metadata": {},
   "source": [
    "For Eg. ecoli, how many representative proteomes do we have"
   ]
  },
  {
   "cell_type": "code",
   "execution_count": 49,
   "metadata": {},
   "outputs": [
    {
     "data": {
      "text/html": [
       "<div>\n",
       "<style scoped>\n",
       "    .dataframe tbody tr th:only-of-type {\n",
       "        vertical-align: middle;\n",
       "    }\n",
       "\n",
       "    .dataframe tbody tr th {\n",
       "        vertical-align: top;\n",
       "    }\n",
       "\n",
       "    .dataframe thead th {\n",
       "        text-align: right;\n",
       "    }\n",
       "</style>\n",
       "<table border=\"1\" class=\"dataframe\">\n",
       "  <thead>\n",
       "    <tr style=\"text-align: right;\">\n",
       "      <th></th>\n",
       "      <th>pid</th>\n",
       "      <th>species_taxid</th>\n",
       "      <th>strain_taxid</th>\n",
       "      <th>qualifier</th>\n",
       "      <th>completeness</th>\n",
       "      <th>num_proteins</th>\n",
       "    </tr>\n",
       "  </thead>\n",
       "  <tbody>\n",
       "    <tr>\n",
       "      <th>0</th>\n",
       "      <td>UP000000625</td>\n",
       "      <td>562</td>\n",
       "      <td>83333</td>\n",
       "      <td>Reference and representative proteome</td>\n",
       "      <td>Standard</td>\n",
       "      <td>4403</td>\n",
       "    </tr>\n",
       "    <tr>\n",
       "      <th>1236</th>\n",
       "      <td>UP000000558</td>\n",
       "      <td>562</td>\n",
       "      <td>83334</td>\n",
       "      <td>Reference and representative proteome</td>\n",
       "      <td>Standard</td>\n",
       "      <td>5062</td>\n",
       "    </tr>\n",
       "    <tr>\n",
       "      <th>1292</th>\n",
       "      <td>UP000000746</td>\n",
       "      <td>562</td>\n",
       "      <td>585055</td>\n",
       "      <td>Reference proteome</td>\n",
       "      <td>Standard</td>\n",
       "      <td>4797</td>\n",
       "    </tr>\n",
       "    <tr>\n",
       "      <th>1293</th>\n",
       "      <td>UP000000747</td>\n",
       "      <td>562</td>\n",
       "      <td>585035</td>\n",
       "      <td>Reference proteome</td>\n",
       "      <td>Standard</td>\n",
       "      <td>4805</td>\n",
       "    </tr>\n",
       "    <tr>\n",
       "      <th>1397</th>\n",
       "      <td>UP000001123</td>\n",
       "      <td>562</td>\n",
       "      <td>331112</td>\n",
       "      <td>Reference proteome</td>\n",
       "      <td>Close to standard (low value)</td>\n",
       "      <td>4308</td>\n",
       "    </tr>\n",
       "    <tr>\n",
       "      <th>...</th>\n",
       "      <td>...</td>\n",
       "      <td>...</td>\n",
       "      <td>...</td>\n",
       "      <td>...</td>\n",
       "      <td>...</td>\n",
       "      <td>...</td>\n",
       "    </tr>\n",
       "    <tr>\n",
       "      <th>500309</th>\n",
       "      <td>UP000885376</td>\n",
       "      <td>562</td>\n",
       "      <td>562</td>\n",
       "      <td>Redundant proteome</td>\n",
       "      <td>Close to standard (high value)</td>\n",
       "      <td>5122</td>\n",
       "    </tr>\n",
       "    <tr>\n",
       "      <th>500310</th>\n",
       "      <td>UP000885377</td>\n",
       "      <td>562</td>\n",
       "      <td>562</td>\n",
       "      <td>Redundant proteome</td>\n",
       "      <td>Standard</td>\n",
       "      <td>4947</td>\n",
       "    </tr>\n",
       "    <tr>\n",
       "      <th>500321</th>\n",
       "      <td>UP000885393</td>\n",
       "      <td>562</td>\n",
       "      <td>562</td>\n",
       "      <td>Redundant proteome</td>\n",
       "      <td>Standard</td>\n",
       "      <td>5018</td>\n",
       "    </tr>\n",
       "    <tr>\n",
       "      <th>500327</th>\n",
       "      <td>UP000885399</td>\n",
       "      <td>562</td>\n",
       "      <td>562</td>\n",
       "      <td>Redundant proteome</td>\n",
       "      <td>Standard</td>\n",
       "      <td>4854</td>\n",
       "    </tr>\n",
       "    <tr>\n",
       "      <th>500339</th>\n",
       "      <td>UP000885412</td>\n",
       "      <td>562</td>\n",
       "      <td>562</td>\n",
       "      <td>Redundant proteome</td>\n",
       "      <td>Close to standard (high value)</td>\n",
       "      <td>5213</td>\n",
       "    </tr>\n",
       "  </tbody>\n",
       "</table>\n",
       "<p>73757 rows × 6 columns</p>\n",
       "</div>"
      ],
      "text/plain": [
       "                pid  species_taxid  strain_taxid  \\\n",
       "0       UP000000625            562         83333   \n",
       "1236    UP000000558            562         83334   \n",
       "1292    UP000000746            562        585055   \n",
       "1293    UP000000747            562        585035   \n",
       "1397    UP000001123            562        331112   \n",
       "...             ...            ...           ...   \n",
       "500309  UP000885376            562           562   \n",
       "500310  UP000885377            562           562   \n",
       "500321  UP000885393            562           562   \n",
       "500327  UP000885399            562           562   \n",
       "500339  UP000885412            562           562   \n",
       "\n",
       "                                    qualifier                    completeness  \\\n",
       "0       Reference and representative proteome                        Standard   \n",
       "1236    Reference and representative proteome                        Standard   \n",
       "1292                       Reference proteome                        Standard   \n",
       "1293                       Reference proteome                        Standard   \n",
       "1397                       Reference proteome   Close to standard (low value)   \n",
       "...                                       ...                             ...   \n",
       "500309                     Redundant proteome  Close to standard (high value)   \n",
       "500310                     Redundant proteome                        Standard   \n",
       "500321                     Redundant proteome                        Standard   \n",
       "500327                     Redundant proteome                        Standard   \n",
       "500339                     Redundant proteome  Close to standard (high value)   \n",
       "\n",
       "        num_proteins  \n",
       "0               4403  \n",
       "1236            5062  \n",
       "1292            4797  \n",
       "1293            4805  \n",
       "1397            4308  \n",
       "...              ...  \n",
       "500309          5122  \n",
       "500310          4947  \n",
       "500321          5018  \n",
       "500327          4854  \n",
       "500339          5213  \n",
       "\n",
       "[73757 rows x 6 columns]"
      ]
     },
     "execution_count": 49,
     "metadata": {},
     "output_type": "execute_result"
    }
   ],
   "source": [
    "proteome_data[proteome_data['species_taxid'] == 562]"
   ]
  },
  {
   "attachments": {},
   "cell_type": "markdown",
   "metadata": {},
   "source": [
    "more than one...\n",
    "\n",
    "Proposed strategy:\n",
    "group by strain, find best proteome in order of: \n",
    "1. qualifier as reference and representative\n",
    "2. reference\n",
    "3. representative with the most proteins\n",
    "4. remove redundant, and excluded proteomes, whichever is left and has the most proteins"
   ]
  },
  {
   "cell_type": "code",
   "execution_count": 65,
   "metadata": {},
   "outputs": [],
   "source": [
    "def get_best_proteome_from_group(dataframe):\n",
    "    \"\"\"Find best proteome among a group of proteomes with the same species and or strain\n",
    "    \n",
    "    Select best proteome with priority:\n",
    "    1. qualifier as 'Reference and representative proteome'\n",
    "    2. qualifier as reference 'Reference proteome'\n",
    "    3. qualifier as reference 'Representative proteome', most proteins\n",
    "    4. remove 'Redundant proteome', and 'Excluded', whichever is left and has the most proteins is returned\n",
    "    \"\"\"\n",
    "    if len(dataframe) == 1:\n",
    "        return dataframe\n",
    "    else:\n",
    "        # get any 'Reference and representative proteome'\n",
    "        ref_rep = dataframe[dataframe['qualifier'] == 'Reference and representative proteome']\n",
    "        if len(ref_rep) == 1:\n",
    "            return ref_rep\n",
    "        elif len(ref_rep) > 1:\n",
    "            return pd.DataFrame(ref_rep.iloc[np.argmax(ref_rep['num_proteins'])]).T \n",
    "        \n",
    "        # now check for Reference proteome\n",
    "        ref = dataframe[dataframe['qualifier'] == 'Reference proteome']\n",
    "        if len(ref) == 1:\n",
    "            return ref\n",
    "        elif len(ref) > 1:\n",
    "            return pd.DataFrame(ref.iloc[np.argmax(ref['num_proteins'])]).T\n",
    "        \n",
    "        # now check for Representative proteome\n",
    "        rep = dataframe[dataframe['qualifier'] == 'Representative proteome']\n",
    "        # get the one with the most proteins\n",
    "        if len(rep) >= 1:\n",
    "            return pd.DataFrame(rep.iloc[np.argmax(rep['num_proteins'])]).T\n",
    "        \n",
    "        # otherwise, remove 'Redundant proteome', and 'Excluded', whichever is left and has the most proteins is returned\n",
    "        non_redun = dataframe[dataframe['qualifier'] != 'Redundant proteome']\n",
    "        non_redun = non_redun[non_redun['qualifier'] != 'Excluded']\n",
    "        if len(non_redun) == 1:\n",
    "            return non_redun\n",
    "        elif len(non_redun) > 1:\n",
    "            return pd.DataFrame(non_redun.iloc[np.argmax(non_redun['num_proteins'])]).T\n"
   ]
  },
  {
   "cell_type": "code",
   "execution_count": 51,
   "metadata": {},
   "outputs": [],
   "source": [
    "strain_groups = proteome_data.groupby('strain_taxid')"
   ]
  },
  {
   "cell_type": "code",
   "execution_count": 52,
   "metadata": {},
   "outputs": [
    {
     "data": {
      "text/plain": [
       "117236"
      ]
     },
     "execution_count": 52,
     "metadata": {},
     "output_type": "execute_result"
    }
   ],
   "source": [
    "len(strain_groups)"
   ]
  },
  {
   "cell_type": "code",
   "execution_count": 53,
   "metadata": {},
   "outputs": [
    {
     "name": "stdout",
     "output_type": "stream",
     "text": [
      "50000\n",
      "100000\n"
     ]
    }
   ],
   "source": [
    "strain_aggregated_dfs = []\n",
    "completed = 0\n",
    "for i, group in strain_groups:\n",
    "    best_proteome = get_best_proteome_from_group(group)\n",
    "    strain_aggregated_dfs.append(best_proteome)\n",
    "    completed += 1\n",
    "    if completed % 50000 == 0:\n",
    "        print(completed)"
   ]
  },
  {
   "cell_type": "code",
   "execution_count": 61,
   "metadata": {},
   "outputs": [],
   "source": [
    "strain_aggregated_df = pd.concat(strain_aggregated_dfs)"
   ]
  },
  {
   "cell_type": "code",
   "execution_count": 64,
   "metadata": {},
   "outputs": [
    {
     "data": {
      "text/plain": [
       "1.0"
      ]
     },
     "execution_count": 64,
     "metadata": {},
     "output_type": "execute_result"
    }
   ],
   "source": [
    "len(strain_aggregated_df['strain_taxid'].unique())/len(strain_aggregated_df)"
   ]
  },
  {
   "cell_type": "code",
   "execution_count": 85,
   "metadata": {},
   "outputs": [],
   "source": [
    "# now group by species and select the largest proteome\n",
    "species_groups = strain_aggregated_df.groupby('species_taxid')\n",
    "species_aggregated_dfs = []\n",
    "for i, group in species_groups:\n",
    "    best_proteome = get_best_proteome_from_group(group)\n",
    "    species_aggregated_dfs.append(best_proteome)"
   ]
  },
  {
   "cell_type": "code",
   "execution_count": 86,
   "metadata": {},
   "outputs": [],
   "source": [
    "species_aggregated_df = pd.concat(species_aggregated_dfs)"
   ]
  },
  {
   "cell_type": "code",
   "execution_count": 88,
   "metadata": {},
   "outputs": [
    {
     "data": {
      "text/plain": [
       "<AxesSubplot: ylabel='Frequency'>"
      ]
     },
     "execution_count": 88,
     "metadata": {},
     "output_type": "execute_result"
    },
    {
     "data": {
      "image/png": "[encoded data removed]",
      "text/plain": [
       "<Figure size 640x480 with 1 Axes>"
      ]
     },
     "metadata": {},
     "output_type": "display_data"
    }
   ],
   "source": [
    "species_aggregated_df['num_proteins'].plot.hist()"
   ]
  },
  {
   "cell_type": "code",
   "execution_count": 92,
   "metadata": {},
   "outputs": [
    {
     "data": {
      "text/html": [
       "<div>\n",
       "<style scoped>\n",
       "    .dataframe tbody tr th:only-of-type {\n",
       "        vertical-align: middle;\n",
       "    }\n",
       "\n",
       "    .dataframe tbody tr th {\n",
       "        vertical-align: top;\n",
       "    }\n",
       "\n",
       "    .dataframe thead th {\n",
       "        text-align: right;\n",
       "    }\n",
       "</style>\n",
       "<table border=\"1\" class=\"dataframe\">\n",
       "  <thead>\n",
       "    <tr style=\"text-align: right;\">\n",
       "      <th></th>\n",
       "      <th>pid</th>\n",
       "      <th>species_taxid</th>\n",
       "      <th>strain_taxid</th>\n",
       "      <th>qualifier</th>\n",
       "      <th>completeness</th>\n",
       "      <th>num_proteins</th>\n",
       "    </tr>\n",
       "  </thead>\n",
       "  <tbody>\n",
       "    <tr>\n",
       "      <th>21193</th>\n",
       "      <td>UP000499080</td>\n",
       "      <td>182803</td>\n",
       "      <td>182803</td>\n",
       "      <td>Representative proteome</td>\n",
       "      <td>Outlier (high value)</td>\n",
       "      <td>246578</td>\n",
       "    </tr>\n",
       "    <tr>\n",
       "      <th>3018</th>\n",
       "      <td>UP000015105</td>\n",
       "      <td>37682</td>\n",
       "      <td>200361</td>\n",
       "      <td>Representative proteome</td>\n",
       "      <td>Outlier (high value)</td>\n",
       "      <td>214162</td>\n",
       "    </tr>\n",
       "    <tr>\n",
       "      <th>275899</th>\n",
       "      <td>UP000324705</td>\n",
       "      <td>4571</td>\n",
       "      <td>4567</td>\n",
       "      <td>Excluded</td>\n",
       "      <td>Outlier (high value)</td>\n",
       "      <td>189776</td>\n",
       "    </tr>\n",
       "    <tr>\n",
       "      <th>3507</th>\n",
       "      <td>UP000019116</td>\n",
       "      <td>4565</td>\n",
       "      <td>4565</td>\n",
       "      <td>Representative proteome</td>\n",
       "      <td>Outlier (high value)</td>\n",
       "      <td>130673</td>\n",
       "    </tr>\n",
       "    <tr>\n",
       "      <th>18944</th>\n",
       "      <td>UP000265520</td>\n",
       "      <td>97028</td>\n",
       "      <td>97028</td>\n",
       "      <td>Representative proteome</td>\n",
       "      <td>Outlier (high value)</td>\n",
       "      <td>116147</td>\n",
       "    </tr>\n",
       "    <tr>\n",
       "      <th>...</th>\n",
       "      <td>...</td>\n",
       "      <td>...</td>\n",
       "      <td>...</td>\n",
       "      <td>...</td>\n",
       "      <td>...</td>\n",
       "      <td>...</td>\n",
       "    </tr>\n",
       "    <tr>\n",
       "      <th>112132</th>\n",
       "      <td>UP000203315</td>\n",
       "      <td>1345661</td>\n",
       "      <td>1345661</td>\n",
       "      <td>Other proteome</td>\n",
       "      <td>Standard</td>\n",
       "      <td>1</td>\n",
       "    </tr>\n",
       "    <tr>\n",
       "      <th>89721</th>\n",
       "      <td>UP000207743</td>\n",
       "      <td>1345662</td>\n",
       "      <td>1345662</td>\n",
       "      <td>Other proteome</td>\n",
       "      <td>Standard</td>\n",
       "      <td>1</td>\n",
       "    </tr>\n",
       "    <tr>\n",
       "      <th>56227</th>\n",
       "      <td>UP000242382</td>\n",
       "      <td>83440</td>\n",
       "      <td>83440</td>\n",
       "      <td>Other proteome</td>\n",
       "      <td>Outlier (low value)</td>\n",
       "      <td>1</td>\n",
       "    </tr>\n",
       "    <tr>\n",
       "      <th>26596</th>\n",
       "      <td>UP000117861</td>\n",
       "      <td>467337</td>\n",
       "      <td>467337</td>\n",
       "      <td>Other proteome</td>\n",
       "      <td>Standard</td>\n",
       "      <td>1</td>\n",
       "    </tr>\n",
       "    <tr>\n",
       "      <th>90612</th>\n",
       "      <td>UP000232915</td>\n",
       "      <td>70134</td>\n",
       "      <td>70134</td>\n",
       "      <td>Other proteome</td>\n",
       "      <td>Standard</td>\n",
       "      <td>1</td>\n",
       "    </tr>\n",
       "  </tbody>\n",
       "</table>\n",
       "<p>91188 rows × 6 columns</p>\n",
       "</div>"
      ],
      "text/plain": [
       "                pid species_taxid strain_taxid                qualifier  \\\n",
       "21193   UP000499080        182803       182803  Representative proteome   \n",
       "3018    UP000015105         37682       200361  Representative proteome   \n",
       "275899  UP000324705          4571         4567                 Excluded   \n",
       "3507    UP000019116          4565         4565  Representative proteome   \n",
       "18944   UP000265520         97028        97028  Representative proteome   \n",
       "...             ...           ...          ...                      ...   \n",
       "112132  UP000203315       1345661      1345661           Other proteome   \n",
       "89721   UP000207743       1345662      1345662           Other proteome   \n",
       "56227   UP000242382         83440        83440           Other proteome   \n",
       "26596   UP000117861        467337       467337           Other proteome   \n",
       "90612   UP000232915         70134        70134           Other proteome   \n",
       "\n",
       "                completeness num_proteins  \n",
       "21193   Outlier (high value)       246578  \n",
       "3018    Outlier (high value)       214162  \n",
       "275899  Outlier (high value)       189776  \n",
       "3507    Outlier (high value)       130673  \n",
       "18944   Outlier (high value)       116147  \n",
       "...                      ...          ...  \n",
       "112132              Standard            1  \n",
       "89721               Standard            1  \n",
       "56227    Outlier (low value)            1  \n",
       "26596               Standard            1  \n",
       "90612               Standard            1  \n",
       "\n",
       "[91188 rows x 6 columns]"
      ]
     },
     "execution_count": 92,
     "metadata": {},
     "output_type": "execute_result"
    }
   ],
   "source": [
    "species_aggregated_df.sort_values(by='num_proteins', ascending=False)"
   ]
  },
  {
   "cell_type": "code",
   "execution_count": 93,
   "metadata": {},
   "outputs": [
    {
     "data": {
      "text/html": [
       "<div>\n",
       "<style scoped>\n",
       "    .dataframe tbody tr th:only-of-type {\n",
       "        vertical-align: middle;\n",
       "    }\n",
       "\n",
       "    .dataframe tbody tr th {\n",
       "        vertical-align: top;\n",
       "    }\n",
       "\n",
       "    .dataframe thead th {\n",
       "        text-align: right;\n",
       "    }\n",
       "</style>\n",
       "<table border=\"1\" class=\"dataframe\">\n",
       "  <thead>\n",
       "    <tr style=\"text-align: right;\">\n",
       "      <th></th>\n",
       "      <th>pid</th>\n",
       "      <th>species_taxid</th>\n",
       "      <th>strain_taxid</th>\n",
       "      <th>qualifier</th>\n",
       "      <th>completeness</th>\n",
       "      <th>num_proteins</th>\n",
       "    </tr>\n",
       "  </thead>\n",
       "  <tbody>\n",
       "    <tr>\n",
       "      <th>275899</th>\n",
       "      <td>UP000324705</td>\n",
       "      <td>4571</td>\n",
       "      <td>4567</td>\n",
       "      <td>Excluded</td>\n",
       "      <td>Outlier (high value)</td>\n",
       "      <td>189776</td>\n",
       "    </tr>\n",
       "  </tbody>\n",
       "</table>\n",
       "</div>"
      ],
      "text/plain": [
       "                pid  species_taxid  strain_taxid qualifier  \\\n",
       "275899  UP000324705           4571          4567  Excluded   \n",
       "\n",
       "                completeness  num_proteins  \n",
       "275899  Outlier (high value)        189776  "
      ]
     },
     "execution_count": 93,
     "metadata": {},
     "output_type": "execute_result"
    }
   ],
   "source": [
    "proteome_data[proteome_data['species_taxid'] == 4571]"
   ]
  },
  {
   "attachments": {},
   "cell_type": "markdown",
   "metadata": {},
   "source": [
    "## What dos data without a proteome look like?"
   ]
  },
  {
   "cell_type": "code",
   "execution_count": 69,
   "metadata": {},
   "outputs": [],
   "source": [
    "import learn2therm.io\n",
    "from Bio import SeqIO\n",
    "import numpy as np\n",
    "import pandas as pd\n",
    "import pprint"
   ]
  },
  {
   "cell_type": "code",
   "execution_count": 81,
   "metadata": {},
   "outputs": [],
   "source": [
    "records = learn2therm.io.seq_io_gnuzipped('./uniprot_ecoli.xml.gz', filetype='uniprot-xml')"
   ]
  },
  {
   "cell_type": "code",
   "execution_count": 68,
   "metadata": {},
   "outputs": [],
   "source": [
    "def get_all_dbx(record):\n",
    "    return [k.split(':')[0] for k in record.dbxrefs]"
   ]
  },
  {
   "cell_type": "code",
   "execution_count": 82,
   "metadata": {},
   "outputs": [
    {
     "name": "stdout",
     "output_type": "stream",
     "text": [
      "SeqRecord(seq=Seq('MTVQTSKNPQVDIAEDNAFFPSEYSLSQYTSPVSDLDGVDYPKPYRGKHKILVI...YAS'), id='A0A8F9ARU2', name='A0A8F9ARU2_ECOLX', description='Protein/nucleic acid deglycase HchA', dbxrefs=['EC:3.1.2.-', 'EC:3.5.1.124', 'EMBL:CP080119', 'GO:GO:0005737', 'GO:GO:0006281', 'GO:GO:0008270', 'GO:GO:0016790', 'GO:GO:0016811', 'GO:GO:0030091', 'GO:GO:0036524', 'Gene3D:3.40.50.880', 'HAMAP:MF_01046', 'InterPro:IPR017283', 'InterPro:IPR029062', 'NCBI Taxonomy:562', 'PANTHER:PTHR48094', 'PANTHER:PTHR48094:SF20', 'PIRSF:PIRSF037798', 'SUPFAM:SSF52317', 'TrEMBL:A0A8F9ARU2', 'TrEMBL:A0A8F9ARU2_ECOLX'])\n"
     ]
    }
   ],
   "source": [
    "for record in records:\n",
    "    if 'Proteomes' not in get_all_dbx(record):\n",
    "        if len(record.annotations['proteinExistence']) > 1:\n",
    "            assert False\n",
    "        if 'inferred from homology' in record.annotations['proteinExistence']:\n",
    "            continue\n",
    "        else:\n",
    "            pprint.pprint(record)\n",
    "            break\n"
   ]
  },
  {
   "cell_type": "code",
   "execution_count": 83,
   "metadata": {},
   "outputs": [
    {
     "data": {
      "text/plain": [
       "{'dataset': 'TrEMBL',\n",
       " 'created': '2022-01-19',\n",
       " 'modified': '2023-02-22',\n",
       " 'version': 5,\n",
       " 'accessions': ['A0A8F9ARU2'],\n",
       " 'recommendedName_fullName': ['Protein/nucleic acid deglycase HchA'],\n",
       " 'recommendedName_ecNumber': ['3.1.2.-', '3.5.1.124'],\n",
       " 'alternativeName_fullName': ['Maillard deglycase'],\n",
       " 'gene_name_primary': 'hchA',\n",
       " 'gene_name_ORF': ['KZX76_21815'],\n",
       " 'taxonomy': ['Bacteria',\n",
       "  'Proteobacteria',\n",
       "  'Gammaproteobacteria',\n",
       "  'Enterobacterales',\n",
       "  'Enterobacteriaceae',\n",
       "  'Escherichia'],\n",
       " 'organism': 'Escherichia coli',\n",
       " 'references': [Reference(title='Fitness effect of CTX-M-15-encoding IncF plasmids on their native Escherichia coli ST131 H30Rx hosts.', ...)],\n",
       " 'comment_function': ['Protein and nucleotide deglycase that catalyzes the deglycation of the Maillard adducts formed between amino groups of proteins or nucleotides and reactive carbonyl groups of glyoxals. Thus, functions as a protein deglycase that repairs methylglyoxal- and glyoxal-glycated proteins, and releases repaired proteins and lactate or glycolate, respectively. Deglycates cysteine, arginine and lysine residues in proteins, and thus reactivates these proteins by reversing glycation by glyoxals. Acts on early glycation intermediates (hemithioacetals and aminocarbinols), preventing the formation of Schiff bases and advanced glycation endproducts (AGE). Also functions as a nucleotide deglycase able to repair glycated guanine in the free nucleotide pool (GTP, GDP, GMP, dGTP) and in DNA and RNA. Is thus involved in a major nucleotide repair system named guanine glycation repair (GG repair), dedicated to reversing methylglyoxal and glyoxal damage via nucleotide sanitization and direct nucleic acid repair. Plays an important role in protecting cells from carbonyl stress.'],\n",
       " 'comment_catalyticactivity': ['H2O + N(2)-(1-hydroxy-2-oxoethyl)-GDP = GDP + glycolate + H(+)',\n",
       "  'H2O + N(2)-(1-hydroxy-2-oxoethyl)-GMP = glycolate + GMP + H(+)',\n",
       "  'H2O + N(2)-(1-hydroxy-2-oxoethyl)-GTP = glycolate + GTP + H(+)',\n",
       "  'H2O + N(2)-(1-hydroxy-2-oxoethyl)-dGTP = dGTP + glycolate + H(+)',\n",
       "  'H2O + N(2)-(1-hydroxy-2-oxopropyl)-GDP = GDP + H(+) + lactate',\n",
       "  'H2O + N(2)-(1-hydroxy-2-oxopropyl)-GMP = GMP + H(+) + lactate',\n",
       "  'H2O + N(2)-(1-hydroxy-2-oxopropyl)-GTP = GTP + H(+) + lactate',\n",
       "  'H2O + N(2)-(1-hydroxy-2-oxopropyl)-dGTP = dGTP + H(+) + lactate',\n",
       "  'H2O + N(6)-(1-hydroxy-2-oxoethyl)-L-lysyl-[protein] = glycolate + H(+) + L-lysyl-[protein]',\n",
       "  'H2O + N(6)-(1-hydroxy-2-oxopropyl)-L-lysyl-[protein] = H(+) + L-lysyl-[protein] + lactate',\n",
       "  'H2O + N(omega)-(1-hydroxy-2-oxoethyl)-L-arginyl-[protein] = glycolate + H(+) + L-arginyl-[protein]',\n",
       "  'H2O + N(omega)-(1-hydroxy-2-oxopropyl)-L-arginyl-[protein] = H(+) + L-arginyl-[protein] + lactate',\n",
       "  'H2O + S-(1-hydroxy-2-oxoethyl)-L-cysteinyl-[protein] = glycolate + H(+) + L-cysteinyl-[protein]',\n",
       "  'H2O + S-(1-hydroxy-2-oxopropyl)-L-cysteinyl-[protein] = H(+) + L-cysteinyl-[protein] + lactate',\n",
       "  \"an N(2)-(1-hydroxy-2-oxoethyl)-2'-deoxyguanosine in DNA + H2O = a 2'-deoxyguanosine in DNA + glycolate + H(+)\",\n",
       "  'an N(2)-(1-hydroxy-2-oxoethyl)-guanosine in RNA + H2O = a guanosine in RNA + glycolate + H(+)',\n",
       "  \"an N(2)-(1-hydroxy-2-oxopropyl)-2'-deoxyguanosine in DNA + H2O = a 2'-deoxyguanosine in DNA + H(+) + lactate\",\n",
       "  'an N(2)-(1-hydroxy-2-oxopropyl)-guanosine in RNA + H2O = a guanosine in RNA + H(+) + lactate'],\n",
       " 'comment_subunit': ['Homodimer.'],\n",
       " 'comment_subcellularlocation_location': ['Cytoplasm'],\n",
       " 'comment_induction': ['By heat shock.'],\n",
       " 'comment_similarity': ['Belongs to the peptidase C56 family. HchA subfamily.'],\n",
       " 'proteinExistence': ['evidence at transcript level'],\n",
       " 'keywords': ['Cytoplasm',\n",
       "  'DNA damage',\n",
       "  'DNA repair',\n",
       "  'Hydrolase',\n",
       "  'Metal-binding',\n",
       "  'Stress response',\n",
       "  'Zinc'],\n",
       " 'type': ['ECO:0000256', 'ECO:0000313'],\n",
       " 'key': ['1', '2', '3'],\n",
       " 'sequence_length': 283,\n",
       " 'sequence_mass': 31265,\n",
       " 'sequence_checksum': '5FA403A7A6183339',\n",
       " 'sequence_modified': '2022-01-19',\n",
       " 'sequence_version': 1,\n",
       " 'molecule_type': 'protein'}"
      ]
     },
     "execution_count": 83,
     "metadata": {},
     "output_type": "execute_result"
    }
   ],
   "source": [
    "record.annotations"
   ]
  },
  {
   "cell_type": "code",
   "execution_count": 84,
   "metadata": {},
   "outputs": [
    {
     "data": {
      "text/plain": [
       "['EC:3.1.2.-',\n",
       " 'EC:3.5.1.124',\n",
       " 'EMBL:CP080119',\n",
       " 'GO:GO:0005737',\n",
       " 'GO:GO:0006281',\n",
       " 'GO:GO:0008270',\n",
       " 'GO:GO:0016790',\n",
       " 'GO:GO:0016811',\n",
       " 'GO:GO:0030091',\n",
       " 'GO:GO:0036524',\n",
       " 'Gene3D:3.40.50.880',\n",
       " 'HAMAP:MF_01046',\n",
       " 'InterPro:IPR017283',\n",
       " 'InterPro:IPR029062',\n",
       " 'NCBI Taxonomy:562',\n",
       " 'PANTHER:PTHR48094',\n",
       " 'PANTHER:PTHR48094:SF20',\n",
       " 'PIRSF:PIRSF037798',\n",
       " 'SUPFAM:SSF52317',\n",
       " 'TrEMBL:A0A8F9ARU2',\n",
       " 'TrEMBL:A0A8F9ARU2_ECOLX']"
      ]
     },
     "execution_count": 84,
     "metadata": {},
     "output_type": "execute_result"
    }
   ],
   "source": [
    "record.dbxrefs"
   ]
  },
  {
   "attachments": {},
   "cell_type": "markdown",
   "metadata": {},
   "source": [
    "Some proteins simply do not have proteomes but were still observed\n",
    "\n",
    "Likely, these should be kept and tracked."
   ]
  },
  {
   "attachments": {},
   "cell_type": "markdown",
   "metadata": {},
   "source": [
    "## Read parquet files from proteins"
   ]
  },
  {
   "cell_type": "code",
   "execution_count": null,
   "metadata": {},
   "outputs": [],
   "source": [
    "import pandas as pd"
   ]
  },
  {
   "cell_type": "code",
   "execution_count": null,
   "metadata": {},
   "outputs": [],
   "source": [
    "pd.read_parquet('../data/proteins/uniprot_chunk_0.parquet')"
   ]
  },
  {
   "cell_type": "code",
   "execution_count": null,
   "metadata": {},
   "outputs": [],
   "source": []
  }
 ],
 "metadata": {
  "kernelspec": {
   "display_name": "learn2thermDB",
   "language": "python",
   "name": "python3"
  },
  "language_info": {
   "codemirror_mode": {
    "name": "ipython",
    "version": 3
   },
   "file_extension": ".py",
   "mimetype": "text/x-python",
   "name": "python",
   "nbconvert_exporter": "python",
   "pygments_lexer": "ipython3",
   "version": "3.10.6"
  },
  "orig_nbformat": 4
 },
 "nbformat": 4,
 "nbformat_minor": 2
}
