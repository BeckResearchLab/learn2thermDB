{
 "cells": [
  {
   "cell_type": "code",
   "execution_count": 3,
   "id": "9b25e65b-2a03-4cf5-a245-cd29d8ec09ec",
   "metadata": {},
   "outputs": [],
   "source": [
    "import matplotlib.pyplot as plt\n",
    "import seaborn as sns\n",
    "\n",
    "import pandas as pd"
   ]
  },
  {
   "cell_type": "code",
   "execution_count": 38,
   "id": "73a973aa-88d4-432a-ae15-aa40980b243a",
   "metadata": {},
   "outputs": [],
   "source": [
    "sns.set_context('talk')\n",
    "sns.set_style('whitegrid')"
   ]
  },
  {
   "cell_type": "code",
   "execution_count": 20,
   "id": "63a28dc2-b04e-467c-82c8-b7eec9574c1d",
   "metadata": {},
   "outputs": [],
   "source": [
    "df = pd.read_csv('../data/taxa_pairs/pairwise_16s_blast.csv', index_col=0).sample(1500)"
   ]
  },
  {
   "cell_type": "code",
   "execution_count": 21,
   "id": "8798b17b-b09b-4b32-8b0c-1952a18b08e8",
   "metadata": {},
   "outputs": [
    {
     "data": {
      "text/html": [
       "<div>\n",
       "<style scoped>\n",
       "    .dataframe tbody tr th:only-of-type {\n",
       "        vertical-align: middle;\n",
       "    }\n",
       "\n",
       "    .dataframe tbody tr th {\n",
       "        vertical-align: top;\n",
       "    }\n",
       "\n",
       "    .dataframe thead th {\n",
       "        text-align: right;\n",
       "    }\n",
       "</style>\n",
       "<table border=\"1\" class=\"dataframe\">\n",
       "  <thead>\n",
       "    <tr style=\"text-align: right;\">\n",
       "      <th></th>\n",
       "      <th>meso_index</th>\n",
       "      <th>local_E_value</th>\n",
       "      <th>scaled_local_query_percent_id</th>\n",
       "      <th>scaled_local_symmetric_percent_id</th>\n",
       "      <th>local_gap_compressed_percent_id</th>\n",
       "      <th>local_average_coverage</th>\n",
       "    </tr>\n",
       "  </thead>\n",
       "  <tbody>\n",
       "    <tr>\n",
       "      <th>count</th>\n",
       "      <td>1500.000000</td>\n",
       "      <td>1.500000e+03</td>\n",
       "      <td>1500.000000</td>\n",
       "      <td>1500.000000</td>\n",
       "      <td>1500.000000</td>\n",
       "      <td>1500.000000</td>\n",
       "    </tr>\n",
       "    <tr>\n",
       "      <th>mean</th>\n",
       "      <td>8170.974000</td>\n",
       "      <td>7.182111e-14</td>\n",
       "      <td>0.664517</td>\n",
       "      <td>0.605178</td>\n",
       "      <td>0.823312</td>\n",
       "      <td>0.798985</td>\n",
       "    </tr>\n",
       "    <tr>\n",
       "      <th>std</th>\n",
       "      <td>4758.183364</td>\n",
       "      <td>2.780362e-12</td>\n",
       "      <td>0.217738</td>\n",
       "      <td>0.248452</td>\n",
       "      <td>0.054858</td>\n",
       "      <td>0.231676</td>\n",
       "    </tr>\n",
       "    <tr>\n",
       "      <th>min</th>\n",
       "      <td>17.000000</td>\n",
       "      <td>0.000000e+00</td>\n",
       "      <td>0.024069</td>\n",
       "      <td>0.032465</td>\n",
       "      <td>0.707071</td>\n",
       "      <td>0.032466</td>\n",
       "    </tr>\n",
       "    <tr>\n",
       "      <th>25%</th>\n",
       "      <td>3999.750000</td>\n",
       "      <td>0.000000e+00</td>\n",
       "      <td>0.643503</td>\n",
       "      <td>0.432939</td>\n",
       "      <td>0.790835</td>\n",
       "      <td>0.645069</td>\n",
       "    </tr>\n",
       "    <tr>\n",
       "      <th>50%</th>\n",
       "      <td>8274.000000</td>\n",
       "      <td>0.000000e+00</td>\n",
       "      <td>0.763229</td>\n",
       "      <td>0.683915</td>\n",
       "      <td>0.812257</td>\n",
       "      <td>0.850147</td>\n",
       "    </tr>\n",
       "    <tr>\n",
       "      <th>75%</th>\n",
       "      <td>12447.250000</td>\n",
       "      <td>6.566615e-107</td>\n",
       "      <td>0.801344</td>\n",
       "      <td>0.796339</td>\n",
       "      <td>0.833996</td>\n",
       "      <td>0.995331</td>\n",
       "    </tr>\n",
       "    <tr>\n",
       "      <th>max</th>\n",
       "      <td>16637.000000</td>\n",
       "      <td>1.076830e-10</td>\n",
       "      <td>0.983871</td>\n",
       "      <td>0.939255</td>\n",
       "      <td>1.000000</td>\n",
       "      <td>0.999359</td>\n",
       "    </tr>\n",
       "  </tbody>\n",
       "</table>\n",
       "</div>"
      ],
      "text/plain": [
       "         meso_index  local_E_value  scaled_local_query_percent_id  \\\n",
       "count   1500.000000   1.500000e+03                    1500.000000   \n",
       "mean    8170.974000   7.182111e-14                       0.664517   \n",
       "std     4758.183364   2.780362e-12                       0.217738   \n",
       "min       17.000000   0.000000e+00                       0.024069   \n",
       "25%     3999.750000   0.000000e+00                       0.643503   \n",
       "50%     8274.000000   0.000000e+00                       0.763229   \n",
       "75%    12447.250000  6.566615e-107                       0.801344   \n",
       "max    16637.000000   1.076830e-10                       0.983871   \n",
       "\n",
       "       scaled_local_symmetric_percent_id  local_gap_compressed_percent_id  \\\n",
       "count                        1500.000000                      1500.000000   \n",
       "mean                            0.605178                         0.823312   \n",
       "std                             0.248452                         0.054858   \n",
       "min                             0.032465                         0.707071   \n",
       "25%                             0.432939                         0.790835   \n",
       "50%                             0.683915                         0.812257   \n",
       "75%                             0.796339                         0.833996   \n",
       "max                             0.939255                         1.000000   \n",
       "\n",
       "       local_average_coverage  \n",
       "count             1500.000000  \n",
       "mean                 0.798985  \n",
       "std                  0.231676  \n",
       "min                  0.032466  \n",
       "25%                  0.645069  \n",
       "50%                  0.850147  \n",
       "75%                  0.995331  \n",
       "max                  0.999359  "
      ]
     },
     "execution_count": 21,
     "metadata": {},
     "output_type": "execute_result"
    }
   ],
   "source": [
    "df.describe()"
   ]
  },
  {
   "cell_type": "code",
   "execution_count": 26,
   "id": "efc0f464-7185-4127-bc7a-0f3076cea1df",
   "metadata": {},
   "outputs": [],
   "source": [
    "df['index_side'] = df['meso_index'] > 500"
   ]
  },
  {
   "cell_type": "code",
   "execution_count": 39,
   "id": "95be725f-2662-4a1d-acbd-64fd81800eba",
   "metadata": {},
   "outputs": [
    {
     "data": {
      "text/plain": [
       "Text(0.5, 0, 'poopie')"
      ]
     },
     "execution_count": 39,
     "metadata": {},
     "output_type": "execute_result"
    },
    {
     "data": {
      "image/png": "[encoded data removed]",
      "text/plain": [
       "<Figure size 1200x400 with 1 Axes>"
      ]
     },
     "metadata": {},
     "output_type": "display_data"
    }
   ],
   "source": [
    "fig, ax = plt.subplots(figsize=(12,4))\n",
    "sns.histplot(data=df, x='scaled_local_symmetric_percent_id', ax=ax)\n",
    "ax.set_xlabel('poopie')"
   ]
  },
  {
   "cell_type": "code",
   "execution_count": null,
   "id": "831e440c-ac45-45c2-bc6d-27e41132433e",
   "metadata": {},
   "outputs": [],
   "source": []
  }
 ],
 "metadata": {
  "kernelspec": {
   "display_name": "Python 3 (ipykernel)",
   "language": "python",
   "name": "python3"
  },
  "language_info": {
   "codemirror_mode": {
    "name": "ipython",
    "version": 3
   },
   "file_extension": ".py",
   "mimetype": "text/x-python",
   "name": "python",
   "nbconvert_exporter": "python",
   "pygments_lexer": "ipython3",
   "version": "3.10.6"
  }
 },
 "nbformat": 4,
 "nbformat_minor": 5
}
