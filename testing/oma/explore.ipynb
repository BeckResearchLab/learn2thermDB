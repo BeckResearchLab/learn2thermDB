{
 "cells": [
  {
   "attachments": {},
   "cell_type": "markdown",
   "metadata": {},
   "source": [
    "# Explore OMA database\n",
    "\n",
    "They have pairwise orthologs identified for 20 mil proteins, 2.2k genomes.\n",
    "They track taxon IDs. Many proteins link back to uniprot.\n",
    "\n",
    "4 billion ortholog pairs identified, how many of them correspond to meso-thermo pairs?\n",
    "\n",
    "join their data with OGT data and find out..."
   ]
  },
  {
   "cell_type": "code",
   "execution_count": 25,
   "metadata": {},
   "outputs": [],
   "source": [
    "import duckdb as ddb\n",
    "conn = ddb.connect('./oma.db', read_only=False)"
   ]
  },
  {
   "attachments": {},
   "cell_type": "markdown",
   "metadata": {},
   "source": [
    "## Ortho pairs"
   ]
  },
  {
   "cell_type": "code",
   "execution_count": 28,
   "metadata": {},
   "outputs": [
    {
     "data": {
      "text/plain": [
       "<duckdb.DuckDBPyConnection at 0x1a94be3b0>"
      ]
     },
     "execution_count": 28,
     "metadata": {},
     "output_type": "execute_result"
    }
   ],
   "source": [
    "conn.execute(\"\"\"\n",
    "    CREATE OR REPLACE TABLE pairs AS SELECT * FROM\n",
    "        read_csv_auto(\n",
    "            './data/pairs/x00000000',\n",
    "            header=False,\n",
    "            sep='\\t',\n",
    "            nullstr='n/a',\n",
    "            columns={'id1':STRING, 'id2':STRING, 'type':STRING, 'group':INTEGER},\n",
    "            parallel=True)\n",
    "    \"\"\")\n",
    "conn.commit()"
   ]
  },
  {
   "cell_type": "code",
   "execution_count": 29,
   "metadata": {},
   "outputs": [
    {
     "data": {
      "text/html": [
       "<div>\n",
       "<style scoped>\n",
       "    .dataframe tbody tr th:only-of-type {\n",
       "        vertical-align: middle;\n",
       "    }\n",
       "\n",
       "    .dataframe tbody tr th {\n",
       "        vertical-align: top;\n",
       "    }\n",
       "\n",
       "    .dataframe thead th {\n",
       "        text-align: right;\n",
       "    }\n",
       "</style>\n",
       "<table border=\"1\" class=\"dataframe\">\n",
       "  <thead>\n",
       "    <tr style=\"text-align: right;\">\n",
       "      <th></th>\n",
       "      <th>id1</th>\n",
       "      <th>id2</th>\n",
       "      <th>type</th>\n",
       "      <th>group</th>\n",
       "    </tr>\n",
       "  </thead>\n",
       "  <tbody>\n",
       "    <tr>\n",
       "      <th>0</th>\n",
       "      <td>HEIAB00001</td>\n",
       "      <td>LOKAC00321</td>\n",
       "      <td>1:1</td>\n",
       "      <td>1159110.0</td>\n",
       "    </tr>\n",
       "    <tr>\n",
       "      <th>1</th>\n",
       "      <td>HEIAB00001</td>\n",
       "      <td>ACIB401296</td>\n",
       "      <td>1:1</td>\n",
       "      <td>1159110.0</td>\n",
       "    </tr>\n",
       "    <tr>\n",
       "      <th>2</th>\n",
       "      <td>HEIAB00001</td>\n",
       "      <td>ACIS001187</td>\n",
       "      <td>1:1</td>\n",
       "      <td>1159110.0</td>\n",
       "    </tr>\n",
       "    <tr>\n",
       "      <th>3</th>\n",
       "      <td>HEIAB00001</td>\n",
       "      <td>METII01272</td>\n",
       "      <td>1:1</td>\n",
       "      <td>1159110.0</td>\n",
       "    </tr>\n",
       "    <tr>\n",
       "      <th>4</th>\n",
       "      <td>HEIAB00001</td>\n",
       "      <td>THOAR00839</td>\n",
       "      <td>1:1</td>\n",
       "      <td>1159110.0</td>\n",
       "    </tr>\n",
       "    <tr>\n",
       "      <th>...</th>\n",
       "      <td>...</td>\n",
       "      <td>...</td>\n",
       "      <td>...</td>\n",
       "      <td>...</td>\n",
       "    </tr>\n",
       "    <tr>\n",
       "      <th>99995</th>\n",
       "      <td>HEIAB00174</td>\n",
       "      <td>KLEAK00333</td>\n",
       "      <td>1:1</td>\n",
       "      <td>1050333.0</td>\n",
       "    </tr>\n",
       "    <tr>\n",
       "      <th>99996</th>\n",
       "      <td>HEIAB00174</td>\n",
       "      <td>KLEOK00140</td>\n",
       "      <td>1:1</td>\n",
       "      <td>1050333.0</td>\n",
       "    </tr>\n",
       "    <tr>\n",
       "      <th>99997</th>\n",
       "      <td>HEIAB00174</td>\n",
       "      <td>KLEP301040</td>\n",
       "      <td>1:1</td>\n",
       "      <td>1050333.0</td>\n",
       "    </tr>\n",
       "    <tr>\n",
       "      <th>99998</th>\n",
       "      <td>HEIAB00174</td>\n",
       "      <td>KLEP702989</td>\n",
       "      <td>1:1</td>\n",
       "      <td>1050333.0</td>\n",
       "    </tr>\n",
       "    <tr>\n",
       "      <th>99999</th>\n",
       "      <td>HEIAB00174</td>\n",
       "      <td>KLEPH04108</td>\n",
       "      <td>1:1</td>\n",
       "      <td>1050333.0</td>\n",
       "    </tr>\n",
       "  </tbody>\n",
       "</table>\n",
       "<p>100000 rows × 4 columns</p>\n",
       "</div>"
      ],
      "text/plain": [
       "              id1         id2 type      group\n",
       "0      HEIAB00001  LOKAC00321  1:1  1159110.0\n",
       "1      HEIAB00001  ACIB401296  1:1  1159110.0\n",
       "2      HEIAB00001  ACIS001187  1:1  1159110.0\n",
       "3      HEIAB00001  METII01272  1:1  1159110.0\n",
       "4      HEIAB00001  THOAR00839  1:1  1159110.0\n",
       "...           ...         ...  ...        ...\n",
       "99995  HEIAB00174  KLEAK00333  1:1  1050333.0\n",
       "99996  HEIAB00174  KLEOK00140  1:1  1050333.0\n",
       "99997  HEIAB00174  KLEP301040  1:1  1050333.0\n",
       "99998  HEIAB00174  KLEP702989  1:1  1050333.0\n",
       "99999  HEIAB00174  KLEPH04108  1:1  1050333.0\n",
       "\n",
       "[100000 rows x 4 columns]"
      ]
     },
     "execution_count": 29,
     "metadata": {},
     "output_type": "execute_result"
    }
   ],
   "source": [
    "conn.execute(\"SELECT * FROM pairs\").df()"
   ]
  },
  {
   "cell_type": "markdown",
   "metadata": {},
   "source": [
    "### Send it on 4 billion pairs"
   ]
  },
  {
   "cell_type": "code",
   "execution_count": 39,
   "metadata": {},
   "outputs": [
    {
     "data": {
      "application/vnd.jupyter.widget-view+json": {
       "model_id": "a8ed9bab76a84b218d90962d64a46a8d",
       "version_major": 2,
       "version_minor": 0
      },
      "text/plain": [
       "FloatProgress(value=0.0, layout=Layout(width='100%'), style=ProgressStyle(bar_color='black'))"
      ]
     },
     "metadata": {},
     "output_type": "display_data"
    },
    {
     "ename": "IOException",
     "evalue": "IO Error: Could not write file \"/Users/ek/Documents/Research/Projects/thermoshift/learn2thermDB/testing/oma/./oma.db.tmp/duckdb_temp_storage-123.tmp\": No space left on device",
     "output_type": "error",
     "traceback": [
      "\u001b[0;31m---------------------------------------------------------------------------\u001b[0m",
      "\u001b[0;31mIOException\u001b[0m                               Traceback (most recent call last)",
      "Cell \u001b[0;32mIn[39], line 1\u001b[0m\n\u001b[0;32m----> 1\u001b[0m conn\u001b[39m.\u001b[39;49mexecute(\u001b[39m\"\"\"\u001b[39;49m\n\u001b[1;32m      2\u001b[0m \u001b[39m    CREATE OR REPLACE TABLE pairs AS SELECT * FROM\u001b[39;49m\n\u001b[1;32m      3\u001b[0m \u001b[39m        read_csv_auto(\u001b[39;49m\n\u001b[1;32m      4\u001b[0m \u001b[39m            \u001b[39;49m\u001b[39m'\u001b[39;49m\u001b[39m./data/pairs/x*\u001b[39;49m\u001b[39m'\u001b[39;49m\u001b[39m,\u001b[39;49m\n\u001b[1;32m      5\u001b[0m \u001b[39m            header=False,\u001b[39;49m\n\u001b[1;32m      6\u001b[0m \u001b[39m            sep=\u001b[39;49m\u001b[39m'\u001b[39;49m\u001b[39m\\t\u001b[39;49;00m\u001b[39m'\u001b[39;49m\u001b[39m,\u001b[39;49m\n\u001b[1;32m      7\u001b[0m \u001b[39m            nullstr=\u001b[39;49m\u001b[39m'\u001b[39;49m\u001b[39mn/a\u001b[39;49m\u001b[39m'\u001b[39;49m\u001b[39m,\u001b[39;49m\n\u001b[1;32m      8\u001b[0m \u001b[39m            columns=\u001b[39;49m\u001b[39m{\u001b[39;49m\u001b[39m'\u001b[39;49m\u001b[39mid1\u001b[39;49m\u001b[39m'\u001b[39;49m\u001b[39m:STRING, \u001b[39;49m\u001b[39m'\u001b[39;49m\u001b[39mid2\u001b[39;49m\u001b[39m'\u001b[39;49m\u001b[39m:STRING, \u001b[39;49m\u001b[39m'\u001b[39;49m\u001b[39mtype\u001b[39;49m\u001b[39m'\u001b[39;49m\u001b[39m:STRING, \u001b[39;49m\u001b[39m'\u001b[39;49m\u001b[39mgroup\u001b[39;49m\u001b[39m'\u001b[39;49m\u001b[39m:INTEGER},\u001b[39;49m\n\u001b[1;32m      9\u001b[0m \u001b[39m            parallel=True)\u001b[39;49m\n\u001b[1;32m     10\u001b[0m \u001b[39m    \u001b[39;49m\u001b[39m\"\"\"\u001b[39;49m)\n\u001b[1;32m     11\u001b[0m conn\u001b[39m.\u001b[39mcommit()\n",
      "\u001b[0;31mIOException\u001b[0m: IO Error: Could not write file \"/Users/ek/Documents/Research/Projects/thermoshift/learn2thermDB/testing/oma/./oma.db.tmp/duckdb_temp_storage-123.tmp\": No space left on device"
     ]
    }
   ],
   "source": [
    "conn.execute(\"\"\"\n",
    "    CREATE OR REPLACE TABLE pairs AS SELECT * FROM\n",
    "        read_csv_auto(\n",
    "            './data/pairs/x*',\n",
    "            header=False,\n",
    "            sep='\\t',\n",
    "            nullstr='n/a',\n",
    "            columns={'id1':STRING, 'id2':STRING, 'type':STRING, 'group':INTEGER},\n",
    "            parallel=True)\n",
    "    \"\"\")\n",
    "conn.commit()"
   ]
  },
  {
   "attachments": {},
   "cell_type": "markdown",
   "metadata": {},
   "source": [
    "## Proteins"
   ]
  },
  {
   "cell_type": "code",
   "execution_count": 34,
   "metadata": {},
   "outputs": [
    {
     "data": {
      "application/vnd.jupyter.widget-view+json": {
       "model_id": "ef80155d67054b3b932158067d13e93b",
       "version_major": 2,
       "version_minor": 0
      },
      "text/plain": [
       "FloatProgress(value=0.0, layout=Layout(width='100%'), style=ProgressStyle(bar_color='black'))"
      ]
     },
     "metadata": {},
     "output_type": "display_data"
    },
    {
     "data": {
      "text/plain": [
       "<duckdb.DuckDBPyConnection at 0x1a94be3b0>"
      ]
     },
     "execution_count": 34,
     "metadata": {},
     "output_type": "execute_result"
    }
   ],
   "source": [
    "conn.execute(\"\"\"CREATE OR REPLACE TABLE proteins AS SELECT * FROM\n",
    "    read_csv_auto('./data/uniprot_map/oma-uniprot.txt', sep='\\t', header=False, nullstr='n/a',\n",
    "        columns={'oma_id':STRING, 'uniprot_id':STRING}, skip=4)\"\"\")"
   ]
  },
  {
   "cell_type": "code",
   "execution_count": 35,
   "metadata": {},
   "outputs": [
    {
     "data": {
      "text/html": [
       "<div>\n",
       "<style scoped>\n",
       "    .dataframe tbody tr th:only-of-type {\n",
       "        vertical-align: middle;\n",
       "    }\n",
       "\n",
       "    .dataframe tbody tr th {\n",
       "        vertical-align: top;\n",
       "    }\n",
       "\n",
       "    .dataframe thead th {\n",
       "        text-align: right;\n",
       "    }\n",
       "</style>\n",
       "<table border=\"1\" class=\"dataframe\">\n",
       "  <thead>\n",
       "    <tr style=\"text-align: right;\">\n",
       "      <th></th>\n",
       "      <th>oma_id</th>\n",
       "      <th>uniprot_id</th>\n",
       "    </tr>\n",
       "  </thead>\n",
       "  <tbody>\n",
       "    <tr>\n",
       "      <th>0</th>\n",
       "      <td>HEIAB00001</td>\n",
       "      <td>A0A2U3CKJ0</td>\n",
       "    </tr>\n",
       "    <tr>\n",
       "      <th>1</th>\n",
       "      <td>HEIAB00002</td>\n",
       "      <td>A0A2U3CKK2</td>\n",
       "    </tr>\n",
       "    <tr>\n",
       "      <th>2</th>\n",
       "      <td>HEIAB00003</td>\n",
       "      <td>A0A2U3CKK9</td>\n",
       "    </tr>\n",
       "    <tr>\n",
       "      <th>3</th>\n",
       "      <td>HEIAB00004</td>\n",
       "      <td>A0A2U3CKI6</td>\n",
       "    </tr>\n",
       "    <tr>\n",
       "      <th>4</th>\n",
       "      <td>HEIAB00005</td>\n",
       "      <td>A0A2U3CKJ5</td>\n",
       "    </tr>\n",
       "    <tr>\n",
       "      <th>5</th>\n",
       "      <td>HEIAB00006</td>\n",
       "      <td>A0A2U3CKL8</td>\n",
       "    </tr>\n",
       "    <tr>\n",
       "      <th>6</th>\n",
       "      <td>HEIAB00007</td>\n",
       "      <td>A0A2U3CKJ8</td>\n",
       "    </tr>\n",
       "    <tr>\n",
       "      <th>7</th>\n",
       "      <td>HEIAB00008</td>\n",
       "      <td>A0A2U3CKJ1</td>\n",
       "    </tr>\n",
       "    <tr>\n",
       "      <th>8</th>\n",
       "      <td>HEIAB00009</td>\n",
       "      <td>A0A2U3CKL6</td>\n",
       "    </tr>\n",
       "    <tr>\n",
       "      <th>9</th>\n",
       "      <td>HEIAB00010</td>\n",
       "      <td>A0A2U3CKI3</td>\n",
       "    </tr>\n",
       "  </tbody>\n",
       "</table>\n",
       "</div>"
      ],
      "text/plain": [
       "       oma_id  uniprot_id\n",
       "0  HEIAB00001  A0A2U3CKJ0\n",
       "1  HEIAB00002  A0A2U3CKK2\n",
       "2  HEIAB00003  A0A2U3CKK9\n",
       "3  HEIAB00004  A0A2U3CKI6\n",
       "4  HEIAB00005  A0A2U3CKJ5\n",
       "5  HEIAB00006  A0A2U3CKL8\n",
       "6  HEIAB00007  A0A2U3CKJ8\n",
       "7  HEIAB00008  A0A2U3CKJ1\n",
       "8  HEIAB00009  A0A2U3CKL6\n",
       "9  HEIAB00010  A0A2U3CKI3"
      ]
     },
     "execution_count": 35,
     "metadata": {},
     "output_type": "execute_result"
    }
   ],
   "source": [
    "conn.execute(\"SELECT * FROM proteins LIMIT 10\").df()"
   ]
  },
  {
   "cell_type": "code",
   "execution_count": 36,
   "metadata": {},
   "outputs": [
    {
     "data": {
      "text/html": [
       "<div>\n",
       "<style scoped>\n",
       "    .dataframe tbody tr th:only-of-type {\n",
       "        vertical-align: middle;\n",
       "    }\n",
       "\n",
       "    .dataframe tbody tr th {\n",
       "        vertical-align: top;\n",
       "    }\n",
       "\n",
       "    .dataframe thead th {\n",
       "        text-align: right;\n",
       "    }\n",
       "</style>\n",
       "<table border=\"1\" class=\"dataframe\">\n",
       "  <thead>\n",
       "    <tr style=\"text-align: right;\">\n",
       "      <th></th>\n",
       "      <th>count(DISTINCT uniprot_id)</th>\n",
       "    </tr>\n",
       "  </thead>\n",
       "  <tbody>\n",
       "    <tr>\n",
       "      <th>0</th>\n",
       "      <td>17474460</td>\n",
       "    </tr>\n",
       "  </tbody>\n",
       "</table>\n",
       "</div>"
      ],
      "text/plain": [
       "   count(DISTINCT uniprot_id)\n",
       "0                    17474460"
      ]
     },
     "execution_count": 36,
     "metadata": {},
     "output_type": "execute_result"
    }
   ],
   "source": [
    "conn.execute(\"SELECT COUNT(DISTINCT(uniprot_id)) FROM proteins\").df()"
   ]
  },
  {
   "cell_type": "code",
   "execution_count": 37,
   "metadata": {},
   "outputs": [
    {
     "data": {
      "text/html": [
       "<div>\n",
       "<style scoped>\n",
       "    .dataframe tbody tr th:only-of-type {\n",
       "        vertical-align: middle;\n",
       "    }\n",
       "\n",
       "    .dataframe tbody tr th {\n",
       "        vertical-align: top;\n",
       "    }\n",
       "\n",
       "    .dataframe thead th {\n",
       "        text-align: right;\n",
       "    }\n",
       "</style>\n",
       "<table border=\"1\" class=\"dataframe\">\n",
       "  <thead>\n",
       "    <tr style=\"text-align: right;\">\n",
       "      <th></th>\n",
       "      <th>count_star()</th>\n",
       "    </tr>\n",
       "  </thead>\n",
       "  <tbody>\n",
       "    <tr>\n",
       "      <th>0</th>\n",
       "      <td>18807037</td>\n",
       "    </tr>\n",
       "  </tbody>\n",
       "</table>\n",
       "</div>"
      ],
      "text/plain": [
       "   count_star()\n",
       "0      18807037"
      ]
     },
     "execution_count": 37,
     "metadata": {},
     "output_type": "execute_result"
    }
   ],
   "source": [
    "conn.execute(\"SELECT COUNT(*) FROM proteins\").df()"
   ]
  },
  {
   "cell_type": "code",
   "execution_count": 38,
   "metadata": {},
   "outputs": [
    {
     "data": {
      "text/html": [
       "<div>\n",
       "<style scoped>\n",
       "    .dataframe tbody tr th:only-of-type {\n",
       "        vertical-align: middle;\n",
       "    }\n",
       "\n",
       "    .dataframe tbody tr th {\n",
       "        vertical-align: top;\n",
       "    }\n",
       "\n",
       "    .dataframe thead th {\n",
       "        text-align: right;\n",
       "    }\n",
       "</style>\n",
       "<table border=\"1\" class=\"dataframe\">\n",
       "  <thead>\n",
       "    <tr style=\"text-align: right;\">\n",
       "      <th></th>\n",
       "      <th>count_star()</th>\n",
       "    </tr>\n",
       "  </thead>\n",
       "  <tbody>\n",
       "    <tr>\n",
       "      <th>0</th>\n",
       "      <td>0</td>\n",
       "    </tr>\n",
       "  </tbody>\n",
       "</table>\n",
       "</div>"
      ],
      "text/plain": [
       "   count_star()\n",
       "0             0"
      ]
     },
     "execution_count": 38,
     "metadata": {},
     "output_type": "execute_result"
    }
   ],
   "source": [
    "conn.execute(\"SELECT COUNT(*) FROM proteins WHERE uniprot_id IS NULL\").df()"
   ]
  },
  {
   "attachments": {},
   "cell_type": "markdown",
   "metadata": {},
   "source": [
    "Seems like there is a duplicate mapping some places"
   ]
  },
  {
   "cell_type": "markdown",
   "metadata": {},
   "source": []
  }
 ],
 "metadata": {
  "kernelspec": {
   "display_name": "learn2thermDB",
   "language": "python",
   "name": "python3"
  },
  "language_info": {
   "codemirror_mode": {
    "name": "ipython",
    "version": 3
   },
   "file_extension": ".py",
   "mimetype": "text/x-python",
   "name": "python",
   "nbconvert_exporter": "python",
   "pygments_lexer": "ipython3",
   "version": "3.9.16"
  },
  "orig_nbformat": 4
 },
 "nbformat": 4,
 "nbformat_minor": 2
}
