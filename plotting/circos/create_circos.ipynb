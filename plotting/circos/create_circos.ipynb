{
 "cells": [
  {
   "cell_type": "markdown",
   "metadata": {},
   "source": [
    "## Load the taxa data, counts"
   ]
  },
  {
   "cell_type": "code",
   "execution_count": 1,
   "metadata": {
    "tags": []
   },
   "outputs": [],
   "source": [
    "# get rid of the magic if you are having trouble\n",
    "%matplotlib ipympl\n",
    "import pandas as pd\n",
    "import pycircos\n",
    "import matplotlib.pyplot as plt\n",
    "import matplotlib\n",
    "import duckdb as ddb\n",
    "import matplotlib\n",
    "import matplotlib.pyplot as plt\n",
    "import matplotlib.path    as mpath\n",
    "import matplotlib.patches as mpatches\n",
    "import math\n",
    "# plt.style.use(['dark_background'])"
   ]
  },
  {
   "cell_type": "code",
   "execution_count": 2,
   "metadata": {
    "tags": []
   },
   "outputs": [],
   "source": [
    "tax_ranks = ['superkingdom', 'phylum', 'class', 'order', 'family', 'genus', 'species']"
   ]
  },
  {
   "cell_type": "code",
   "execution_count": 3,
   "metadata": {
    "tags": []
   },
   "outputs": [],
   "source": [
    "con = ddb.connect(\"../../data/database.ddb\", read_only=True)"
   ]
  },
  {
   "cell_type": "code",
   "execution_count": 4,
   "metadata": {
    "tags": []
   },
   "outputs": [],
   "source": [
    "# get taxa data\n",
    "taxa = con.execute(\"SELECT * FROM taxa\").df()"
   ]
  },
  {
   "cell_type": "code",
   "execution_count": 5,
   "metadata": {
    "tags": []
   },
   "outputs": [
    {
     "data": {
      "text/plain": [
       "9536"
      ]
     },
     "execution_count": 5,
     "metadata": {},
     "output_type": "execute_result"
    }
   ],
   "source": [
    "len(taxa)"
   ]
  },
  {
   "cell_type": "code",
   "execution_count": 6,
   "metadata": {
    "tags": []
   },
   "outputs": [
    {
     "data": {
      "application/vnd.jupyter.widget-view+json": {
       "model_id": "381797e7870840529196f248de7cf06e",
       "version_major": 2,
       "version_minor": 0
      },
      "text/plain": [
       "FloatProgress(value=0.0, layout=Layout(width='100%'), style=ProgressStyle(bar_color='black'))"
      ]
     },
     "metadata": {},
     "output_type": "display_data"
    }
   ],
   "source": [
    "counts = con.execute(\"\"\"\n",
    "    SELECT taxid, COUNT(pid) AS proteins_in_pairs\n",
    "    FROM proteins \n",
    "    WHERE pid IN (SELECT DISTINCT(meso_pid) FROM pairs) \n",
    "    OR pid IN (SELECT DISTINCT(thermo_pid) FROM pairs)\n",
    "    GROUP BY taxid\"\"\").df()"
   ]
  },
  {
   "cell_type": "code",
   "execution_count": 7,
   "metadata": {
    "tags": []
   },
   "outputs": [
    {
     "data": {
      "text/html": [
       "<div>\n",
       "<style scoped>\n",
       "    .dataframe tbody tr th:only-of-type {\n",
       "        vertical-align: middle;\n",
       "    }\n",
       "\n",
       "    .dataframe tbody tr th {\n",
       "        vertical-align: top;\n",
       "    }\n",
       "\n",
       "    .dataframe thead th {\n",
       "        text-align: right;\n",
       "    }\n",
       "</style>\n",
       "<table border=\"1\" class=\"dataframe\">\n",
       "  <thead>\n",
       "    <tr style=\"text-align: right;\">\n",
       "      <th></th>\n",
       "      <th>taxid</th>\n",
       "      <th>proteins_in_pairs</th>\n",
       "    </tr>\n",
       "  </thead>\n",
       "  <tbody>\n",
       "    <tr>\n",
       "      <th>0</th>\n",
       "      <td>137838</td>\n",
       "      <td>996</td>\n",
       "    </tr>\n",
       "    <tr>\n",
       "      <th>1</th>\n",
       "      <td>52764</td>\n",
       "      <td>307</td>\n",
       "    </tr>\n",
       "    <tr>\n",
       "      <th>2</th>\n",
       "      <td>129958</td>\n",
       "      <td>882</td>\n",
       "    </tr>\n",
       "    <tr>\n",
       "      <th>3</th>\n",
       "      <td>41988</td>\n",
       "      <td>830</td>\n",
       "    </tr>\n",
       "    <tr>\n",
       "      <th>4</th>\n",
       "      <td>83526</td>\n",
       "      <td>539</td>\n",
       "    </tr>\n",
       "    <tr>\n",
       "      <th>...</th>\n",
       "      <td>...</td>\n",
       "      <td>...</td>\n",
       "    </tr>\n",
       "    <tr>\n",
       "      <th>5023</th>\n",
       "      <td>28099</td>\n",
       "      <td>1127</td>\n",
       "    </tr>\n",
       "    <tr>\n",
       "      <th>5024</th>\n",
       "      <td>35517</td>\n",
       "      <td>262</td>\n",
       "    </tr>\n",
       "    <tr>\n",
       "      <th>5025</th>\n",
       "      <td>91624</td>\n",
       "      <td>870</td>\n",
       "    </tr>\n",
       "    <tr>\n",
       "      <th>5026</th>\n",
       "      <td>36842</td>\n",
       "      <td>1246</td>\n",
       "    </tr>\n",
       "    <tr>\n",
       "      <th>5027</th>\n",
       "      <td>556053</td>\n",
       "      <td>1</td>\n",
       "    </tr>\n",
       "  </tbody>\n",
       "</table>\n",
       "<p>5028 rows × 2 columns</p>\n",
       "</div>"
      ],
      "text/plain": [
       "       taxid  proteins_in_pairs\n",
       "0     137838                996\n",
       "1      52764                307\n",
       "2     129958                882\n",
       "3      41988                830\n",
       "4      83526                539\n",
       "...      ...                ...\n",
       "5023   28099               1127\n",
       "5024   35517                262\n",
       "5025   91624                870\n",
       "5026   36842               1246\n",
       "5027  556053                  1\n",
       "\n",
       "[5028 rows x 2 columns]"
      ]
     },
     "execution_count": 7,
     "metadata": {},
     "output_type": "execute_result"
    }
   ],
   "source": [
    "counts"
   ]
  },
  {
   "cell_type": "code",
   "execution_count": 8,
   "metadata": {
    "tags": []
   },
   "outputs": [],
   "source": [
    "taxa = taxa.astype({r : pd.Int64Dtype() for r in tax_ranks[:-1]})"
   ]
  },
  {
   "cell_type": "code",
   "execution_count": 9,
   "metadata": {
    "tags": []
   },
   "outputs": [
    {
     "data": {
      "text/html": [
       "<div>\n",
       "<style scoped>\n",
       "    .dataframe tbody tr th:only-of-type {\n",
       "        vertical-align: middle;\n",
       "    }\n",
       "\n",
       "    .dataframe tbody tr th {\n",
       "        vertical-align: top;\n",
       "    }\n",
       "\n",
       "    .dataframe thead th {\n",
       "        text-align: right;\n",
       "    }\n",
       "</style>\n",
       "<table border=\"1\" class=\"dataframe\">\n",
       "  <thead>\n",
       "    <tr style=\"text-align: right;\">\n",
       "      <th></th>\n",
       "      <th>taxid</th>\n",
       "      <th>16s_seq</th>\n",
       "      <th>16s_len</th>\n",
       "      <th>temperature</th>\n",
       "      <th>superkingdom</th>\n",
       "      <th>phylum</th>\n",
       "      <th>class</th>\n",
       "      <th>order</th>\n",
       "      <th>family</th>\n",
       "      <th>genus</th>\n",
       "      <th>thermophile_label</th>\n",
       "      <th>proteins_in_pairs</th>\n",
       "    </tr>\n",
       "  </thead>\n",
       "  <tbody>\n",
       "    <tr>\n",
       "      <th>0</th>\n",
       "      <td>108150</td>\n",
       "      <td>AGAGTTTGATCCTGGCTCAGGACGAACGCTGGCGGCGTGCCTAACA...</td>\n",
       "      <td>1588</td>\n",
       "      <td>65.0</td>\n",
       "      <td>2</td>\n",
       "      <td>1239</td>\n",
       "      <td>186801</td>\n",
       "      <td>68295</td>\n",
       "      <td>186814</td>\n",
       "      <td>1754</td>\n",
       "      <td>True</td>\n",
       "      <td>522</td>\n",
       "    </tr>\n",
       "    <tr>\n",
       "      <th>1</th>\n",
       "      <td>64160</td>\n",
       "      <td>AGAGTTTGATCCTGGCTCAGCGCGAACGCTGTCGGCGTGCCTAACA...</td>\n",
       "      <td>1571</td>\n",
       "      <td>70.0</td>\n",
       "      <td>2</td>\n",
       "      <td>200783</td>\n",
       "      <td>187857</td>\n",
       "      <td>1485951</td>\n",
       "      <td>558314</td>\n",
       "      <td>64159</td>\n",
       "      <td>True</td>\n",
       "      <td>384</td>\n",
       "    </tr>\n",
       "    <tr>\n",
       "      <th>2</th>\n",
       "      <td>1449</td>\n",
       "      <td>TTTATTGAGAGTTTGATCTTGGCTCAGGATGAACGCTGGCGGCGTG...</td>\n",
       "      <td>1570</td>\n",
       "      <td>37.0</td>\n",
       "      <td>2</td>\n",
       "      <td>1239</td>\n",
       "      <td>91061</td>\n",
       "      <td>1385</td>\n",
       "      <td>186817</td>\n",
       "      <td>29331</td>\n",
       "      <td>False</td>\n",
       "      <td>832</td>\n",
       "    </tr>\n",
       "    <tr>\n",
       "      <th>3</th>\n",
       "      <td>1625</td>\n",
       "      <td>AGAGTTTGATNNTGGCTCAGGACGAACGTTGGCGGCGTGCCTAATA...</td>\n",
       "      <td>1570</td>\n",
       "      <td>30.5</td>\n",
       "      <td>2</td>\n",
       "      <td>1239</td>\n",
       "      <td>91061</td>\n",
       "      <td>186826</td>\n",
       "      <td>33958</td>\n",
       "      <td>1578</td>\n",
       "      <td>False</td>\n",
       "      <td>386</td>\n",
       "    </tr>\n",
       "    <tr>\n",
       "      <th>4</th>\n",
       "      <td>35787</td>\n",
       "      <td>AGAGTTTGATNNTGGCTCAGGATGAACGCCGGCGGTGTGCCTAATA...</td>\n",
       "      <td>1568</td>\n",
       "      <td>30.0</td>\n",
       "      <td>2</td>\n",
       "      <td>1239</td>\n",
       "      <td>91061</td>\n",
       "      <td>186826</td>\n",
       "      <td>33958</td>\n",
       "      <td>1578</td>\n",
       "      <td>False</td>\n",
       "      <td>488</td>\n",
       "    </tr>\n",
       "    <tr>\n",
       "      <th>...</th>\n",
       "      <td>...</td>\n",
       "      <td>...</td>\n",
       "      <td>...</td>\n",
       "      <td>...</td>\n",
       "      <td>...</td>\n",
       "      <td>...</td>\n",
       "      <td>...</td>\n",
       "      <td>...</td>\n",
       "      <td>...</td>\n",
       "      <td>...</td>\n",
       "      <td>...</td>\n",
       "      <td>...</td>\n",
       "    </tr>\n",
       "    <tr>\n",
       "      <th>5023</th>\n",
       "      <td>104101</td>\n",
       "      <td>TGAGTTTGATCCTGGCTCAGAGCGAACGCTGGCGGCATGCTTAACA...</td>\n",
       "      <td>1454</td>\n",
       "      <td>28.0</td>\n",
       "      <td>2</td>\n",
       "      <td>1224</td>\n",
       "      <td>28211</td>\n",
       "      <td>204441</td>\n",
       "      <td>433</td>\n",
       "      <td>434</td>\n",
       "      <td>False</td>\n",
       "      <td>516</td>\n",
       "    </tr>\n",
       "    <tr>\n",
       "      <th>5024</th>\n",
       "      <td>871651</td>\n",
       "      <td>CCTGGCTCAGAACGAACGCTGGCGGCAGGCCTAACACATGCAAGTC...</td>\n",
       "      <td>1437</td>\n",
       "      <td>25.0</td>\n",
       "      <td>2</td>\n",
       "      <td>1224</td>\n",
       "      <td>28211</td>\n",
       "      <td>204455</td>\n",
       "      <td>31989</td>\n",
       "      <td>1158296</td>\n",
       "      <td>False</td>\n",
       "      <td>973</td>\n",
       "    </tr>\n",
       "    <tr>\n",
       "      <th>5025</th>\n",
       "      <td>683354</td>\n",
       "      <td>CATGCAGTCGAACGGCAGCGCGGACTTCGGTCTGGCGGCGAGTGGC...</td>\n",
       "      <td>1410</td>\n",
       "      <td>28.0</td>\n",
       "      <td>2</td>\n",
       "      <td>1224</td>\n",
       "      <td>28216</td>\n",
       "      <td>80840</td>\n",
       "      <td>506</td>\n",
       "      <td>1074468</td>\n",
       "      <td>False</td>\n",
       "      <td>550</td>\n",
       "    </tr>\n",
       "    <tr>\n",
       "      <th>5026</th>\n",
       "      <td>191292</td>\n",
       "      <td>AACACGTGGGTGATCTGCCCTGCACTTTGGGATAAGCCTGGGAAAC...</td>\n",
       "      <td>1409</td>\n",
       "      <td>29.0</td>\n",
       "      <td>2</td>\n",
       "      <td>201174</td>\n",
       "      <td>1760</td>\n",
       "      <td>85007</td>\n",
       "      <td>85025</td>\n",
       "      <td>1827</td>\n",
       "      <td>False</td>\n",
       "      <td>419</td>\n",
       "    </tr>\n",
       "    <tr>\n",
       "      <th>5027</th>\n",
       "      <td>53422</td>\n",
       "      <td>CTTAGCGGCGGACGGGTGAGTAACACGTGGGTAACCTGCCCTTGAG...</td>\n",
       "      <td>1404</td>\n",
       "      <td>60.0</td>\n",
       "      <td>2</td>\n",
       "      <td>1239</td>\n",
       "      <td>186801</td>\n",
       "      <td>186802</td>\n",
       "      <td>31979</td>\n",
       "      <td>150333</td>\n",
       "      <td>True</td>\n",
       "      <td>504</td>\n",
       "    </tr>\n",
       "  </tbody>\n",
       "</table>\n",
       "<p>5028 rows × 12 columns</p>\n",
       "</div>"
      ],
      "text/plain": [
       "       taxid                                            16s_seq  16s_len  \\\n",
       "0     108150  AGAGTTTGATCCTGGCTCAGGACGAACGCTGGCGGCGTGCCTAACA...     1588   \n",
       "1      64160  AGAGTTTGATCCTGGCTCAGCGCGAACGCTGTCGGCGTGCCTAACA...     1571   \n",
       "2       1449  TTTATTGAGAGTTTGATCTTGGCTCAGGATGAACGCTGGCGGCGTG...     1570   \n",
       "3       1625  AGAGTTTGATNNTGGCTCAGGACGAACGTTGGCGGCGTGCCTAATA...     1570   \n",
       "4      35787  AGAGTTTGATNNTGGCTCAGGATGAACGCCGGCGGTGTGCCTAATA...     1568   \n",
       "...      ...                                                ...      ...   \n",
       "5023  104101  TGAGTTTGATCCTGGCTCAGAGCGAACGCTGGCGGCATGCTTAACA...     1454   \n",
       "5024  871651  CCTGGCTCAGAACGAACGCTGGCGGCAGGCCTAACACATGCAAGTC...     1437   \n",
       "5025  683354  CATGCAGTCGAACGGCAGCGCGGACTTCGGTCTGGCGGCGAGTGGC...     1410   \n",
       "5026  191292  AACACGTGGGTGATCTGCCCTGCACTTTGGGATAAGCCTGGGAAAC...     1409   \n",
       "5027   53422  CTTAGCGGCGGACGGGTGAGTAACACGTGGGTAACCTGCCCTTGAG...     1404   \n",
       "\n",
       "      temperature  superkingdom  phylum   class    order  family    genus  \\\n",
       "0            65.0             2    1239  186801    68295  186814     1754   \n",
       "1            70.0             2  200783  187857  1485951  558314    64159   \n",
       "2            37.0             2    1239   91061     1385  186817    29331   \n",
       "3            30.5             2    1239   91061   186826   33958     1578   \n",
       "4            30.0             2    1239   91061   186826   33958     1578   \n",
       "...           ...           ...     ...     ...      ...     ...      ...   \n",
       "5023         28.0             2    1224   28211   204441     433      434   \n",
       "5024         25.0             2    1224   28211   204455   31989  1158296   \n",
       "5025         28.0             2    1224   28216    80840     506  1074468   \n",
       "5026         29.0             2  201174    1760    85007   85025     1827   \n",
       "5027         60.0             2    1239  186801   186802   31979   150333   \n",
       "\n",
       "      thermophile_label  proteins_in_pairs  \n",
       "0                  True                522  \n",
       "1                  True                384  \n",
       "2                 False                832  \n",
       "3                 False                386  \n",
       "4                 False                488  \n",
       "...                 ...                ...  \n",
       "5023              False                516  \n",
       "5024              False                973  \n",
       "5025              False                550  \n",
       "5026              False                419  \n",
       "5027               True                504  \n",
       "\n",
       "[5028 rows x 12 columns]"
      ]
     },
     "execution_count": 9,
     "metadata": {},
     "output_type": "execute_result"
    }
   ],
   "source": [
    "taxa = taxa.merge(counts, on='taxid', how='inner')\n",
    "taxa"
   ]
  },
  {
   "cell_type": "code",
   "execution_count": 10,
   "metadata": {
    "tags": []
   },
   "outputs": [
    {
     "data": {
      "text/plain": [
       "289"
      ]
     },
     "execution_count": 10,
     "metadata": {},
     "output_type": "execute_result"
    }
   ],
   "source": [
    "taxa['thermophile_label'].sum()"
   ]
  },
  {
   "cell_type": "code",
   "execution_count": 11,
   "metadata": {
    "tags": []
   },
   "outputs": [
    {
     "data": {
      "text/plain": [
       "4739"
      ]
     },
     "execution_count": 11,
     "metadata": {},
     "output_type": "execute_result"
    }
   ],
   "source": [
    "len(taxa) - taxa['thermophile_label'].sum()"
   ]
  },
  {
   "cell_type": "code",
   "execution_count": 12,
   "metadata": {
    "tags": []
   },
   "outputs": [
    {
     "data": {
      "text/plain": [
       "98.0"
      ]
     },
     "execution_count": 12,
     "metadata": {},
     "output_type": "execute_result"
    }
   ],
   "source": [
    "taxa['temperature'].max()"
   ]
  },
  {
   "cell_type": "markdown",
   "metadata": {},
   "source": [
    "fill nan taxids with the lower level of taxonomy"
   ]
  },
  {
   "cell_type": "code",
   "execution_count": 13,
   "metadata": {
    "tags": []
   },
   "outputs": [
    {
     "name": "stdout",
     "output_type": "stream",
     "text": [
      "18 genus are missing, filling with taxid\n",
      "78 family are missing, filling with genus\n",
      "28 order are missing, filling with family\n",
      "16 class are missing, filling with order\n",
      "1 phylum are missing, filling with class\n",
      "0 superkingdom are missing, filling with phylum\n"
     ]
    }
   ],
   "source": [
    "reversed_ranks = tax_ranks[::-1]\n",
    "reversed_ranks[0] = 'taxid'\n",
    "for i, r in enumerate(reversed_ranks[1:]):\n",
    "    print(f\"{taxa[r].isna().sum()} {r} are missing, filling with {reversed_ranks[i]}\")\n",
    "    taxa[r] = taxa[r].fillna(taxa[reversed_ranks[i]])\n"
   ]
  },
  {
   "cell_type": "code",
   "execution_count": 14,
   "metadata": {
    "tags": []
   },
   "outputs": [
    {
     "data": {
      "application/vnd.jupyter.widget-view+json": {
       "model_id": "6a8efbf7b35d4bd4b3da3adb5e2c6c30",
       "version_major": 2,
       "version_minor": 0
      },
      "text/plain": [
       "FloatProgress(value=0.0, layout=Layout(width='100%'), style=ProgressStyle(bar_color='black'))"
      ]
     },
     "metadata": {},
     "output_type": "display_data"
    },
    {
     "data": {
      "text/plain": [
       "84024"
      ]
     },
     "execution_count": 14,
     "metadata": {},
     "output_type": "execute_result"
    }
   ],
   "source": [
    "pairs = con.execute(\"\"\"\n",
    "    SELECT * FROM taxa_pairs WHERE \n",
    "    (taxa_pairs.meso_taxid, taxa_pairs.thermo_taxid) IN (SELECT (meso_taxid, thermo_taxid) FROM pairs)\"\"\").df()\n",
    "len(pairs)"
   ]
  },
  {
   "cell_type": "code",
   "execution_count": 15,
   "metadata": {
    "tags": []
   },
   "outputs": [],
   "source": [
    "con.close()"
   ]
  },
  {
   "cell_type": "code",
   "execution_count": 16,
   "metadata": {
    "tags": []
   },
   "outputs": [],
   "source": [
    "# ncbi scientific names\n",
    "import json\n",
    "with open('./snames_map.json') as f:\n",
    "    snames_map = json.load(f)\n",
    "new_snames_map = {}\n",
    "for k, v in snames_map.items():\n",
    "    new_snames_map[int(k)] = v\n",
    "snames_map = new_snames_map\n"
   ]
  },
  {
   "cell_type": "code",
   "execution_count": 17,
   "metadata": {
    "tags": []
   },
   "outputs": [],
   "source": [
    "import pycircos"
   ]
  },
  {
   "cell_type": "markdown",
   "metadata": {
    "tags": []
   },
   "source": [
    "## need to modify pycircos chord plot"
   ]
  },
  {
   "cell_type": "code",
   "execution_count": 18,
   "metadata": {
    "tags": []
   },
   "outputs": [],
   "source": [
    "# try to add alpha\n",
    "def chord_plot(self, start_list, end_list, facecolor=None, edgecolor=None, linewidth=0.0, alpha=0.2, **kwargs):\n",
    "    \"\"\"\n",
    "    Visualize interrelationships between data.\n",
    "\n",
    "    Parameters\n",
    "    ----------\n",
    "    start_list : tuple\n",
    "        Start data location of linked data.  \n",
    "        The tuple is composed of four parameters:\n",
    "\n",
    "        - `arc_id` : `str`  \n",
    "            The ID of the first Garc class object to be compared.\n",
    "            The ID should be in Gcircle object.garc_dict.\n",
    "        - `edge_position1` : `int`  \n",
    "            The minimal x coordinates on the Garc class object \n",
    "            when the plot is drawn on the rectangular coordinates.\n",
    "        - `edge_position2` : `int`  \n",
    "            The maximal x coordinates on the Garc class object \n",
    "            when the plot is drawn on the rectangular coordinates.\n",
    "        - `raxis_position` : `int`  \n",
    "            The base height for the drawing chord.\n",
    "\n",
    "    end_list : tuple\n",
    "        End data location of linked data.  \n",
    "        The tuple is composed of four parameters:\n",
    "\n",
    "        - `arc_id` : `str`  \n",
    "            The ID of the second Garc class object to be compared.\n",
    "            The ID should be in Gcircle object.garc_dict. \n",
    "        - `edge_position1` : `int`  \n",
    "            The minimal x coordinates on the Garc class object \n",
    "            when the plot is drawn on the rectangular coordinates.\n",
    "        - `edge_position2` : `int`  \n",
    "            The maximal x coordinates on the Garc class object \n",
    "            when the plot is drawn on the rectangular coordinates.\n",
    "        - `raxis_position` : `int`  \n",
    "            The base height for the drawing chord.\n",
    "\n",
    "    facecolor : str or tuple representing color code, optional\n",
    "        Facecolor of the link. The default is None.\n",
    "    edgecolor : str or tuple representing color code, optional\n",
    "        Edge color of the link. The default is \"#303030\".\n",
    "    linewidth : float, optional\n",
    "        Edge line width of the link. The default is 0.0.\n",
    "\n",
    "    Returns\n",
    "    -------\n",
    "    None\n",
    "    \"\"\"\n",
    "    garc_id1 = start_list[0]\n",
    "    garc_id2 = end_list[0]\n",
    "    center = 0 \n",
    "\n",
    "    start1 = self._garc_dict[garc_id1].coordinates[0] \n",
    "    end1   = self._garc_dict[garc_id1].coordinates[-1] \n",
    "    size1  = self._garc_dict[garc_id1].size - 1\n",
    "    sstart = start1 + ((end1-start1) * start_list[1]/size1) \n",
    "    send   = start1 + ((end1-start1) * start_list[2]/size1)\n",
    "    stop   = start_list[3] \n",
    "    \n",
    "    start2 = self._garc_dict[garc_id2].coordinates[0] \n",
    "    end2   = self._garc_dict[garc_id2].coordinates[-1] \n",
    "    size2  = self._garc_dict[garc_id2].size - 1\n",
    "    ostart = start2 + ((end2-start2) * end_list[1]/size2) \n",
    "    oend   = start2 + ((end2-start2) * end_list[2]/size2)\n",
    "    etop   = end_list[3] \n",
    "\n",
    "    if facecolor is None:\n",
    "        facecolor = Gcircle.colors[self.color_cycle % len(Gcircle.colors)] + \"80\" \n",
    "        self.color_cycle += 1\n",
    "    \n",
    "    z1 = stop - stop * math.cos(abs((send-sstart) * 0.5)) \n",
    "    z2 = etop - etop * math.cos(abs((oend-ostart) * 0.5)) \n",
    "    if sstart == ostart: \n",
    "        pass \n",
    "    else:\n",
    "        Path      = mpath.Path\n",
    "        path_data = [(Path.MOVETO,  (sstart, stop)),\n",
    "                        (Path.CURVE3,  (sstart, center)),     \n",
    "                        (Path.CURVE3,  (oend,   etop)),\n",
    "                        (Path.CURVE3,  ((ostart+oend)*0.5, etop+z2)),\n",
    "                        (Path.CURVE3,  (ostart, etop)),\n",
    "                        (Path.CURVE3,  (ostart, center)),\n",
    "                        (Path.CURVE3,  (send,   stop)),\n",
    "                        (Path.CURVE3,  ((sstart+send)*0.5, stop+z1)),\n",
    "                        (Path.CURVE3,  (sstart, stop)),\n",
    "                    ]\n",
    "        codes, verts = list(zip(*path_data)) \n",
    "        path  = mpath.Path(verts, codes)\n",
    "        patch = mpatches.PathPatch(path, facecolor=facecolor, linewidth=linewidth, edgecolor=edgecolor, zorder=0, alpha=alpha, **kwargs)\n",
    "        self.ax.add_patch(patch)"
   ]
  },
  {
   "cell_type": "markdown",
   "metadata": {
    "tags": []
   },
   "source": [
    "## Build a tree structured dict that tracked counts within head node, including all children node"
   ]
  },
  {
   "cell_type": "code",
   "execution_count": 19,
   "metadata": {
    "tags": []
   },
   "outputs": [],
   "source": [
    "def build_tree(group, levels, level_index=0, start=0):\n",
    "    if level_index >= len(levels):\n",
    "        out_list = group.to_dict(orient='records')\n",
    "        out = {e['taxid']: e for e in out_list}\n",
    "        for i, e in enumerate(out.values()):\n",
    "            e['start'] = start + i\n",
    "            e['size'] = 1\n",
    "        return out\n",
    "\n",
    "    level = levels[level_index]\n",
    "\n",
    "    # sort by thermophiles and mesophiles\n",
    "    group = group.sort_values(['thermophile_label', 'proteins_in_pairs'], ascending=False)\n",
    "\n",
    "    # Build a dictionary for the current level\n",
    "    tree_dict = {}\n",
    "\n",
    "    cumulative_size = start\n",
    "    for level_id, sub_group in group.groupby(level):\n",
    "        level_dict = {\n",
    "            'size': len(sub_group),\n",
    "            'id': level_id,\n",
    "            'start': cumulative_size,\n",
    "            'children': build_tree(sub_group, levels, level_index + 1, cumulative_size)\n",
    "        }\n",
    "\n",
    "        tree_dict[level_id] = level_dict\n",
    "        cumulative_size += level_dict['size']\n",
    "\n",
    "    return tree_dict\n"
   ]
  },
  {
   "cell_type": "code",
   "execution_count": 20,
   "metadata": {
    "tags": []
   },
   "outputs": [],
   "source": [
    "nested_data_dict = build_tree(taxa[taxa['superkingdom']==2], ['superkingdom', 'phylum', 'class', 'order', 'family'])\n",
    "nested_data_dict.update(build_tree(taxa[taxa['superkingdom']!=2], ['superkingdom', 'phylum', 'class', 'order', 'family']))"
   ]
  },
  {
   "cell_type": "markdown",
   "metadata": {},
   "source": [
    "### add tree structure coloring"
   ]
  },
  {
   "cell_type": "code",
   "execution_count": 21,
   "metadata": {
    "tags": []
   },
   "outputs": [
    {
     "name": "stderr",
     "output_type": "stream",
     "text": [
      "/tmp/ipykernel_10397/1171060175.py:3: MatplotlibDeprecationWarning: The get_cmap function was deprecated in Matplotlib 3.7 and will be removed two minor releases later. Use ``matplotlib.colormaps[name]`` or ``matplotlib.colormaps.get_cmap(obj)`` instead.\n",
      "  cmap = cm.get_cmap('BrBG')\n"
     ]
    }
   ],
   "source": [
    "from matplotlib import cm\n",
    "import numpy as np\n",
    "cmap = cm.get_cmap('BrBG')"
   ]
  },
  {
   "cell_type": "code",
   "execution_count": 22,
   "metadata": {
    "tags": []
   },
   "outputs": [],
   "source": [
    "import random\n",
    "\n",
    "def assign_hue(node, r, f, perm, rev):\n",
    "    # Select the middle hue value in r as the hue value of node v\n",
    "    node['hue'] = np.mean(r)\n",
    "\n",
    "    # If 'children' is not a dictionary, we're at a terminal node and done\n",
    "    if not isinstance(node.get('children', None), dict):\n",
    "        return\n",
    "\n",
    "    children = node['children']\n",
    "    N = len(children)\n",
    "\n",
    "    # If there are child nodes\n",
    "    if N > 0:\n",
    "        total_size = sum(child['size'] for child in children.values())\n",
    "\n",
    "        # Calculate the proportions for each child\n",
    "        proportions = [child['size'] / total_size for child in children.values()]\n",
    "\n",
    "        # Divide r into ranges proportional to the size of each child\n",
    "        r_parts = np.cumsum([0] + proportions) * (r[1] - r[0]) + r[0]\n",
    "        ranges = list(zip(r_parts[:-1], r_parts[1:]))\n",
    "\n",
    "        # If perm, then permute the ranges\n",
    "        if perm:\n",
    "            random.shuffle(ranges)\n",
    "\n",
    "        # If rev, then reverse the even-numbered ranges\n",
    "        if rev:\n",
    "            ranges = [ranges[i][::-1] if i % 2 == 0 else ranges[i] for i in range(N)]\n",
    "\n",
    "        # Reduce each range by keeping its middle fraction f\n",
    "        ranges = [(r[0] + (r[1] - r[0]) * (1 - f) / 2, r[1] - (r[1] - r[0]) * (1 - f) / 2) for r in ranges]\n",
    "\n",
    "        # For each child node, recursively assign hue\n",
    "        for child_node, r_child in zip(children.values(), ranges):\n",
    "            assign_hue(child_node, r_child, f, perm, rev)"
   ]
  },
  {
   "cell_type": "code",
   "execution_count": 23,
   "metadata": {
    "tags": []
   },
   "outputs": [],
   "source": [
    "# Let's say that these are the parameters we're going to use\n",
    "f = 0.9  # middle fraction to keep\n",
    "perm = False  # whether to permute the ranges\n",
    "rev = False  # whether to reverse the even-numbered ranges\n",
    "\n",
    "\n",
    "assign_hue(nested_data_dict[2], (0.0, 0.5), f, perm, rev)\n",
    "assign_hue(nested_data_dict[2157], (0.5, 1.0), f, perm, rev)"
   ]
  },
  {
   "cell_type": "markdown",
   "metadata": {},
   "source": [
    "## start with outer garcs"
   ]
  },
  {
   "cell_type": "code",
   "execution_count": 24,
   "metadata": {
    "tags": []
   },
   "outputs": [
    {
     "data": {
      "application/vnd.jupyter.widget-view+json": {
       "model_id": "2bbcdcd15087409785c30495e4f3e771",
       "version_major": 2,
       "version_minor": 0
      },
      "image/png": "[encoded data removed]",
      "text/html": [
       "\n",
       "            <div style=\"display: inline-block;\">\n",
       "                <div class=\"jupyter-widgets widget-label\" style=\"text-align: center;\">\n",
       "                    Figure\n",
       "                </div>\n",
       "                <img src='data:image/png;base64,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' width=1400.0/>\n",
       "            </div>\n",
       "        "
      ],
      "text/plain": [
       "Canvas(toolbar=Toolbar(toolitems=[('Home', 'Reset original view', 'home', 'home'), ('Back', 'Back to previous …"
      ]
     },
     "metadata": {},
     "output_type": "display_data"
    }
   ],
   "source": [
    "# make a basic plot\n",
    "#Set chromosomes\n",
    "circle = pycircos.Gcircle(figsize=(14,14))\n",
    "for sk_id, sk_dict in nested_data_dict.items():\n",
    "    arc = pycircos.Garc(\n",
    "        arc_id=sk_id,\n",
    "        size=sk_dict['size'],\n",
    "        interspace=15,\n",
    "        raxis_range=(900,940),\n",
    "        label_visible=sk_dict['size'] > 20,\n",
    "        labelsize=25,\n",
    "        labelposition=50,\n",
    "        label= snames_map.get(sk_id, sk_id),\n",
    "        facecolor=cmap(sk_dict['hue']),\n",
    "        linewidth=1.5\n",
    "    )\n",
    "    circle.add_garc(arc)\n"
   ]
  },
  {
   "cell_type": "code",
   "execution_count": 25,
   "metadata": {
    "tags": []
   },
   "outputs": [],
   "source": [
    "circle.set_garcs()"
   ]
  },
  {
   "cell_type": "markdown",
   "metadata": {
    "tags": []
   },
   "source": [
    "### flatten the data\n"
   ]
  },
  {
   "cell_type": "code",
   "execution_count": 26,
   "metadata": {
    "tags": []
   },
   "outputs": [],
   "source": [
    "def extract_all_nodes_flat(dict_):\n",
    "    out = {}\n",
    "    for k, v in dict_['children'].items():\n",
    "        out[k] = v\n",
    "        if 'children' in v:\n",
    "            out.update(extract_all_nodes_flat(v))\n",
    "    return out"
   ]
  },
  {
   "cell_type": "code",
   "execution_count": 27,
   "metadata": {
    "tags": []
   },
   "outputs": [],
   "source": [
    "flat_data_dict = extract_all_nodes_flat({'children': nested_data_dict})"
   ]
  },
  {
   "cell_type": "code",
   "execution_count": 28,
   "metadata": {
    "tags": []
   },
   "outputs": [
    {
     "data": {
      "text/plain": [
       "5586"
      ]
     },
     "execution_count": 28,
     "metadata": {},
     "output_type": "execute_result"
    }
   ],
   "source": [
    "len(flat_data_dict)"
   ]
  },
  {
   "cell_type": "markdown",
   "metadata": {
    "tags": []
   },
   "source": [
    "## plot taxa levels"
   ]
  },
  {
   "cell_type": "code",
   "execution_count": 29,
   "metadata": {
    "tags": []
   },
   "outputs": [],
   "source": [
    "for garc_id in [2, 2157]:\n",
    "    sk_df = taxa[taxa['superkingdom'] == garc_id]\n",
    "    ph_ids = sk_df['phylum'].unique()\n",
    "    positions = [flat_data_dict[p]['start'] for p in ph_ids]\n",
    "    widths = [flat_data_dict[p]['size'] for p in ph_ids]\n",
    "    hues = [flat_data_dict[p]['hue'] for p in ph_ids]\n",
    "    circle.barplot(\n",
    "        garc_id,\n",
    "        data=[1]*len(ph_ids),\n",
    "        positions=positions,\n",
    "        width=widths,\n",
    "        facecolor=[cmap(h) for h in hues],\n",
    "        raxis_range=[850,890],\n",
    "        linewidth=.75,\n",
    "    )\n"
   ]
  },
  {
   "cell_type": "markdown",
   "metadata": {},
   "source": [
    "#### add labels for large phylum"
   ]
  },
  {
   "cell_type": "code",
   "execution_count": 57,
   "metadata": {
    "tags": []
   },
   "outputs": [],
   "source": [
    "for phylum_id in taxa['phylum'].values.unique():\n",
    "    if flat_data_dict[phylum_id]['size'] < 150:\n",
    "        continue\n",
    "    else:\n",
    "        start = flat_data_dict[phylum_id]['start']\n",
    "        size = flat_data_dict[phylum_id]['size']\n",
    "        garc_id = 2 if taxa.loc[taxa['phylum'] == phylum_id, 'superkingdom'].values[0] == 2 else 2157\n",
    "\n",
    "        # convert start and end to garc posisionts\n",
    "        coords = circle._garc_dict[garc_id].coordinates\n",
    "        coord_width = coords[1] - coords[0]\n",
    "        full_size = circle._garc_dict[garc_id].size\n",
    "        start = coords[0] + (start/full_size * coord_width)\n",
    "        width = size/full_size * coord_width\n",
    "        end = start + width\n",
    "\n",
    "        height    = 40\n",
    "        bottom    = 800\n",
    "\n",
    "        rot = (start + end) / 2\n",
    "        rot = rot*360/(2*np.pi)\n",
    "        if 90 < rot < 270:\n",
    "            rot = 180-rot\n",
    "        else:\n",
    "            rot = -1 * rot\n",
    "        height = bottom + height/2 + circle._garc_dict[garc_id].labelposition\n",
    "        circle.ax.text(start + width/2, height, snames_map[phylum_id], rotation=rot, ha=\"center\", va=\"center\", fontsize=circle._garc_dict[garc_id].labelsize-4, bbox=dict(facecolor='w', alpha=0.4, edgecolor='none'))"
   ]
  },
  {
   "cell_type": "markdown",
   "metadata": {},
   "source": [
    "#### continue with lower levels"
   ]
  },
  {
   "cell_type": "code",
   "execution_count": 30,
   "metadata": {
    "tags": []
   },
   "outputs": [],
   "source": [
    "for garc_id in [2, 2157]:\n",
    "    sk_df = taxa[taxa['superkingdom'] == garc_id]\n",
    "    ph_ids = sk_df['class'].unique()\n",
    "    positions = [flat_data_dict[p]['start'] for p in ph_ids]\n",
    "    widths = [flat_data_dict[p]['size'] for p in ph_ids]\n",
    "    hues = [flat_data_dict[p]['hue'] for p in ph_ids]\n",
    "    circle.barplot(\n",
    "        garc_id,\n",
    "        data=[1]*len(ph_ids),\n",
    "        positions=positions,\n",
    "        width=widths,\n",
    "        facecolor=[cmap(h) for h in hues],\n",
    "        raxis_range=[800,840],\n",
    "        linewidth=.75,\n",
    "    )\n"
   ]
  },
  {
   "cell_type": "code",
   "execution_count": 31,
   "metadata": {
    "tags": []
   },
   "outputs": [],
   "source": [
    "for garc_id in [2, 2157]:\n",
    "    sk_df = taxa[taxa['superkingdom'] == garc_id]\n",
    "    ph_ids = sk_df['order'].unique()\n",
    "    positions = [flat_data_dict[p]['start'] for p in ph_ids]\n",
    "    widths = []\n",
    "    for p in ph_ids:\n",
    "        if 'size' in flat_data_dict[p]:\n",
    "            widths.append(flat_data_dict[p]['size'])\n",
    "        else:\n",
    "            widths.append(1)\n",
    "    hues = [flat_data_dict[p]['hue'] for p in ph_ids]\n",
    "    circle.barplot(\n",
    "        garc_id,\n",
    "        data=[1]*len(ph_ids),\n",
    "        positions=positions,\n",
    "        width=widths,\n",
    "        facecolor=[cmap(h) for h in hues],\n",
    "        raxis_range=[750,790],\n",
    "        linewidth=.75,\n",
    "    )"
   ]
  },
  {
   "cell_type": "code",
   "execution_count": 60,
   "metadata": {
    "tags": []
   },
   "outputs": [],
   "source": [
    "for phylum_id in taxa['order'].values.unique():\n",
    "    if flat_data_dict[phylum_id]['size'] < 200:\n",
    "        continue\n",
    "    else:\n",
    "        start = flat_data_dict[phylum_id]['start']\n",
    "        size = flat_data_dict[phylum_id]['size']\n",
    "        garc_id = 2 if taxa.loc[taxa['order'] == phylum_id, 'superkingdom'].values[0] == 2 else 2157\n",
    "\n",
    "        # convert start and end to garc posisionts\n",
    "        coords = circle._garc_dict[garc_id].coordinates\n",
    "        coord_width = coords[1] - coords[0]\n",
    "        full_size = circle._garc_dict[garc_id].size\n",
    "        start = coords[0] + (start/full_size * coord_width)\n",
    "        width = size/full_size * coord_width\n",
    "        end = start + width\n",
    "\n",
    "        height    = 40\n",
    "        bottom    = 700\n",
    "\n",
    "        rot = (start + end) / 2\n",
    "        rot = rot*360/(2*np.pi)\n",
    "        if 90 < rot < 270:\n",
    "            rot = 180-rot\n",
    "        else:\n",
    "            rot = -1 * rot\n",
    "        height = bottom + height/2 + circle._garc_dict[garc_id].labelposition\n",
    "        circle.ax.text(start + width/2, height, snames_map[phylum_id], rotation=rot, ha=\"center\", va=\"center\", fontsize=circle._garc_dict[garc_id].labelsize-10, bbox=dict(facecolor='w', alpha=0.4, edgecolor='none'))"
   ]
  },
  {
   "cell_type": "markdown",
   "metadata": {
    "tags": []
   },
   "source": [
    "## let's make a heatmap of the amount of data being contributed by each species"
   ]
  },
  {
   "cell_type": "code",
   "execution_count": 32,
   "metadata": {
    "tags": []
   },
   "outputs": [],
   "source": [
    "counts = taxa.set_index('taxid')['proteins_in_pairs'].to_dict()"
   ]
  },
  {
   "cell_type": "code",
   "execution_count": 33,
   "metadata": {
    "tags": []
   },
   "outputs": [],
   "source": [
    "for garc_id in [2, 2157]:\n",
    "    sk_df = taxa[taxa['superkingdom'] == garc_id]\n",
    "    ids = sk_df['taxid'].unique()\n",
    "    positions = [flat_data_dict[p]['start'] for p in ids]\n",
    "    widths = [1]*len(positions)\n",
    "    values = [counts[id_] for id_ in ids]\n",
    "    vmin = taxa['proteins_in_pairs'].min()\n",
    "    vmax = taxa['proteins_in_pairs'].max()\n",
    "    diff = vmax - vmin\n",
    "    # circle.heatmap(garc_id, data=values, positions=positions, width=widths, vmin=vmin, vmax=vmax, raxis_range=[600,710], cmap=cm.get_cmap('viridis'))\n",
    "    # circle.scatterplot(garc_id, data=values, positions=positions, rlim=[vmin-0.05*diff, vmax+0.05*diff], raxis_range=[600,710], spine=True, facecolor='#ff9d5c',linewidth=0.0)\n",
    "    circle.barplot(garc_id, data=values, positions=positions, width=1, raxis_range=[600,710], spine=True, facecolor='#FFB616')\n",
    "    circle.setspine(garc_id, linewidth=2.0, raxis_range=[600,710])"
   ]
  },
  {
   "cell_type": "markdown",
   "metadata": {
    "tags": []
   },
   "source": [
    "## add back in the thermo-meso band"
   ]
  },
  {
   "cell_type": "code",
   "execution_count": 34,
   "metadata": {
    "tags": []
   },
   "outputs": [],
   "source": [
    "for garc_id in [2, 2157]:\n",
    "    sk_df = taxa[taxa['superkingdom'] == garc_id]\n",
    "    ids = sk_df['taxid'].unique()\n",
    "    positions = [flat_data_dict[p]['start'] for p in ids]\n",
    "    widths = [1]*len(positions)\n",
    "    values = [1]*len(positions)\n",
    "    colors = []\n",
    "    for id_ in ids:\n",
    "        if flat_data_dict[id_]['thermophile_label']:\n",
    "            colors.append('#FF1616')\n",
    "        else:\n",
    "            colors.append('#96F4FF')\n",
    "    circle.barplot(\n",
    "        garc_id, \n",
    "        data=values,\n",
    "        positions=positions,\n",
    "        width=widths,\n",
    "        facecolor=colors,\n",
    "        raxis_range=[555,595]\n",
    "    )"
   ]
  },
  {
   "cell_type": "code",
   "execution_count": 35,
   "metadata": {
    "tags": []
   },
   "outputs": [],
   "source": [
    "label_position = circle._garc_dict[2].coordinates[1] + (circle._garc_dict[2].coordinates[1] - circle._garc_dict[2].coordinates[0]) * 0.0005\n",
    "rot = label_position*360/(2*np.pi)\n",
    "if 90 < rot < 270:\n",
    "    rot = 180-rot\n",
    "else:\n",
    "    rot = -1 * rot"
   ]
  },
  {
   "cell_type": "code",
   "execution_count": 36,
   "metadata": {
    "tags": []
   },
   "outputs": [
    {
     "data": {
      "text/plain": [
       "Text(5.607746166960372, 570, 'Mes/Therm')"
      ]
     },
     "execution_count": 36,
     "metadata": {},
     "output_type": "execute_result"
    }
   ],
   "source": [
    "# protein count labels\n",
    "circle.ax.text(label_position, 600, f'- {vmin}', rotation=rot, ha=\"left\", va=\"bottom\", fontsize=9)\n",
    "circle.ax.text(label_position, 710, f'- {vmax}', rotation=rot, ha=\"left\", va=\"bottom\", fontsize=9)\n",
    "circle.ax.text(label_position, 655, 'Num. proteins', rotation=rot, ha=\"left\", va=\"bottom\", fontsize=9, weight='bold')\n",
    "# taxa labels\n",
    "circle.ax.text(label_position, 870, f'Phylum', rotation=rot, ha=\"left\", va=\"bottom\", fontsize=9, weight='bold')\n",
    "circle.ax.text(label_position, 820, f'Class', rotation=rot, ha=\"left\", va=\"bottom\", fontsize=9, weight='bold')\n",
    "circle.ax.text(label_position, 770, f'Order', rotation=rot, ha=\"left\", va=\"bottom\", fontsize=9, weight='bold')\n",
    "# thermophile\n",
    "circle.ax.text(label_position, 570, f'Mes/Therm', rotation=rot, ha=\"left\", va=\"bottom\", fontsize=9, weight='bold')"
   ]
  },
  {
   "cell_type": "markdown",
   "metadata": {},
   "source": [
    "## and the connections"
   ]
  },
  {
   "cell_type": "code",
   "execution_count": 37,
   "metadata": {
    "tags": []
   },
   "outputs": [],
   "source": [
    "i = 0\n",
    "for _, row in pairs.iterrows():\n",
    "    # if np.random.uniform() < 0.95:\n",
    "    #     continue\n",
    "    meso_taxid = row['meso_taxid']\n",
    "    thermo_taxid = row['thermo_taxid']\n",
    "    # need to get phylum id for this taxid\n",
    "    meso_garcid = taxa.loc[taxa['taxid'] == meso_taxid, 'superkingdom'].values[0]\n",
    "    thermo_garcid = taxa.loc[taxa['taxid'] == thermo_taxid, 'superkingdom'].values[0]\n",
    "    source = (meso_garcid, flat_data_dict[meso_taxid]['start'], flat_data_dict[meso_taxid]['start'] + 1, 554)\n",
    "    target = (thermo_garcid, flat_data_dict[thermo_taxid]['start'], flat_data_dict[thermo_taxid]['start'] + 1, 554)\n",
    "    chord_plot(circle, source, target, facecolor='#009614', edgecolor='#009614', linewidth=.3, fill=False, alpha=.006)\n",
    "    # i += 1\n",
    "    # if i > 25000:\n",
    "    #     break"
   ]
  },
  {
   "cell_type": "code",
   "execution_count": 38,
   "metadata": {
    "tags": []
   },
   "outputs": [],
   "source": [
    "circle.figure.savefig('./circos.png', dpi=600)"
   ]
  },
  {
   "cell_type": "code",
   "execution_count": null,
   "metadata": {},
   "outputs": [],
   "source": []
  }
 ],
 "metadata": {
  "kernelspec": {
   "display_name": "Python 3 (ipykernel)",
   "language": "python",
   "name": "python3"
  },
  "language_info": {
   "codemirror_mode": {
    "name": "ipython",
    "version": 3
   },
   "file_extension": ".py",
   "mimetype": "text/x-python",
   "name": "python",
   "nbconvert_exporter": "python",
   "pygments_lexer": "ipython3",
   "version": "3.9.16"
  }
 },
 "nbformat": 4,
 "nbformat_minor": 4
}
