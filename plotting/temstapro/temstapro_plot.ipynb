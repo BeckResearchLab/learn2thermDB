{
 "cells": [
  {
   "cell_type": "markdown",
   "id": "41fb62e9-7e8d-45a1-80ea-7dc75a32fe39",
   "metadata": {},
   "source": [
    "# Compare temstapro predictions to acutal OGT labels"
   ]
  },
  {
   "cell_type": "code",
   "execution_count": 1,
   "id": "64c9ac84-f81a-4f78-b0dc-6469a83ae272",
   "metadata": {},
   "outputs": [],
   "source": [
    "import pandas as pd\n",
    "import numpy as np\n",
    "import matplotlib.pyplot as plt\n",
    "import seaborn as sns\n",
    "sns.set_context('paper')\n",
    "sns.set_style('ticks')"
   ]
  },
  {
   "cell_type": "code",
   "execution_count": 3,
   "id": "7154d3de-ffbd-4b16-a45b-56374f157087",
   "metadata": {},
   "outputs": [],
   "source": [
    "preds = pd.read_csv('./predictions.tsv', sep='\\t')"
   ]
  },
  {
   "cell_type": "code",
   "execution_count": 6,
   "id": "115ee838-711d-484e-b060-b46189af6948",
   "metadata": {},
   "outputs": [
    {
     "data": {
      "text/plain": [
       "-    0.955361\n",
       "*    0.044639\n",
       "Name: clash, dtype: float64"
      ]
     },
     "execution_count": 6,
     "metadata": {},
     "output_type": "execute_result"
    }
   ],
   "source": [
    "preds['clash'].value_counts()/len(preds)"
   ]
  },
  {
   "cell_type": "code",
   "execution_count": 10,
   "id": "376bc844-02eb-44ff-9ac1-49cd68e96c39",
   "metadata": {},
   "outputs": [],
   "source": [
    "preds['pid'] = preds['protein_id'].apply(lambda x: x.split()[0])"
   ]
  },
  {
   "cell_type": "code",
   "execution_count": 24,
   "id": "0d97eaea-92be-4c1a-aca5-90e93ea035dd",
   "metadata": {},
   "outputs": [],
   "source": [
    "preds = preds.set_index('pid', drop=True)"
   ]
  },
  {
   "cell_type": "code",
   "execution_count": 19,
   "id": "8f58586c-9740-4c10-9ab3-409e97cc0f2e",
   "metadata": {},
   "outputs": [],
   "source": [
    "labels = pd.read_csv('temps.csv', index_col=0)\n",
    "labels = labels.rename(columns={'0':'OGT'})"
   ]
  },
  {
   "cell_type": "code",
   "execution_count": 29,
   "id": "1db16291-ae04-4c0a-945f-9854eec392d9",
   "metadata": {},
   "outputs": [],
   "source": [
    "df = pd.merge(labels, preds, left_index=True, right_index=True)"
   ]
  },
  {
   "cell_type": "code",
   "execution_count": 39,
   "id": "6cc3a368-0249-4f1a-bea4-c62fdb0b55dc",
   "metadata": {},
   "outputs": [],
   "source": [
    "df['thermophile'] = df['OGT'] >= 60"
   ]
  },
  {
   "cell_type": "code",
   "execution_count": 31,
   "id": "c520f8b6-2b86-43bb-a175-7ad0f308c735",
   "metadata": {},
   "outputs": [],
   "source": [
    "df = df[df['clash']=='-']"
   ]
  },
  {
   "cell_type": "code",
   "execution_count": 32,
   "id": "2170e693-9314-4769-92ff-e46f7ae72785",
   "metadata": {},
   "outputs": [
    {
     "data": {
      "text/html": [
       "<div>\n",
       "<style scoped>\n",
       "    .dataframe tbody tr th:only-of-type {\n",
       "        vertical-align: middle;\n",
       "    }\n",
       "\n",
       "    .dataframe tbody tr th {\n",
       "        vertical-align: top;\n",
       "    }\n",
       "\n",
       "    .dataframe thead th {\n",
       "        text-align: right;\n",
       "    }\n",
       "</style>\n",
       "<table border=\"1\" class=\"dataframe\">\n",
       "  <thead>\n",
       "    <tr style=\"text-align: right;\">\n",
       "      <th></th>\n",
       "      <th>OGT</th>\n",
       "      <th>protein_id</th>\n",
       "      <th>position</th>\n",
       "      <th>sequence</th>\n",
       "      <th>length</th>\n",
       "      <th>t40_binary</th>\n",
       "      <th>t40_raw</th>\n",
       "      <th>t45_binary</th>\n",
       "      <th>t45_raw</th>\n",
       "      <th>t50_binary</th>\n",
       "      <th>...</th>\n",
       "      <th>t55_binary</th>\n",
       "      <th>t55_raw</th>\n",
       "      <th>t60_binary</th>\n",
       "      <th>t60_raw</th>\n",
       "      <th>t65_binary</th>\n",
       "      <th>t65_raw</th>\n",
       "      <th>left_hand_label</th>\n",
       "      <th>right_hand_label</th>\n",
       "      <th>clash</th>\n",
       "      <th>thermophile</th>\n",
       "    </tr>\n",
       "  </thead>\n",
       "  <tbody>\n",
       "    <tr>\n",
       "      <th>A0A495WNP3</th>\n",
       "      <td>28.0</td>\n",
       "      <td>A0A495WNP3 &lt;unknown description</td>\n",
       "      <td>-</td>\n",
       "      <td>MAEQHSSKSIMWVTIIVAAVLIAIIFPLTNKSFQSAGSTTGADEAE...</td>\n",
       "      <td>147</td>\n",
       "      <td>0</td>\n",
       "      <td>2.193000e-08</td>\n",
       "      <td>0</td>\n",
       "      <td>3.464000e-05</td>\n",
       "      <td>0</td>\n",
       "      <td>...</td>\n",
       "      <td>0</td>\n",
       "      <td>7.835000e-16</td>\n",
       "      <td>0</td>\n",
       "      <td>2.605000e-07</td>\n",
       "      <td>0</td>\n",
       "      <td>5.588000e-10</td>\n",
       "      <td>&lt;40</td>\n",
       "      <td>&lt;40</td>\n",
       "      <td>-</td>\n",
       "      <td>False</td>\n",
       "    </tr>\n",
       "    <tr>\n",
       "      <th>Q9WZY9</th>\n",
       "      <td>75.0</td>\n",
       "      <td>Q9WZY9 &lt;unknown description</td>\n",
       "      <td>-</td>\n",
       "      <td>MFSMRVPGNISVQTENGKVVKIILGSNETEGSEEILREIEEYLSGQ...</td>\n",
       "      <td>139</td>\n",
       "      <td>1</td>\n",
       "      <td>1.000000e+00</td>\n",
       "      <td>1</td>\n",
       "      <td>1.000000e+00</td>\n",
       "      <td>1</td>\n",
       "      <td>...</td>\n",
       "      <td>1</td>\n",
       "      <td>1.000000e+00</td>\n",
       "      <td>1</td>\n",
       "      <td>1.000000e+00</td>\n",
       "      <td>1</td>\n",
       "      <td>1.000000e+00</td>\n",
       "      <td>65&lt;=</td>\n",
       "      <td>65&lt;=</td>\n",
       "      <td>-</td>\n",
       "      <td>True</td>\n",
       "    </tr>\n",
       "    <tr>\n",
       "      <th>E4UAT9</th>\n",
       "      <td>60.0</td>\n",
       "      <td>E4UAT9 &lt;unknown description</td>\n",
       "      <td>-</td>\n",
       "      <td>MQEELLALPATLTTSDGPEDYWLLVHPDADLAQAFAKARTLENCLR...</td>\n",
       "      <td>168</td>\n",
       "      <td>1</td>\n",
       "      <td>8.156000e-01</td>\n",
       "      <td>1</td>\n",
       "      <td>9.976000e-01</td>\n",
       "      <td>1</td>\n",
       "      <td>...</td>\n",
       "      <td>1</td>\n",
       "      <td>7.966000e-01</td>\n",
       "      <td>0</td>\n",
       "      <td>3.450000e-01</td>\n",
       "      <td>0</td>\n",
       "      <td>7.715000e-03</td>\n",
       "      <td>[55-60)</td>\n",
       "      <td>[55-60)</td>\n",
       "      <td>-</td>\n",
       "      <td>False</td>\n",
       "    </tr>\n",
       "    <tr>\n",
       "      <th>A0A7H0GDK9</th>\n",
       "      <td>30.0</td>\n",
       "      <td>A0A7H0GDK9 &lt;unknown description</td>\n",
       "      <td>-</td>\n",
       "      <td>MADLVFYTNPQSRGQTVRWMLEEVGAPYDTEILDYASTMKAEPYLS...</td>\n",
       "      <td>210</td>\n",
       "      <td>0</td>\n",
       "      <td>9.890000e-09</td>\n",
       "      <td>0</td>\n",
       "      <td>1.230000e-09</td>\n",
       "      <td>0</td>\n",
       "      <td>...</td>\n",
       "      <td>0</td>\n",
       "      <td>1.852000e-16</td>\n",
       "      <td>0</td>\n",
       "      <td>9.646000e-10</td>\n",
       "      <td>0</td>\n",
       "      <td>1.324000e-12</td>\n",
       "      <td>&lt;40</td>\n",
       "      <td>&lt;40</td>\n",
       "      <td>-</td>\n",
       "      <td>False</td>\n",
       "    </tr>\n",
       "    <tr>\n",
       "      <th>A0A0D0WW88</th>\n",
       "      <td>28.0</td>\n",
       "      <td>A0A0D0WW88 &lt;unknown description</td>\n",
       "      <td>-</td>\n",
       "      <td>MEDFPELMPLLTVAGGPMRGASFRLSRTPQVIGRATTVQVSVDDPH...</td>\n",
       "      <td>142</td>\n",
       "      <td>0</td>\n",
       "      <td>2.009000e-01</td>\n",
       "      <td>0</td>\n",
       "      <td>2.346000e-01</td>\n",
       "      <td>0</td>\n",
       "      <td>...</td>\n",
       "      <td>0</td>\n",
       "      <td>2.793000e-03</td>\n",
       "      <td>0</td>\n",
       "      <td>1.351000e-06</td>\n",
       "      <td>0</td>\n",
       "      <td>5.517000e-10</td>\n",
       "      <td>&lt;40</td>\n",
       "      <td>&lt;40</td>\n",
       "      <td>-</td>\n",
       "      <td>False</td>\n",
       "    </tr>\n",
       "    <tr>\n",
       "      <th>...</th>\n",
       "      <td>...</td>\n",
       "      <td>...</td>\n",
       "      <td>...</td>\n",
       "      <td>...</td>\n",
       "      <td>...</td>\n",
       "      <td>...</td>\n",
       "      <td>...</td>\n",
       "      <td>...</td>\n",
       "      <td>...</td>\n",
       "      <td>...</td>\n",
       "      <td>...</td>\n",
       "      <td>...</td>\n",
       "      <td>...</td>\n",
       "      <td>...</td>\n",
       "      <td>...</td>\n",
       "      <td>...</td>\n",
       "      <td>...</td>\n",
       "      <td>...</td>\n",
       "      <td>...</td>\n",
       "      <td>...</td>\n",
       "      <td>...</td>\n",
       "    </tr>\n",
       "    <tr>\n",
       "      <th>C1DT51</th>\n",
       "      <td>68.0</td>\n",
       "      <td>C1DT51 &lt;unknown description</td>\n",
       "      <td>-</td>\n",
       "      <td>MWLHFGGKNIIIDPGPGSLIRMFERGLEPRDLNVVVLSHRHLDHVA...</td>\n",
       "      <td>228</td>\n",
       "      <td>1</td>\n",
       "      <td>1.000000e+00</td>\n",
       "      <td>1</td>\n",
       "      <td>1.000000e+00</td>\n",
       "      <td>1</td>\n",
       "      <td>...</td>\n",
       "      <td>1</td>\n",
       "      <td>1.000000e+00</td>\n",
       "      <td>1</td>\n",
       "      <td>1.000000e+00</td>\n",
       "      <td>1</td>\n",
       "      <td>1.000000e+00</td>\n",
       "      <td>65&lt;=</td>\n",
       "      <td>65&lt;=</td>\n",
       "      <td>-</td>\n",
       "      <td>True</td>\n",
       "    </tr>\n",
       "    <tr>\n",
       "      <th>C1DTD3</th>\n",
       "      <td>68.0</td>\n",
       "      <td>C1DTD3 &lt;unknown description</td>\n",
       "      <td>-</td>\n",
       "      <td>MLNKNLMKLLNDLTPAVFATVDGDKPYLAFVSWLIAKDQNTLRVAL...</td>\n",
       "      <td>141</td>\n",
       "      <td>1</td>\n",
       "      <td>1.000000e+00</td>\n",
       "      <td>1</td>\n",
       "      <td>1.000000e+00</td>\n",
       "      <td>1</td>\n",
       "      <td>...</td>\n",
       "      <td>1</td>\n",
       "      <td>1.000000e+00</td>\n",
       "      <td>1</td>\n",
       "      <td>1.000000e+00</td>\n",
       "      <td>1</td>\n",
       "      <td>1.000000e+00</td>\n",
       "      <td>65&lt;=</td>\n",
       "      <td>65&lt;=</td>\n",
       "      <td>-</td>\n",
       "      <td>True</td>\n",
       "    </tr>\n",
       "    <tr>\n",
       "      <th>A0A3N2BGD2</th>\n",
       "      <td>30.0</td>\n",
       "      <td>A0A3N2BGD2 &lt;unknown description</td>\n",
       "      <td>-</td>\n",
       "      <td>MSWFSRRKRRTAETDEATPAGPIIPDHPGPYDISELPDLGARADLG...</td>\n",
       "      <td>219</td>\n",
       "      <td>0</td>\n",
       "      <td>1.190000e-06</td>\n",
       "      <td>0</td>\n",
       "      <td>4.454000e-07</td>\n",
       "      <td>0</td>\n",
       "      <td>...</td>\n",
       "      <td>0</td>\n",
       "      <td>5.257000e-21</td>\n",
       "      <td>0</td>\n",
       "      <td>1.731000e-12</td>\n",
       "      <td>0</td>\n",
       "      <td>5.617000e-19</td>\n",
       "      <td>&lt;40</td>\n",
       "      <td>&lt;40</td>\n",
       "      <td>-</td>\n",
       "      <td>False</td>\n",
       "    </tr>\n",
       "    <tr>\n",
       "      <th>G7ZHY4</th>\n",
       "      <td>30.0</td>\n",
       "      <td>G7ZHY4 &lt;unknown description</td>\n",
       "      <td>-</td>\n",
       "      <td>MSHRILIADDHPLMRTALTQTIGQAIPGAVILEASRFDQIKPVLDT...</td>\n",
       "      <td>216</td>\n",
       "      <td>0</td>\n",
       "      <td>5.332000e-03</td>\n",
       "      <td>0</td>\n",
       "      <td>9.733000e-06</td>\n",
       "      <td>0</td>\n",
       "      <td>...</td>\n",
       "      <td>0</td>\n",
       "      <td>1.932000e-10</td>\n",
       "      <td>0</td>\n",
       "      <td>1.330000e-07</td>\n",
       "      <td>0</td>\n",
       "      <td>1.397000e-09</td>\n",
       "      <td>&lt;40</td>\n",
       "      <td>&lt;40</td>\n",
       "      <td>-</td>\n",
       "      <td>False</td>\n",
       "    </tr>\n",
       "    <tr>\n",
       "      <th>A0A5B8VDB4</th>\n",
       "      <td>28.0</td>\n",
       "      <td>A0A5B8VDB4 &lt;unknown description</td>\n",
       "      <td>-</td>\n",
       "      <td>MGATKSYEFSVKENKLAKYAKALAHPARVAILQFLATQSSCMCGDI...</td>\n",
       "      <td>109</td>\n",
       "      <td>0</td>\n",
       "      <td>2.519000e-03</td>\n",
       "      <td>0</td>\n",
       "      <td>3.567000e-01</td>\n",
       "      <td>0</td>\n",
       "      <td>...</td>\n",
       "      <td>0</td>\n",
       "      <td>6.964000e-08</td>\n",
       "      <td>0</td>\n",
       "      <td>2.051000e-05</td>\n",
       "      <td>0</td>\n",
       "      <td>2.816000e-06</td>\n",
       "      <td>&lt;40</td>\n",
       "      <td>&lt;40</td>\n",
       "      <td>-</td>\n",
       "      <td>False</td>\n",
       "    </tr>\n",
       "  </tbody>\n",
       "</table>\n",
       "<p>27223 rows × 21 columns</p>\n",
       "</div>"
      ],
      "text/plain": [
       "             OGT                       protein_id position  \\\n",
       "A0A495WNP3  28.0  A0A495WNP3 <unknown description        -   \n",
       "Q9WZY9      75.0      Q9WZY9 <unknown description        -   \n",
       "E4UAT9      60.0      E4UAT9 <unknown description        -   \n",
       "A0A7H0GDK9  30.0  A0A7H0GDK9 <unknown description        -   \n",
       "A0A0D0WW88  28.0  A0A0D0WW88 <unknown description        -   \n",
       "...          ...                              ...      ...   \n",
       "C1DT51      68.0      C1DT51 <unknown description        -   \n",
       "C1DTD3      68.0      C1DTD3 <unknown description        -   \n",
       "A0A3N2BGD2  30.0  A0A3N2BGD2 <unknown description        -   \n",
       "G7ZHY4      30.0      G7ZHY4 <unknown description        -   \n",
       "A0A5B8VDB4  28.0  A0A5B8VDB4 <unknown description        -   \n",
       "\n",
       "                                                     sequence  length  \\\n",
       "A0A495WNP3  MAEQHSSKSIMWVTIIVAAVLIAIIFPLTNKSFQSAGSTTGADEAE...     147   \n",
       "Q9WZY9      MFSMRVPGNISVQTENGKVVKIILGSNETEGSEEILREIEEYLSGQ...     139   \n",
       "E4UAT9      MQEELLALPATLTTSDGPEDYWLLVHPDADLAQAFAKARTLENCLR...     168   \n",
       "A0A7H0GDK9  MADLVFYTNPQSRGQTVRWMLEEVGAPYDTEILDYASTMKAEPYLS...     210   \n",
       "A0A0D0WW88  MEDFPELMPLLTVAGGPMRGASFRLSRTPQVIGRATTVQVSVDDPH...     142   \n",
       "...                                                       ...     ...   \n",
       "C1DT51      MWLHFGGKNIIIDPGPGSLIRMFERGLEPRDLNVVVLSHRHLDHVA...     228   \n",
       "C1DTD3      MLNKNLMKLLNDLTPAVFATVDGDKPYLAFVSWLIAKDQNTLRVAL...     141   \n",
       "A0A3N2BGD2  MSWFSRRKRRTAETDEATPAGPIIPDHPGPYDISELPDLGARADLG...     219   \n",
       "G7ZHY4      MSHRILIADDHPLMRTALTQTIGQAIPGAVILEASRFDQIKPVLDT...     216   \n",
       "A0A5B8VDB4  MGATKSYEFSVKENKLAKYAKALAHPARVAILQFLATQSSCMCGDI...     109   \n",
       "\n",
       "            t40_binary       t40_raw  t45_binary       t45_raw  t50_binary  \\\n",
       "A0A495WNP3           0  2.193000e-08           0  3.464000e-05           0   \n",
       "Q9WZY9               1  1.000000e+00           1  1.000000e+00           1   \n",
       "E4UAT9               1  8.156000e-01           1  9.976000e-01           1   \n",
       "A0A7H0GDK9           0  9.890000e-09           0  1.230000e-09           0   \n",
       "A0A0D0WW88           0  2.009000e-01           0  2.346000e-01           0   \n",
       "...                ...           ...         ...           ...         ...   \n",
       "C1DT51               1  1.000000e+00           1  1.000000e+00           1   \n",
       "C1DTD3               1  1.000000e+00           1  1.000000e+00           1   \n",
       "A0A3N2BGD2           0  1.190000e-06           0  4.454000e-07           0   \n",
       "G7ZHY4               0  5.332000e-03           0  9.733000e-06           0   \n",
       "A0A5B8VDB4           0  2.519000e-03           0  3.567000e-01           0   \n",
       "\n",
       "            ...  t55_binary       t55_raw  t60_binary       t60_raw  \\\n",
       "A0A495WNP3  ...           0  7.835000e-16           0  2.605000e-07   \n",
       "Q9WZY9      ...           1  1.000000e+00           1  1.000000e+00   \n",
       "E4UAT9      ...           1  7.966000e-01           0  3.450000e-01   \n",
       "A0A7H0GDK9  ...           0  1.852000e-16           0  9.646000e-10   \n",
       "A0A0D0WW88  ...           0  2.793000e-03           0  1.351000e-06   \n",
       "...         ...         ...           ...         ...           ...   \n",
       "C1DT51      ...           1  1.000000e+00           1  1.000000e+00   \n",
       "C1DTD3      ...           1  1.000000e+00           1  1.000000e+00   \n",
       "A0A3N2BGD2  ...           0  5.257000e-21           0  1.731000e-12   \n",
       "G7ZHY4      ...           0  1.932000e-10           0  1.330000e-07   \n",
       "A0A5B8VDB4  ...           0  6.964000e-08           0  2.051000e-05   \n",
       "\n",
       "            t65_binary       t65_raw  left_hand_label right_hand_label clash  \\\n",
       "A0A495WNP3           0  5.588000e-10              <40              <40     -   \n",
       "Q9WZY9               1  1.000000e+00             65<=             65<=     -   \n",
       "E4UAT9               0  7.715000e-03          [55-60)          [55-60)     -   \n",
       "A0A7H0GDK9           0  1.324000e-12              <40              <40     -   \n",
       "A0A0D0WW88           0  5.517000e-10              <40              <40     -   \n",
       "...                ...           ...              ...              ...   ...   \n",
       "C1DT51               1  1.000000e+00             65<=             65<=     -   \n",
       "C1DTD3               1  1.000000e+00             65<=             65<=     -   \n",
       "A0A3N2BGD2           0  5.617000e-19              <40              <40     -   \n",
       "G7ZHY4               0  1.397000e-09              <40              <40     -   \n",
       "A0A5B8VDB4           0  2.816000e-06              <40              <40     -   \n",
       "\n",
       "           thermophile  \n",
       "A0A495WNP3       False  \n",
       "Q9WZY9            True  \n",
       "E4UAT9           False  \n",
       "A0A7H0GDK9       False  \n",
       "A0A0D0WW88       False  \n",
       "...                ...  \n",
       "C1DT51            True  \n",
       "C1DTD3            True  \n",
       "A0A3N2BGD2       False  \n",
       "G7ZHY4           False  \n",
       "A0A5B8VDB4       False  \n",
       "\n",
       "[27223 rows x 21 columns]"
      ]
     },
     "execution_count": 32,
     "metadata": {},
     "output_type": "execute_result"
    }
   ],
   "source": [
    "df"
   ]
  },
  {
   "cell_type": "code",
   "execution_count": 66,
   "id": "e27b7992-2f7e-40cd-a595-6bcc5f571f5a",
   "metadata": {},
   "outputs": [
    {
     "data": {
      "text/plain": [
       "<40        15225\n",
       "65<=        8999\n",
       "[60-65)     1481\n",
       "[55-60)      497\n",
       "[50-55)      412\n",
       "[45-50)      340\n",
       "[40-45)      269\n",
       "Name: right_hand_label, dtype: int64"
      ]
     },
     "execution_count": 66,
     "metadata": {},
     "output_type": "execute_result"
    }
   ],
   "source": [
    "df['right_hand_label'].value_counts()"
   ]
  },
  {
   "cell_type": "code",
   "execution_count": 64,
   "id": "a40effaf-bc70-4166-a823-438edb74ff53",
   "metadata": {},
   "outputs": [
    {
     "data": {
      "text/plain": [
       "<Axes: xlabel='right_hand_label', ylabel='OGT'>"
      ]
     },
     "execution_count": 64,
     "metadata": {},
     "output_type": "execute_result"
    },
    {
     "data": {
      "image/png": "[encoded data removed]",
      "text/plain": [
       "<Figure size 400x400 with 1 Axes>"
      ]
     },
     "metadata": {},
     "output_type": "display_data"
    }
   ],
   "source": [
    "fig, ax = plt.subplots(figsize=(4,4))\n",
    "sns.violinplot(data=df, x='right_hand_label', y='OGT', order=['<40', '[40-45)', '[45-50)', '[50-55)', '[55-60)', '[60-65)', '65<='], ax=ax, scale='count', cut=0.0, inner=None)"
   ]
  },
  {
   "cell_type": "code",
   "execution_count": 72,
   "id": "4ecd05e4-23de-464d-a7c5-f94cdd328eb3",
   "metadata": {},
   "outputs": [],
   "source": [
    "counts = df.groupby(['right_hand_label', 'thermophile']).count()"
   ]
  },
  {
   "cell_type": "code",
   "execution_count": 75,
   "id": "64efabe1-7aa3-4d9d-9c7c-0ac0cfa9990e",
   "metadata": {},
   "outputs": [],
   "source": [
    "counts = counts.reset_index()"
   ]
  },
  {
   "cell_type": "code",
   "execution_count": 78,
   "id": "5dc26f0f-52b7-4a20-a7da-7977290df6d7",
   "metadata": {},
   "outputs": [
    {
     "data": {
      "text/plain": [
       "Text(0.5, 0, 'TemStaPro label')"
      ]
     },
     "execution_count": 78,
     "metadata": {},
     "output_type": "execute_result"
    },
    {
     "data": {
      "image/png": "[encoded data removed]",
      "text/plain": [
       "<Figure size 400x400 with 1 Axes>"
      ]
     },
     "metadata": {},
     "output_type": "display_data"
    }
   ],
   "source": [
    "fig, ax = plt.subplots(figsize=(4,4))\n",
    "sns.pointplot(data=counts, y='OGT', x='right_hand_label', order=['<40', '[40-45)', '[45-50)', '[50-55)', '[55-60)', '[60-65)', '65<='], hue='thermophile', ax=ax)\n",
    "ax.set_ylabel('Count')\n",
    "ax.set_xlabel('TemStaPro label')"
   ]
  },
  {
   "cell_type": "code",
   "execution_count": 79,
   "id": "271f200a-b86c-4973-b033-43018f506cb7",
   "metadata": {},
   "outputs": [],
   "source": [
    "fig.savefig('tempstapro.png', dpi=400, bbox_inches='tight')"
   ]
  },
  {
   "cell_type": "markdown",
   "id": "8278ff91-2d04-4054-884b-455820745c02",
   "metadata": {},
   "source": [
    "## Compute an f1 score"
   ]
  },
  {
   "cell_type": "code",
   "execution_count": 83,
   "id": "06b3b085-13ab-4e97-873c-4b1d27d7588f",
   "metadata": {},
   "outputs": [],
   "source": [
    "def do_one(row):\n",
    "    if row['right_hand_label'] in ['[60-65)', '65<=']:\n",
    "        return 1\n",
    "    elif row['right_hand_label'] == '<40':\n",
    "        return 0\n",
    "    else:\n",
    "        return 2"
   ]
  },
  {
   "cell_type": "code",
   "execution_count": 84,
   "id": "8e46b170-b09e-421e-b09b-4a6408fcc0bd",
   "metadata": {},
   "outputs": [],
   "source": [
    "df['predicted_label'] = df.apply(do_one, axis=1)"
   ]
  },
  {
   "cell_type": "code",
   "execution_count": 86,
   "id": "f0d78fcd-8109-411e-9196-f616f6504276",
   "metadata": {},
   "outputs": [
    {
     "data": {
      "text/plain": [
       "0    15225\n",
       "1    10480\n",
       "2     1518\n",
       "Name: predicted_label, dtype: int64"
      ]
     },
     "execution_count": 86,
     "metadata": {},
     "output_type": "execute_result"
    }
   ],
   "source": [
    "df['predicted_label'].value_counts()"
   ]
  },
  {
   "cell_type": "code",
   "execution_count": 87,
   "id": "8a295096-3359-44e6-a8a3-34cccb45e370",
   "metadata": {},
   "outputs": [],
   "source": [
    "accuracy = df['thermophile'] == df['predicted_label']"
   ]
  },
  {
   "cell_type": "code",
   "execution_count": 88,
   "id": "edcc0978-64d8-4244-b716-f6342b5adabf",
   "metadata": {},
   "outputs": [
    {
     "data": {
      "text/plain": [
       "0.9138963376556588"
      ]
     },
     "execution_count": 88,
     "metadata": {},
     "output_type": "execute_result"
    }
   ],
   "source": [
    "accuracy.mean()"
   ]
  },
  {
   "cell_type": "code",
   "execution_count": 93,
   "id": "a6e4963a-0b3f-4a0b-a25c-79eeb7b6352d",
   "metadata": {},
   "outputs": [],
   "source": [
    "null_prediction = int(df['thermophile'].mean())"
   ]
  },
  {
   "cell_type": "code",
   "execution_count": 94,
   "id": "b32c02e9-f995-4032-92d2-2f06e1eb08fa",
   "metadata": {},
   "outputs": [
    {
     "data": {
      "text/plain": [
       "0.6125335194504646"
      ]
     },
     "execution_count": 94,
     "metadata": {},
     "output_type": "execute_result"
    }
   ],
   "source": [
    "null_accuracy = (df['thermophile'] == null_prediction).mean()\n",
    "null_accuracy"
   ]
  },
  {
   "cell_type": "code",
   "execution_count": null,
   "id": "4c005c0e-7221-4303-b731-09752adca079",
   "metadata": {},
   "outputs": [],
   "source": []
  }
 ],
 "metadata": {
  "kernelspec": {
   "display_name": "Python 3 (ipykernel)",
   "language": "python",
   "name": "python3"
  },
  "language_info": {
   "codemirror_mode": {
    "name": "ipython",
    "version": 3
   },
   "file_extension": ".py",
   "mimetype": "text/x-python",
   "name": "python",
   "nbconvert_exporter": "python",
   "pygments_lexer": "ipython3",
   "version": "3.9.16"
  }
 },
 "nbformat": 4,
 "nbformat_minor": 5
}
